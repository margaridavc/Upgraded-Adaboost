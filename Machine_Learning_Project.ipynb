{
 "cells": [
  {
   "cell_type": "code",
   "id": "initial_id",
   "metadata": {
    "collapsed": true,
    "ExecuteTime": {
     "end_time": "2024-05-13T14:26:43.092636Z",
     "start_time": "2024-05-13T14:26:43.080941Z"
    }
   },
   "source": [
    "from sklearn.ensemble import AdaBoostClassifier\n",
    "from sklearn.datasets import make_classification\n",
    "from sklearn.model_selection import train_test_split\n",
    "from sklearn.metrics import accuracy_score\n",
    "import pandas as pd\n",
    "from adaboost import AdaBoost\n",
    "import openml\n",
    "from sklearn.metrics import accuracy_score, confusion_matrix, ConfusionMatrixDisplay, roc_curve, auc\n",
    "import numpy as np\n",
    "from sklearn.preprocessing import LabelEncoder\n"
   ],
   "outputs": [],
   "execution_count": 109
  },
  {
   "metadata": {
    "ExecuteTime": {
     "end_time": "2024-05-13T14:26:44.134781Z",
     "start_time": "2024-05-13T14:26:43.516030Z"
    }
   },
   "cell_type": "code",
   "outputs": [],
   "execution_count": 110,
   "source": [
    "df_bank = pd.read_csv('datasets/bank-marketing.csv')\n",
    "df_bio = pd.read_csv('datasets/bio-response.csv')\n",
    "df_blood = pd.read_csv('datasets/blood-transfusion-service-center.csv')\n",
    "df_breast_cancer = pd.read_csv('datasets/breast-cancer.csv')\n",
    "df_climate = pd.read_csv('datasets/climate-model-simulation-crashes.csv')\n",
    "df_credit = pd.read_csv('datasets/credit-g.csv')\n",
    "df_diabetes = pd.read_csv('datasets/diabetes.csv')\n",
    "df_eucalyptus = pd.read_csv('datasets/eucalyptus.csv')\n",
    "df_iris = pd.read_csv('datasets/iris.csv')\n",
    "df_phishing = pd.read_csv('datasets/phishing-websites.csv')\n",
    "df_transplant = pd.read_csv('datasets/transplant.csv')"
   ],
   "id": "6ddda0a974a4d3eb"
  },
  {
   "metadata": {
    "ExecuteTime": {
     "end_time": "2024-05-13T14:26:45.288671Z",
     "start_time": "2024-05-13T14:26:44.136299Z"
    }
   },
   "cell_type": "code",
   "outputs": [],
   "execution_count": 111,
   "source": [
    "# Lista de dataframes\n",
    "datasets = [df_bank, df_bio, df_blood, df_breast_cancer, df_climate, df_credit, df_diabetes, df_eucalyptus, df_iris, df_phishing]\n",
    "\n",
    "# Para cada dataset\n",
    "for df in datasets:\n",
    "    # Cria um objeto LabelEncoder\n",
    "    le = LabelEncoder()\n",
    "\n",
    "    # Para cada coluna no dataframe\n",
    "    for col in df.columns:\n",
    "        # Se o tipo de dados da coluna for object (string)\n",
    "        if df[col].dtype == 'object':\n",
    "            # Aplica o LabelEncoder\n",
    "            df[col] = le.fit_transform(df[col])\n",
    "\n"
   ],
   "id": "7f142f5891e010e4"
  },
  {
   "cell_type": "code",
   "outputs": [
    {
     "name": "stdout",
     "output_type": "stream",
     "text": [
      "Accuracy score for dataset 0 using AdaBoost: 0.12065\n",
      "Accuracy score for dataset 1 using AdaBoost: 0.57656\n",
      "Accuracy score for dataset 2 using AdaBoost: 0.24667\n",
      "Accuracy score for dataset 3 using AdaBoost: 0.31034\n",
      "Accuracy score for dataset 4 using AdaBoost: 0.90741\n",
      "Accuracy score for dataset 5 using AdaBoost: 0.70500\n",
      "Accuracy score for dataset 6 using AdaBoost: 0.35714\n",
      "Accuracy score for dataset 7 using AdaBoost: 0.00000\n",
      "Accuracy score for dataset 8 using AdaBoost: 0.30000\n",
      "Accuracy score for dataset 9 using AdaBoost: 0.56762\n"
     ]
    }
   ],
   "source": [
    "# Para cada dataset\n",
    "for ds_id, ds in enumerate(datasets):\n",
    "    # Dividir o dataset em X e y\n",
    "    X = ds.drop(columns=[ds.columns[-1]], axis=1)\n",
    "    y = ds[ds.columns[-1]]\n",
    "\n",
    "    # Dividir o dataset em conjuntos de treino e teste\n",
    "    X_train, X_test, y_train, y_test = train_test_split(X, y, test_size=0.2, random_state=42)\n",
    "\n",
    "    # Criar uma instância da classe AdaBoost\n",
    "    ada = AdaBoost()\n",
    "\n",
    "    # Treinar o modelo AdaBoost no conjunto de treino\n",
    "    ada.fit(X_train, y_train)\n",
    "\n",
    "    # Fazer previsões no conjunto de teste\n",
    "    y_pred = ada.predict(X_test)\n",
    "\n",
    "    # Calcular o accuracy score\n",
    "    score = accuracy_score(y_test, y_pred)\n",
    "\n",
    "    # Imprimir o accuracy score\n",
    "    print(f\"Accuracy score for dataset {ds_id} using AdaBoost: {score:.5f}\")"
   ],
   "metadata": {
    "collapsed": false,
    "ExecuteTime": {
     "end_time": "2024-05-13T14:27:01.342204Z",
     "start_time": "2024-05-13T14:26:45.290178Z"
    }
   },
   "id": "87c906950e7353e7",
   "execution_count": 112
  },
  {
   "cell_type": "code",
   "outputs": [
    {
     "data": {
      "text/plain": "     age  menopause  tumor-size  inv-nodes  node-caps  deg-malig  breast  \\\n0      2          2           2          0          2          2       1   \n1      3          0           2          0          1          0       1   \n2      3          0           6          0          1          1       0   \n3      2          2           6          0          2          2       1   \n4      2          2           5          4          2          1       0   \n..   ...        ...         ...        ...        ...        ...     ...   \n281    3          0           5          5          2          1       0   \n282    3          2           4          4          2          1       0   \n283    1          2           5          5          2          1       1   \n284    3          2           2          0          1          1       1   \n285    3          0           7          0          1          2       0   \n\n     breast-quad  irradiat  Class  \n0              3         0      1  \n1              1         0      0  \n2              2         0      1  \n3              2         1      0  \n4              5         0      1  \n..           ...       ...    ...  \n281            2         0      0  \n282            2         1      0  \n283            5         0      0  \n284            2         0      0  \n285            5         0      0  \n\n[286 rows x 10 columns]",
      "text/html": "<div>\n<style scoped>\n    .dataframe tbody tr th:only-of-type {\n        vertical-align: middle;\n    }\n\n    .dataframe tbody tr th {\n        vertical-align: top;\n    }\n\n    .dataframe thead th {\n        text-align: right;\n    }\n</style>\n<table border=\"1\" class=\"dataframe\">\n  <thead>\n    <tr style=\"text-align: right;\">\n      <th></th>\n      <th>age</th>\n      <th>menopause</th>\n      <th>tumor-size</th>\n      <th>inv-nodes</th>\n      <th>node-caps</th>\n      <th>deg-malig</th>\n      <th>breast</th>\n      <th>breast-quad</th>\n      <th>irradiat</th>\n      <th>Class</th>\n    </tr>\n  </thead>\n  <tbody>\n    <tr>\n      <th>0</th>\n      <td>2</td>\n      <td>2</td>\n      <td>2</td>\n      <td>0</td>\n      <td>2</td>\n      <td>2</td>\n      <td>1</td>\n      <td>3</td>\n      <td>0</td>\n      <td>1</td>\n    </tr>\n    <tr>\n      <th>1</th>\n      <td>3</td>\n      <td>0</td>\n      <td>2</td>\n      <td>0</td>\n      <td>1</td>\n      <td>0</td>\n      <td>1</td>\n      <td>1</td>\n      <td>0</td>\n      <td>0</td>\n    </tr>\n    <tr>\n      <th>2</th>\n      <td>3</td>\n      <td>0</td>\n      <td>6</td>\n      <td>0</td>\n      <td>1</td>\n      <td>1</td>\n      <td>0</td>\n      <td>2</td>\n      <td>0</td>\n      <td>1</td>\n    </tr>\n    <tr>\n      <th>3</th>\n      <td>2</td>\n      <td>2</td>\n      <td>6</td>\n      <td>0</td>\n      <td>2</td>\n      <td>2</td>\n      <td>1</td>\n      <td>2</td>\n      <td>1</td>\n      <td>0</td>\n    </tr>\n    <tr>\n      <th>4</th>\n      <td>2</td>\n      <td>2</td>\n      <td>5</td>\n      <td>4</td>\n      <td>2</td>\n      <td>1</td>\n      <td>0</td>\n      <td>5</td>\n      <td>0</td>\n      <td>1</td>\n    </tr>\n    <tr>\n      <th>...</th>\n      <td>...</td>\n      <td>...</td>\n      <td>...</td>\n      <td>...</td>\n      <td>...</td>\n      <td>...</td>\n      <td>...</td>\n      <td>...</td>\n      <td>...</td>\n      <td>...</td>\n    </tr>\n    <tr>\n      <th>281</th>\n      <td>3</td>\n      <td>0</td>\n      <td>5</td>\n      <td>5</td>\n      <td>2</td>\n      <td>1</td>\n      <td>0</td>\n      <td>2</td>\n      <td>0</td>\n      <td>0</td>\n    </tr>\n    <tr>\n      <th>282</th>\n      <td>3</td>\n      <td>2</td>\n      <td>4</td>\n      <td>4</td>\n      <td>2</td>\n      <td>1</td>\n      <td>0</td>\n      <td>2</td>\n      <td>1</td>\n      <td>0</td>\n    </tr>\n    <tr>\n      <th>283</th>\n      <td>1</td>\n      <td>2</td>\n      <td>5</td>\n      <td>5</td>\n      <td>2</td>\n      <td>1</td>\n      <td>1</td>\n      <td>5</td>\n      <td>0</td>\n      <td>0</td>\n    </tr>\n    <tr>\n      <th>284</th>\n      <td>3</td>\n      <td>2</td>\n      <td>2</td>\n      <td>0</td>\n      <td>1</td>\n      <td>1</td>\n      <td>1</td>\n      <td>2</td>\n      <td>0</td>\n      <td>0</td>\n    </tr>\n    <tr>\n      <th>285</th>\n      <td>3</td>\n      <td>0</td>\n      <td>7</td>\n      <td>0</td>\n      <td>1</td>\n      <td>2</td>\n      <td>0</td>\n      <td>5</td>\n      <td>0</td>\n      <td>0</td>\n    </tr>\n  </tbody>\n</table>\n<p>286 rows × 10 columns</p>\n</div>"
     },
     "execution_count": 113,
     "metadata": {},
     "output_type": "execute_result"
    }
   ],
   "source": [
    "df_breast_cancer"
   ],
   "metadata": {
    "collapsed": false,
    "ExecuteTime": {
     "end_time": "2024-05-13T14:27:11.435440Z",
     "start_time": "2024-05-13T14:27:11.423626Z"
    }
   },
   "id": "17765d992098d173",
   "execution_count": 113
  },
  {
   "metadata": {},
   "cell_type": "code",
   "outputs": [],
   "execution_count": null,
   "source": "",
   "id": "e5642339cf2c1cea"
  }
 ],
 "metadata": {
  "kernelspec": {
   "display_name": "Python 3",
   "language": "python",
   "name": "python3"
  },
  "language_info": {
   "codemirror_mode": {
    "name": "ipython",
    "version": 2
   },
   "file_extension": ".py",
   "mimetype": "text/x-python",
   "name": "python",
   "nbconvert_exporter": "python",
   "pygments_lexer": "ipython2",
   "version": "2.7.6"
  }
 },
 "nbformat": 4,
 "nbformat_minor": 5
}
