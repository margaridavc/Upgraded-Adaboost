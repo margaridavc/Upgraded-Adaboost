{
 "cells": [
  {
   "cell_type": "code",
   "id": "initial_id",
   "metadata": {
    "collapsed": true,
    "ExecuteTime": {
     "end_time": "2024-05-14T17:24:07.528948Z",
     "start_time": "2024-05-14T17:24:07.521949Z"
    }
   },
   "source": [
    "import pandas as pd\n",
    "import numpy as np\n",
    "from sklearn.model_selection import StratifiedKFold\n",
    "from sklearn.preprocessing import LabelEncoder\n",
    "from sklearn.metrics import accuracy_score\n",
    "from modified_adaboost import ModifiedAdaBoost\n",
    "from scipy.stats import zscore\n",
    "from change_datasets import df_bank, df_bio, df_blood, df_breast_cancer, df_climate, df_credit, df_diabetes, df_eucalyptus, df_iris, df_phishing, df_transplant"
   ],
   "outputs": [],
   "execution_count": 37
  },
  {
   "metadata": {
    "ExecuteTime": {
     "end_time": "2024-05-14T17:24:09.445202Z",
     "start_time": "2024-05-14T17:24:09.440126Z"
    }
   },
   "cell_type": "code",
   "source": "datasets = [df_bank, df_bio, df_blood, df_breast_cancer, df_climate, df_credit, df_diabetes, df_eucalyptus, df_iris, df_phishing, df_transplant]",
   "id": "1d17d6ee1a0df4dc",
   "outputs": [],
   "execution_count": 38
  },
  {
   "metadata": {
    "ExecuteTime": {
     "end_time": "2024-05-14T17:29:02.497891Z",
     "start_time": "2024-05-14T17:29:02.490169Z"
    }
   },
   "cell_type": "code",
   "source": "for df in datasets:",
   "id": "aa1c81b71d1a5aef",
   "outputs": [
    {
     "ename": "IndentationError",
     "evalue": "expected an indented block (2091984578.py, line 2)",
     "output_type": "error",
     "traceback": [
      "\u001B[0;36m  Cell \u001B[0;32mIn[44], line 2\u001B[0;36m\u001B[0m\n\u001B[0;31m    \u001B[0m\n\u001B[0m    ^\u001B[0m\n\u001B[0;31mIndentationError\u001B[0m\u001B[0;31m:\u001B[0m expected an indented block\n"
     ]
    }
   ],
   "execution_count": 44
  }
 ],
 "metadata": {
  "kernelspec": {
   "display_name": "Python 3",
   "language": "python",
   "name": "python3"
  },
  "language_info": {
   "codemirror_mode": {
    "name": "ipython",
    "version": 2
   },
   "file_extension": ".py",
   "mimetype": "text/x-python",
   "name": "python",
   "nbconvert_exporter": "python",
   "pygments_lexer": "ipython2",
   "version": "2.7.6"
  }
 },
 "nbformat": 4,
 "nbformat_minor": 5
}
