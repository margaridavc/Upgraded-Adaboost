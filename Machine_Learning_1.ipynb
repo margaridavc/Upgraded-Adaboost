{
 "cells": [
  {
   "metadata": {},
   "cell_type": "markdown",
   "source": [
    "# Machine Learning Project"
   ],
   "id": "57235b7987cacf61"
  },
  {
   "metadata": {},
   "cell_type": "markdown",
   "source": [
    "This project aims ajhasbdasdiaskdbaskhdbhas"
   ],
   "id": "d1037c4e81c4739b"
  },
  {
   "metadata": {},
   "cell_type": "markdown",
   "source": [
    "### Importing Necessary Libraries"
   ],
   "id": "b2fd8428144bdfcf"
  },
  {
   "cell_type": "code",
   "id": "initial_id",
   "metadata": {
    "collapsed": true,
    "ExecuteTime": {
     "end_time": "2024-05-16T13:38:40.135314Z",
     "start_time": "2024-05-16T13:38:35.271867Z"
    }
   },
   "source": [
    "from data_preprocessing.fetch_preprocess_visualize_data import *\n",
    "from sklearn.model_selection import cross_val_score\n",
    "from sklearn.pipeline import Pipeline\n"
   ],
   "outputs": [],
   "execution_count": 3
  },
  {
   "metadata": {},
   "cell_type": "markdown",
   "source": [
    "### Initial Data Setup: Loading and Pre-processing"
   ],
   "id": "ab2678b98b9f994"
  },
  {
   "metadata": {
    "ExecuteTime": {
     "end_time": "2024-05-16T13:38:41.593838Z",
     "start_time": "2024-05-16T13:38:40.137313Z"
    }
   },
   "cell_type": "code",
   "source": [
    "datasets_name = [\"Diabetes\", \"Bank Marketing\", \"Iris\", \"Breast Cancer\", \"Creditg\", \"Blood Transfusion Service Center\", \"Phishing Websites\", \"BioResponse\", \"Transplant\", \"Climate Model Simulation Crashes\"]\n",
    "\n",
    "datasets_id = [37, 1461, 61, 13, 31, 1464, 4534, 4134, 885, 40994]\n",
    "\n",
    "datasets = []\n",
    "\n",
    "for id in datasets_id:\n",
    "    datasets.append(load_dataset(id))"
   ],
   "id": "c38db275a94260b7",
   "outputs": [],
   "execution_count": 4
  },
  {
   "metadata": {
    "ExecuteTime": {
     "end_time": "2024-05-16T14:20:48.593240Z",
     "start_time": "2024-05-16T14:20:48.555237Z"
    }
   },
   "cell_type": "code",
   "source": [
    "datasets[1][1]"
   ],
   "id": "e2dde67d60ed8699",
   "outputs": [
    {
     "data": {
      "text/plain": "array([0, 0, 0, ..., 1, 0, 0])"
     },
     "execution_count": 10,
     "metadata": {},
     "output_type": "execute_result"
    }
   ],
   "execution_count": 10
  },
  {
   "cell_type": "code",
   "outputs": [
    {
     "data": {
      "text/plain": "     age  menopause  tumor-size  inv-nodes  node-caps  deg-malig  breast  \\\n0      2          2           2          0          1          2       1   \n1      3          0           2          0          0          0       1   \n2      3          0           6          0          0          1       0   \n3      2          2           6          0          1          2       1   \n4      2          2           5          4          1          1       0   \n..   ...        ...         ...        ...        ...        ...     ...   \n281    3          0           5          5          1          1       0   \n282    3          2           4          4          1          1       0   \n283    1          2           5          5          1          1       1   \n284    3          2           2          0          0          1       1   \n285    3          0           7          0          0          2       0   \n\n     breast-quad  irradiat  \n0              2         0  \n1              0         0  \n2              1         0  \n3              1         1  \n4              4         0  \n..           ...       ...  \n281            1         0  \n282            1         1  \n283            4         0  \n284            1         0  \n285            4         0  \n\n[286 rows x 9 columns]",
      "text/html": "<div>\n<style scoped>\n    .dataframe tbody tr th:only-of-type {\n        vertical-align: middle;\n    }\n\n    .dataframe tbody tr th {\n        vertical-align: top;\n    }\n\n    .dataframe thead th {\n        text-align: right;\n    }\n</style>\n<table border=\"1\" class=\"dataframe\">\n  <thead>\n    <tr style=\"text-align: right;\">\n      <th></th>\n      <th>age</th>\n      <th>menopause</th>\n      <th>tumor-size</th>\n      <th>inv-nodes</th>\n      <th>node-caps</th>\n      <th>deg-malig</th>\n      <th>breast</th>\n      <th>breast-quad</th>\n      <th>irradiat</th>\n    </tr>\n  </thead>\n  <tbody>\n    <tr>\n      <th>0</th>\n      <td>2</td>\n      <td>2</td>\n      <td>2</td>\n      <td>0</td>\n      <td>1</td>\n      <td>2</td>\n      <td>1</td>\n      <td>2</td>\n      <td>0</td>\n    </tr>\n    <tr>\n      <th>1</th>\n      <td>3</td>\n      <td>0</td>\n      <td>2</td>\n      <td>0</td>\n      <td>0</td>\n      <td>0</td>\n      <td>1</td>\n      <td>0</td>\n      <td>0</td>\n    </tr>\n    <tr>\n      <th>2</th>\n      <td>3</td>\n      <td>0</td>\n      <td>6</td>\n      <td>0</td>\n      <td>0</td>\n      <td>1</td>\n      <td>0</td>\n      <td>1</td>\n      <td>0</td>\n    </tr>\n    <tr>\n      <th>3</th>\n      <td>2</td>\n      <td>2</td>\n      <td>6</td>\n      <td>0</td>\n      <td>1</td>\n      <td>2</td>\n      <td>1</td>\n      <td>1</td>\n      <td>1</td>\n    </tr>\n    <tr>\n      <th>4</th>\n      <td>2</td>\n      <td>2</td>\n      <td>5</td>\n      <td>4</td>\n      <td>1</td>\n      <td>1</td>\n      <td>0</td>\n      <td>4</td>\n      <td>0</td>\n    </tr>\n    <tr>\n      <th>...</th>\n      <td>...</td>\n      <td>...</td>\n      <td>...</td>\n      <td>...</td>\n      <td>...</td>\n      <td>...</td>\n      <td>...</td>\n      <td>...</td>\n      <td>...</td>\n    </tr>\n    <tr>\n      <th>281</th>\n      <td>3</td>\n      <td>0</td>\n      <td>5</td>\n      <td>5</td>\n      <td>1</td>\n      <td>1</td>\n      <td>0</td>\n      <td>1</td>\n      <td>0</td>\n    </tr>\n    <tr>\n      <th>282</th>\n      <td>3</td>\n      <td>2</td>\n      <td>4</td>\n      <td>4</td>\n      <td>1</td>\n      <td>1</td>\n      <td>0</td>\n      <td>1</td>\n      <td>1</td>\n    </tr>\n    <tr>\n      <th>283</th>\n      <td>1</td>\n      <td>2</td>\n      <td>5</td>\n      <td>5</td>\n      <td>1</td>\n      <td>1</td>\n      <td>1</td>\n      <td>4</td>\n      <td>0</td>\n    </tr>\n    <tr>\n      <th>284</th>\n      <td>3</td>\n      <td>2</td>\n      <td>2</td>\n      <td>0</td>\n      <td>0</td>\n      <td>1</td>\n      <td>1</td>\n      <td>1</td>\n      <td>0</td>\n    </tr>\n    <tr>\n      <th>285</th>\n      <td>3</td>\n      <td>0</td>\n      <td>7</td>\n      <td>0</td>\n      <td>0</td>\n      <td>2</td>\n      <td>0</td>\n      <td>4</td>\n      <td>0</td>\n    </tr>\n  </tbody>\n</table>\n<p>286 rows × 9 columns</p>\n</div>"
     },
     "execution_count": 9,
     "metadata": {},
     "output_type": "execute_result"
    }
   ],
   "source": [
    "datasets[3][0]"
   ],
   "metadata": {
    "collapsed": false,
    "ExecuteTime": {
     "end_time": "2024-05-16T13:40:20.917469Z",
     "start_time": "2024-05-16T13:40:20.894708Z"
    }
   },
   "id": "35dfb4b85ca95fc1",
   "execution_count": 9
  },
  {
   "metadata": {},
   "cell_type": "markdown",
   "source": [
    "### Rename columns"
   ],
   "id": "d56123483e08fb1f"
  },
  {
   "metadata": {},
   "cell_type": "markdown",
   "source": [
    "**Diabetes**"
   ],
   "id": "e88548ee73a5fd9"
  },
  {
   "metadata": {
    "ExecuteTime": {
     "end_time": "2024-05-16T10:32:53.230390Z",
     "start_time": "2024-05-16T10:32:53.218918Z"
    }
   },
   "cell_type": "code",
   "source": [
    "datasets[0][0].rename(columns={\n",
    "    'preg': 'n_pregnancy',\n",
    "    'plas': 'plasma',\n",
    "    'pres': 'diastolic_blood_pressure',\n",
    "    'skin': 'skin_thickness',\n",
    "    'insu': 'insulin',\n",
    "    'mass': 'body_mass',\n",
    "    'pedi': 'pedigree',\n",
    "    'age': 'age',\n",
    "}, inplace=True)"
   ],
   "id": "9588a287aa0e747b",
   "outputs": [],
   "execution_count": 6
  },
  {
   "metadata": {
    "ExecuteTime": {
     "end_time": "2024-05-16T10:32:53.246363Z",
     "start_time": "2024-05-16T10:32:53.233719Z"
    }
   },
   "cell_type": "code",
   "source": [
    "datasets[0][0].columns"
   ],
   "id": "a5a8ad59a59a09df",
   "outputs": [
    {
     "data": {
      "text/plain": "Index(['n_pregnancy', 'plasma', 'diastolic_blood_pressure', 'skin_thickness',\n       'insulin', 'body_mass', 'pedigree', 'age'],\n      dtype='object')"
     },
     "execution_count": 7,
     "metadata": {},
     "output_type": "execute_result"
    }
   ],
   "execution_count": 7
  },
  {
   "metadata": {},
   "cell_type": "markdown",
   "source": [
    "**Bank Marketing**"
   ],
   "id": "fff189541ee5ef1f"
  },
  {
   "metadata": {
    "ExecuteTime": {
     "end_time": "2024-05-16T10:32:53.261755Z",
     "start_time": "2024-05-16T10:32:53.249823Z"
    }
   },
   "cell_type": "code",
   "source": [
    "datasets[1][0].rename(columns={\n",
    "    'V1': 'age',\n",
    "    'V2': 'job',\n",
    "    'V3': 'marital status',\n",
    "    'V4': 'education',\n",
    "    'V5': 'credit_default',\n",
    "    'V6': 'balance',\n",
    "    'V7': 'housing_loan',\n",
    "    'V8': 'personal_loan',\n",
    "    'V9': 'contact_type',\n",
    "    'V10': 'day',\n",
    "    'V11': 'month',\n",
    "    'V12': 'duration_contact',\n",
    "    'V13': 'campaign',\n",
    "    'V14': 'pday',\n",
    "    'V15': 'previous',\n",
    "    'V16': 'poutcame',\n",
    "}, inplace=True)"
   ],
   "id": "2c42523835ca8dd4",
   "outputs": [],
   "execution_count": 8
  },
  {
   "metadata": {},
   "cell_type": "markdown",
   "source": [
    "### Dataset Visualization Using Principal Component Analysis (PCA)"
   ],
   "id": "59c5e447eea6c3d6"
  },
  {
   "metadata": {},
   "cell_type": "markdown",
   "source": [
    "**Diabetes Dataset:**"
   ],
   "id": "cf5b2670933faafb"
  },
  {
   "cell_type": "code",
   "outputs": [
    {
     "ename": "TypeError",
     "evalue": "'tuple' object does not support item assignment",
     "output_type": "error",
     "traceback": [
      "\u001B[1;31m---------------------------------------------------------------------------\u001B[0m",
      "\u001B[1;31mTypeError\u001B[0m                                 Traceback (most recent call last)",
      "Input \u001B[1;32mIn [9]\u001B[0m, in \u001B[0;36m<cell line: 1>\u001B[1;34m()\u001B[0m\n\u001B[0;32m      1\u001B[0m \u001B[38;5;28;01mfor\u001B[39;00m i \u001B[38;5;129;01min\u001B[39;00m \u001B[38;5;28mrange\u001B[39m (\u001B[38;5;241m0\u001B[39m, \u001B[38;5;28mlen\u001B[39m(datasets)):\n\u001B[1;32m----> 2\u001B[0m     datasets[i][\u001B[38;5;241m0\u001B[39m] \u001B[38;5;241m=\u001B[39m datasets[i][\u001B[38;5;241m0\u001B[39m]\u001B[38;5;241m.\u001B[39mdropna()\n",
      "\u001B[1;31mTypeError\u001B[0m: 'tuple' object does not support item assignment"
     ]
    }
   ],
   "source": [
    "for i in range (0, len(datasets)):\n",
    "    datasets[i][0] = datasets[i][0].dropna()"
   ],
   "metadata": {
    "collapsed": false,
    "ExecuteTime": {
     "end_time": "2024-05-16T10:32:53.309488Z",
     "start_time": "2024-05-16T10:32:53.264769Z"
    }
   },
   "id": "331b282533ff078c",
   "execution_count": 9
  },
  {
   "metadata": {},
   "cell_type": "code",
   "source": [
    "apply_pca_and_visualize(datasets[0][0], datasets[0][1], datasets_name[0])"
   ],
   "id": "12a72a8ae73be23",
   "outputs": [],
   "execution_count": null
  },
  {
   "metadata": {},
   "cell_type": "markdown",
   "source": [
    "**Bank Marketing Dataset:**"
   ],
   "id": "aa094f85d5156e4"
  },
  {
   "metadata": {
    "ExecuteTime": {
     "start_time": "2024-05-16T10:32:53.321979Z"
    }
   },
   "cell_type": "code",
   "source": [
    "apply_pca_and_visualize(datasets[1][0], datasets[1][1], datasets_name[1])"
   ],
   "id": "fcc5d6a021b1ebc8",
   "outputs": [],
   "execution_count": null
  },
  {
   "metadata": {},
   "cell_type": "markdown",
   "source": [
    "**Iris Dataset:**"
   ],
   "id": "eeac1c72a5c04d2e"
  },
  {
   "metadata": {
    "ExecuteTime": {
     "start_time": "2024-05-16T10:32:53.324838Z"
    }
   },
   "cell_type": "code",
   "source": [
    "apply_pca_and_visualize(datasets[2][0], datasets[2][1], datasets_name[2])"
   ],
   "id": "defe3a83851785c4",
   "outputs": [],
   "execution_count": null
  },
  {
   "metadata": {},
   "cell_type": "markdown",
   "source": [
    "**Breast Cancer Dataset:**"
   ],
   "id": "6df3dd0a5737f756"
  },
  {
   "metadata": {},
   "cell_type": "code",
   "source": [
    "apply_pca_and_visualize(datasets[3][0], datasets[3][1], datasets_name[3])"
   ],
   "id": "76cb0baca4e63e9f",
   "outputs": [],
   "execution_count": null
  },
  {
   "metadata": {},
   "cell_type": "markdown",
   "source": [
    "**Creditg Dataset:**"
   ],
   "id": "8ef7dcee0a672526"
  },
  {
   "metadata": {},
   "cell_type": "code",
   "source": [
    "apply_pca_and_visualize(datasets[4][0], datasets[4][1], datasets_name[4])"
   ],
   "id": "f9365015e5212ff9",
   "outputs": [],
   "execution_count": null
  },
  {
   "metadata": {},
   "cell_type": "markdown",
   "source": [
    "**Blood Transfusion Service Center Dataset:**"
   ],
   "id": "5a51b4af3890dc05"
  },
  {
   "metadata": {
    "ExecuteTime": {
     "start_time": "2024-05-16T10:32:53.332852Z"
    }
   },
   "cell_type": "code",
   "source": [
    "apply_pca_and_visualize(datasets[5][0], datasets[5][1], datasets_name[5])"
   ],
   "id": "e55ea9a1df00440b",
   "outputs": [],
   "execution_count": null
  },
  {
   "metadata": {},
   "cell_type": "markdown",
   "source": [
    "**Phishing Websites Dataset:**"
   ],
   "id": "9218e899f6c4e0d4"
  },
  {
   "metadata": {},
   "cell_type": "code",
   "source": [
    "apply_pca_and_visualize(datasets[6][0], datasets[6][1], datasets_name[6])"
   ],
   "id": "a9bb86d786f1ed3d",
   "outputs": [],
   "execution_count": null
  },
  {
   "metadata": {},
   "cell_type": "markdown",
   "source": [
    "**BioResponse Dataset:**"
   ],
   "id": "da24fc1a81850f29"
  },
  {
   "metadata": {},
   "cell_type": "code",
   "source": [
    "apply_pca_and_visualize(datasets[7][0], datasets[7][1], datasets_name[7])"
   ],
   "id": "375c808044bd97f1",
   "outputs": [],
   "execution_count": null
  },
  {
   "metadata": {},
   "cell_type": "markdown",
   "source": [
    "**Transplant Dataset:**"
   ],
   "id": "560e6d49737ddf4a"
  },
  {
   "metadata": {},
   "cell_type": "code",
   "source": [
    "apply_pca_and_visualize(datasets[8][0], datasets[8][1], datasets_name[8])"
   ],
   "id": "32eb779186478553",
   "outputs": [],
   "execution_count": null
  },
  {
   "metadata": {},
   "cell_type": "markdown",
   "source": [
    "**Climate Model Simulation Crashes Dataset:**"
   ],
   "id": "c4a7db51fd2a7c31"
  },
  {
   "metadata": {
    "ExecuteTime": {
     "start_time": "2024-05-16T10:32:53.344887Z"
    }
   },
   "cell_type": "code",
   "source": [
    "apply_pca_and_visualize(datasets[9][0], datasets[9][1], datasets_name[9])"
   ],
   "id": "31bf06d332532282",
   "outputs": [],
   "execution_count": null
  },
  {
   "metadata": {},
   "cell_type": "markdown",
   "source": [
    "### AdaBoost: Custom Modification 1"
   ],
   "id": "112fa9d5ffef912c"
  },
  {
   "metadata": {},
   "cell_type": "markdown",
   "source": [
    "bhajsdgfhaeuikhfmbaekjfbjkqe"
   ],
   "id": "cbb04b869e39ca4f"
  },
  {
   "metadata": {},
   "cell_type": "markdown",
   "source": [
    "### AdaBoost: Custom Modification 2"
   ],
   "id": "834330036a136b4c"
  },
  {
   "metadata": {},
   "cell_type": "markdown",
   "source": [
    "hasgfsdjlkfdsoukf"
   ],
   "id": "4a0b2202b370587"
  },
  {
   "metadata": {
    "ExecuteTime": {
     "start_time": "2024-05-16T10:32:53.347463Z"
    }
   },
   "cell_type": "code",
   "source": [],
   "id": "81711e5ea0684f84",
   "outputs": [],
   "execution_count": null
  },
  {
   "metadata": {},
   "cell_type": "markdown",
   "source": [
    "### Combined AdaBoost Modifications 1 and 2"
   ],
   "id": "7e19491869e3fa63"
  },
  {
   "metadata": {},
   "cell_type": "markdown",
   "source": [
    "hjvadfguasdkjfghads"
   ],
   "id": "3626a04e3ba7b50e"
  },
  {
   "metadata": {
    "ExecuteTime": {
     "start_time": "2024-05-16T10:32:53.350847Z"
    }
   },
   "cell_type": "code",
   "source": [],
   "id": "a875858a1006ec18",
   "outputs": [],
   "execution_count": null
  },
  {
   "metadata": {},
   "cell_type": "markdown",
   "source": [
    "### Training and Testing AdaBoost with Custom Modification 1"
   ],
   "id": "419d89ff0ae35d2f"
  },
  {
   "metadata": {
    "ExecuteTime": {
     "start_time": "2024-05-16T10:32:53.354259Z"
    }
   },
   "cell_type": "code",
   "source": [],
   "id": "557e46531a54f2c8",
   "outputs": [],
   "execution_count": null
  },
  {
   "metadata": {},
   "cell_type": "markdown",
   "source": [
    "### Training and Testing AdaBoost with Custom Modification 2"
   ],
   "id": "5f52a6c6ba85b3a2"
  },
  {
   "metadata": {
    "ExecuteTime": {
     "start_time": "2024-05-16T10:32:53.356621Z"
    }
   },
   "cell_type": "code",
   "source": [],
   "id": "41180f657ba726fc",
   "outputs": [],
   "execution_count": null
  },
  {
   "metadata": {},
   "cell_type": "markdown",
   "source": [
    "### Training and Testing AdaBoost with Combined Modifications 1 and 2"
   ],
   "id": "75ae0e5de2858e10"
  },
  {
   "metadata": {
    "ExecuteTime": {
     "start_time": "2024-05-16T10:32:53.359363Z"
    }
   },
   "cell_type": "code",
   "source": [],
   "id": "1a0252632e3a801a",
   "outputs": [],
   "execution_count": null
  },
  {
   "metadata": {},
   "cell_type": "markdown",
   "source": [
    "### Training and Testing AdaBoost with Original Implementation (No Modifications)"
   ],
   "id": "1ef2753c72f8f64a"
  },
  {
   "metadata": {
    "ExecuteTime": {
     "start_time": "2024-05-16T10:32:53.361729Z"
    }
   },
   "cell_type": "code",
   "source": [
    "def cross_validation(X,y):\n",
    "    pipeline = Pipeline([('classifier', AdaBoostClassifier(algorithm='SAMME'))])\n",
    "    scores = cross_val_score(pipeline, X, y, cv=10, scoring=\"accuracy\")\n",
    "    \n",
    "    print(\"Accuracy for each fold: \", scores)\n",
    "    print(\"Average accuracy: \", scores.mean())"
   ],
   "id": "d99b8618a3afb0a2",
   "outputs": [],
   "execution_count": null
  },
  {
   "metadata": {},
   "cell_type": "markdown",
   "source": [],
   "id": "709b0276413a7eb4"
  },
  {
   "metadata": {},
   "cell_type": "code",
   "source": [
    "datasets[0][0]"
   ],
   "id": "d1adc4afad0568d4",
   "outputs": [],
   "execution_count": null
  },
  {
   "metadata": {},
   "cell_type": "code",
   "source": [
    "datasets[0][1]"
   ],
   "id": "249cc8aed3da7b68",
   "outputs": [],
   "execution_count": null
  },
  {
   "metadata": {},
   "cell_type": "code",
   "source": [
    "# Criar uma instância do seu modelo AdaBoost\n",
    "ada_boost = AdaBoost('DecisionTreeClassifier', n_estimators=50)\n",
    "\n",
    "# Calcular a pontuação de validação cruzada k-fold\n",
    "\n",
    "score = ada_boost.cross_val_score(datasets[0][0], datasets[0][1], n_splits=5, random_state=42)\n",
    "\n",
    "print(\"Pontuação de validação cruzada:\", score)    "
   ],
   "id": "46140d2d1191eda5",
   "outputs": [],
   "execution_count": null
  },
  {
   "metadata": {},
   "cell_type": "markdown",
   "source": [
    "**Diabetes:**"
   ],
   "id": "f45c040b1daae76f"
  },
  {
   "metadata": {},
   "cell_type": "code",
   "source": [
    "cross_validation(datasets[0][0], datasets[0][1])"
   ],
   "id": "42eacaf745e8b1ef",
   "outputs": [],
   "execution_count": null
  },
  {
   "metadata": {
    "ExecuteTime": {
     "start_time": "2024-05-16T10:32:53.378114Z"
    }
   },
   "cell_type": "code",
   "source": [
    "datasets[1][0]"
   ],
   "id": "916db082f1a5bfaa",
   "outputs": [],
   "execution_count": null
  },
  {
   "metadata": {},
   "cell_type": "markdown",
   "source": [
    "**Bank Marketing:**"
   ],
   "id": "6367d99eb5473773"
  },
  {
   "metadata": {},
   "cell_type": "code",
   "source": [
    "cross_validation(datasets[1][0], datasets[1][1])"
   ],
   "id": "a4337fab0cfa2f34",
   "outputs": [],
   "execution_count": null
  },
  {
   "metadata": {},
   "cell_type": "markdown",
   "source": [
    "**Iris:**"
   ],
   "id": "a485ab7ea057486"
  },
  {
   "metadata": {},
   "cell_type": "code",
   "source": [
    "cross_validation(datasets[2][0], datasets[2][1])"
   ],
   "id": "742aaeaacbed5c58",
   "outputs": [],
   "execution_count": null
  },
  {
   "metadata": {},
   "cell_type": "markdown",
   "source": [
    "**Breast Cancer:**"
   ],
   "id": "1cc59a326e9ae3e5"
  },
  {
   "metadata": {},
   "cell_type": "code",
   "source": [
    "cross_validation(datasets[3][0], datasets[3][1])"
   ],
   "id": "b1ad375febbeaa2e",
   "outputs": [],
   "execution_count": null
  },
  {
   "metadata": {},
   "cell_type": "markdown",
   "source": [
    "**Creditg:**"
   ],
   "id": "11940abbdca207d5"
  },
  {
   "metadata": {
    "ExecuteTime": {
     "start_time": "2024-05-16T10:32:53.389531Z"
    }
   },
   "cell_type": "code",
   "source": [
    "cross_validation(datasets[4][0], datasets[4][1])"
   ],
   "id": "782ee5c64fa6ee3f",
   "outputs": [],
   "execution_count": null
  },
  {
   "metadata": {},
   "cell_type": "markdown",
   "source": [
    "**Blood Transfusion Service Center:**"
   ],
   "id": "14a6dc30a38709ca"
  },
  {
   "metadata": {},
   "cell_type": "code",
   "source": [
    "cross_validation(datasets[5][0], datasets[5][1])"
   ],
   "id": "ee426ac78a303172",
   "outputs": [],
   "execution_count": null
  },
  {
   "metadata": {},
   "cell_type": "markdown",
   "source": [
    "**Phishing Websites:**"
   ],
   "id": "a08418d0fc3a0349"
  },
  {
   "metadata": {
    "ExecuteTime": {
     "start_time": "2024-05-16T10:32:53.396424Z"
    }
   },
   "cell_type": "code",
   "source": [
    "cross_validation(datasets[6][0], datasets[6][1])"
   ],
   "id": "1081be93b3242a54",
   "outputs": [],
   "execution_count": null
  },
  {
   "metadata": {},
   "cell_type": "markdown",
   "source": [
    "**BioResponse:**"
   ],
   "id": "3fe64deeba4f8596"
  },
  {
   "metadata": {},
   "cell_type": "code",
   "source": [
    "cross_validation(datasets[7][0], datasets[7][1])"
   ],
   "id": "572e5054e93a21cc",
   "outputs": [],
   "execution_count": null
  },
  {
   "metadata": {},
   "cell_type": "markdown",
   "source": [
    "**Transplant:**"
   ],
   "id": "bd8677210a996f33"
  },
  {
   "metadata": {},
   "cell_type": "code",
   "source": [
    "cross_validation(datasets[8][0], datasets[8][1])"
   ],
   "id": "6b3d90703c62f8c3",
   "outputs": [],
   "execution_count": null
  },
  {
   "metadata": {},
   "cell_type": "markdown",
   "source": [
    "**Climate Model Simulation Crashes:**"
   ],
   "id": "294cbd772eaaca47"
  },
  {
   "metadata": {
    "ExecuteTime": {
     "start_time": "2024-05-16T10:32:53.404783Z"
    }
   },
   "cell_type": "code",
   "source": [
    "cross_validation(datasets[9][0], datasets[9][1])"
   ],
   "id": "7c819fd22f471d02",
   "outputs": [],
   "execution_count": null
  },
  {
   "metadata": {},
   "cell_type": "markdown",
   "source": [
    "### Conclusion"
   ],
   "id": "533d8c5bdf433438"
  },
  {
   "metadata": {},
   "cell_type": "markdown",
   "source": [
    "hvjfdijkubiyvyboinyob"
   ],
   "id": "701da094314abe78"
  },
  {
   "metadata": {},
   "cell_type": "code",
   "source": [],
   "id": "6bf5c3df4d611e4b",
   "outputs": [],
   "execution_count": null
  },
  {
   "metadata": {
    "ExecuteTime": {
     "end_time": "2024-05-16T10:33:26.414313Z",
     "start_time": "2024-05-16T10:33:26.190592Z"
    }
   },
   "cell_type": "code",
   "source": [
    "# load dataset bank-market\n",
    "\n",
    "df = pd.read_csv('datasets/bank-marketing.csv')\n",
    "df.head()"
   ],
   "id": "60e8be3d9620fc2a",
   "outputs": [
    {
     "data": {
      "text/plain": "     V1               V2          V3            V4     V5      V6      V7  \\\n0  58.0    b'management'  b'married'   b'tertiary'  b'no'  2143.0  b'yes'   \n1  44.0    b'technician'   b'single'  b'secondary'  b'no'    29.0  b'yes'   \n2  33.0  b'entrepreneur'  b'married'  b'secondary'  b'no'     2.0  b'yes'   \n3  47.0   b'blue-collar'  b'married'    b'unknown'  b'no'  1506.0  b'yes'   \n4  33.0       b'unknown'   b'single'    b'unknown'  b'no'     1.0   b'no'   \n\n       V8          V9  V10     V11    V12  V13  V14  V15         V16 Class  \n0   b'no'  b'unknown'  5.0  b'may'  261.0  1.0 -1.0  0.0  b'unknown'  b'1'  \n1   b'no'  b'unknown'  5.0  b'may'  151.0  1.0 -1.0  0.0  b'unknown'  b'1'  \n2  b'yes'  b'unknown'  5.0  b'may'   76.0  1.0 -1.0  0.0  b'unknown'  b'1'  \n3   b'no'  b'unknown'  5.0  b'may'   92.0  1.0 -1.0  0.0  b'unknown'  b'1'  \n4   b'no'  b'unknown'  5.0  b'may'  198.0  1.0 -1.0  0.0  b'unknown'  b'1'  ",
      "text/html": "<div>\n<style scoped>\n    .dataframe tbody tr th:only-of-type {\n        vertical-align: middle;\n    }\n\n    .dataframe tbody tr th {\n        vertical-align: top;\n    }\n\n    .dataframe thead th {\n        text-align: right;\n    }\n</style>\n<table border=\"1\" class=\"dataframe\">\n  <thead>\n    <tr style=\"text-align: right;\">\n      <th></th>\n      <th>V1</th>\n      <th>V2</th>\n      <th>V3</th>\n      <th>V4</th>\n      <th>V5</th>\n      <th>V6</th>\n      <th>V7</th>\n      <th>V8</th>\n      <th>V9</th>\n      <th>V10</th>\n      <th>V11</th>\n      <th>V12</th>\n      <th>V13</th>\n      <th>V14</th>\n      <th>V15</th>\n      <th>V16</th>\n      <th>Class</th>\n    </tr>\n  </thead>\n  <tbody>\n    <tr>\n      <th>0</th>\n      <td>58.0</td>\n      <td>b'management'</td>\n      <td>b'married'</td>\n      <td>b'tertiary'</td>\n      <td>b'no'</td>\n      <td>2143.0</td>\n      <td>b'yes'</td>\n      <td>b'no'</td>\n      <td>b'unknown'</td>\n      <td>5.0</td>\n      <td>b'may'</td>\n      <td>261.0</td>\n      <td>1.0</td>\n      <td>-1.0</td>\n      <td>0.0</td>\n      <td>b'unknown'</td>\n      <td>b'1'</td>\n    </tr>\n    <tr>\n      <th>1</th>\n      <td>44.0</td>\n      <td>b'technician'</td>\n      <td>b'single'</td>\n      <td>b'secondary'</td>\n      <td>b'no'</td>\n      <td>29.0</td>\n      <td>b'yes'</td>\n      <td>b'no'</td>\n      <td>b'unknown'</td>\n      <td>5.0</td>\n      <td>b'may'</td>\n      <td>151.0</td>\n      <td>1.0</td>\n      <td>-1.0</td>\n      <td>0.0</td>\n      <td>b'unknown'</td>\n      <td>b'1'</td>\n    </tr>\n    <tr>\n      <th>2</th>\n      <td>33.0</td>\n      <td>b'entrepreneur'</td>\n      <td>b'married'</td>\n      <td>b'secondary'</td>\n      <td>b'no'</td>\n      <td>2.0</td>\n      <td>b'yes'</td>\n      <td>b'yes'</td>\n      <td>b'unknown'</td>\n      <td>5.0</td>\n      <td>b'may'</td>\n      <td>76.0</td>\n      <td>1.0</td>\n      <td>-1.0</td>\n      <td>0.0</td>\n      <td>b'unknown'</td>\n      <td>b'1'</td>\n    </tr>\n    <tr>\n      <th>3</th>\n      <td>47.0</td>\n      <td>b'blue-collar'</td>\n      <td>b'married'</td>\n      <td>b'unknown'</td>\n      <td>b'no'</td>\n      <td>1506.0</td>\n      <td>b'yes'</td>\n      <td>b'no'</td>\n      <td>b'unknown'</td>\n      <td>5.0</td>\n      <td>b'may'</td>\n      <td>92.0</td>\n      <td>1.0</td>\n      <td>-1.0</td>\n      <td>0.0</td>\n      <td>b'unknown'</td>\n      <td>b'1'</td>\n    </tr>\n    <tr>\n      <th>4</th>\n      <td>33.0</td>\n      <td>b'unknown'</td>\n      <td>b'single'</td>\n      <td>b'unknown'</td>\n      <td>b'no'</td>\n      <td>1.0</td>\n      <td>b'no'</td>\n      <td>b'no'</td>\n      <td>b'unknown'</td>\n      <td>5.0</td>\n      <td>b'may'</td>\n      <td>198.0</td>\n      <td>1.0</td>\n      <td>-1.0</td>\n      <td>0.0</td>\n      <td>b'unknown'</td>\n      <td>b'1'</td>\n    </tr>\n  </tbody>\n</table>\n</div>"
     },
     "execution_count": 10,
     "metadata": {},
     "output_type": "execute_result"
    }
   ],
   "execution_count": 10
  },
  {
   "metadata": {
    "ExecuteTime": {
     "end_time": "2024-05-16T10:33:26.429613Z",
     "start_time": "2024-05-16T10:33:26.417616Z"
    }
   },
   "cell_type": "code",
   "source": [
    "df.rename(columns={\n",
    "    'V1': 'age',\n",
    "    'V2': 'job',\n",
    "    'V3': 'marital status',\n",
    "    'V4': 'education',\n",
    "    'V5': 'credit_default',\n",
    "    'V6': 'balance',\n",
    "    'V7': 'housing_loan',\n",
    "    'V8': 'personal_loan',\n",
    "    'V9': 'contact_type',\n",
    "    'V10': 'day',\n",
    "    'V11': 'month',\n",
    "    'V12': 'duration_contact',\n",
    "    'V13': 'campaign',\n",
    "    'V14': 'pday',\n",
    "    'V15': 'previous',\n",
    "    'V16': 'poutcame',\n",
    "    'Class': 'Target',\n",
    "}, inplace=True)"
   ],
   "id": "d2254c6e58c385a3",
   "outputs": [],
   "execution_count": 11
  },
  {
   "metadata": {
    "ExecuteTime": {
     "end_time": "2024-05-16T10:33:27.092807Z",
     "start_time": "2024-05-16T10:33:26.935046Z"
    }
   },
   "cell_type": "code",
   "source": [
    "\n",
    "# label encoding the dataset\n",
    "from sklearn.preprocessing import LabelEncoder\n",
    "\n",
    "le = LabelEncoder()\n",
    "df['job'] = le.fit_transform(df['job'])\n",
    "df['marital status'] = le.fit_transform(df['marital status'])\n",
    "df['education'] = le.fit_transform(df['education'])\n",
    "df['credit_default'] = le.fit_transform(df['credit_default'])\n",
    "df['housing_loan'] = le.fit_transform(df['housing_loan'])\n",
    "df['personal_loan'] = le.fit_transform(df['personal_loan'])\n",
    "df['contact_type'] = le.fit_transform(df['contact_type'])\n",
    "df['month'] = le.fit_transform(df['month'])\n",
    "df['poutcame'] = le.fit_transform(df['poutcame'])\n",
    "df['Target'] = le.fit_transform(df['Target'])\n",
    "\n",
    "df.head()"
   ],
   "id": "85a2cf95c58f000b",
   "outputs": [
    {
     "data": {
      "text/plain": "    age  job  marital status  education  credit_default  balance  \\\n0  58.0    4               1          2               0   2143.0   \n1  44.0    9               2          1               0     29.0   \n2  33.0    2               1          1               0      2.0   \n3  47.0    1               1          3               0   1506.0   \n4  33.0   11               2          3               0      1.0   \n\n   housing_loan  personal_loan  contact_type  day  month  duration_contact  \\\n0             1              0             2  5.0      8             261.0   \n1             1              0             2  5.0      8             151.0   \n2             1              1             2  5.0      8              76.0   \n3             1              0             2  5.0      8              92.0   \n4             0              0             2  5.0      8             198.0   \n\n   campaign  pday  previous  poutcame  Target  \n0       1.0  -1.0       0.0         3       0  \n1       1.0  -1.0       0.0         3       0  \n2       1.0  -1.0       0.0         3       0  \n3       1.0  -1.0       0.0         3       0  \n4       1.0  -1.0       0.0         3       0  ",
      "text/html": "<div>\n<style scoped>\n    .dataframe tbody tr th:only-of-type {\n        vertical-align: middle;\n    }\n\n    .dataframe tbody tr th {\n        vertical-align: top;\n    }\n\n    .dataframe thead th {\n        text-align: right;\n    }\n</style>\n<table border=\"1\" class=\"dataframe\">\n  <thead>\n    <tr style=\"text-align: right;\">\n      <th></th>\n      <th>age</th>\n      <th>job</th>\n      <th>marital status</th>\n      <th>education</th>\n      <th>credit_default</th>\n      <th>balance</th>\n      <th>housing_loan</th>\n      <th>personal_loan</th>\n      <th>contact_type</th>\n      <th>day</th>\n      <th>month</th>\n      <th>duration_contact</th>\n      <th>campaign</th>\n      <th>pday</th>\n      <th>previous</th>\n      <th>poutcame</th>\n      <th>Target</th>\n    </tr>\n  </thead>\n  <tbody>\n    <tr>\n      <th>0</th>\n      <td>58.0</td>\n      <td>4</td>\n      <td>1</td>\n      <td>2</td>\n      <td>0</td>\n      <td>2143.0</td>\n      <td>1</td>\n      <td>0</td>\n      <td>2</td>\n      <td>5.0</td>\n      <td>8</td>\n      <td>261.0</td>\n      <td>1.0</td>\n      <td>-1.0</td>\n      <td>0.0</td>\n      <td>3</td>\n      <td>0</td>\n    </tr>\n    <tr>\n      <th>1</th>\n      <td>44.0</td>\n      <td>9</td>\n      <td>2</td>\n      <td>1</td>\n      <td>0</td>\n      <td>29.0</td>\n      <td>1</td>\n      <td>0</td>\n      <td>2</td>\n      <td>5.0</td>\n      <td>8</td>\n      <td>151.0</td>\n      <td>1.0</td>\n      <td>-1.0</td>\n      <td>0.0</td>\n      <td>3</td>\n      <td>0</td>\n    </tr>\n    <tr>\n      <th>2</th>\n      <td>33.0</td>\n      <td>2</td>\n      <td>1</td>\n      <td>1</td>\n      <td>0</td>\n      <td>2.0</td>\n      <td>1</td>\n      <td>1</td>\n      <td>2</td>\n      <td>5.0</td>\n      <td>8</td>\n      <td>76.0</td>\n      <td>1.0</td>\n      <td>-1.0</td>\n      <td>0.0</td>\n      <td>3</td>\n      <td>0</td>\n    </tr>\n    <tr>\n      <th>3</th>\n      <td>47.0</td>\n      <td>1</td>\n      <td>1</td>\n      <td>3</td>\n      <td>0</td>\n      <td>1506.0</td>\n      <td>1</td>\n      <td>0</td>\n      <td>2</td>\n      <td>5.0</td>\n      <td>8</td>\n      <td>92.0</td>\n      <td>1.0</td>\n      <td>-1.0</td>\n      <td>0.0</td>\n      <td>3</td>\n      <td>0</td>\n    </tr>\n    <tr>\n      <th>4</th>\n      <td>33.0</td>\n      <td>11</td>\n      <td>2</td>\n      <td>3</td>\n      <td>0</td>\n      <td>1.0</td>\n      <td>0</td>\n      <td>0</td>\n      <td>2</td>\n      <td>5.0</td>\n      <td>8</td>\n      <td>198.0</td>\n      <td>1.0</td>\n      <td>-1.0</td>\n      <td>0.0</td>\n      <td>3</td>\n      <td>0</td>\n    </tr>\n  </tbody>\n</table>\n</div>"
     },
     "execution_count": 12,
     "metadata": {},
     "output_type": "execute_result"
    }
   ],
   "execution_count": 12
  },
  {
   "cell_type": "code",
   "outputs": [],
   "source": [],
   "metadata": {
    "collapsed": false
   },
   "id": "605d58828649fcf9"
  },
  {
   "cell_type": "code",
   "outputs": [],
   "source": [
    "import openml\n",
    "\n",
    "def getDataset(task_id):\n",
    "    suite = openml.study.get_suite(99)\n",
    "    task = openml.tasks.get_task(task_id)\n",
    "    dataset = openml.datasets.get_dataset(task.dataset_id)\n",
    "\n",
    "    X, y, categorical_indicator, attribute_names = dataset.get_data(\n",
    "        dataset_format=\"array\", target=dataset.default_target_attribute\n",
    "    )\n",
    "\n",
    "    df = pd.DataFrame(X, columns=attribute_names)\n",
    "    # convert:\n",
    "    #   0 -> -1\n",
    "    #   1 -> 1\n",
    "    df['target'] = 2*y-1\n",
    "    # erase rows with NaN values\n",
    "    df = df.dropna(how='any', axis=0)\n",
    "\n",
    "    return df"
   ],
   "metadata": {
    "collapsed": false,
    "ExecuteTime": {
     "end_time": "2024-05-16T13:18:29.281744Z",
     "start_time": "2024-05-16T13:18:27.828605Z"
    }
   },
   "id": "a39b786be2bb065a",
   "execution_count": 26
  },
  {
   "metadata": {
    "ExecuteTime": {
     "end_time": "2024-05-16T13:20:27.515761Z",
     "start_time": "2024-05-16T13:20:06.808192Z"
    }
   },
   "cell_type": "code",
   "source": [
    "\n",
    "datasets_id = [37, 1461, 61, 13, 31, 1464, 4534, 4134, 885, 40994]\n",
    "\n",
    "datasets_new = [\n",
    "                \"Task ID = 37\", getDataset(37),\n",
    "                \"Task ID = 1461\", getDataset(1461),\n",
    "                \"Task ID = 61\", getDataset(61),\n",
    "                \"Task ID = 13\", getDataset(13),\n",
    "                \"Task ID = 31\", getDataset(31),\n",
    "                \"Task ID = 1464\", getDataset(1464),\n",
    "                \"Task ID = 4534\", getDataset(4534),\n",
    "                \"Task ID = 4134\", getDataset(4134),\n",
    "                \"Task ID = 885\", getDataset(885),\n",
    "                \"Task ID = 40994\", getDataset(40994)\n",
    "            ]"
   ],
   "id": "ab5f6ad99ec41054",
   "outputs": [
    {
     "name": "stderr",
     "output_type": "stream",
     "text": [
      "C:\\Users\\ricar\\AppData\\Local\\Temp\\ipykernel_16688\\1801695259.py:4: FutureWarning: Starting from Version 0.15.0 `download_splits` will default to ``False`` instead of ``True`` and be independent from `download_data`. To disable this message until version 0.15 explicitly set `download_splits` to a bool.\n",
      "  \"Task ID = 37\", getDataset(37),\n",
      "C:\\Users\\ricar\\anaconda3_\\envs\\AC1_Project\\lib\\site-packages\\openml\\tasks\\functions.py:442: FutureWarning: Starting from Version 0.15 `download_data`, `download_qualities`, and `download_features_meta_data` will all be ``False`` instead of ``True`` by default to enable lazy loading. To disable this message until version 0.15 explicitly set `download_data`, `download_qualities`, and `download_features_meta_data` to a bool while calling `get_dataset`.\n",
      "  dataset = get_dataset(task.dataset_id, *dataset_args, **get_dataset_kwargs)\n",
      "C:\\Users\\ricar\\AppData\\Local\\Temp\\ipykernel_16688\\2653878923.py:6: FutureWarning: Starting from Version 0.15 `download_data`, `download_qualities`, and `download_features_meta_data` will all be ``False`` instead of ``True`` by default to enable lazy loading. To disable this message until version 0.15 explicitly set `download_data`, `download_qualities`, and `download_features_meta_data` to a bool while calling `get_dataset`.\n",
      "  dataset = openml.datasets.get_dataset(task.dataset_id)\n",
      "C:\\Users\\ricar\\AppData\\Local\\Temp\\ipykernel_16688\\2653878923.py:8: FutureWarning: Support for `dataset_format='array'` will be removed in 0.15,start using `dataset_format='dataframe' to ensure your code will continue to work. You can use the dataframe's `to_numpy` function to continue using numpy arrays.\n",
      "  X, y, categorical_indicator, attribute_names = dataset.get_data(\n",
      "C:\\Users\\ricar\\AppData\\Local\\Temp\\ipykernel_16688\\1801695259.py:5: FutureWarning: Starting from Version 0.15.0 `download_splits` will default to ``False`` instead of ``True`` and be independent from `download_data`. To disable this message until version 0.15 explicitly set `download_splits` to a bool.\n",
      "  \"Task ID = 1461\", getDataset(1461),\n"
     ]
    },
    {
     "ename": "OpenMLServerException",
     "evalue": "https://www.openml.org/api/v1/xml/task/1461 returned code 151: Unknown task - None",
     "output_type": "error",
     "traceback": [
      "\u001B[1;31m---------------------------------------------------------------------------\u001B[0m",
      "\u001B[1;31mFileNotFoundError\u001B[0m                         Traceback (most recent call last)",
      "File \u001B[1;32m~\\anaconda3_\\envs\\AC1_Project\\lib\\site-packages\\openml\\tasks\\functions.py:66\u001B[0m, in \u001B[0;36m_get_cached_task\u001B[1;34m(tid)\u001B[0m\n\u001B[0;32m     65\u001B[0m \u001B[38;5;28;01mtry\u001B[39;00m:\n\u001B[1;32m---> 66\u001B[0m     \u001B[38;5;28;01mwith\u001B[39;00m \u001B[43mtask_xml_path\u001B[49m\u001B[38;5;241;43m.\u001B[39;49m\u001B[43mopen\u001B[49m\u001B[43m(\u001B[49m\u001B[43mencoding\u001B[49m\u001B[38;5;241;43m=\u001B[39;49m\u001B[38;5;124;43m\"\u001B[39;49m\u001B[38;5;124;43mutf8\u001B[39;49m\u001B[38;5;124;43m\"\u001B[39;49m\u001B[43m)\u001B[49m \u001B[38;5;28;01mas\u001B[39;00m fh:\n\u001B[0;32m     67\u001B[0m         \u001B[38;5;28;01mreturn\u001B[39;00m _create_task_from_xml(fh\u001B[38;5;241m.\u001B[39mread())\n",
      "File \u001B[1;32m~\\anaconda3_\\envs\\AC1_Project\\lib\\pathlib.py:1252\u001B[0m, in \u001B[0;36mPath.open\u001B[1;34m(self, mode, buffering, encoding, errors, newline)\u001B[0m\n\u001B[0;32m   1248\u001B[0m \u001B[38;5;124;03m\"\"\"\u001B[39;00m\n\u001B[0;32m   1249\u001B[0m \u001B[38;5;124;03mOpen the file pointed by this path and return a file object, as\u001B[39;00m\n\u001B[0;32m   1250\u001B[0m \u001B[38;5;124;03mthe built-in open() function does.\u001B[39;00m\n\u001B[0;32m   1251\u001B[0m \u001B[38;5;124;03m\"\"\"\u001B[39;00m\n\u001B[1;32m-> 1252\u001B[0m \u001B[38;5;28;01mreturn\u001B[39;00m \u001B[43mio\u001B[49m\u001B[38;5;241;43m.\u001B[39;49m\u001B[43mopen\u001B[49m\u001B[43m(\u001B[49m\u001B[38;5;28;43mself\u001B[39;49m\u001B[43m,\u001B[49m\u001B[43m \u001B[49m\u001B[43mmode\u001B[49m\u001B[43m,\u001B[49m\u001B[43m \u001B[49m\u001B[43mbuffering\u001B[49m\u001B[43m,\u001B[49m\u001B[43m \u001B[49m\u001B[43mencoding\u001B[49m\u001B[43m,\u001B[49m\u001B[43m \u001B[49m\u001B[43merrors\u001B[49m\u001B[43m,\u001B[49m\u001B[43m \u001B[49m\u001B[43mnewline\u001B[49m\u001B[43m,\u001B[49m\n\u001B[0;32m   1253\u001B[0m \u001B[43m               \u001B[49m\u001B[43mopener\u001B[49m\u001B[38;5;241;43m=\u001B[39;49m\u001B[38;5;28;43mself\u001B[39;49m\u001B[38;5;241;43m.\u001B[39;49m\u001B[43m_opener\u001B[49m\u001B[43m)\u001B[49m\n",
      "File \u001B[1;32m~\\anaconda3_\\envs\\AC1_Project\\lib\\pathlib.py:1120\u001B[0m, in \u001B[0;36mPath._opener\u001B[1;34m(self, name, flags, mode)\u001B[0m\n\u001B[0;32m   1118\u001B[0m \u001B[38;5;28;01mdef\u001B[39;00m \u001B[38;5;21m_opener\u001B[39m(\u001B[38;5;28mself\u001B[39m, name, flags, mode\u001B[38;5;241m=\u001B[39m\u001B[38;5;241m0o666\u001B[39m):\n\u001B[0;32m   1119\u001B[0m     \u001B[38;5;66;03m# A stub for the opener argument to built-in open()\u001B[39;00m\n\u001B[1;32m-> 1120\u001B[0m     \u001B[38;5;28;01mreturn\u001B[39;00m \u001B[38;5;28;43mself\u001B[39;49m\u001B[38;5;241;43m.\u001B[39;49m\u001B[43m_accessor\u001B[49m\u001B[38;5;241;43m.\u001B[39;49m\u001B[43mopen\u001B[49m\u001B[43m(\u001B[49m\u001B[38;5;28;43mself\u001B[39;49m\u001B[43m,\u001B[49m\u001B[43m \u001B[49m\u001B[43mflags\u001B[49m\u001B[43m,\u001B[49m\u001B[43m \u001B[49m\u001B[43mmode\u001B[49m\u001B[43m)\u001B[49m\n",
      "\u001B[1;31mFileNotFoundError\u001B[0m: [Errno 2] No such file or directory: 'C:\\\\Users\\\\ricar\\\\.openml\\\\org\\\\openml\\\\www\\\\tasks\\\\1461\\\\task.xml'",
      "\nThe above exception was the direct cause of the following exception:\n",
      "\u001B[1;31mOpenMLCacheException\u001B[0m                      Traceback (most recent call last)",
      "File \u001B[1;32m~\\anaconda3_\\envs\\AC1_Project\\lib\\site-packages\\openml\\tasks\\functions.py:461\u001B[0m, in \u001B[0;36m_get_task_description\u001B[1;34m(task_id)\u001B[0m\n\u001B[0;32m    460\u001B[0m \u001B[38;5;28;01mtry\u001B[39;00m:\n\u001B[1;32m--> 461\u001B[0m     \u001B[38;5;28;01mreturn\u001B[39;00m \u001B[43m_get_cached_task\u001B[49m\u001B[43m(\u001B[49m\u001B[43mtask_id\u001B[49m\u001B[43m)\u001B[49m\n\u001B[0;32m    462\u001B[0m \u001B[38;5;28;01mexcept\u001B[39;00m OpenMLCacheException:\n",
      "File \u001B[1;32m~\\anaconda3_\\envs\\AC1_Project\\lib\\site-packages\\openml\\tasks\\functions.py:70\u001B[0m, in \u001B[0;36m_get_cached_task\u001B[1;34m(tid)\u001B[0m\n\u001B[0;32m     69\u001B[0m openml\u001B[38;5;241m.\u001B[39mutils\u001B[38;5;241m.\u001B[39m_remove_cache_dir_for_id(TASKS_CACHE_DIR_NAME, tid_cache_dir)\n\u001B[1;32m---> 70\u001B[0m \u001B[38;5;28;01mraise\u001B[39;00m OpenMLCacheException(\u001B[38;5;124mf\u001B[39m\u001B[38;5;124m\"\u001B[39m\u001B[38;5;124mTask file for tid \u001B[39m\u001B[38;5;132;01m{\u001B[39;00mtid\u001B[38;5;132;01m}\u001B[39;00m\u001B[38;5;124m not cached\u001B[39m\u001B[38;5;124m\"\u001B[39m) \u001B[38;5;28;01mfrom\u001B[39;00m \u001B[38;5;21;01me\u001B[39;00m\n",
      "\u001B[1;31mOpenMLCacheException\u001B[0m: Task file for tid 1461 not cached",
      "\nDuring handling of the above exception, another exception occurred:\n",
      "\u001B[1;31mOpenMLServerException\u001B[0m                     Traceback (most recent call last)",
      "Input \u001B[1;32mIn [32]\u001B[0m, in \u001B[0;36m<cell line: 4>\u001B[1;34m()\u001B[0m\n\u001B[0;32m      1\u001B[0m datasets_id \u001B[38;5;241m=\u001B[39m [\u001B[38;5;241m37\u001B[39m, \u001B[38;5;241m1461\u001B[39m, \u001B[38;5;241m61\u001B[39m, \u001B[38;5;241m13\u001B[39m, \u001B[38;5;241m31\u001B[39m, \u001B[38;5;241m1464\u001B[39m, \u001B[38;5;241m4534\u001B[39m, \u001B[38;5;241m4134\u001B[39m, \u001B[38;5;241m885\u001B[39m, \u001B[38;5;241m40994\u001B[39m]\n\u001B[0;32m      3\u001B[0m datasets_new \u001B[38;5;241m=\u001B[39m [\n\u001B[0;32m      4\u001B[0m                 \u001B[38;5;124m\"\u001B[39m\u001B[38;5;124mTask ID = 37\u001B[39m\u001B[38;5;124m\"\u001B[39m, getDataset(\u001B[38;5;241m37\u001B[39m),\n\u001B[1;32m----> 5\u001B[0m                 \u001B[38;5;124m\"\u001B[39m\u001B[38;5;124mTask ID = 1461\u001B[39m\u001B[38;5;124m\"\u001B[39m, \u001B[43mgetDataset\u001B[49m\u001B[43m(\u001B[49m\u001B[38;5;241;43m1461\u001B[39;49m\u001B[43m)\u001B[49m,\n\u001B[0;32m      6\u001B[0m                 \u001B[38;5;124m\"\u001B[39m\u001B[38;5;124mTask ID = 61\u001B[39m\u001B[38;5;124m\"\u001B[39m, getDataset(\u001B[38;5;241m61\u001B[39m),\n\u001B[0;32m      7\u001B[0m                 \u001B[38;5;124m\"\u001B[39m\u001B[38;5;124mTask ID = 13\u001B[39m\u001B[38;5;124m\"\u001B[39m, getDataset(\u001B[38;5;241m13\u001B[39m),\n\u001B[0;32m      8\u001B[0m                 \u001B[38;5;124m\"\u001B[39m\u001B[38;5;124mTask ID = 31\u001B[39m\u001B[38;5;124m\"\u001B[39m, getDataset(\u001B[38;5;241m31\u001B[39m),\n\u001B[0;32m      9\u001B[0m                 \u001B[38;5;124m\"\u001B[39m\u001B[38;5;124mTask ID = 1464\u001B[39m\u001B[38;5;124m\"\u001B[39m, getDataset(\u001B[38;5;241m1464\u001B[39m),\n\u001B[0;32m     10\u001B[0m                 \u001B[38;5;124m\"\u001B[39m\u001B[38;5;124mTask ID = 4534\u001B[39m\u001B[38;5;124m\"\u001B[39m, getDataset(\u001B[38;5;241m4534\u001B[39m),\n\u001B[0;32m     11\u001B[0m                 \u001B[38;5;124m\"\u001B[39m\u001B[38;5;124mTask ID = 4134\u001B[39m\u001B[38;5;124m\"\u001B[39m, getDataset(\u001B[38;5;241m4134\u001B[39m),\n\u001B[0;32m     12\u001B[0m                 \u001B[38;5;124m\"\u001B[39m\u001B[38;5;124mTask ID = 885\u001B[39m\u001B[38;5;124m\"\u001B[39m, getDataset(\u001B[38;5;241m885\u001B[39m),\n\u001B[0;32m     13\u001B[0m                 \u001B[38;5;124m\"\u001B[39m\u001B[38;5;124mTask ID = 40994\u001B[39m\u001B[38;5;124m\"\u001B[39m, getDataset(\u001B[38;5;241m40994\u001B[39m)\n\u001B[0;32m     14\u001B[0m             ]\n",
      "Input \u001B[1;32mIn [26]\u001B[0m, in \u001B[0;36mgetDataset\u001B[1;34m(task_id)\u001B[0m\n\u001B[0;32m      3\u001B[0m \u001B[38;5;28;01mdef\u001B[39;00m \u001B[38;5;21mgetDataset\u001B[39m(task_id):\n\u001B[0;32m      4\u001B[0m     suite \u001B[38;5;241m=\u001B[39m openml\u001B[38;5;241m.\u001B[39mstudy\u001B[38;5;241m.\u001B[39mget_suite(\u001B[38;5;241m99\u001B[39m)\n\u001B[1;32m----> 5\u001B[0m     task \u001B[38;5;241m=\u001B[39m \u001B[43mopenml\u001B[49m\u001B[38;5;241;43m.\u001B[39;49m\u001B[43mtasks\u001B[49m\u001B[38;5;241;43m.\u001B[39;49m\u001B[43mget_task\u001B[49m\u001B[43m(\u001B[49m\u001B[43mtask_id\u001B[49m\u001B[43m)\u001B[49m\n\u001B[0;32m      6\u001B[0m     dataset \u001B[38;5;241m=\u001B[39m openml\u001B[38;5;241m.\u001B[39mdatasets\u001B[38;5;241m.\u001B[39mget_dataset(task\u001B[38;5;241m.\u001B[39mdataset_id)\n\u001B[0;32m      8\u001B[0m     X, y, categorical_indicator, attribute_names \u001B[38;5;241m=\u001B[39m dataset\u001B[38;5;241m.\u001B[39mget_data(\n\u001B[0;32m      9\u001B[0m         dataset_format\u001B[38;5;241m=\u001B[39m\u001B[38;5;124m\"\u001B[39m\u001B[38;5;124marray\u001B[39m\u001B[38;5;124m\"\u001B[39m, target\u001B[38;5;241m=\u001B[39mdataset\u001B[38;5;241m.\u001B[39mdefault_target_attribute\n\u001B[0;32m     10\u001B[0m     )\n",
      "File \u001B[1;32m~\\anaconda3_\\envs\\AC1_Project\\lib\\site-packages\\openml\\tasks\\functions.py:454\u001B[0m, in \u001B[0;36mget_task\u001B[1;34m(task_id, download_splits, *dataset_args, **get_dataset_kwargs)\u001B[0m\n\u001B[0;32m    452\u001B[0m \u001B[38;5;28;01mexcept\u001B[39;00m \u001B[38;5;167;01mException\u001B[39;00m \u001B[38;5;28;01mas\u001B[39;00m e:\n\u001B[0;32m    453\u001B[0m     openml\u001B[38;5;241m.\u001B[39mutils\u001B[38;5;241m.\u001B[39m_remove_cache_dir_for_id(TASKS_CACHE_DIR_NAME, tid_cache_dir)\n\u001B[1;32m--> 454\u001B[0m     \u001B[38;5;28;01mraise\u001B[39;00m e\n\u001B[0;32m    456\u001B[0m \u001B[38;5;28;01mreturn\u001B[39;00m task\n",
      "File \u001B[1;32m~\\anaconda3_\\envs\\AC1_Project\\lib\\site-packages\\openml\\tasks\\functions.py:441\u001B[0m, in \u001B[0;36mget_task\u001B[1;34m(task_id, download_splits, *dataset_args, **get_dataset_kwargs)\u001B[0m\n\u001B[0;32m    438\u001B[0m tid_cache_dir \u001B[38;5;241m=\u001B[39m openml\u001B[38;5;241m.\u001B[39mutils\u001B[38;5;241m.\u001B[39m_create_cache_directory_for_id(TASKS_CACHE_DIR_NAME, task_id)\n\u001B[0;32m    440\u001B[0m \u001B[38;5;28;01mtry\u001B[39;00m:\n\u001B[1;32m--> 441\u001B[0m     task \u001B[38;5;241m=\u001B[39m \u001B[43m_get_task_description\u001B[49m\u001B[43m(\u001B[49m\u001B[43mtask_id\u001B[49m\u001B[43m)\u001B[49m\n\u001B[0;32m    442\u001B[0m     dataset \u001B[38;5;241m=\u001B[39m get_dataset(task\u001B[38;5;241m.\u001B[39mdataset_id, \u001B[38;5;241m*\u001B[39mdataset_args, \u001B[38;5;241m*\u001B[39m\u001B[38;5;241m*\u001B[39mget_dataset_kwargs)\n\u001B[0;32m    443\u001B[0m     \u001B[38;5;66;03m# List of class labels available in dataset description\u001B[39;00m\n\u001B[0;32m    444\u001B[0m     \u001B[38;5;66;03m# Including class labels as part of task meta data handles\u001B[39;00m\n\u001B[0;32m    445\u001B[0m     \u001B[38;5;66;03m#   the case where data download was initially disabled\u001B[39;00m\n",
      "File \u001B[1;32m~\\anaconda3_\\envs\\AC1_Project\\lib\\site-packages\\openml\\tasks\\functions.py:465\u001B[0m, in \u001B[0;36m_get_task_description\u001B[1;34m(task_id)\u001B[0m\n\u001B[0;32m    463\u001B[0m _cache_dir \u001B[38;5;241m=\u001B[39m openml\u001B[38;5;241m.\u001B[39mutils\u001B[38;5;241m.\u001B[39m_create_cache_directory_for_id(TASKS_CACHE_DIR_NAME, task_id)\n\u001B[0;32m    464\u001B[0m xml_file \u001B[38;5;241m=\u001B[39m _cache_dir \u001B[38;5;241m/\u001B[39m \u001B[38;5;124m\"\u001B[39m\u001B[38;5;124mtask.xml\u001B[39m\u001B[38;5;124m\"\u001B[39m\n\u001B[1;32m--> 465\u001B[0m task_xml \u001B[38;5;241m=\u001B[39m \u001B[43mopenml\u001B[49m\u001B[38;5;241;43m.\u001B[39;49m\u001B[43m_api_calls\u001B[49m\u001B[38;5;241;43m.\u001B[39;49m\u001B[43m_perform_api_call\u001B[49m\u001B[43m(\u001B[49m\u001B[38;5;124;43m\"\u001B[39;49m\u001B[38;5;124;43mtask/\u001B[39;49m\u001B[38;5;132;43;01m%d\u001B[39;49;00m\u001B[38;5;124;43m\"\u001B[39;49m\u001B[43m \u001B[49m\u001B[38;5;241;43m%\u001B[39;49m\u001B[43m \u001B[49m\u001B[43mtask_id\u001B[49m\u001B[43m,\u001B[49m\u001B[43m \u001B[49m\u001B[38;5;124;43m\"\u001B[39;49m\u001B[38;5;124;43mget\u001B[39;49m\u001B[38;5;124;43m\"\u001B[39;49m\u001B[43m)\u001B[49m\n\u001B[0;32m    467\u001B[0m \u001B[38;5;28;01mwith\u001B[39;00m xml_file\u001B[38;5;241m.\u001B[39mopen(\u001B[38;5;124m\"\u001B[39m\u001B[38;5;124mw\u001B[39m\u001B[38;5;124m\"\u001B[39m, encoding\u001B[38;5;241m=\u001B[39m\u001B[38;5;124m\"\u001B[39m\u001B[38;5;124mutf8\u001B[39m\u001B[38;5;124m\"\u001B[39m) \u001B[38;5;28;01mas\u001B[39;00m fh:\n\u001B[0;32m    468\u001B[0m     fh\u001B[38;5;241m.\u001B[39mwrite(task_xml)\n",
      "File \u001B[1;32m~\\anaconda3_\\envs\\AC1_Project\\lib\\site-packages\\openml\\_api_calls.py:111\u001B[0m, in \u001B[0;36m_perform_api_call\u001B[1;34m(call, request_method, data, file_elements)\u001B[0m\n\u001B[0;32m    109\u001B[0m     response \u001B[38;5;241m=\u001B[39m _read_url_files(url, data\u001B[38;5;241m=\u001B[39mdata, file_elements\u001B[38;5;241m=\u001B[39mfile_elements)\n\u001B[0;32m    110\u001B[0m \u001B[38;5;28;01melse\u001B[39;00m:\n\u001B[1;32m--> 111\u001B[0m     response \u001B[38;5;241m=\u001B[39m \u001B[43m__read_url\u001B[49m\u001B[43m(\u001B[49m\u001B[43murl\u001B[49m\u001B[43m,\u001B[49m\u001B[43m \u001B[49m\u001B[43mrequest_method\u001B[49m\u001B[43m,\u001B[49m\u001B[43m \u001B[49m\u001B[43mdata\u001B[49m\u001B[43m)\u001B[49m\n\u001B[0;32m    113\u001B[0m __check_response(response, url, file_elements)\n\u001B[0;32m    115\u001B[0m logging\u001B[38;5;241m.\u001B[39minfo(\n\u001B[0;32m    116\u001B[0m     \u001B[38;5;124m\"\u001B[39m\u001B[38;5;132;01m%.7f\u001B[39;00m\u001B[38;5;124ms taken for [\u001B[39m\u001B[38;5;132;01m%s\u001B[39;00m\u001B[38;5;124m] request for the URL \u001B[39m\u001B[38;5;132;01m%s\u001B[39;00m\u001B[38;5;124m\"\u001B[39m,\n\u001B[0;32m    117\u001B[0m     time\u001B[38;5;241m.\u001B[39mtime() \u001B[38;5;241m-\u001B[39m start,\n\u001B[0;32m    118\u001B[0m     request_method,\n\u001B[0;32m    119\u001B[0m     url,\n\u001B[0;32m    120\u001B[0m )\n",
      "File \u001B[1;32m~\\anaconda3_\\envs\\AC1_Project\\lib\\site-packages\\openml\\_api_calls.py:316\u001B[0m, in \u001B[0;36m__read_url\u001B[1;34m(url, request_method, data, md5_checksum)\u001B[0m\n\u001B[0;32m    314\u001B[0m \u001B[38;5;28;01mif\u001B[39;00m config\u001B[38;5;241m.\u001B[39mapikey:\n\u001B[0;32m    315\u001B[0m     data[\u001B[38;5;124m\"\u001B[39m\u001B[38;5;124mapi_key\u001B[39m\u001B[38;5;124m\"\u001B[39m] \u001B[38;5;241m=\u001B[39m config\u001B[38;5;241m.\u001B[39mapikey\n\u001B[1;32m--> 316\u001B[0m \u001B[38;5;28;01mreturn\u001B[39;00m \u001B[43m_send_request\u001B[49m\u001B[43m(\u001B[49m\n\u001B[0;32m    317\u001B[0m \u001B[43m    \u001B[49m\u001B[43mrequest_method\u001B[49m\u001B[38;5;241;43m=\u001B[39;49m\u001B[43mrequest_method\u001B[49m\u001B[43m,\u001B[49m\n\u001B[0;32m    318\u001B[0m \u001B[43m    \u001B[49m\u001B[43murl\u001B[49m\u001B[38;5;241;43m=\u001B[39;49m\u001B[43murl\u001B[49m\u001B[43m,\u001B[49m\n\u001B[0;32m    319\u001B[0m \u001B[43m    \u001B[49m\u001B[43mdata\u001B[49m\u001B[38;5;241;43m=\u001B[39;49m\u001B[43mdata\u001B[49m\u001B[43m,\u001B[49m\n\u001B[0;32m    320\u001B[0m \u001B[43m    \u001B[49m\u001B[43mmd5_checksum\u001B[49m\u001B[38;5;241;43m=\u001B[39;49m\u001B[43mmd5_checksum\u001B[49m\u001B[43m,\u001B[49m\n\u001B[0;32m    321\u001B[0m \u001B[43m\u001B[49m\u001B[43m)\u001B[49m\n",
      "File \u001B[1;32m~\\anaconda3_\\envs\\AC1_Project\\lib\\site-packages\\openml\\_api_calls.py:390\u001B[0m, in \u001B[0;36m_send_request\u001B[1;34m(request_method, url, data, files, md5_checksum)\u001B[0m\n\u001B[0;32m    384\u001B[0m \u001B[38;5;28;01mexcept\u001B[39;00m OpenMLServerException \u001B[38;5;28;01mas\u001B[39;00m e:\n\u001B[0;32m    385\u001B[0m     \u001B[38;5;66;03m# Propagate all server errors to the calling functions, except\u001B[39;00m\n\u001B[0;32m    386\u001B[0m     \u001B[38;5;66;03m# for 107 which represents a database connection error.\u001B[39;00m\n\u001B[0;32m    387\u001B[0m     \u001B[38;5;66;03m# These are typically caused by high server load,\u001B[39;00m\n\u001B[0;32m    388\u001B[0m     \u001B[38;5;66;03m# which means trying again might resolve the issue.\u001B[39;00m\n\u001B[0;32m    389\u001B[0m     \u001B[38;5;28;01mif\u001B[39;00m e\u001B[38;5;241m.\u001B[39mcode \u001B[38;5;241m!=\u001B[39m DATABASE_CONNECTION_ERRCODE:\n\u001B[1;32m--> 390\u001B[0m         \u001B[38;5;28;01mraise\u001B[39;00m e\n\u001B[0;32m    391\u001B[0m     retry_raise_e \u001B[38;5;241m=\u001B[39m e\n\u001B[0;32m    392\u001B[0m \u001B[38;5;28;01mexcept\u001B[39;00m xml\u001B[38;5;241m.\u001B[39mparsers\u001B[38;5;241m.\u001B[39mexpat\u001B[38;5;241m.\u001B[39mExpatError \u001B[38;5;28;01mas\u001B[39;00m e:\n",
      "File \u001B[1;32m~\\anaconda3_\\envs\\AC1_Project\\lib\\site-packages\\openml\\_api_calls.py:361\u001B[0m, in \u001B[0;36m_send_request\u001B[1;34m(request_method, url, data, files, md5_checksum)\u001B[0m\n\u001B[0;32m    358\u001B[0m \u001B[38;5;28;01melse\u001B[39;00m:\n\u001B[0;32m    359\u001B[0m     \u001B[38;5;28;01mraise\u001B[39;00m \u001B[38;5;167;01mNotImplementedError\u001B[39;00m()\n\u001B[1;32m--> 361\u001B[0m \u001B[43m__check_response\u001B[49m\u001B[43m(\u001B[49m\u001B[43mresponse\u001B[49m\u001B[38;5;241;43m=\u001B[39;49m\u001B[43mresponse\u001B[49m\u001B[43m,\u001B[49m\u001B[43m \u001B[49m\u001B[43murl\u001B[49m\u001B[38;5;241;43m=\u001B[39;49m\u001B[43murl\u001B[49m\u001B[43m,\u001B[49m\u001B[43m \u001B[49m\u001B[43mfile_elements\u001B[49m\u001B[38;5;241;43m=\u001B[39;49m\u001B[43mfiles\u001B[49m\u001B[43m)\u001B[49m\n\u001B[0;32m    363\u001B[0m \u001B[38;5;28;01mif\u001B[39;00m request_method \u001B[38;5;241m==\u001B[39m \u001B[38;5;124m\"\u001B[39m\u001B[38;5;124mget\u001B[39m\u001B[38;5;124m\"\u001B[39m \u001B[38;5;129;01mand\u001B[39;00m \u001B[38;5;129;01mnot\u001B[39;00m __is_checksum_equal(\n\u001B[0;32m    364\u001B[0m     response\u001B[38;5;241m.\u001B[39mtext\u001B[38;5;241m.\u001B[39mencode(\u001B[38;5;124m\"\u001B[39m\u001B[38;5;124mutf-8\u001B[39m\u001B[38;5;124m\"\u001B[39m), md5_checksum\n\u001B[0;32m    365\u001B[0m ):\n\u001B[0;32m    366\u001B[0m     \u001B[38;5;66;03m# -- Check if encoding is not UTF-8 perhaps\u001B[39;00m\n\u001B[0;32m    367\u001B[0m     \u001B[38;5;28;01mif\u001B[39;00m __is_checksum_equal(response\u001B[38;5;241m.\u001B[39mcontent, md5_checksum):\n",
      "File \u001B[1;32m~\\anaconda3_\\envs\\AC1_Project\\lib\\site-packages\\openml\\_api_calls.py:429\u001B[0m, in \u001B[0;36m__check_response\u001B[1;34m(response, url, file_elements)\u001B[0m\n\u001B[0;32m    423\u001B[0m \u001B[38;5;28;01mdef\u001B[39;00m \u001B[38;5;21m__check_response\u001B[39m(\n\u001B[0;32m    424\u001B[0m     response: requests\u001B[38;5;241m.\u001B[39mResponse,\n\u001B[0;32m    425\u001B[0m     url: \u001B[38;5;28mstr\u001B[39m,\n\u001B[0;32m    426\u001B[0m     file_elements: FILE_ELEMENTS_TYPE \u001B[38;5;241m|\u001B[39m \u001B[38;5;28;01mNone\u001B[39;00m,\n\u001B[0;32m    427\u001B[0m ) \u001B[38;5;241m-\u001B[39m\u001B[38;5;241m>\u001B[39m \u001B[38;5;28;01mNone\u001B[39;00m:\n\u001B[0;32m    428\u001B[0m     \u001B[38;5;28;01mif\u001B[39;00m response\u001B[38;5;241m.\u001B[39mstatus_code \u001B[38;5;241m!=\u001B[39m \u001B[38;5;241m200\u001B[39m:\n\u001B[1;32m--> 429\u001B[0m         \u001B[38;5;28;01mraise\u001B[39;00m __parse_server_exception(response, url, file_elements\u001B[38;5;241m=\u001B[39mfile_elements)\n\u001B[0;32m    430\u001B[0m     \u001B[38;5;28;01mif\u001B[39;00m \u001B[38;5;124m\"\u001B[39m\u001B[38;5;124mContent-Encoding\u001B[39m\u001B[38;5;124m\"\u001B[39m \u001B[38;5;129;01mnot\u001B[39;00m \u001B[38;5;129;01min\u001B[39;00m response\u001B[38;5;241m.\u001B[39mheaders \u001B[38;5;129;01mor\u001B[39;00m response\u001B[38;5;241m.\u001B[39mheaders[\u001B[38;5;124m\"\u001B[39m\u001B[38;5;124mContent-Encoding\u001B[39m\u001B[38;5;124m\"\u001B[39m] \u001B[38;5;241m!=\u001B[39m \u001B[38;5;124m\"\u001B[39m\u001B[38;5;124mgzip\u001B[39m\u001B[38;5;124m\"\u001B[39m:\n\u001B[0;32m    431\u001B[0m         logging\u001B[38;5;241m.\u001B[39mwarning(\u001B[38;5;124mf\u001B[39m\u001B[38;5;124m\"\u001B[39m\u001B[38;5;124mReceived uncompressed content from OpenML for \u001B[39m\u001B[38;5;132;01m{\u001B[39;00murl\u001B[38;5;132;01m}\u001B[39;00m\u001B[38;5;124m.\u001B[39m\u001B[38;5;124m\"\u001B[39m)\n",
      "\u001B[1;31mOpenMLServerException\u001B[0m: https://www.openml.org/api/v1/xml/task/1461 returned code 151: Unknown task - None"
     ]
    }
   ],
   "execution_count": 32
  },
  {
   "cell_type": "code",
   "outputs": [
    {
     "ename": "NameError",
     "evalue": "name 'datasets_new' is not defined",
     "output_type": "error",
     "traceback": [
      "\u001B[1;31m---------------------------------------------------------------------------\u001B[0m",
      "\u001B[1;31mNameError\u001B[0m                                 Traceback (most recent call last)",
      "Input \u001B[1;32mIn [34]\u001B[0m, in \u001B[0;36m<cell line: 1>\u001B[1;34m()\u001B[0m\n\u001B[1;32m----> 1\u001B[0m \u001B[43mdatasets_new\u001B[49m\n",
      "\u001B[1;31mNameError\u001B[0m: name 'datasets_new' is not defined"
     ]
    }
   ],
   "source": [
    "datasets_new"
   ],
   "metadata": {
    "collapsed": false,
    "ExecuteTime": {
     "end_time": "2024-05-16T13:21:18.067270Z",
     "start_time": "2024-05-16T13:21:18.034101Z"
    }
   },
   "id": "5e07827687980ca3",
   "execution_count": 34
  },
  {
   "cell_type": "code",
   "outputs": [
    {
     "name": "stdout",
     "output_type": "stream",
     "text": [
      "Dataset 1:\n",
      "AdaBoost Default Accuracy: 0.34897470950102527\n",
      "\n",
      "\n",
      "Dataset 2:\n",
      "AdaBoost Default Accuracy: 0.11698673182820434\n",
      "\n",
      "\n",
      "Dataset 3:\n",
      "AdaBoost Default Accuracy: 0.3333333333333333\n",
      "\n",
      "\n",
      "Dataset 4:\n",
      "AdaBoost Default Accuracy: 0.29692118226600983\n",
      "\n",
      "\n",
      "Dataset 5:\n",
      "AdaBoost Default Accuracy: 0.7\n",
      "\n",
      "\n",
      "Dataset 6:\n",
      "AdaBoost Default Accuracy: 0.23758558558558557\n",
      "\n",
      "\n",
      "Dataset 7:\n",
      "AdaBoost Default Accuracy: 0.5569413237544287\n",
      "\n",
      "\n",
      "Dataset 8:\n",
      "AdaBoost Default Accuracy: 0.5422468085106382\n",
      "\n",
      "\n",
      "Dataset 9:\n"
     ]
    },
    {
     "name": "stderr",
     "output_type": "stream",
     "text": [
      "C:\\Users\\ricar\\OneDrive\\Ambiente de Trabalho\\AC\\AdaBoost_Project\\algorithms\\adaboost.py:99: RuntimeWarning: divide by zero encountered in scalar divide\n",
      "  '''\n",
      "C:\\Users\\ricar\\OneDrive\\Ambiente de Trabalho\\AC\\AdaBoost_Project\\algorithms\\adaboost.py:115: RuntimeWarning: invalid value encountered in multiply\n",
      "  # else:\n",
      "C:\\Users\\ricar\\OneDrive\\Ambiente de Trabalho\\AC\\AdaBoost_Project\\algorithms\\adaboost.py:99: RuntimeWarning: divide by zero encountered in scalar divide\n",
      "  X: independent variables\n",
      "C:\\Users\\ricar\\OneDrive\\Ambiente de Trabalho\\AC\\AdaBoost_Project\\algorithms\\adaboost.py:115: RuntimeWarning: invalid value encountered in multiply\n",
      "  def error_rates(self, X, y):\n",
      "C:\\Users\\ricar\\OneDrive\\Ambiente de Trabalho\\AC\\AdaBoost_Project\\algorithms\\adaboost.py:99: RuntimeWarning: divide by zero encountered in scalar divide\n",
      "  X: independent variables\n",
      "C:\\Users\\ricar\\OneDrive\\Ambiente de Trabalho\\AC\\AdaBoost_Project\\algorithms\\adaboost.py:115: RuntimeWarning: invalid value encountered in multiply\n",
      "  def error_rates(self, X, y):\n",
      "C:\\Users\\ricar\\OneDrive\\Ambiente de Trabalho\\AC\\AdaBoost_Project\\algorithms\\adaboost.py:99: RuntimeWarning: divide by zero encountered in scalar divide\n",
      "  X: independent variables\n",
      "C:\\Users\\ricar\\OneDrive\\Ambiente de Trabalho\\AC\\AdaBoost_Project\\algorithms\\adaboost.py:115: RuntimeWarning: invalid value encountered in multiply\n",
      "  def error_rates(self, X, y):\n",
      "C:\\Users\\ricar\\OneDrive\\Ambiente de Trabalho\\AC\\AdaBoost_Project\\algorithms\\adaboost.py:99: RuntimeWarning: divide by zero encountered in scalar divide\n",
      "  X: independent variables\n",
      "C:\\Users\\ricar\\OneDrive\\Ambiente de Trabalho\\AC\\AdaBoost_Project\\algorithms\\adaboost.py:115: RuntimeWarning: invalid value encountered in multiply\n",
      "  def error_rates(self, X, y):\n",
      "C:\\Users\\ricar\\OneDrive\\Ambiente de Trabalho\\AC\\AdaBoost_Project\\algorithms\\adaboost.py:99: RuntimeWarning: divide by zero encountered in scalar divide\n",
      "  X: independent variables\n",
      "C:\\Users\\ricar\\OneDrive\\Ambiente de Trabalho\\AC\\AdaBoost_Project\\algorithms\\adaboost.py:115: RuntimeWarning: invalid value encountered in multiply\n",
      "  def error_rates(self, X, y):\n",
      "C:\\Users\\ricar\\OneDrive\\Ambiente de Trabalho\\AC\\AdaBoost_Project\\algorithms\\adaboost.py:99: RuntimeWarning: divide by zero encountered in scalar divide\n",
      "  X: independent variables\n",
      "C:\\Users\\ricar\\OneDrive\\Ambiente de Trabalho\\AC\\AdaBoost_Project\\algorithms\\adaboost.py:115: RuntimeWarning: invalid value encountered in multiply\n",
      "  def error_rates(self, X, y):\n",
      "C:\\Users\\ricar\\OneDrive\\Ambiente de Trabalho\\AC\\AdaBoost_Project\\algorithms\\adaboost.py:99: RuntimeWarning: divide by zero encountered in scalar divide\n",
      "  X: independent variables\n",
      "C:\\Users\\ricar\\OneDrive\\Ambiente de Trabalho\\AC\\AdaBoost_Project\\algorithms\\adaboost.py:115: RuntimeWarning: invalid value encountered in multiply\n",
      "  def error_rates(self, X, y):\n",
      "C:\\Users\\ricar\\OneDrive\\Ambiente de Trabalho\\AC\\AdaBoost_Project\\algorithms\\adaboost.py:99: RuntimeWarning: divide by zero encountered in scalar divide\n",
      "  X: independent variables\n",
      "C:\\Users\\ricar\\OneDrive\\Ambiente de Trabalho\\AC\\AdaBoost_Project\\algorithms\\adaboost.py:115: RuntimeWarning: invalid value encountered in multiply\n",
      "  def error_rates(self, X, y):\n",
      "C:\\Users\\ricar\\OneDrive\\Ambiente de Trabalho\\AC\\AdaBoost_Project\\algorithms\\adaboost.py:99: RuntimeWarning: divide by zero encountered in scalar divide\n",
      "  X: independent variables\n",
      "C:\\Users\\ricar\\OneDrive\\Ambiente de Trabalho\\AC\\AdaBoost_Project\\algorithms\\adaboost.py:115: RuntimeWarning: invalid value encountered in multiply\n",
      "  def error_rates(self, X, y):\n"
     ]
    },
    {
     "ename": "ValueError",
     "evalue": "\nAll the 10 fits failed.\nIt is very likely that your model is misconfigured.\nYou can try to debug the error by setting error_score='raise'.\n\nBelow are more details about the failures:\n--------------------------------------------------------------------------------\n10 fits failed with the following error:\nTraceback (most recent call last):\n  File \"C:\\Users\\ricar\\anaconda3_\\envs\\AC1_Project\\lib\\site-packages\\sklearn\\model_selection\\_validation.py\", line 895, in _fit_and_score\n    estimator.fit(X_train, y_train, **fit_params)\n  File \"C:\\Users\\ricar\\anaconda3_\\envs\\AC1_Project\\lib\\site-packages\\sklearn\\base.py\", line 1474, in wrapper\n    return fit_method(estimator, *args, **kwargs)\n  File \"C:\\Users\\ricar\\anaconda3_\\envs\\AC1_Project\\lib\\site-packages\\sklearn\\pipeline.py\", line 475, in fit\n    self._final_estimator.fit(Xt, y, **last_step_params[\"fit\"])\n  File \"C:\\Users\\ricar\\OneDrive\\Ambiente de Trabalho\\AC\\AdaBoost_Project\\algorithms\\adaboost.py\", line 50, in fit\n    self.training_errors = []\n  File \"C:\\Users\\ricar\\anaconda3_\\envs\\AC1_Project\\lib\\site-packages\\sklearn\\base.py\", line 1474, in wrapper\n    return fit_method(estimator, *args, **kwargs)\n  File \"C:\\Users\\ricar\\anaconda3_\\envs\\AC1_Project\\lib\\site-packages\\sklearn\\tree\\_classes.py\", line 1009, in fit\n    super()._fit(\n  File \"C:\\Users\\ricar\\anaconda3_\\envs\\AC1_Project\\lib\\site-packages\\sklearn\\tree\\_classes.py\", line 361, in _fit\n    sample_weight = _check_sample_weight(sample_weight, X, DOUBLE)\n  File \"C:\\Users\\ricar\\anaconda3_\\envs\\AC1_Project\\lib\\site-packages\\sklearn\\utils\\validation.py\", line 2004, in _check_sample_weight\n    sample_weight = check_array(\n  File \"C:\\Users\\ricar\\anaconda3_\\envs\\AC1_Project\\lib\\site-packages\\sklearn\\utils\\validation.py\", line 1049, in check_array\n    _assert_all_finite(\n  File \"C:\\Users\\ricar\\anaconda3_\\envs\\AC1_Project\\lib\\site-packages\\sklearn\\utils\\validation.py\", line 126, in _assert_all_finite\n    _assert_all_finite_element_wise(\n  File \"C:\\Users\\ricar\\anaconda3_\\envs\\AC1_Project\\lib\\site-packages\\sklearn\\utils\\validation.py\", line 175, in _assert_all_finite_element_wise\n    raise ValueError(msg_err)\nValueError: Input sample_weight contains NaN.\n",
     "output_type": "error",
     "traceback": [
      "\u001B[1;31m---------------------------------------------------------------------------\u001B[0m",
      "\u001B[1;31mValueError\u001B[0m                                Traceback (most recent call last)",
      "Input \u001B[1;32mIn [19]\u001B[0m, in \u001B[0;36m<cell line: 12>\u001B[1;34m()\u001B[0m\n\u001B[0;32m     20\u001B[0m \u001B[38;5;28;01mfor\u001B[39;00m model_name, model \u001B[38;5;129;01min\u001B[39;00m models:\n\u001B[0;32m     21\u001B[0m     pipeline \u001B[38;5;241m=\u001B[39m Pipeline([(model_name, model)])\n\u001B[1;32m---> 22\u001B[0m     scores \u001B[38;5;241m=\u001B[39m \u001B[43mcross_val_score\u001B[49m\u001B[43m(\u001B[49m\u001B[43mpipeline\u001B[49m\u001B[43m,\u001B[49m\u001B[43m \u001B[49m\u001B[43mX\u001B[49m\u001B[43m,\u001B[49m\u001B[43m \u001B[49m\u001B[43my\u001B[49m\u001B[43m,\u001B[49m\u001B[43m \u001B[49m\u001B[43mcv\u001B[49m\u001B[38;5;241;43m=\u001B[39;49m\u001B[38;5;241;43m10\u001B[39;49m\u001B[43m,\u001B[49m\u001B[43m \u001B[49m\u001B[43mscoring\u001B[49m\u001B[38;5;241;43m=\u001B[39;49m\u001B[38;5;124;43m\"\u001B[39;49m\u001B[38;5;124;43maccuracy\u001B[39;49m\u001B[38;5;124;43m\"\u001B[39;49m\u001B[43m)\u001B[49m\n\u001B[0;32m     24\u001B[0m     \u001B[38;5;28mprint\u001B[39m(\u001B[38;5;124mf\u001B[39m\u001B[38;5;124m\"\u001B[39m\u001B[38;5;132;01m{\u001B[39;00mmodel_name\u001B[38;5;132;01m}\u001B[39;00m\u001B[38;5;124m Accuracy: \u001B[39m\u001B[38;5;132;01m{\u001B[39;00mscores\u001B[38;5;241m.\u001B[39mmean()\u001B[38;5;132;01m}\u001B[39;00m\u001B[38;5;124m\"\u001B[39m)\n\u001B[0;32m     26\u001B[0m \u001B[38;5;28mprint\u001B[39m(\u001B[38;5;124m\"\u001B[39m\u001B[38;5;130;01m\\n\u001B[39;00m\u001B[38;5;124m\"\u001B[39m)\n",
      "File \u001B[1;32m~\\anaconda3_\\envs\\AC1_Project\\lib\\site-packages\\sklearn\\utils\\_param_validation.py:213\u001B[0m, in \u001B[0;36mvalidate_params.<locals>.decorator.<locals>.wrapper\u001B[1;34m(*args, **kwargs)\u001B[0m\n\u001B[0;32m    207\u001B[0m \u001B[38;5;28;01mtry\u001B[39;00m:\n\u001B[0;32m    208\u001B[0m     \u001B[38;5;28;01mwith\u001B[39;00m config_context(\n\u001B[0;32m    209\u001B[0m         skip_parameter_validation\u001B[38;5;241m=\u001B[39m(\n\u001B[0;32m    210\u001B[0m             prefer_skip_nested_validation \u001B[38;5;129;01mor\u001B[39;00m global_skip_validation\n\u001B[0;32m    211\u001B[0m         )\n\u001B[0;32m    212\u001B[0m     ):\n\u001B[1;32m--> 213\u001B[0m         \u001B[38;5;28;01mreturn\u001B[39;00m func(\u001B[38;5;241m*\u001B[39margs, \u001B[38;5;241m*\u001B[39m\u001B[38;5;241m*\u001B[39mkwargs)\n\u001B[0;32m    214\u001B[0m \u001B[38;5;28;01mexcept\u001B[39;00m InvalidParameterError \u001B[38;5;28;01mas\u001B[39;00m e:\n\u001B[0;32m    215\u001B[0m     \u001B[38;5;66;03m# When the function is just a wrapper around an estimator, we allow\u001B[39;00m\n\u001B[0;32m    216\u001B[0m     \u001B[38;5;66;03m# the function to delegate validation to the estimator, but we replace\u001B[39;00m\n\u001B[0;32m    217\u001B[0m     \u001B[38;5;66;03m# the name of the estimator by the name of the function in the error\u001B[39;00m\n\u001B[0;32m    218\u001B[0m     \u001B[38;5;66;03m# message to avoid confusion.\u001B[39;00m\n\u001B[0;32m    219\u001B[0m     msg \u001B[38;5;241m=\u001B[39m re\u001B[38;5;241m.\u001B[39msub(\n\u001B[0;32m    220\u001B[0m         \u001B[38;5;124mr\u001B[39m\u001B[38;5;124m\"\u001B[39m\u001B[38;5;124mparameter of \u001B[39m\u001B[38;5;124m\\\u001B[39m\u001B[38;5;124mw+ must be\u001B[39m\u001B[38;5;124m\"\u001B[39m,\n\u001B[0;32m    221\u001B[0m         \u001B[38;5;124mf\u001B[39m\u001B[38;5;124m\"\u001B[39m\u001B[38;5;124mparameter of \u001B[39m\u001B[38;5;132;01m{\u001B[39;00mfunc\u001B[38;5;241m.\u001B[39m\u001B[38;5;18m__qualname__\u001B[39m\u001B[38;5;132;01m}\u001B[39;00m\u001B[38;5;124m must be\u001B[39m\u001B[38;5;124m\"\u001B[39m,\n\u001B[0;32m    222\u001B[0m         \u001B[38;5;28mstr\u001B[39m(e),\n\u001B[0;32m    223\u001B[0m     )\n",
      "File \u001B[1;32m~\\anaconda3_\\envs\\AC1_Project\\lib\\site-packages\\sklearn\\model_selection\\_validation.py:719\u001B[0m, in \u001B[0;36mcross_val_score\u001B[1;34m(estimator, X, y, groups, scoring, cv, n_jobs, verbose, fit_params, params, pre_dispatch, error_score)\u001B[0m\n\u001B[0;32m    716\u001B[0m \u001B[38;5;66;03m# To ensure multimetric format is not supported\u001B[39;00m\n\u001B[0;32m    717\u001B[0m scorer \u001B[38;5;241m=\u001B[39m check_scoring(estimator, scoring\u001B[38;5;241m=\u001B[39mscoring)\n\u001B[1;32m--> 719\u001B[0m cv_results \u001B[38;5;241m=\u001B[39m \u001B[43mcross_validate\u001B[49m\u001B[43m(\u001B[49m\n\u001B[0;32m    720\u001B[0m \u001B[43m    \u001B[49m\u001B[43mestimator\u001B[49m\u001B[38;5;241;43m=\u001B[39;49m\u001B[43mestimator\u001B[49m\u001B[43m,\u001B[49m\n\u001B[0;32m    721\u001B[0m \u001B[43m    \u001B[49m\u001B[43mX\u001B[49m\u001B[38;5;241;43m=\u001B[39;49m\u001B[43mX\u001B[49m\u001B[43m,\u001B[49m\n\u001B[0;32m    722\u001B[0m \u001B[43m    \u001B[49m\u001B[43my\u001B[49m\u001B[38;5;241;43m=\u001B[39;49m\u001B[43my\u001B[49m\u001B[43m,\u001B[49m\n\u001B[0;32m    723\u001B[0m \u001B[43m    \u001B[49m\u001B[43mgroups\u001B[49m\u001B[38;5;241;43m=\u001B[39;49m\u001B[43mgroups\u001B[49m\u001B[43m,\u001B[49m\n\u001B[0;32m    724\u001B[0m \u001B[43m    \u001B[49m\u001B[43mscoring\u001B[49m\u001B[38;5;241;43m=\u001B[39;49m\u001B[43m{\u001B[49m\u001B[38;5;124;43m\"\u001B[39;49m\u001B[38;5;124;43mscore\u001B[39;49m\u001B[38;5;124;43m\"\u001B[39;49m\u001B[43m:\u001B[49m\u001B[43m \u001B[49m\u001B[43mscorer\u001B[49m\u001B[43m}\u001B[49m\u001B[43m,\u001B[49m\n\u001B[0;32m    725\u001B[0m \u001B[43m    \u001B[49m\u001B[43mcv\u001B[49m\u001B[38;5;241;43m=\u001B[39;49m\u001B[43mcv\u001B[49m\u001B[43m,\u001B[49m\n\u001B[0;32m    726\u001B[0m \u001B[43m    \u001B[49m\u001B[43mn_jobs\u001B[49m\u001B[38;5;241;43m=\u001B[39;49m\u001B[43mn_jobs\u001B[49m\u001B[43m,\u001B[49m\n\u001B[0;32m    727\u001B[0m \u001B[43m    \u001B[49m\u001B[43mverbose\u001B[49m\u001B[38;5;241;43m=\u001B[39;49m\u001B[43mverbose\u001B[49m\u001B[43m,\u001B[49m\n\u001B[0;32m    728\u001B[0m \u001B[43m    \u001B[49m\u001B[43mfit_params\u001B[49m\u001B[38;5;241;43m=\u001B[39;49m\u001B[43mfit_params\u001B[49m\u001B[43m,\u001B[49m\n\u001B[0;32m    729\u001B[0m \u001B[43m    \u001B[49m\u001B[43mparams\u001B[49m\u001B[38;5;241;43m=\u001B[39;49m\u001B[43mparams\u001B[49m\u001B[43m,\u001B[49m\n\u001B[0;32m    730\u001B[0m \u001B[43m    \u001B[49m\u001B[43mpre_dispatch\u001B[49m\u001B[38;5;241;43m=\u001B[39;49m\u001B[43mpre_dispatch\u001B[49m\u001B[43m,\u001B[49m\n\u001B[0;32m    731\u001B[0m \u001B[43m    \u001B[49m\u001B[43merror_score\u001B[49m\u001B[38;5;241;43m=\u001B[39;49m\u001B[43merror_score\u001B[49m\u001B[43m,\u001B[49m\n\u001B[0;32m    732\u001B[0m \u001B[43m\u001B[49m\u001B[43m)\u001B[49m\n\u001B[0;32m    733\u001B[0m \u001B[38;5;28;01mreturn\u001B[39;00m cv_results[\u001B[38;5;124m\"\u001B[39m\u001B[38;5;124mtest_score\u001B[39m\u001B[38;5;124m\"\u001B[39m]\n",
      "File \u001B[1;32m~\\anaconda3_\\envs\\AC1_Project\\lib\\site-packages\\sklearn\\utils\\_param_validation.py:213\u001B[0m, in \u001B[0;36mvalidate_params.<locals>.decorator.<locals>.wrapper\u001B[1;34m(*args, **kwargs)\u001B[0m\n\u001B[0;32m    207\u001B[0m \u001B[38;5;28;01mtry\u001B[39;00m:\n\u001B[0;32m    208\u001B[0m     \u001B[38;5;28;01mwith\u001B[39;00m config_context(\n\u001B[0;32m    209\u001B[0m         skip_parameter_validation\u001B[38;5;241m=\u001B[39m(\n\u001B[0;32m    210\u001B[0m             prefer_skip_nested_validation \u001B[38;5;129;01mor\u001B[39;00m global_skip_validation\n\u001B[0;32m    211\u001B[0m         )\n\u001B[0;32m    212\u001B[0m     ):\n\u001B[1;32m--> 213\u001B[0m         \u001B[38;5;28;01mreturn\u001B[39;00m func(\u001B[38;5;241m*\u001B[39margs, \u001B[38;5;241m*\u001B[39m\u001B[38;5;241m*\u001B[39mkwargs)\n\u001B[0;32m    214\u001B[0m \u001B[38;5;28;01mexcept\u001B[39;00m InvalidParameterError \u001B[38;5;28;01mas\u001B[39;00m e:\n\u001B[0;32m    215\u001B[0m     \u001B[38;5;66;03m# When the function is just a wrapper around an estimator, we allow\u001B[39;00m\n\u001B[0;32m    216\u001B[0m     \u001B[38;5;66;03m# the function to delegate validation to the estimator, but we replace\u001B[39;00m\n\u001B[0;32m    217\u001B[0m     \u001B[38;5;66;03m# the name of the estimator by the name of the function in the error\u001B[39;00m\n\u001B[0;32m    218\u001B[0m     \u001B[38;5;66;03m# message to avoid confusion.\u001B[39;00m\n\u001B[0;32m    219\u001B[0m     msg \u001B[38;5;241m=\u001B[39m re\u001B[38;5;241m.\u001B[39msub(\n\u001B[0;32m    220\u001B[0m         \u001B[38;5;124mr\u001B[39m\u001B[38;5;124m\"\u001B[39m\u001B[38;5;124mparameter of \u001B[39m\u001B[38;5;124m\\\u001B[39m\u001B[38;5;124mw+ must be\u001B[39m\u001B[38;5;124m\"\u001B[39m,\n\u001B[0;32m    221\u001B[0m         \u001B[38;5;124mf\u001B[39m\u001B[38;5;124m\"\u001B[39m\u001B[38;5;124mparameter of \u001B[39m\u001B[38;5;132;01m{\u001B[39;00mfunc\u001B[38;5;241m.\u001B[39m\u001B[38;5;18m__qualname__\u001B[39m\u001B[38;5;132;01m}\u001B[39;00m\u001B[38;5;124m must be\u001B[39m\u001B[38;5;124m\"\u001B[39m,\n\u001B[0;32m    222\u001B[0m         \u001B[38;5;28mstr\u001B[39m(e),\n\u001B[0;32m    223\u001B[0m     )\n",
      "File \u001B[1;32m~\\anaconda3_\\envs\\AC1_Project\\lib\\site-packages\\sklearn\\model_selection\\_validation.py:450\u001B[0m, in \u001B[0;36mcross_validate\u001B[1;34m(estimator, X, y, groups, scoring, cv, n_jobs, verbose, fit_params, params, pre_dispatch, return_train_score, return_estimator, return_indices, error_score)\u001B[0m\n\u001B[0;32m    429\u001B[0m parallel \u001B[38;5;241m=\u001B[39m Parallel(n_jobs\u001B[38;5;241m=\u001B[39mn_jobs, verbose\u001B[38;5;241m=\u001B[39mverbose, pre_dispatch\u001B[38;5;241m=\u001B[39mpre_dispatch)\n\u001B[0;32m    430\u001B[0m results \u001B[38;5;241m=\u001B[39m parallel(\n\u001B[0;32m    431\u001B[0m     delayed(_fit_and_score)(\n\u001B[0;32m    432\u001B[0m         clone(estimator),\n\u001B[1;32m   (...)\u001B[0m\n\u001B[0;32m    447\u001B[0m     \u001B[38;5;28;01mfor\u001B[39;00m train, test \u001B[38;5;129;01min\u001B[39;00m indices\n\u001B[0;32m    448\u001B[0m )\n\u001B[1;32m--> 450\u001B[0m \u001B[43m_warn_or_raise_about_fit_failures\u001B[49m\u001B[43m(\u001B[49m\u001B[43mresults\u001B[49m\u001B[43m,\u001B[49m\u001B[43m \u001B[49m\u001B[43merror_score\u001B[49m\u001B[43m)\u001B[49m\n\u001B[0;32m    452\u001B[0m \u001B[38;5;66;03m# For callable scoring, the return type is only know after calling. If the\u001B[39;00m\n\u001B[0;32m    453\u001B[0m \u001B[38;5;66;03m# return type is a dictionary, the error scores can now be inserted with\u001B[39;00m\n\u001B[0;32m    454\u001B[0m \u001B[38;5;66;03m# the correct key.\u001B[39;00m\n\u001B[0;32m    455\u001B[0m \u001B[38;5;28;01mif\u001B[39;00m callable(scoring):\n",
      "File \u001B[1;32m~\\anaconda3_\\envs\\AC1_Project\\lib\\site-packages\\sklearn\\model_selection\\_validation.py:536\u001B[0m, in \u001B[0;36m_warn_or_raise_about_fit_failures\u001B[1;34m(results, error_score)\u001B[0m\n\u001B[0;32m    529\u001B[0m \u001B[38;5;28;01mif\u001B[39;00m num_failed_fits \u001B[38;5;241m==\u001B[39m num_fits:\n\u001B[0;32m    530\u001B[0m     all_fits_failed_message \u001B[38;5;241m=\u001B[39m (\n\u001B[0;32m    531\u001B[0m         \u001B[38;5;124mf\u001B[39m\u001B[38;5;124m\"\u001B[39m\u001B[38;5;130;01m\\n\u001B[39;00m\u001B[38;5;124mAll the \u001B[39m\u001B[38;5;132;01m{\u001B[39;00mnum_fits\u001B[38;5;132;01m}\u001B[39;00m\u001B[38;5;124m fits failed.\u001B[39m\u001B[38;5;130;01m\\n\u001B[39;00m\u001B[38;5;124m\"\u001B[39m\n\u001B[0;32m    532\u001B[0m         \u001B[38;5;124m\"\u001B[39m\u001B[38;5;124mIt is very likely that your model is misconfigured.\u001B[39m\u001B[38;5;130;01m\\n\u001B[39;00m\u001B[38;5;124m\"\u001B[39m\n\u001B[0;32m    533\u001B[0m         \u001B[38;5;124m\"\u001B[39m\u001B[38;5;124mYou can try to debug the error by setting error_score=\u001B[39m\u001B[38;5;124m'\u001B[39m\u001B[38;5;124mraise\u001B[39m\u001B[38;5;124m'\u001B[39m\u001B[38;5;124m.\u001B[39m\u001B[38;5;130;01m\\n\u001B[39;00m\u001B[38;5;130;01m\\n\u001B[39;00m\u001B[38;5;124m\"\u001B[39m\n\u001B[0;32m    534\u001B[0m         \u001B[38;5;124mf\u001B[39m\u001B[38;5;124m\"\u001B[39m\u001B[38;5;124mBelow are more details about the failures:\u001B[39m\u001B[38;5;130;01m\\n\u001B[39;00m\u001B[38;5;132;01m{\u001B[39;00mfit_errors_summary\u001B[38;5;132;01m}\u001B[39;00m\u001B[38;5;124m\"\u001B[39m\n\u001B[0;32m    535\u001B[0m     )\n\u001B[1;32m--> 536\u001B[0m     \u001B[38;5;28;01mraise\u001B[39;00m \u001B[38;5;167;01mValueError\u001B[39;00m(all_fits_failed_message)\n\u001B[0;32m    538\u001B[0m \u001B[38;5;28;01melse\u001B[39;00m:\n\u001B[0;32m    539\u001B[0m     some_fits_failed_message \u001B[38;5;241m=\u001B[39m (\n\u001B[0;32m    540\u001B[0m         \u001B[38;5;124mf\u001B[39m\u001B[38;5;124m\"\u001B[39m\u001B[38;5;130;01m\\n\u001B[39;00m\u001B[38;5;132;01m{\u001B[39;00mnum_failed_fits\u001B[38;5;132;01m}\u001B[39;00m\u001B[38;5;124m fits failed out of a total of \u001B[39m\u001B[38;5;132;01m{\u001B[39;00mnum_fits\u001B[38;5;132;01m}\u001B[39;00m\u001B[38;5;124m.\u001B[39m\u001B[38;5;130;01m\\n\u001B[39;00m\u001B[38;5;124m\"\u001B[39m\n\u001B[0;32m    541\u001B[0m         \u001B[38;5;124m\"\u001B[39m\u001B[38;5;124mThe score on these train-test partitions for these parameters\u001B[39m\u001B[38;5;124m\"\u001B[39m\n\u001B[1;32m   (...)\u001B[0m\n\u001B[0;32m    545\u001B[0m         \u001B[38;5;124mf\u001B[39m\u001B[38;5;124m\"\u001B[39m\u001B[38;5;124mBelow are more details about the failures:\u001B[39m\u001B[38;5;130;01m\\n\u001B[39;00m\u001B[38;5;132;01m{\u001B[39;00mfit_errors_summary\u001B[38;5;132;01m}\u001B[39;00m\u001B[38;5;124m\"\u001B[39m\n\u001B[0;32m    546\u001B[0m     )\n",
      "\u001B[1;31mValueError\u001B[0m: \nAll the 10 fits failed.\nIt is very likely that your model is misconfigured.\nYou can try to debug the error by setting error_score='raise'.\n\nBelow are more details about the failures:\n--------------------------------------------------------------------------------\n10 fits failed with the following error:\nTraceback (most recent call last):\n  File \"C:\\Users\\ricar\\anaconda3_\\envs\\AC1_Project\\lib\\site-packages\\sklearn\\model_selection\\_validation.py\", line 895, in _fit_and_score\n    estimator.fit(X_train, y_train, **fit_params)\n  File \"C:\\Users\\ricar\\anaconda3_\\envs\\AC1_Project\\lib\\site-packages\\sklearn\\base.py\", line 1474, in wrapper\n    return fit_method(estimator, *args, **kwargs)\n  File \"C:\\Users\\ricar\\anaconda3_\\envs\\AC1_Project\\lib\\site-packages\\sklearn\\pipeline.py\", line 475, in fit\n    self._final_estimator.fit(Xt, y, **last_step_params[\"fit\"])\n  File \"C:\\Users\\ricar\\OneDrive\\Ambiente de Trabalho\\AC\\AdaBoost_Project\\algorithms\\adaboost.py\", line 50, in fit\n    self.training_errors = []\n  File \"C:\\Users\\ricar\\anaconda3_\\envs\\AC1_Project\\lib\\site-packages\\sklearn\\base.py\", line 1474, in wrapper\n    return fit_method(estimator, *args, **kwargs)\n  File \"C:\\Users\\ricar\\anaconda3_\\envs\\AC1_Project\\lib\\site-packages\\sklearn\\tree\\_classes.py\", line 1009, in fit\n    super()._fit(\n  File \"C:\\Users\\ricar\\anaconda3_\\envs\\AC1_Project\\lib\\site-packages\\sklearn\\tree\\_classes.py\", line 361, in _fit\n    sample_weight = _check_sample_weight(sample_weight, X, DOUBLE)\n  File \"C:\\Users\\ricar\\anaconda3_\\envs\\AC1_Project\\lib\\site-packages\\sklearn\\utils\\validation.py\", line 2004, in _check_sample_weight\n    sample_weight = check_array(\n  File \"C:\\Users\\ricar\\anaconda3_\\envs\\AC1_Project\\lib\\site-packages\\sklearn\\utils\\validation.py\", line 1049, in check_array\n    _assert_all_finite(\n  File \"C:\\Users\\ricar\\anaconda3_\\envs\\AC1_Project\\lib\\site-packages\\sklearn\\utils\\validation.py\", line 126, in _assert_all_finite\n    _assert_all_finite_element_wise(\n  File \"C:\\Users\\ricar\\anaconda3_\\envs\\AC1_Project\\lib\\site-packages\\sklearn\\utils\\validation.py\", line 175, in _assert_all_finite_element_wise\n    raise ValueError(msg_err)\nValueError: Input sample_weight contains NaN.\n"
     ]
    }
   ],
   "source": [
    "from algorithms.adaboost import AdaBoost\n",
    "from sklearn.model_selection import cross_val_score\n",
    "from sklearn.pipeline import Pipeline\n",
    "\n",
    "# Define the models\n",
    "models = [\n",
    "    (\"AdaBoost Default\", AdaBoost()),\n",
    "    #(\"AdaBoost KNN\", AdaBoost(knn=True))\n",
    "]\n",
    "\n",
    "# Loop through each dataset\n",
    "for i, dataset in enumerate(datasets):\n",
    "    # Split the dataset into features (X) and target (y)\n",
    "    X = dataset[0]\n",
    "    y = dataset[1]\n",
    "\n",
    "    print(f\"Dataset {i+1}:\")\n",
    "\n",
    "    # Train and evaluate each model\n",
    "    for model_name, model in models:\n",
    "        pipeline = Pipeline([(model_name, model)])\n",
    "        scores = cross_val_score(pipeline, X, y, cv=10, scoring=\"accuracy\")\n",
    "\n",
    "        print(f\"{model_name} Accuracy: {scores.mean()}\")\n",
    "\n",
    "    print(\"\\n\")"
   ],
   "metadata": {
    "collapsed": false,
    "ExecuteTime": {
     "end_time": "2024-05-16T12:38:19.699400Z",
     "start_time": "2024-05-16T12:33:09.457374Z"
    }
   },
   "id": "644683c9f3389537",
   "execution_count": 19
  },
  {
   "cell_type": "code",
   "outputs": [
    {
     "name": "stderr",
     "output_type": "stream",
     "text": [
      "<>:1: SyntaxWarning: 'int' object is not subscriptable; perhaps you missed a comma?\n",
      "<>:1: SyntaxWarning: 'int' object is not subscriptable; perhaps you missed a comma?\n",
      "C:\\Users\\ricar\\AppData\\Local\\Temp\\ipykernel_9444\\750970071.py:1: SyntaxWarning: 'int' object is not subscriptable; perhaps you missed a comma?\n",
      "  dataset[2[0]]\n",
      "C:\\Users\\ricar\\AppData\\Local\\Temp\\ipykernel_9444\\750970071.py:1: SyntaxWarning: 'int' object is not subscriptable; perhaps you missed a comma?\n",
      "  dataset[2[0]]\n",
      "C:\\Users\\ricar\\AppData\\Local\\Temp\\ipykernel_9444\\750970071.py:1: SyntaxWarning: 'int' object is not subscriptable; perhaps you missed a comma?\n",
      "  dataset[2[0]]\n"
     ]
    },
    {
     "ename": "NameError",
     "evalue": "name 'dataset' is not defined",
     "output_type": "error",
     "traceback": [
      "\u001B[1;31m---------------------------------------------------------------------------\u001B[0m",
      "\u001B[1;31mNameError\u001B[0m                                 Traceback (most recent call last)",
      "Input \u001B[1;32mIn [1]\u001B[0m, in \u001B[0;36m<cell line: 1>\u001B[1;34m()\u001B[0m\n\u001B[1;32m----> 1\u001B[0m \u001B[43mdataset\u001B[49m[\u001B[38;5;241m2\u001B[39m[\u001B[38;5;241m0\u001B[39m]]\n",
      "\u001B[1;31mNameError\u001B[0m: name 'dataset' is not defined"
     ]
    }
   ],
   "source": [
    "dataset[2[0]]"
   ],
   "metadata": {
    "collapsed": false,
    "ExecuteTime": {
     "end_time": "2024-05-16T13:38:14.782224Z",
     "start_time": "2024-05-16T13:38:14.401137Z"
    }
   },
   "id": "e29f7a6aea8a238b",
   "execution_count": 1
  },
  {
   "cell_type": "code",
   "outputs": [],
   "source": [],
   "metadata": {
    "collapsed": false,
    "ExecuteTime": {
     "start_time": "2024-05-16T10:33:34.952381Z"
    }
   },
   "id": "7d301b7684ff7896"
  },
  {
   "cell_type": "code",
   "outputs": [],
   "source": [],
   "metadata": {
    "collapsed": false,
    "ExecuteTime": {
     "start_time": "2024-05-16T10:33:34.954964Z"
    }
   },
   "id": "e806b5e9961712f1"
  },
  {
   "cell_type": "code",
   "outputs": [],
   "source": [],
   "metadata": {
    "collapsed": false
   },
   "id": "eae888136a5a9b15"
  }
 ],
 "metadata": {
  "kernelspec": {
   "display_name": "Python 3",
   "language": "python",
   "name": "python3"
  },
  "language_info": {
   "codemirror_mode": {
    "name": "ipython",
    "version": 2
   },
   "file_extension": ".py",
   "mimetype": "text/x-python",
   "name": "python",
   "nbconvert_exporter": "python",
   "pygments_lexer": "ipython2",
   "version": "2.7.6"
  }
 },
 "nbformat": 4,
 "nbformat_minor": 5
}
