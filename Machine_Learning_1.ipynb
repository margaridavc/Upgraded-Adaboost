{
 "cells": [
  {
   "metadata": {},
   "cell_type": "markdown",
   "source": [
    "# Machine Learning Project"
   ],
   "id": "57235b7987cacf61"
  },
  {
   "metadata": {},
   "cell_type": "markdown",
   "source": [
    "This project aims ajhasbdasdiaskdbaskhdbhas"
   ],
   "id": "d1037c4e81c4739b"
  },
  {
   "metadata": {},
   "cell_type": "markdown",
   "source": [
    "### Importing Necessary Libraries"
   ],
   "id": "b2fd8428144bdfcf"
  },
  {
   "cell_type": "code",
   "id": "initial_id",
   "metadata": {
    "collapsed": true,
    "ExecuteTime": {
     "end_time": "2024-05-16T13:38:40.135314Z",
     "start_time": "2024-05-16T13:38:35.271867Z"
    }
   },
   "source": [
    "from data_preprocessing.fetch_preprocess_visualize_data import *\n",
    "from sklearn.model_selection import cross_val_score\n",
    "from sklearn.pipeline import Pipeline\n"
   ],
   "execution_count": 3,
   "outputs": []
  },
  {
   "metadata": {},
   "cell_type": "markdown",
   "source": [
    "### Initial Data Setup: Loading and Pre-processing"
   ],
   "id": "ab2678b98b9f994"
  },
  {
   "metadata": {
    "ExecuteTime": {
     "end_time": "2024-05-16T13:38:41.593838Z",
     "start_time": "2024-05-16T13:38:40.137313Z"
    }
   },
   "cell_type": "code",
   "source": [
    "datasets_name = [\"Diabetes\", \"Bank Marketing\", \"Iris\", \"Breast Cancer\", \"Creditg\", \"Blood Transfusion Service Center\", \"Phishing Websites\", \"BioResponse\", \"Transplant\", \"Climate Model Simulation Crashes\"]\n",
    "\n",
    "datasets_id = [37, 1461, 61, 13, 31, 1464, 4534, 4134, 885, 40994]\n",
    "\n",
    "datasets = []\n",
    "\n",
    "for id in datasets_id:\n",
    "    datasets.append(load_dataset(id))"
   ],
   "id": "c38db275a94260b7",
   "execution_count": 4,
   "outputs": []
  },
  {
   "metadata": {
    "ExecuteTime": {
     "end_time": "2024-05-16T14:20:48.593240Z",
     "start_time": "2024-05-16T14:20:48.555237Z"
    }
   },
   "cell_type": "code",
   "source": [
    "datasets[1][1]"
   ],
   "id": "e2dde67d60ed8699",
   "execution_count": 10,
   "outputs": []
  },
  {
   "cell_type": "code",
   "source": [
    "datasets[3][0]"
   ],
   "metadata": {
    "collapsed": false,
    "ExecuteTime": {
     "end_time": "2024-05-16T13:40:20.917469Z",
     "start_time": "2024-05-16T13:40:20.894708Z"
    }
   },
   "id": "35dfb4b85ca95fc1",
   "execution_count": 9,
   "outputs": []
  },
  {
   "metadata": {},
   "cell_type": "markdown",
   "source": [
    "### Rename columns"
   ],
   "id": "d56123483e08fb1f"
  },
  {
   "metadata": {},
   "cell_type": "markdown",
   "source": [
    "**Diabetes**"
   ],
   "id": "e88548ee73a5fd9"
  },
  {
   "metadata": {
    "ExecuteTime": {
     "end_time": "2024-05-16T10:32:53.230390Z",
     "start_time": "2024-05-16T10:32:53.218918Z"
    }
   },
   "cell_type": "code",
   "source": [
    "datasets[0][0].rename(columns={\n",
    "    'preg': 'n_pregnancy',\n",
    "    'plas': 'plasma',\n",
    "    'pres': 'diastolic_blood_pressure',\n",
    "    'skin': 'skin_thickness',\n",
    "    'insu': 'insulin',\n",
    "    'mass': 'body_mass',\n",
    "    'pedi': 'pedigree',\n",
    "    'age': 'age',\n",
    "}, inplace=True)"
   ],
   "id": "9588a287aa0e747b",
   "execution_count": 6,
   "outputs": []
  },
  {
   "metadata": {
    "ExecuteTime": {
     "end_time": "2024-05-16T10:32:53.246363Z",
     "start_time": "2024-05-16T10:32:53.233719Z"
    }
   },
   "cell_type": "code",
   "source": [
    "datasets[0][0].columns"
   ],
   "id": "a5a8ad59a59a09df",
   "execution_count": 7,
   "outputs": []
  },
  {
   "metadata": {},
   "cell_type": "markdown",
   "source": [
    "**Bank Marketing**"
   ],
   "id": "fff189541ee5ef1f"
  },
  {
   "metadata": {
    "ExecuteTime": {
     "end_time": "2024-05-16T10:32:53.261755Z",
     "start_time": "2024-05-16T10:32:53.249823Z"
    }
   },
   "cell_type": "code",
   "source": [
    "datasets[1][0].rename(columns={\n",
    "    'V1': 'age',\n",
    "    'V2': 'job',\n",
    "    'V3': 'marital status',\n",
    "    'V4': 'education',\n",
    "    'V5': 'credit_default',\n",
    "    'V6': 'balance',\n",
    "    'V7': 'housing_loan',\n",
    "    'V8': 'personal_loan',\n",
    "    'V9': 'contact_type',\n",
    "    'V10': 'day',\n",
    "    'V11': 'month',\n",
    "    'V12': 'duration_contact',\n",
    "    'V13': 'campaign',\n",
    "    'V14': 'pday',\n",
    "    'V15': 'previous',\n",
    "    'V16': 'poutcame',\n",
    "}, inplace=True)"
   ],
   "id": "2c42523835ca8dd4",
   "execution_count": 8,
   "outputs": []
  },
  {
   "metadata": {},
   "cell_type": "markdown",
   "source": [
    "### Dataset Visualization Using Principal Component Analysis (PCA)"
   ],
   "id": "59c5e447eea6c3d6"
  },
  {
   "metadata": {},
   "cell_type": "markdown",
   "source": [
    "**Diabetes Dataset:**"
   ],
   "id": "cf5b2670933faafb"
  },
  {
   "cell_type": "code",
   "source": [
    "for i in range (0, len(datasets)):\n",
    "    datasets[i][0] = datasets[i][0].dropna()"
   ],
   "metadata": {
    "collapsed": false,
    "ExecuteTime": {
     "end_time": "2024-05-16T10:32:53.309488Z",
     "start_time": "2024-05-16T10:32:53.264769Z"
    }
   },
   "id": "331b282533ff078c",
   "execution_count": 9,
   "outputs": []
  },
  {
   "metadata": {},
   "cell_type": "code",
   "source": [
    "apply_pca_and_visualize(datasets[0][0], datasets[0][1], datasets_name[0])"
   ],
   "id": "12a72a8ae73be23",
   "execution_count": null,
   "outputs": []
  },
  {
   "metadata": {},
   "cell_type": "markdown",
   "source": [
    "**Bank Marketing Dataset:**"
   ],
   "id": "aa094f85d5156e4"
  },
  {
   "metadata": {
    "ExecuteTime": {
     "start_time": "2024-05-16T10:32:53.321979Z"
    }
   },
   "cell_type": "code",
   "source": [
    "apply_pca_and_visualize(datasets[1][0], datasets[1][1], datasets_name[1])"
   ],
   "id": "fcc5d6a021b1ebc8",
   "execution_count": null,
   "outputs": []
  },
  {
   "metadata": {},
   "cell_type": "markdown",
   "source": [
    "**Iris Dataset:**"
   ],
   "id": "eeac1c72a5c04d2e"
  },
  {
   "metadata": {
    "ExecuteTime": {
     "start_time": "2024-05-16T10:32:53.324838Z"
    }
   },
   "cell_type": "code",
   "source": [
    "apply_pca_and_visualize(datasets[2][0], datasets[2][1], datasets_name[2])"
   ],
   "id": "defe3a83851785c4",
   "execution_count": null,
   "outputs": []
  },
  {
   "metadata": {},
   "cell_type": "markdown",
   "source": [
    "**Breast Cancer Dataset:**"
   ],
   "id": "6df3dd0a5737f756"
  },
  {
   "metadata": {},
   "cell_type": "code",
   "source": [
    "apply_pca_and_visualize(datasets[3][0], datasets[3][1], datasets_name[3])"
   ],
   "id": "76cb0baca4e63e9f",
   "execution_count": null,
   "outputs": []
  },
  {
   "metadata": {},
   "cell_type": "markdown",
   "source": [
    "**Creditg Dataset:**"
   ],
   "id": "8ef7dcee0a672526"
  },
  {
   "metadata": {},
   "cell_type": "code",
   "source": [
    "apply_pca_and_visualize(datasets[4][0], datasets[4][1], datasets_name[4])"
   ],
   "id": "f9365015e5212ff9",
   "execution_count": null,
   "outputs": []
  },
  {
   "metadata": {},
   "cell_type": "markdown",
   "source": [
    "**Blood Transfusion Service Center Dataset:**"
   ],
   "id": "5a51b4af3890dc05"
  },
  {
   "metadata": {
    "ExecuteTime": {
     "start_time": "2024-05-16T10:32:53.332852Z"
    }
   },
   "cell_type": "code",
   "source": [
    "apply_pca_and_visualize(datasets[5][0], datasets[5][1], datasets_name[5])"
   ],
   "id": "e55ea9a1df00440b",
   "execution_count": null,
   "outputs": []
  },
  {
   "metadata": {},
   "cell_type": "markdown",
   "source": [
    "**Phishing Websites Dataset:**"
   ],
   "id": "9218e899f6c4e0d4"
  },
  {
   "metadata": {},
   "cell_type": "code",
   "source": [
    "apply_pca_and_visualize(datasets[6][0], datasets[6][1], datasets_name[6])"
   ],
   "id": "a9bb86d786f1ed3d",
   "execution_count": null,
   "outputs": []
  },
  {
   "metadata": {},
   "cell_type": "markdown",
   "source": [
    "**BioResponse Dataset:**"
   ],
   "id": "da24fc1a81850f29"
  },
  {
   "metadata": {},
   "cell_type": "code",
   "source": [
    "apply_pca_and_visualize(datasets[7][0], datasets[7][1], datasets_name[7])"
   ],
   "id": "375c808044bd97f1",
   "execution_count": null,
   "outputs": []
  },
  {
   "metadata": {},
   "cell_type": "markdown",
   "source": [
    "**Transplant Dataset:**"
   ],
   "id": "560e6d49737ddf4a"
  },
  {
   "metadata": {},
   "cell_type": "code",
   "source": [
    "apply_pca_and_visualize(datasets[8][0], datasets[8][1], datasets_name[8])"
   ],
   "id": "32eb779186478553",
   "execution_count": null,
   "outputs": []
  },
  {
   "metadata": {},
   "cell_type": "markdown",
   "source": [
    "**Climate Model Simulation Crashes Dataset:**"
   ],
   "id": "c4a7db51fd2a7c31"
  },
  {
   "metadata": {
    "ExecuteTime": {
     "start_time": "2024-05-16T10:32:53.344887Z"
    }
   },
   "cell_type": "code",
   "source": [
    "apply_pca_and_visualize(datasets[9][0], datasets[9][1], datasets_name[9])"
   ],
   "id": "31bf06d332532282",
   "execution_count": null,
   "outputs": []
  },
  {
   "metadata": {},
   "cell_type": "markdown",
   "source": [
    "### AdaBoost: Custom Modification 1"
   ],
   "id": "112fa9d5ffef912c"
  },
  {
   "metadata": {},
   "cell_type": "markdown",
   "source": [
    "bhajsdgfhaeuikhfmbaekjfbjkqe"
   ],
   "id": "cbb04b869e39ca4f"
  },
  {
   "metadata": {},
   "cell_type": "markdown",
   "source": [
    "### AdaBoost: Custom Modification 2"
   ],
   "id": "834330036a136b4c"
  },
  {
   "metadata": {},
   "cell_type": "markdown",
   "source": [
    "hasgfsdjlkfdsoukf"
   ],
   "id": "4a0b2202b370587"
  },
  {
   "metadata": {
    "ExecuteTime": {
     "start_time": "2024-05-16T10:32:53.347463Z"
    }
   },
   "cell_type": "code",
   "source": [],
   "id": "81711e5ea0684f84",
   "execution_count": null,
   "outputs": []
  },
  {
   "metadata": {},
   "cell_type": "markdown",
   "source": [
    "### Combined AdaBoost Modifications 1 and 2"
   ],
   "id": "7e19491869e3fa63"
  },
  {
   "metadata": {},
   "cell_type": "markdown",
   "source": [
    "hjvadfguasdkjfghads"
   ],
   "id": "3626a04e3ba7b50e"
  },
  {
   "metadata": {
    "ExecuteTime": {
     "start_time": "2024-05-16T10:32:53.350847Z"
    }
   },
   "cell_type": "code",
   "source": [],
   "id": "a875858a1006ec18",
   "execution_count": null,
   "outputs": []
  },
  {
   "metadata": {},
   "cell_type": "markdown",
   "source": [
    "### Training and Testing AdaBoost with Custom Modification 1"
   ],
   "id": "419d89ff0ae35d2f"
  },
  {
   "metadata": {
    "ExecuteTime": {
     "start_time": "2024-05-16T10:32:53.354259Z"
    }
   },
   "cell_type": "code",
   "source": [],
   "id": "557e46531a54f2c8",
   "execution_count": null,
   "outputs": []
  },
  {
   "metadata": {},
   "cell_type": "markdown",
   "source": [
    "### Training and Testing AdaBoost with Custom Modification 2"
   ],
   "id": "5f52a6c6ba85b3a2"
  },
  {
   "metadata": {
    "ExecuteTime": {
     "start_time": "2024-05-16T10:32:53.356621Z"
    }
   },
   "cell_type": "code",
   "source": [],
   "id": "41180f657ba726fc",
   "execution_count": null,
   "outputs": []
  },
  {
   "metadata": {},
   "cell_type": "markdown",
   "source": [
    "### Training and Testing AdaBoost with Combined Modifications 1 and 2"
   ],
   "id": "75ae0e5de2858e10"
  },
  {
   "metadata": {
    "ExecuteTime": {
     "start_time": "2024-05-16T10:32:53.359363Z"
    }
   },
   "cell_type": "code",
   "source": [],
   "id": "1a0252632e3a801a",
   "execution_count": null,
   "outputs": []
  },
  {
   "metadata": {},
   "cell_type": "markdown",
   "source": [
    "### Training and Testing AdaBoost with Original Implementation (No Modifications)"
   ],
   "id": "1ef2753c72f8f64a"
  },
  {
   "metadata": {
    "ExecuteTime": {
     "start_time": "2024-05-16T10:32:53.361729Z"
    }
   },
   "cell_type": "code",
   "source": [
    "def cross_validation(X,y):\n",
    "    pipeline = Pipeline([('classifier', AdaBoostClassifier(algorithm='SAMME'))])\n",
    "    scores = cross_val_score(pipeline, X, y, cv=10, scoring=\"accuracy\")\n",
    "    \n",
    "    print(\"Accuracy for each fold: \", scores)\n",
    "    print(\"Average accuracy: \", scores.mean())"
   ],
   "id": "d99b8618a3afb0a2",
   "execution_count": null,
   "outputs": []
  },
  {
   "metadata": {},
   "cell_type": "markdown",
   "source": [],
   "id": "709b0276413a7eb4"
  },
  {
   "metadata": {},
   "cell_type": "code",
   "source": [
    "datasets[0][0]"
   ],
   "id": "d1adc4afad0568d4",
   "execution_count": null,
   "outputs": []
  },
  {
   "metadata": {},
   "cell_type": "code",
   "source": [
    "datasets[0][1]"
   ],
   "id": "249cc8aed3da7b68",
   "execution_count": null,
   "outputs": []
  },
  {
   "metadata": {},
   "cell_type": "code",
   "source": [
    "# Criar uma instância do seu modelo AdaBoost\n",
    "ada_boost = AdaBoost('DecisionTreeClassifier', n_estimators=50)\n",
    "\n",
    "# Calcular a pontuação de validação cruzada k-fold\n",
    "\n",
    "score = ada_boost.cross_val_score(datasets[0][0], datasets[0][1], n_splits=5, random_state=42)\n",
    "\n",
    "print(\"Pontuação de validação cruzada:\", score)    "
   ],
   "id": "46140d2d1191eda5",
   "execution_count": null,
   "outputs": []
  },
  {
   "metadata": {},
   "cell_type": "markdown",
   "source": [
    "**Diabetes:**"
   ],
   "id": "f45c040b1daae76f"
  },
  {
   "metadata": {},
   "cell_type": "code",
   "source": [
    "cross_validation(datasets[0][0], datasets[0][1])"
   ],
   "id": "42eacaf745e8b1ef",
   "execution_count": null,
   "outputs": []
  },
  {
   "metadata": {
    "ExecuteTime": {
     "start_time": "2024-05-16T10:32:53.378114Z"
    }
   },
   "cell_type": "code",
   "source": [
    "datasets[1][0]"
   ],
   "id": "916db082f1a5bfaa",
   "execution_count": null,
   "outputs": []
  },
  {
   "metadata": {},
   "cell_type": "markdown",
   "source": [
    "**Bank Marketing:**"
   ],
   "id": "6367d99eb5473773"
  },
  {
   "metadata": {},
   "cell_type": "code",
   "source": [
    "cross_validation(datasets[1][0], datasets[1][1])"
   ],
   "id": "a4337fab0cfa2f34",
   "execution_count": null,
   "outputs": []
  },
  {
   "metadata": {},
   "cell_type": "markdown",
   "source": [
    "**Iris:**"
   ],
   "id": "a485ab7ea057486"
  },
  {
   "metadata": {},
   "cell_type": "code",
   "source": [
    "cross_validation(datasets[2][0], datasets[2][1])"
   ],
   "id": "742aaeaacbed5c58",
   "execution_count": null,
   "outputs": []
  },
  {
   "metadata": {},
   "cell_type": "markdown",
   "source": [
    "**Breast Cancer:**"
   ],
   "id": "1cc59a326e9ae3e5"
  },
  {
   "metadata": {},
   "cell_type": "code",
   "source": [
    "cross_validation(datasets[3][0], datasets[3][1])"
   ],
   "id": "b1ad375febbeaa2e",
   "execution_count": null,
   "outputs": []
  },
  {
   "metadata": {},
   "cell_type": "markdown",
   "source": [
    "**Creditg:**"
   ],
   "id": "11940abbdca207d5"
  },
  {
   "metadata": {
    "ExecuteTime": {
     "start_time": "2024-05-16T10:32:53.389531Z"
    }
   },
   "cell_type": "code",
   "source": [
    "cross_validation(datasets[4][0], datasets[4][1])"
   ],
   "id": "782ee5c64fa6ee3f",
   "execution_count": null,
   "outputs": []
  },
  {
   "metadata": {},
   "cell_type": "markdown",
   "source": [
    "**Blood Transfusion Service Center:**"
   ],
   "id": "14a6dc30a38709ca"
  },
  {
   "metadata": {},
   "cell_type": "code",
   "source": [
    "cross_validation(datasets[5][0], datasets[5][1])"
   ],
   "id": "ee426ac78a303172",
   "execution_count": null,
   "outputs": []
  },
  {
   "metadata": {},
   "cell_type": "markdown",
   "source": [
    "**Phishing Websites:**"
   ],
   "id": "a08418d0fc3a0349"
  },
  {
   "metadata": {
    "ExecuteTime": {
     "start_time": "2024-05-16T10:32:53.396424Z"
    }
   },
   "cell_type": "code",
   "source": [
    "cross_validation(datasets[6][0], datasets[6][1])"
   ],
   "id": "1081be93b3242a54",
   "execution_count": null,
   "outputs": []
  },
  {
   "metadata": {},
   "cell_type": "markdown",
   "source": [
    "**BioResponse:**"
   ],
   "id": "3fe64deeba4f8596"
  },
  {
   "metadata": {},
   "cell_type": "code",
   "source": [
    "cross_validation(datasets[7][0], datasets[7][1])"
   ],
   "id": "572e5054e93a21cc",
   "execution_count": null,
   "outputs": []
  },
  {
   "metadata": {},
   "cell_type": "markdown",
   "source": [
    "**Transplant:**"
   ],
   "id": "bd8677210a996f33"
  },
  {
   "metadata": {},
   "cell_type": "code",
   "source": [
    "cross_validation(datasets[8][0], datasets[8][1])"
   ],
   "id": "6b3d90703c62f8c3",
   "execution_count": null,
   "outputs": []
  },
  {
   "metadata": {},
   "cell_type": "markdown",
   "source": [
    "**Climate Model Simulation Crashes:**"
   ],
   "id": "294cbd772eaaca47"
  },
  {
   "metadata": {
    "ExecuteTime": {
     "start_time": "2024-05-16T10:32:53.404783Z"
    }
   },
   "cell_type": "code",
   "source": [
    "cross_validation(datasets[9][0], datasets[9][1])"
   ],
   "id": "7c819fd22f471d02",
   "execution_count": null,
   "outputs": []
  },
  {
   "metadata": {},
   "cell_type": "markdown",
   "source": [
    "### Conclusion"
   ],
   "id": "533d8c5bdf433438"
  },
  {
   "metadata": {},
   "cell_type": "markdown",
   "source": [
    "hvjfdijkubiyvyboinyob"
   ],
   "id": "701da094314abe78"
  },
  {
   "metadata": {},
   "cell_type": "code",
   "source": [],
   "id": "6bf5c3df4d611e4b",
   "execution_count": null,
   "outputs": []
  },
  {
   "metadata": {
    "ExecuteTime": {
     "end_time": "2024-05-16T10:33:26.414313Z",
     "start_time": "2024-05-16T10:33:26.190592Z"
    }
   },
   "cell_type": "code",
   "source": [
    "# load dataset bank-market\n",
    "\n",
    "df = pd.read_csv('datasets/bank-marketing.csv')\n",
    "df.head()"
   ],
   "id": "60e8be3d9620fc2a",
   "execution_count": 10,
   "outputs": []
  },
  {
   "metadata": {
    "ExecuteTime": {
     "end_time": "2024-05-16T10:33:26.429613Z",
     "start_time": "2024-05-16T10:33:26.417616Z"
    }
   },
   "cell_type": "code",
   "source": [
    "df.rename(columns={\n",
    "    'V1': 'age',\n",
    "    'V2': 'job',\n",
    "    'V3': 'marital status',\n",
    "    'V4': 'education',\n",
    "    'V5': 'credit_default',\n",
    "    'V6': 'balance',\n",
    "    'V7': 'housing_loan',\n",
    "    'V8': 'personal_loan',\n",
    "    'V9': 'contact_type',\n",
    "    'V10': 'day',\n",
    "    'V11': 'month',\n",
    "    'V12': 'duration_contact',\n",
    "    'V13': 'campaign',\n",
    "    'V14': 'pday',\n",
    "    'V15': 'previous',\n",
    "    'V16': 'poutcame',\n",
    "    'Class': 'Target',\n",
    "}, inplace=True)"
   ],
   "id": "d2254c6e58c385a3",
   "execution_count": 11,
   "outputs": []
  },
  {
   "metadata": {
    "ExecuteTime": {
     "end_time": "2024-05-16T10:33:27.092807Z",
     "start_time": "2024-05-16T10:33:26.935046Z"
    }
   },
   "cell_type": "code",
   "source": [
    "\n",
    "# label encoding the dataset\n",
    "from sklearn.preprocessing import LabelEncoder\n",
    "\n",
    "le = LabelEncoder()\n",
    "df['job'] = le.fit_transform(df['job'])\n",
    "df['marital status'] = le.fit_transform(df['marital status'])\n",
    "df['education'] = le.fit_transform(df['education'])\n",
    "df['credit_default'] = le.fit_transform(df['credit_default'])\n",
    "df['housing_loan'] = le.fit_transform(df['housing_loan'])\n",
    "df['personal_loan'] = le.fit_transform(df['personal_loan'])\n",
    "df['contact_type'] = le.fit_transform(df['contact_type'])\n",
    "df['month'] = le.fit_transform(df['month'])\n",
    "df['poutcame'] = le.fit_transform(df['poutcame'])\n",
    "df['Target'] = le.fit_transform(df['Target'])\n",
    "\n",
    "df.head()"
   ],
   "id": "85a2cf95c58f000b",
   "execution_count": 12,
   "outputs": []
  },
  {
   "cell_type": "code",
   "source": [],
   "metadata": {
    "collapsed": false
   },
   "id": "605d58828649fcf9",
   "execution_count": null,
   "outputs": []
  },
  {
   "cell_type": "code",
   "source": [
    "import openml\n",
    "\n",
    "def getDataset(task_id):\n",
    "    suite = openml.study.get_suite(99)\n",
    "    task = openml.tasks.get_task(task_id)\n",
    "    dataset = openml.datasets.get_dataset(task.dataset_id)\n",
    "\n",
    "    X, y, categorical_indicator, attribute_names = dataset.get_data(\n",
    "        dataset_format=\"array\", target=dataset.default_target_attribute\n",
    "    )\n",
    "\n",
    "    df = pd.DataFrame(X, columns=attribute_names)\n",
    "    # convert:\n",
    "    #   0 -> -1\n",
    "    #   1 -> 1\n",
    "    df['target'] = 2*y-1\n",
    "    # erase rows with NaN values\n",
    "    df = df.dropna(how='any', axis=0)\n",
    "\n",
    "    return df"
   ],
   "metadata": {
    "collapsed": false,
    "ExecuteTime": {
     "end_time": "2024-05-16T13:18:29.281744Z",
     "start_time": "2024-05-16T13:18:27.828605Z"
    }
   },
   "id": "a39b786be2bb065a",
   "execution_count": 26,
   "outputs": []
  },
  {
   "metadata": {
    "ExecuteTime": {
     "end_time": "2024-05-16T13:20:27.515761Z",
     "start_time": "2024-05-16T13:20:06.808192Z"
    }
   },
   "cell_type": "code",
   "source": [
    "\n",
    "datasets_id = [37, 1461, 61, 13, 31, 1464, 4534, 4134, 885, 40994]\n",
    "\n",
    "datasets_new = [\n",
    "                \"Task ID = 37\", getDataset(37),\n",
    "                \"Task ID = 1461\", getDataset(1461),\n",
    "                \"Task ID = 61\", getDataset(61),\n",
    "                \"Task ID = 13\", getDataset(13),\n",
    "                \"Task ID = 31\", getDataset(31),\n",
    "                \"Task ID = 1464\", getDataset(1464),\n",
    "                \"Task ID = 4534\", getDataset(4534),\n",
    "                \"Task ID = 4134\", getDataset(4134),\n",
    "                \"Task ID = 885\", getDataset(885),\n",
    "                \"Task ID = 40994\", getDataset(40994)\n",
    "            ]"
   ],
   "id": "ab5f6ad99ec41054",
   "execution_count": 32,
   "outputs": []
  },
  {
   "cell_type": "code",
   "source": [
    "datasets_new"
   ],
   "metadata": {
    "collapsed": false,
    "ExecuteTime": {
     "end_time": "2024-05-16T13:21:18.067270Z",
     "start_time": "2024-05-16T13:21:18.034101Z"
    }
   },
   "id": "5e07827687980ca3",
   "execution_count": 34,
   "outputs": []
  },
  {
   "cell_type": "code",
   "source": [
    "from algorithms.adaboost import AdaBoost\n",
    "from sklearn.model_selection import cross_val_score\n",
    "from sklearn.pipeline import Pipeline\n",
    "\n",
    "# Define the models\n",
    "models = [\n",
    "    (\"AdaBoost Default\", AdaBoost()),\n",
    "    #(\"AdaBoost KNN\", AdaBoost(knn=True))\n",
    "]\n",
    "\n",
    "# Loop through each dataset\n",
    "for i, dataset in enumerate(datasets):\n",
    "    # Split the dataset into features (X) and target (y)\n",
    "    X = dataset[0]\n",
    "    y = dataset[1]\n",
    "\n",
    "    print(f\"Dataset {i+1}:\")\n",
    "\n",
    "    # Train and evaluate each model\n",
    "    for model_name, model in models:\n",
    "        pipeline = Pipeline([(model_name, model)])\n",
    "        scores = cross_val_score(pipeline, X, y, cv=10, scoring=\"accuracy\")\n",
    "\n",
    "        print(f\"{model_name} Accuracy: {scores.mean()}\")\n",
    "\n",
    "    print(\"\\n\")"
   ],
   "metadata": {
    "collapsed": false,
    "ExecuteTime": {
     "end_time": "2024-05-16T12:38:19.699400Z",
     "start_time": "2024-05-16T12:33:09.457374Z"
    }
   },
   "id": "644683c9f3389537",
   "execution_count": 19,
   "outputs": []
  },
  {
   "cell_type": "code",
   "source": [
    "dataset[2[0]]"
   ],
   "metadata": {
    "collapsed": false,
    "ExecuteTime": {
     "end_time": "2024-05-16T13:38:14.782224Z",
     "start_time": "2024-05-16T13:38:14.401137Z"
    }
   },
   "id": "e29f7a6aea8a238b",
   "execution_count": 1,
   "outputs": []
  },
  {
   "cell_type": "code",
   "source": [],
   "metadata": {
    "collapsed": false,
    "ExecuteTime": {
     "start_time": "2024-05-16T10:33:34.952381Z"
    }
   },
   "id": "7d301b7684ff7896",
   "execution_count": null,
   "outputs": []
  },
  {
   "cell_type": "code",
   "source": [],
   "metadata": {
    "collapsed": false,
    "ExecuteTime": {
     "start_time": "2024-05-16T10:33:34.954964Z"
    }
   },
   "id": "e806b5e9961712f1",
   "execution_count": null,
   "outputs": []
  },
  {
   "cell_type": "code",
   "source": [],
   "metadata": {
    "collapsed": false
   },
   "id": "eae888136a5a9b15",
   "execution_count": null,
   "outputs": []
  }
 ],
 "metadata": {
  "kernelspec": {
   "display_name": "Python 3",
   "language": "python",
   "name": "python3"
  },
  "language_info": {
   "codemirror_mode": {
    "name": "ipython",
    "version": 2
   },
   "file_extension": ".py",
   "mimetype": "text/x-python",
   "name": "python",
   "nbconvert_exporter": "python",
   "pygments_lexer": "ipython2",
   "version": "2.7.6"
  }
 },
 "nbformat": 4,
 "nbformat_minor": 5
}
