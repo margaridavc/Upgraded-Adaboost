{
 "cells": [
  {
   "cell_type": "code",
   "id": "initial_id",
   "metadata": {
    "collapsed": true,
    "ExecuteTime": {
     "end_time": "2024-05-14T11:15:38.567129Z",
     "start_time": "2024-05-14T11:15:38.556839Z"
    }
   },
   "source": [
    "import pandas as pd\n",
    "import matplotlib.pyplot as plt\n",
    "from sklearn.preprocessing import LabelEncoder\n",
    "import seaborn as sns"
   ],
   "outputs": [],
   "execution_count": 223
  },
  {
   "cell_type": "code",
   "source": [
    "df_bank = pd.read_csv('datasets/bank-marketing.csv')\n",
    "df_bio = pd.read_csv('datasets/bio-response.csv')\n",
    "df_blood = pd.read_csv('datasets/blood-transfusion-service-center.csv')\n",
    "df_breast_cancer = pd.read_csv('datasets/breast-cancer.csv')\n",
    "df_climate = pd.read_csv('datasets/climate-model-simulation-crashes.csv')\n",
    "df_credit = pd.read_csv('datasets/credit-g.csv')\n",
    "df_diabetes = pd.read_csv('datasets/diabetes.csv')\n",
    "df_eucalyptus = pd.read_csv('datasets/eucalyptus.csv')\n",
    "df_iris = pd.read_csv('datasets/iris.csv')\n",
    "df_phishing = pd.read_csv('datasets/phishing-websites.csv')\n",
    "df_transplant = pd.read_csv('datasets/transplant.csv')"
   ],
   "metadata": {
    "collapsed": false,
    "ExecuteTime": {
     "end_time": "2024-05-14T11:15:42.302464Z",
     "start_time": "2024-05-14T11:15:41.874524Z"
    }
   },
   "id": "d51023f8a72e6f9c",
   "outputs": [],
   "execution_count": 224
  },
  {
   "metadata": {},
   "cell_type": "markdown",
   "source": "## df_diabetes",
   "id": "c0bad876caccbca3"
  },
  {
   "metadata": {
    "ExecuteTime": {
     "end_time": "2024-05-14T11:15:43.353502Z",
     "start_time": "2024-05-14T11:15:43.345748Z"
    }
   },
   "cell_type": "code",
   "source": [
    "# Criação de um objeto LabelEncoder\n",
    "le = LabelEncoder()\n",
    "\n",
    "# Obter o nome da última coluna\n",
    "last_column = df_diabetes.columns[-1]\n",
    "\n",
    "# Aplicar LabelEncoder à última coluna\n",
    "df_diabetes[last_column] = le.fit_transform(df_diabetes[last_column])"
   ],
   "id": "60078fb807ecd695",
   "outputs": [],
   "execution_count": 225
  },
  {
   "metadata": {
    "ExecuteTime": {
     "end_time": "2024-05-14T11:15:44.108633Z",
     "start_time": "2024-05-14T11:15:44.098365Z"
    }
   },
   "cell_type": "code",
   "source": "df_diabetes.head()",
   "id": "ad16f65a1a225c03",
   "outputs": [
    {
     "data": {
      "text/plain": [
       "   preg   plas  pres  skin   insu  mass   pedi   age  class\n",
       "0   6.0  148.0  72.0  35.0    0.0  33.6  0.627  50.0      1\n",
       "1   1.0   85.0  66.0  29.0    0.0  26.6  0.351  31.0      0\n",
       "2   8.0  183.0  64.0   0.0    0.0  23.3  0.672  32.0      1\n",
       "3   1.0   89.0  66.0  23.0   94.0  28.1  0.167  21.0      0\n",
       "4   0.0  137.0  40.0  35.0  168.0  43.1  2.288  33.0      1"
      ],
      "text/html": [
       "<div>\n",
       "<style scoped>\n",
       "    .dataframe tbody tr th:only-of-type {\n",
       "        vertical-align: middle;\n",
       "    }\n",
       "\n",
       "    .dataframe tbody tr th {\n",
       "        vertical-align: top;\n",
       "    }\n",
       "\n",
       "    .dataframe thead th {\n",
       "        text-align: right;\n",
       "    }\n",
       "</style>\n",
       "<table border=\"1\" class=\"dataframe\">\n",
       "  <thead>\n",
       "    <tr style=\"text-align: right;\">\n",
       "      <th></th>\n",
       "      <th>preg</th>\n",
       "      <th>plas</th>\n",
       "      <th>pres</th>\n",
       "      <th>skin</th>\n",
       "      <th>insu</th>\n",
       "      <th>mass</th>\n",
       "      <th>pedi</th>\n",
       "      <th>age</th>\n",
       "      <th>class</th>\n",
       "    </tr>\n",
       "  </thead>\n",
       "  <tbody>\n",
       "    <tr>\n",
       "      <th>0</th>\n",
       "      <td>6.0</td>\n",
       "      <td>148.0</td>\n",
       "      <td>72.0</td>\n",
       "      <td>35.0</td>\n",
       "      <td>0.0</td>\n",
       "      <td>33.6</td>\n",
       "      <td>0.627</td>\n",
       "      <td>50.0</td>\n",
       "      <td>1</td>\n",
       "    </tr>\n",
       "    <tr>\n",
       "      <th>1</th>\n",
       "      <td>1.0</td>\n",
       "      <td>85.0</td>\n",
       "      <td>66.0</td>\n",
       "      <td>29.0</td>\n",
       "      <td>0.0</td>\n",
       "      <td>26.6</td>\n",
       "      <td>0.351</td>\n",
       "      <td>31.0</td>\n",
       "      <td>0</td>\n",
       "    </tr>\n",
       "    <tr>\n",
       "      <th>2</th>\n",
       "      <td>8.0</td>\n",
       "      <td>183.0</td>\n",
       "      <td>64.0</td>\n",
       "      <td>0.0</td>\n",
       "      <td>0.0</td>\n",
       "      <td>23.3</td>\n",
       "      <td>0.672</td>\n",
       "      <td>32.0</td>\n",
       "      <td>1</td>\n",
       "    </tr>\n",
       "    <tr>\n",
       "      <th>3</th>\n",
       "      <td>1.0</td>\n",
       "      <td>89.0</td>\n",
       "      <td>66.0</td>\n",
       "      <td>23.0</td>\n",
       "      <td>94.0</td>\n",
       "      <td>28.1</td>\n",
       "      <td>0.167</td>\n",
       "      <td>21.0</td>\n",
       "      <td>0</td>\n",
       "    </tr>\n",
       "    <tr>\n",
       "      <th>4</th>\n",
       "      <td>0.0</td>\n",
       "      <td>137.0</td>\n",
       "      <td>40.0</td>\n",
       "      <td>35.0</td>\n",
       "      <td>168.0</td>\n",
       "      <td>43.1</td>\n",
       "      <td>2.288</td>\n",
       "      <td>33.0</td>\n",
       "      <td>1</td>\n",
       "    </tr>\n",
       "  </tbody>\n",
       "</table>\n",
       "</div>"
      ]
     },
     "execution_count": 226,
     "metadata": {},
     "output_type": "execute_result"
    }
   ],
   "execution_count": 226
  },
  {
   "metadata": {
    "ExecuteTime": {
     "end_time": "2024-05-14T11:15:45.004576Z",
     "start_time": "2024-05-14T11:15:44.998920Z"
    }
   },
   "cell_type": "code",
   "source": [
    "df_diabetes.rename(columns={\n",
    "    'preg': 'n_pregnancy',\n",
    "    'plas': 'plasma',\n",
    "    'pres': 'diastolic_blood_pressure',\n",
    "    'skin': 'skin_thickness',\n",
    "    'insu': 'insulin',\n",
    "    'mass': 'body_mass',\n",
    "    'pedi': 'pedigree',\n",
    "    'age': 'age',\n",
    "    'class': 'Target',\n",
    "}, inplace=True)"
   ],
   "id": "eb155cb88d8d9aa9",
   "outputs": [],
   "execution_count": 227
  },
  {
   "metadata": {
    "ExecuteTime": {
     "end_time": "2024-05-14T11:15:45.843234Z",
     "start_time": "2024-05-14T11:15:45.828561Z"
    }
   },
   "cell_type": "code",
   "source": "df_diabetes.head()",
   "id": "3b10e09c84dfe482",
   "outputs": [
    {
     "data": {
      "text/plain": [
       "   n_pregnancy  plasma  diastolic_blood_pressure  skin_thickness  insulin  \\\n",
       "0          6.0   148.0                      72.0            35.0      0.0   \n",
       "1          1.0    85.0                      66.0            29.0      0.0   \n",
       "2          8.0   183.0                      64.0             0.0      0.0   \n",
       "3          1.0    89.0                      66.0            23.0     94.0   \n",
       "4          0.0   137.0                      40.0            35.0    168.0   \n",
       "\n",
       "   body_mass  pedigree   age  Target  \n",
       "0       33.6     0.627  50.0       1  \n",
       "1       26.6     0.351  31.0       0  \n",
       "2       23.3     0.672  32.0       1  \n",
       "3       28.1     0.167  21.0       0  \n",
       "4       43.1     2.288  33.0       1  "
      ],
      "text/html": [
       "<div>\n",
       "<style scoped>\n",
       "    .dataframe tbody tr th:only-of-type {\n",
       "        vertical-align: middle;\n",
       "    }\n",
       "\n",
       "    .dataframe tbody tr th {\n",
       "        vertical-align: top;\n",
       "    }\n",
       "\n",
       "    .dataframe thead th {\n",
       "        text-align: right;\n",
       "    }\n",
       "</style>\n",
       "<table border=\"1\" class=\"dataframe\">\n",
       "  <thead>\n",
       "    <tr style=\"text-align: right;\">\n",
       "      <th></th>\n",
       "      <th>n_pregnancy</th>\n",
       "      <th>plasma</th>\n",
       "      <th>diastolic_blood_pressure</th>\n",
       "      <th>skin_thickness</th>\n",
       "      <th>insulin</th>\n",
       "      <th>body_mass</th>\n",
       "      <th>pedigree</th>\n",
       "      <th>age</th>\n",
       "      <th>Target</th>\n",
       "    </tr>\n",
       "  </thead>\n",
       "  <tbody>\n",
       "    <tr>\n",
       "      <th>0</th>\n",
       "      <td>6.0</td>\n",
       "      <td>148.0</td>\n",
       "      <td>72.0</td>\n",
       "      <td>35.0</td>\n",
       "      <td>0.0</td>\n",
       "      <td>33.6</td>\n",
       "      <td>0.627</td>\n",
       "      <td>50.0</td>\n",
       "      <td>1</td>\n",
       "    </tr>\n",
       "    <tr>\n",
       "      <th>1</th>\n",
       "      <td>1.0</td>\n",
       "      <td>85.0</td>\n",
       "      <td>66.0</td>\n",
       "      <td>29.0</td>\n",
       "      <td>0.0</td>\n",
       "      <td>26.6</td>\n",
       "      <td>0.351</td>\n",
       "      <td>31.0</td>\n",
       "      <td>0</td>\n",
       "    </tr>\n",
       "    <tr>\n",
       "      <th>2</th>\n",
       "      <td>8.0</td>\n",
       "      <td>183.0</td>\n",
       "      <td>64.0</td>\n",
       "      <td>0.0</td>\n",
       "      <td>0.0</td>\n",
       "      <td>23.3</td>\n",
       "      <td>0.672</td>\n",
       "      <td>32.0</td>\n",
       "      <td>1</td>\n",
       "    </tr>\n",
       "    <tr>\n",
       "      <th>3</th>\n",
       "      <td>1.0</td>\n",
       "      <td>89.0</td>\n",
       "      <td>66.0</td>\n",
       "      <td>23.0</td>\n",
       "      <td>94.0</td>\n",
       "      <td>28.1</td>\n",
       "      <td>0.167</td>\n",
       "      <td>21.0</td>\n",
       "      <td>0</td>\n",
       "    </tr>\n",
       "    <tr>\n",
       "      <th>4</th>\n",
       "      <td>0.0</td>\n",
       "      <td>137.0</td>\n",
       "      <td>40.0</td>\n",
       "      <td>35.0</td>\n",
       "      <td>168.0</td>\n",
       "      <td>43.1</td>\n",
       "      <td>2.288</td>\n",
       "      <td>33.0</td>\n",
       "      <td>1</td>\n",
       "    </tr>\n",
       "  </tbody>\n",
       "</table>\n",
       "</div>"
      ]
     },
     "execution_count": 228,
     "metadata": {},
     "output_type": "execute_result"
    }
   ],
   "execution_count": 228
  },
  {
   "metadata": {
    "ExecuteTime": {
     "end_time": "2024-05-14T11:15:46.693535Z",
     "start_time": "2024-05-14T11:15:46.685067Z"
    }
   },
   "cell_type": "code",
   "source": "df_diabetes.info()",
   "id": "568709120df00e9a",
   "outputs": [
    {
     "name": "stdout",
     "output_type": "stream",
     "text": [
      "<class 'pandas.core.frame.DataFrame'>\n",
      "RangeIndex: 768 entries, 0 to 767\n",
      "Data columns (total 9 columns):\n",
      " #   Column                    Non-Null Count  Dtype  \n",
      "---  ------                    --------------  -----  \n",
      " 0   n_pregnancy               768 non-null    float64\n",
      " 1   plasma                    768 non-null    float64\n",
      " 2   diastolic_blood_pressure  768 non-null    float64\n",
      " 3   skin_thickness            768 non-null    float64\n",
      " 4   insulin                   768 non-null    float64\n",
      " 5   body_mass                 768 non-null    float64\n",
      " 6   pedigree                  768 non-null    float64\n",
      " 7   age                       768 non-null    float64\n",
      " 8   Target                    768 non-null    int64  \n",
      "dtypes: float64(8), int64(1)\n",
      "memory usage: 54.1 KB\n"
     ]
    }
   ],
   "execution_count": 229
  },
  {
   "metadata": {
    "ExecuteTime": {
     "end_time": "2024-05-14T11:15:47.630776Z",
     "start_time": "2024-05-14T11:15:47.613783Z"
    }
   },
   "cell_type": "code",
   "source": "df_diabetes.describe()",
   "id": "eb6867ffb2f8e2aa",
   "outputs": [
    {
     "data": {
      "text/plain": [
       "       n_pregnancy      plasma  diastolic_blood_pressure  skin_thickness  \\\n",
       "count   768.000000  768.000000                768.000000      768.000000   \n",
       "mean      3.845052  120.894531                 69.105469       20.536458   \n",
       "std       3.369578   31.972618                 19.355807       15.952218   \n",
       "min       0.000000    0.000000                  0.000000        0.000000   \n",
       "25%       1.000000   99.000000                 62.000000        0.000000   \n",
       "50%       3.000000  117.000000                 72.000000       23.000000   \n",
       "75%       6.000000  140.250000                 80.000000       32.000000   \n",
       "max      17.000000  199.000000                122.000000       99.000000   \n",
       "\n",
       "          insulin   body_mass    pedigree         age      Target  \n",
       "count  768.000000  768.000000  768.000000  768.000000  768.000000  \n",
       "mean    79.799479   31.992578    0.471876   33.240885    0.348958  \n",
       "std    115.244002    7.884160    0.331329   11.760232    0.476951  \n",
       "min      0.000000    0.000000    0.078000   21.000000    0.000000  \n",
       "25%      0.000000   27.300000    0.243750   24.000000    0.000000  \n",
       "50%     30.500000   32.000000    0.372500   29.000000    0.000000  \n",
       "75%    127.250000   36.600000    0.626250   41.000000    1.000000  \n",
       "max    846.000000   67.100000    2.420000   81.000000    1.000000  "
      ],
      "text/html": [
       "<div>\n",
       "<style scoped>\n",
       "    .dataframe tbody tr th:only-of-type {\n",
       "        vertical-align: middle;\n",
       "    }\n",
       "\n",
       "    .dataframe tbody tr th {\n",
       "        vertical-align: top;\n",
       "    }\n",
       "\n",
       "    .dataframe thead th {\n",
       "        text-align: right;\n",
       "    }\n",
       "</style>\n",
       "<table border=\"1\" class=\"dataframe\">\n",
       "  <thead>\n",
       "    <tr style=\"text-align: right;\">\n",
       "      <th></th>\n",
       "      <th>n_pregnancy</th>\n",
       "      <th>plasma</th>\n",
       "      <th>diastolic_blood_pressure</th>\n",
       "      <th>skin_thickness</th>\n",
       "      <th>insulin</th>\n",
       "      <th>body_mass</th>\n",
       "      <th>pedigree</th>\n",
       "      <th>age</th>\n",
       "      <th>Target</th>\n",
       "    </tr>\n",
       "  </thead>\n",
       "  <tbody>\n",
       "    <tr>\n",
       "      <th>count</th>\n",
       "      <td>768.000000</td>\n",
       "      <td>768.000000</td>\n",
       "      <td>768.000000</td>\n",
       "      <td>768.000000</td>\n",
       "      <td>768.000000</td>\n",
       "      <td>768.000000</td>\n",
       "      <td>768.000000</td>\n",
       "      <td>768.000000</td>\n",
       "      <td>768.000000</td>\n",
       "    </tr>\n",
       "    <tr>\n",
       "      <th>mean</th>\n",
       "      <td>3.845052</td>\n",
       "      <td>120.894531</td>\n",
       "      <td>69.105469</td>\n",
       "      <td>20.536458</td>\n",
       "      <td>79.799479</td>\n",
       "      <td>31.992578</td>\n",
       "      <td>0.471876</td>\n",
       "      <td>33.240885</td>\n",
       "      <td>0.348958</td>\n",
       "    </tr>\n",
       "    <tr>\n",
       "      <th>std</th>\n",
       "      <td>3.369578</td>\n",
       "      <td>31.972618</td>\n",
       "      <td>19.355807</td>\n",
       "      <td>15.952218</td>\n",
       "      <td>115.244002</td>\n",
       "      <td>7.884160</td>\n",
       "      <td>0.331329</td>\n",
       "      <td>11.760232</td>\n",
       "      <td>0.476951</td>\n",
       "    </tr>\n",
       "    <tr>\n",
       "      <th>min</th>\n",
       "      <td>0.000000</td>\n",
       "      <td>0.000000</td>\n",
       "      <td>0.000000</td>\n",
       "      <td>0.000000</td>\n",
       "      <td>0.000000</td>\n",
       "      <td>0.000000</td>\n",
       "      <td>0.078000</td>\n",
       "      <td>21.000000</td>\n",
       "      <td>0.000000</td>\n",
       "    </tr>\n",
       "    <tr>\n",
       "      <th>25%</th>\n",
       "      <td>1.000000</td>\n",
       "      <td>99.000000</td>\n",
       "      <td>62.000000</td>\n",
       "      <td>0.000000</td>\n",
       "      <td>0.000000</td>\n",
       "      <td>27.300000</td>\n",
       "      <td>0.243750</td>\n",
       "      <td>24.000000</td>\n",
       "      <td>0.000000</td>\n",
       "    </tr>\n",
       "    <tr>\n",
       "      <th>50%</th>\n",
       "      <td>3.000000</td>\n",
       "      <td>117.000000</td>\n",
       "      <td>72.000000</td>\n",
       "      <td>23.000000</td>\n",
       "      <td>30.500000</td>\n",
       "      <td>32.000000</td>\n",
       "      <td>0.372500</td>\n",
       "      <td>29.000000</td>\n",
       "      <td>0.000000</td>\n",
       "    </tr>\n",
       "    <tr>\n",
       "      <th>75%</th>\n",
       "      <td>6.000000</td>\n",
       "      <td>140.250000</td>\n",
       "      <td>80.000000</td>\n",
       "      <td>32.000000</td>\n",
       "      <td>127.250000</td>\n",
       "      <td>36.600000</td>\n",
       "      <td>0.626250</td>\n",
       "      <td>41.000000</td>\n",
       "      <td>1.000000</td>\n",
       "    </tr>\n",
       "    <tr>\n",
       "      <th>max</th>\n",
       "      <td>17.000000</td>\n",
       "      <td>199.000000</td>\n",
       "      <td>122.000000</td>\n",
       "      <td>99.000000</td>\n",
       "      <td>846.000000</td>\n",
       "      <td>67.100000</td>\n",
       "      <td>2.420000</td>\n",
       "      <td>81.000000</td>\n",
       "      <td>1.000000</td>\n",
       "    </tr>\n",
       "  </tbody>\n",
       "</table>\n",
       "</div>"
      ]
     },
     "execution_count": 230,
     "metadata": {},
     "output_type": "execute_result"
    }
   ],
   "execution_count": 230
  },
  {
   "metadata": {
    "ExecuteTime": {
     "end_time": "2024-05-14T11:15:48.364543Z",
     "start_time": "2024-05-14T11:15:48.359217Z"
    }
   },
   "cell_type": "code",
   "source": "df_diabetes[df_diabetes.columns[-1]].value_counts()",
   "id": "affaab58f0e8f53b",
   "outputs": [
    {
     "data": {
      "text/plain": [
       "Target\n",
       "0    500\n",
       "1    268\n",
       "Name: count, dtype: int64"
      ]
     },
     "execution_count": 231,
     "metadata": {},
     "output_type": "execute_result"
    }
   ],
   "execution_count": 231
  },
  {
   "metadata": {
    "ExecuteTime": {
     "end_time": "2024-05-14T11:15:49.654013Z",
     "start_time": "2024-05-14T11:15:49.069218Z"
    }
   },
   "cell_type": "code",
   "source": [
    "df_diabetes.hist(figsize=(10, 8))\n",
    "plt.show()"
   ],
   "id": "97aff1a75e472d27",
   "outputs": [
    {
     "data": {
      "text/plain": [
       "<Figure size 1000x800 with 9 Axes>"
      ],
      "image/png": "[encoded data removed]"
     },
     "metadata": {},
     "output_type": "display_data"
    }
   ],
   "execution_count": 232
  },
  {
   "metadata": {
    "ExecuteTime": {
     "end_time": "2024-05-14T11:15:50.425474Z",
     "start_time": "2024-05-14T11:15:50.305785Z"
    }
   },
   "cell_type": "code",
   "source": [
    "sns.countplot(x='Target', data=df_diabetes)\n",
    "plt.show()"
   ],
   "id": "411fae772c688193",
   "outputs": [
    {
     "data": {
      "text/plain": [
       "<Figure size 640x480 with 1 Axes>"
      ],
      "image/png": "[encoded data removed]"
     },
     "metadata": {},
     "output_type": "display_data"
    }
   ],
   "execution_count": 233
  },
  {
   "metadata": {
    "ExecuteTime": {
     "end_time": "2024-05-14T11:15:51.249625Z",
     "start_time": "2024-05-14T11:15:51.161023Z"
    }
   },
   "cell_type": "code",
   "source": [
    "sns.boxplot(x='Target', data=df_diabetes)\n",
    "plt.show()"
   ],
   "id": "21d4c15ecb109f24",
   "outputs": [
    {
     "data": {
      "text/plain": [
       "<Figure size 640x480 with 1 Axes>"
      ],
      "image/png": "[encoded data removed]"
     },
     "metadata": {},
     "output_type": "display_data"
    }
   ],
   "execution_count": 234
  },
  {
   "metadata": {},
   "cell_type": "markdown",
   "source": "## df_eucalyptus",
   "id": "42dbabe04329482e"
  },
  {
   "metadata": {
    "ExecuteTime": {
     "end_time": "2024-05-14T11:15:52.725133Z",
     "start_time": "2024-05-14T11:15:52.717299Z"
    }
   },
   "cell_type": "code",
   "source": [
    "# Criação de um objeto LabelEncoder\n",
    "le = LabelEncoder()\n",
    "\n",
    "# Obter o nome da última coluna\n",
    "last_column = df_eucalyptus.columns[-1]\n",
    "\n",
    "# Aplicar LabelEncoder à última coluna\n",
    "df_eucalyptus[last_column] = le.fit_transform(df_eucalyptus[last_column])"
   ],
   "id": "5a1ed3ec3f48ee78",
   "outputs": [],
   "execution_count": 235
  },
  {
   "metadata": {
    "ExecuteTime": {
     "end_time": "2024-05-14T11:15:53.487316Z",
     "start_time": "2024-05-14T11:15:53.474509Z"
    }
   },
   "cell_type": "code",
   "source": "df_eucalyptus.head()",
   "id": "1bacb1a33d6e445f",
   "outputs": [
    {
     "data": {
      "text/plain": [
       "   Abbrev  Rep               Locality          Map_Ref   Latitude  Altitude  \\\n",
       "0  b'Cra'  1.0  b'Central_Hawkes_Bay'  b'N135_382/137'  b'39__38'     100.0   \n",
       "1  b'Cra'  1.0  b'Central_Hawkes_Bay'  b'N135_382/137'  b'39__38'     100.0   \n",
       "2  b'Cra'  1.0  b'Central_Hawkes_Bay'  b'N135_382/137'  b'39__38'     100.0   \n",
       "3  b'Cra'  1.0  b'Central_Hawkes_Bay'  b'N135_382/137'  b'39__38'     100.0   \n",
       "4  b'Cra'  1.0  b'Central_Hawkes_Bay'  b'N135_382/137'  b'39__38'     100.0   \n",
       "\n",
       "   Rainfall  Frosts    Year     Sp   PMCno    DBH     Ht  Surv  Vig  Ins_res  \\\n",
       "0     850.0    -2.0  1980.0  b'co'  1520.0  18.45   9.96  40.0  4.0      3.0   \n",
       "1     850.0    -2.0  1980.0  b'fr'  1487.0  13.15   9.65  90.0  4.5      4.0   \n",
       "2     850.0    -2.0  1980.0  b'ma'  1362.0  10.32   6.50  50.0  2.3      2.5   \n",
       "3     850.0    -2.0  1980.0  b'nd'  1596.0  14.80   9.48  70.0  3.7      3.0   \n",
       "4     850.0    -2.0  1980.0  b'ni'  2088.0  14.50  10.78  90.0  4.0      2.7   \n",
       "\n",
       "   Stem_Fm  Crown_Fm  Brnch_Fm  Utility  \n",
       "0      3.5       4.0       3.5        2  \n",
       "1      3.5       3.5       3.0        1  \n",
       "2      3.0       3.5       3.0        3  \n",
       "3      3.3       4.0       3.5        2  \n",
       "4      3.3       3.0       3.0        2  "
      ],
      "text/html": [
       "<div>\n",
       "<style scoped>\n",
       "    .dataframe tbody tr th:only-of-type {\n",
       "        vertical-align: middle;\n",
       "    }\n",
       "\n",
       "    .dataframe tbody tr th {\n",
       "        vertical-align: top;\n",
       "    }\n",
       "\n",
       "    .dataframe thead th {\n",
       "        text-align: right;\n",
       "    }\n",
       "</style>\n",
       "<table border=\"1\" class=\"dataframe\">\n",
       "  <thead>\n",
       "    <tr style=\"text-align: right;\">\n",
       "      <th></th>\n",
       "      <th>Abbrev</th>\n",
       "      <th>Rep</th>\n",
       "      <th>Locality</th>\n",
       "      <th>Map_Ref</th>\n",
       "      <th>Latitude</th>\n",
       "      <th>Altitude</th>\n",
       "      <th>Rainfall</th>\n",
       "      <th>Frosts</th>\n",
       "      <th>Year</th>\n",
       "      <th>Sp</th>\n",
       "      <th>PMCno</th>\n",
       "      <th>DBH</th>\n",
       "      <th>Ht</th>\n",
       "      <th>Surv</th>\n",
       "      <th>Vig</th>\n",
       "      <th>Ins_res</th>\n",
       "      <th>Stem_Fm</th>\n",
       "      <th>Crown_Fm</th>\n",
       "      <th>Brnch_Fm</th>\n",
       "      <th>Utility</th>\n",
       "    </tr>\n",
       "  </thead>\n",
       "  <tbody>\n",
       "    <tr>\n",
       "      <th>0</th>\n",
       "      <td>b'Cra'</td>\n",
       "      <td>1.0</td>\n",
       "      <td>b'Central_Hawkes_Bay'</td>\n",
       "      <td>b'N135_382/137'</td>\n",
       "      <td>b'39__38'</td>\n",
       "      <td>100.0</td>\n",
       "      <td>850.0</td>\n",
       "      <td>-2.0</td>\n",
       "      <td>1980.0</td>\n",
       "      <td>b'co'</td>\n",
       "      <td>1520.0</td>\n",
       "      <td>18.45</td>\n",
       "      <td>9.96</td>\n",
       "      <td>40.0</td>\n",
       "      <td>4.0</td>\n",
       "      <td>3.0</td>\n",
       "      <td>3.5</td>\n",
       "      <td>4.0</td>\n",
       "      <td>3.5</td>\n",
       "      <td>2</td>\n",
       "    </tr>\n",
       "    <tr>\n",
       "      <th>1</th>\n",
       "      <td>b'Cra'</td>\n",
       "      <td>1.0</td>\n",
       "      <td>b'Central_Hawkes_Bay'</td>\n",
       "      <td>b'N135_382/137'</td>\n",
       "      <td>b'39__38'</td>\n",
       "      <td>100.0</td>\n",
       "      <td>850.0</td>\n",
       "      <td>-2.0</td>\n",
       "      <td>1980.0</td>\n",
       "      <td>b'fr'</td>\n",
       "      <td>1487.0</td>\n",
       "      <td>13.15</td>\n",
       "      <td>9.65</td>\n",
       "      <td>90.0</td>\n",
       "      <td>4.5</td>\n",
       "      <td>4.0</td>\n",
       "      <td>3.5</td>\n",
       "      <td>3.5</td>\n",
       "      <td>3.0</td>\n",
       "      <td>1</td>\n",
       "    </tr>\n",
       "    <tr>\n",
       "      <th>2</th>\n",
       "      <td>b'Cra'</td>\n",
       "      <td>1.0</td>\n",
       "      <td>b'Central_Hawkes_Bay'</td>\n",
       "      <td>b'N135_382/137'</td>\n",
       "      <td>b'39__38'</td>\n",
       "      <td>100.0</td>\n",
       "      <td>850.0</td>\n",
       "      <td>-2.0</td>\n",
       "      <td>1980.0</td>\n",
       "      <td>b'ma'</td>\n",
       "      <td>1362.0</td>\n",
       "      <td>10.32</td>\n",
       "      <td>6.50</td>\n",
       "      <td>50.0</td>\n",
       "      <td>2.3</td>\n",
       "      <td>2.5</td>\n",
       "      <td>3.0</td>\n",
       "      <td>3.5</td>\n",
       "      <td>3.0</td>\n",
       "      <td>3</td>\n",
       "    </tr>\n",
       "    <tr>\n",
       "      <th>3</th>\n",
       "      <td>b'Cra'</td>\n",
       "      <td>1.0</td>\n",
       "      <td>b'Central_Hawkes_Bay'</td>\n",
       "      <td>b'N135_382/137'</td>\n",
       "      <td>b'39__38'</td>\n",
       "      <td>100.0</td>\n",
       "      <td>850.0</td>\n",
       "      <td>-2.0</td>\n",
       "      <td>1980.0</td>\n",
       "      <td>b'nd'</td>\n",
       "      <td>1596.0</td>\n",
       "      <td>14.80</td>\n",
       "      <td>9.48</td>\n",
       "      <td>70.0</td>\n",
       "      <td>3.7</td>\n",
       "      <td>3.0</td>\n",
       "      <td>3.3</td>\n",
       "      <td>4.0</td>\n",
       "      <td>3.5</td>\n",
       "      <td>2</td>\n",
       "    </tr>\n",
       "    <tr>\n",
       "      <th>4</th>\n",
       "      <td>b'Cra'</td>\n",
       "      <td>1.0</td>\n",
       "      <td>b'Central_Hawkes_Bay'</td>\n",
       "      <td>b'N135_382/137'</td>\n",
       "      <td>b'39__38'</td>\n",
       "      <td>100.0</td>\n",
       "      <td>850.0</td>\n",
       "      <td>-2.0</td>\n",
       "      <td>1980.0</td>\n",
       "      <td>b'ni'</td>\n",
       "      <td>2088.0</td>\n",
       "      <td>14.50</td>\n",
       "      <td>10.78</td>\n",
       "      <td>90.0</td>\n",
       "      <td>4.0</td>\n",
       "      <td>2.7</td>\n",
       "      <td>3.3</td>\n",
       "      <td>3.0</td>\n",
       "      <td>3.0</td>\n",
       "      <td>2</td>\n",
       "    </tr>\n",
       "  </tbody>\n",
       "</table>\n",
       "</div>"
      ]
     },
     "execution_count": 236,
     "metadata": {},
     "output_type": "execute_result"
    }
   ],
   "execution_count": 236
  },
  {
   "metadata": {
    "ExecuteTime": {
     "end_time": "2024-05-14T11:15:54.219926Z",
     "start_time": "2024-05-14T11:15:54.216104Z"
    }
   },
   "cell_type": "code",
   "source": [
    "df_eucalyptus.rename(columns={\n",
    "    'Abbrev': 'site_abbreviation',\n",
    "    'Rep': 'site_rep',\n",
    "    'Locality': 'locality',\n",
    "    'Map_Ref': 'map_ref',\n",
    "    'Latitude': 'latitude',\n",
    "    'Altitude': 'altitude',\n",
    "    'Rainfall': 'rainfall',\n",
    "    'Frosts': 'frosts',\n",
    "    'Year': 'year',\n",
    "    'Sp': 'species_code',\n",
    "    'PMCno': 'seedlot_number',\n",
    "    'DBH': 'best_diameter_base_height',\n",
    "    'Ht': 'height',\n",
    "    'Surv': 'survival',\n",
    "    'Vig': 'vigour',\n",
    "    'Ins_res': 'insect_resistance',\n",
    "    'Stem_Fm': 'stem_form',\n",
    "    'Crown_Fm': 'crown_form',\n",
    "    'Brnch_Fm': 'branch_form',\n",
    "    'Utility': 'Target',\n",
    "}, inplace=True)"
   ],
   "id": "ff178b82d03aafb6",
   "outputs": [],
   "execution_count": 237
  },
  {
   "metadata": {
    "ExecuteTime": {
     "end_time": "2024-05-14T11:15:55.115680Z",
     "start_time": "2024-05-14T11:15:55.104850Z"
    }
   },
   "cell_type": "code",
   "source": "df_eucalyptus.head()",
   "id": "1328b315e17a3cf7",
   "outputs": [
    {
     "data": {
      "text/plain": [
       "  site_abbreviation  site_rep               locality          map_ref  \\\n",
       "0            b'Cra'       1.0  b'Central_Hawkes_Bay'  b'N135_382/137'   \n",
       "1            b'Cra'       1.0  b'Central_Hawkes_Bay'  b'N135_382/137'   \n",
       "2            b'Cra'       1.0  b'Central_Hawkes_Bay'  b'N135_382/137'   \n",
       "3            b'Cra'       1.0  b'Central_Hawkes_Bay'  b'N135_382/137'   \n",
       "4            b'Cra'       1.0  b'Central_Hawkes_Bay'  b'N135_382/137'   \n",
       "\n",
       "    latitude  altitude  rainfall  frosts    year species_code  seedlot_number  \\\n",
       "0  b'39__38'     100.0     850.0    -2.0  1980.0        b'co'          1520.0   \n",
       "1  b'39__38'     100.0     850.0    -2.0  1980.0        b'fr'          1487.0   \n",
       "2  b'39__38'     100.0     850.0    -2.0  1980.0        b'ma'          1362.0   \n",
       "3  b'39__38'     100.0     850.0    -2.0  1980.0        b'nd'          1596.0   \n",
       "4  b'39__38'     100.0     850.0    -2.0  1980.0        b'ni'          2088.0   \n",
       "\n",
       "   best_diameter_base_height  height  survival  vigour  insect_resistance  \\\n",
       "0                      18.45    9.96      40.0     4.0                3.0   \n",
       "1                      13.15    9.65      90.0     4.5                4.0   \n",
       "2                      10.32    6.50      50.0     2.3                2.5   \n",
       "3                      14.80    9.48      70.0     3.7                3.0   \n",
       "4                      14.50   10.78      90.0     4.0                2.7   \n",
       "\n",
       "   stem_form  crown_form  branch_form  Target  \n",
       "0        3.5         4.0          3.5       2  \n",
       "1        3.5         3.5          3.0       1  \n",
       "2        3.0         3.5          3.0       3  \n",
       "3        3.3         4.0          3.5       2  \n",
       "4        3.3         3.0          3.0       2  "
      ],
      "text/html": [
       "<div>\n",
       "<style scoped>\n",
       "    .dataframe tbody tr th:only-of-type {\n",
       "        vertical-align: middle;\n",
       "    }\n",
       "\n",
       "    .dataframe tbody tr th {\n",
       "        vertical-align: top;\n",
       "    }\n",
       "\n",
       "    .dataframe thead th {\n",
       "        text-align: right;\n",
       "    }\n",
       "</style>\n",
       "<table border=\"1\" class=\"dataframe\">\n",
       "  <thead>\n",
       "    <tr style=\"text-align: right;\">\n",
       "      <th></th>\n",
       "      <th>site_abbreviation</th>\n",
       "      <th>site_rep</th>\n",
       "      <th>locality</th>\n",
       "      <th>map_ref</th>\n",
       "      <th>latitude</th>\n",
       "      <th>altitude</th>\n",
       "      <th>rainfall</th>\n",
       "      <th>frosts</th>\n",
       "      <th>year</th>\n",
       "      <th>species_code</th>\n",
       "      <th>seedlot_number</th>\n",
       "      <th>best_diameter_base_height</th>\n",
       "      <th>height</th>\n",
       "      <th>survival</th>\n",
       "      <th>vigour</th>\n",
       "      <th>insect_resistance</th>\n",
       "      <th>stem_form</th>\n",
       "      <th>crown_form</th>\n",
       "      <th>branch_form</th>\n",
       "      <th>Target</th>\n",
       "    </tr>\n",
       "  </thead>\n",
       "  <tbody>\n",
       "    <tr>\n",
       "      <th>0</th>\n",
       "      <td>b'Cra'</td>\n",
       "      <td>1.0</td>\n",
       "      <td>b'Central_Hawkes_Bay'</td>\n",
       "      <td>b'N135_382/137'</td>\n",
       "      <td>b'39__38'</td>\n",
       "      <td>100.0</td>\n",
       "      <td>850.0</td>\n",
       "      <td>-2.0</td>\n",
       "      <td>1980.0</td>\n",
       "      <td>b'co'</td>\n",
       "      <td>1520.0</td>\n",
       "      <td>18.45</td>\n",
       "      <td>9.96</td>\n",
       "      <td>40.0</td>\n",
       "      <td>4.0</td>\n",
       "      <td>3.0</td>\n",
       "      <td>3.5</td>\n",
       "      <td>4.0</td>\n",
       "      <td>3.5</td>\n",
       "      <td>2</td>\n",
       "    </tr>\n",
       "    <tr>\n",
       "      <th>1</th>\n",
       "      <td>b'Cra'</td>\n",
       "      <td>1.0</td>\n",
       "      <td>b'Central_Hawkes_Bay'</td>\n",
       "      <td>b'N135_382/137'</td>\n",
       "      <td>b'39__38'</td>\n",
       "      <td>100.0</td>\n",
       "      <td>850.0</td>\n",
       "      <td>-2.0</td>\n",
       "      <td>1980.0</td>\n",
       "      <td>b'fr'</td>\n",
       "      <td>1487.0</td>\n",
       "      <td>13.15</td>\n",
       "      <td>9.65</td>\n",
       "      <td>90.0</td>\n",
       "      <td>4.5</td>\n",
       "      <td>4.0</td>\n",
       "      <td>3.5</td>\n",
       "      <td>3.5</td>\n",
       "      <td>3.0</td>\n",
       "      <td>1</td>\n",
       "    </tr>\n",
       "    <tr>\n",
       "      <th>2</th>\n",
       "      <td>b'Cra'</td>\n",
       "      <td>1.0</td>\n",
       "      <td>b'Central_Hawkes_Bay'</td>\n",
       "      <td>b'N135_382/137'</td>\n",
       "      <td>b'39__38'</td>\n",
       "      <td>100.0</td>\n",
       "      <td>850.0</td>\n",
       "      <td>-2.0</td>\n",
       "      <td>1980.0</td>\n",
       "      <td>b'ma'</td>\n",
       "      <td>1362.0</td>\n",
       "      <td>10.32</td>\n",
       "      <td>6.50</td>\n",
       "      <td>50.0</td>\n",
       "      <td>2.3</td>\n",
       "      <td>2.5</td>\n",
       "      <td>3.0</td>\n",
       "      <td>3.5</td>\n",
       "      <td>3.0</td>\n",
       "      <td>3</td>\n",
       "    </tr>\n",
       "    <tr>\n",
       "      <th>3</th>\n",
       "      <td>b'Cra'</td>\n",
       "      <td>1.0</td>\n",
       "      <td>b'Central_Hawkes_Bay'</td>\n",
       "      <td>b'N135_382/137'</td>\n",
       "      <td>b'39__38'</td>\n",
       "      <td>100.0</td>\n",
       "      <td>850.0</td>\n",
       "      <td>-2.0</td>\n",
       "      <td>1980.0</td>\n",
       "      <td>b'nd'</td>\n",
       "      <td>1596.0</td>\n",
       "      <td>14.80</td>\n",
       "      <td>9.48</td>\n",
       "      <td>70.0</td>\n",
       "      <td>3.7</td>\n",
       "      <td>3.0</td>\n",
       "      <td>3.3</td>\n",
       "      <td>4.0</td>\n",
       "      <td>3.5</td>\n",
       "      <td>2</td>\n",
       "    </tr>\n",
       "    <tr>\n",
       "      <th>4</th>\n",
       "      <td>b'Cra'</td>\n",
       "      <td>1.0</td>\n",
       "      <td>b'Central_Hawkes_Bay'</td>\n",
       "      <td>b'N135_382/137'</td>\n",
       "      <td>b'39__38'</td>\n",
       "      <td>100.0</td>\n",
       "      <td>850.0</td>\n",
       "      <td>-2.0</td>\n",
       "      <td>1980.0</td>\n",
       "      <td>b'ni'</td>\n",
       "      <td>2088.0</td>\n",
       "      <td>14.50</td>\n",
       "      <td>10.78</td>\n",
       "      <td>90.0</td>\n",
       "      <td>4.0</td>\n",
       "      <td>2.7</td>\n",
       "      <td>3.3</td>\n",
       "      <td>3.0</td>\n",
       "      <td>3.0</td>\n",
       "      <td>2</td>\n",
       "    </tr>\n",
       "  </tbody>\n",
       "</table>\n",
       "</div>"
      ]
     },
     "execution_count": 238,
     "metadata": {},
     "output_type": "execute_result"
    }
   ],
   "execution_count": 238
  },
  {
   "metadata": {
    "ExecuteTime": {
     "end_time": "2024-05-14T11:15:55.917386Z",
     "start_time": "2024-05-14T11:15:55.898692Z"
    }
   },
   "cell_type": "code",
   "source": "df_eucalyptus.info()",
   "id": "3487be6803e6e01b",
   "outputs": [
    {
     "name": "stdout",
     "output_type": "stream",
     "text": [
      "<class 'pandas.core.frame.DataFrame'>\n",
      "RangeIndex: 736 entries, 0 to 735\n",
      "Data columns (total 20 columns):\n",
      " #   Column                     Non-Null Count  Dtype  \n",
      "---  ------                     --------------  -----  \n",
      " 0   site_abbreviation          736 non-null    object \n",
      " 1   site_rep                   736 non-null    float64\n",
      " 2   locality                   736 non-null    object \n",
      " 3   map_ref                    736 non-null    object \n",
      " 4   latitude                   736 non-null    object \n",
      " 5   altitude                   736 non-null    float64\n",
      " 6   rainfall                   736 non-null    float64\n",
      " 7   frosts                     736 non-null    float64\n",
      " 8   year                       736 non-null    float64\n",
      " 9   species_code               736 non-null    object \n",
      " 10  seedlot_number             729 non-null    float64\n",
      " 11  best_diameter_base_height  735 non-null    float64\n",
      " 12  height                     735 non-null    float64\n",
      " 13  survival                   642 non-null    float64\n",
      " 14  vigour                     667 non-null    float64\n",
      " 15  insect_resistance          667 non-null    float64\n",
      " 16  stem_form                  667 non-null    float64\n",
      " 17  crown_form                 667 non-null    float64\n",
      " 18  branch_form                667 non-null    float64\n",
      " 19  Target                     736 non-null    int64  \n",
      "dtypes: float64(14), int64(1), object(5)\n",
      "memory usage: 115.1+ KB\n"
     ]
    }
   ],
   "execution_count": 239
  },
  {
   "metadata": {
    "ExecuteTime": {
     "end_time": "2024-05-14T11:15:57.514328Z",
     "start_time": "2024-05-14T11:15:57.494225Z"
    }
   },
   "cell_type": "code",
   "source": "df_eucalyptus.describe()",
   "id": "f17fbe32a0922dcf",
   "outputs": [
    {
     "data": {
      "text/plain": [
       "         site_rep    altitude     rainfall      frosts         year  \\\n",
       "count  736.000000  736.000000   736.000000  736.000000   736.000000   \n",
       "mean     2.025815  172.024457  1095.937500   -2.584239  1982.141304   \n",
       "std      1.104419   59.213479   144.829964    0.493188     1.588781   \n",
       "min      1.000000   70.000000   850.000000   -3.000000  1980.000000   \n",
       "25%      1.000000  150.000000  1000.000000   -3.000000  1981.000000   \n",
       "50%      2.000000  160.000000  1080.000000   -3.000000  1982.000000   \n",
       "75%      3.000000  180.000000  1200.000000   -2.000000  1983.000000   \n",
       "max     22.000000  300.000000  1750.000000   -2.000000  1986.000000   \n",
       "\n",
       "       seedlot_number  best_diameter_base_height      height    survival  \\\n",
       "count      729.000000                 735.000000  735.000000  642.000000   \n",
       "mean      2054.739369                  72.947363    9.294707   59.675234   \n",
       "std        618.440282                1551.779819    4.104962   30.913561   \n",
       "min          1.000000                   0.580000    1.120000    1.500000   \n",
       "25%       1522.000000                   8.140000    6.070000   38.000000   \n",
       "50%       2426.000000                  14.200000    9.000000   63.000000   \n",
       "75%       2569.000000                  20.800000   11.945000   88.000000   \n",
       "max       3275.000000               42085.000000   21.790000  100.000000   \n",
       "\n",
       "           vigour  insect_resistance   stem_form  crown_form  branch_form  \\\n",
       "count  667.000000         667.000000  667.000000  667.000000   667.000000   \n",
       "mean     3.076162           2.896852    2.995502    3.204498     2.841079   \n",
       "std      1.013135           0.817088    0.713750    0.751482     0.787510   \n",
       "min      0.500000           0.000000    0.000000    0.000000     0.000000   \n",
       "25%      2.500000           2.500000    2.500000    3.000000     2.500000   \n",
       "50%      3.000000           3.000000    3.000000    3.300000     3.000000   \n",
       "75%      4.000000           3.500000    3.500000    4.000000     3.300000   \n",
       "max      5.000000           4.500000    5.000000    5.000000     5.000000   \n",
       "\n",
       "           Target  \n",
       "count  736.000000  \n",
       "mean     2.138587  \n",
       "std      1.398670  \n",
       "min      0.000000  \n",
       "25%      1.000000  \n",
       "50%      2.000000  \n",
       "75%      3.000000  \n",
       "max      4.000000  "
      ],
      "text/html": [
       "<div>\n",
       "<style scoped>\n",
       "    .dataframe tbody tr th:only-of-type {\n",
       "        vertical-align: middle;\n",
       "    }\n",
       "\n",
       "    .dataframe tbody tr th {\n",
       "        vertical-align: top;\n",
       "    }\n",
       "\n",
       "    .dataframe thead th {\n",
       "        text-align: right;\n",
       "    }\n",
       "</style>\n",
       "<table border=\"1\" class=\"dataframe\">\n",
       "  <thead>\n",
       "    <tr style=\"text-align: right;\">\n",
       "      <th></th>\n",
       "      <th>site_rep</th>\n",
       "      <th>altitude</th>\n",
       "      <th>rainfall</th>\n",
       "      <th>frosts</th>\n",
       "      <th>year</th>\n",
       "      <th>seedlot_number</th>\n",
       "      <th>best_diameter_base_height</th>\n",
       "      <th>height</th>\n",
       "      <th>survival</th>\n",
       "      <th>vigour</th>\n",
       "      <th>insect_resistance</th>\n",
       "      <th>stem_form</th>\n",
       "      <th>crown_form</th>\n",
       "      <th>branch_form</th>\n",
       "      <th>Target</th>\n",
       "    </tr>\n",
       "  </thead>\n",
       "  <tbody>\n",
       "    <tr>\n",
       "      <th>count</th>\n",
       "      <td>736.000000</td>\n",
       "      <td>736.000000</td>\n",
       "      <td>736.000000</td>\n",
       "      <td>736.000000</td>\n",
       "      <td>736.000000</td>\n",
       "      <td>729.000000</td>\n",
       "      <td>735.000000</td>\n",
       "      <td>735.000000</td>\n",
       "      <td>642.000000</td>\n",
       "      <td>667.000000</td>\n",
       "      <td>667.000000</td>\n",
       "      <td>667.000000</td>\n",
       "      <td>667.000000</td>\n",
       "      <td>667.000000</td>\n",
       "      <td>736.000000</td>\n",
       "    </tr>\n",
       "    <tr>\n",
       "      <th>mean</th>\n",
       "      <td>2.025815</td>\n",
       "      <td>172.024457</td>\n",
       "      <td>1095.937500</td>\n",
       "      <td>-2.584239</td>\n",
       "      <td>1982.141304</td>\n",
       "      <td>2054.739369</td>\n",
       "      <td>72.947363</td>\n",
       "      <td>9.294707</td>\n",
       "      <td>59.675234</td>\n",
       "      <td>3.076162</td>\n",
       "      <td>2.896852</td>\n",
       "      <td>2.995502</td>\n",
       "      <td>3.204498</td>\n",
       "      <td>2.841079</td>\n",
       "      <td>2.138587</td>\n",
       "    </tr>\n",
       "    <tr>\n",
       "      <th>std</th>\n",
       "      <td>1.104419</td>\n",
       "      <td>59.213479</td>\n",
       "      <td>144.829964</td>\n",
       "      <td>0.493188</td>\n",
       "      <td>1.588781</td>\n",
       "      <td>618.440282</td>\n",
       "      <td>1551.779819</td>\n",
       "      <td>4.104962</td>\n",
       "      <td>30.913561</td>\n",
       "      <td>1.013135</td>\n",
       "      <td>0.817088</td>\n",
       "      <td>0.713750</td>\n",
       "      <td>0.751482</td>\n",
       "      <td>0.787510</td>\n",
       "      <td>1.398670</td>\n",
       "    </tr>\n",
       "    <tr>\n",
       "      <th>min</th>\n",
       "      <td>1.000000</td>\n",
       "      <td>70.000000</td>\n",
       "      <td>850.000000</td>\n",
       "      <td>-3.000000</td>\n",
       "      <td>1980.000000</td>\n",
       "      <td>1.000000</td>\n",
       "      <td>0.580000</td>\n",
       "      <td>1.120000</td>\n",
       "      <td>1.500000</td>\n",
       "      <td>0.500000</td>\n",
       "      <td>0.000000</td>\n",
       "      <td>0.000000</td>\n",
       "      <td>0.000000</td>\n",
       "      <td>0.000000</td>\n",
       "      <td>0.000000</td>\n",
       "    </tr>\n",
       "    <tr>\n",
       "      <th>25%</th>\n",
       "      <td>1.000000</td>\n",
       "      <td>150.000000</td>\n",
       "      <td>1000.000000</td>\n",
       "      <td>-3.000000</td>\n",
       "      <td>1981.000000</td>\n",
       "      <td>1522.000000</td>\n",
       "      <td>8.140000</td>\n",
       "      <td>6.070000</td>\n",
       "      <td>38.000000</td>\n",
       "      <td>2.500000</td>\n",
       "      <td>2.500000</td>\n",
       "      <td>2.500000</td>\n",
       "      <td>3.000000</td>\n",
       "      <td>2.500000</td>\n",
       "      <td>1.000000</td>\n",
       "    </tr>\n",
       "    <tr>\n",
       "      <th>50%</th>\n",
       "      <td>2.000000</td>\n",
       "      <td>160.000000</td>\n",
       "      <td>1080.000000</td>\n",
       "      <td>-3.000000</td>\n",
       "      <td>1982.000000</td>\n",
       "      <td>2426.000000</td>\n",
       "      <td>14.200000</td>\n",
       "      <td>9.000000</td>\n",
       "      <td>63.000000</td>\n",
       "      <td>3.000000</td>\n",
       "      <td>3.000000</td>\n",
       "      <td>3.000000</td>\n",
       "      <td>3.300000</td>\n",
       "      <td>3.000000</td>\n",
       "      <td>2.000000</td>\n",
       "    </tr>\n",
       "    <tr>\n",
       "      <th>75%</th>\n",
       "      <td>3.000000</td>\n",
       "      <td>180.000000</td>\n",
       "      <td>1200.000000</td>\n",
       "      <td>-2.000000</td>\n",
       "      <td>1983.000000</td>\n",
       "      <td>2569.000000</td>\n",
       "      <td>20.800000</td>\n",
       "      <td>11.945000</td>\n",
       "      <td>88.000000</td>\n",
       "      <td>4.000000</td>\n",
       "      <td>3.500000</td>\n",
       "      <td>3.500000</td>\n",
       "      <td>4.000000</td>\n",
       "      <td>3.300000</td>\n",
       "      <td>3.000000</td>\n",
       "    </tr>\n",
       "    <tr>\n",
       "      <th>max</th>\n",
       "      <td>22.000000</td>\n",
       "      <td>300.000000</td>\n",
       "      <td>1750.000000</td>\n",
       "      <td>-2.000000</td>\n",
       "      <td>1986.000000</td>\n",
       "      <td>3275.000000</td>\n",
       "      <td>42085.000000</td>\n",
       "      <td>21.790000</td>\n",
       "      <td>100.000000</td>\n",
       "      <td>5.000000</td>\n",
       "      <td>4.500000</td>\n",
       "      <td>5.000000</td>\n",
       "      <td>5.000000</td>\n",
       "      <td>5.000000</td>\n",
       "      <td>4.000000</td>\n",
       "    </tr>\n",
       "  </tbody>\n",
       "</table>\n",
       "</div>"
      ]
     },
     "execution_count": 240,
     "metadata": {},
     "output_type": "execute_result"
    }
   ],
   "execution_count": 240
  },
  {
   "metadata": {
    "ExecuteTime": {
     "end_time": "2024-05-14T11:15:58.204374Z",
     "start_time": "2024-05-14T11:15:58.197564Z"
    }
   },
   "cell_type": "code",
   "source": "df_eucalyptus[df_eucalyptus.columns[-1]].value_counts()",
   "id": "6ffa0df5b1830540",
   "outputs": [
    {
     "data": {
      "text/plain": [
       "Target\n",
       "2    214\n",
       "4    180\n",
       "0    130\n",
       "3    107\n",
       "1    105\n",
       "Name: count, dtype: int64"
      ]
     },
     "execution_count": 241,
     "metadata": {},
     "output_type": "execute_result"
    }
   ],
   "execution_count": 241
  },
  {
   "metadata": {
    "ExecuteTime": {
     "end_time": "2024-05-14T11:15:59.775877Z",
     "start_time": "2024-05-14T11:15:58.927002Z"
    }
   },
   "cell_type": "code",
   "source": [
    "df_eucalyptus.hist(figsize=(10, 8))\n",
    "plt.show()"
   ],
   "id": "607b192a11aae901",
   "outputs": [
    {
     "data": {
      "text/plain": [
       "<Figure size 1000x800 with 16 Axes>"
      ],
      "image/png": "[encoded data removed]"
     },
     "metadata": {},
     "output_type": "display_data"
    }
   ],
   "execution_count": 242
  },
  {
   "metadata": {
    "ExecuteTime": {
     "end_time": "2024-05-14T11:16:00.496345Z",
     "start_time": "2024-05-14T11:16:00.395530Z"
    }
   },
   "cell_type": "code",
   "source": [
    "sns.countplot(x='Target', data=df_eucalyptus)\n",
    "plt.show()"
   ],
   "id": "df33558c09f8b173",
   "outputs": [
    {
     "data": {
      "text/plain": [
       "<Figure size 640x480 with 1 Axes>"
      ],
      "image/png": "[encoded data removed]"
     },
     "metadata": {},
     "output_type": "display_data"
    }
   ],
   "execution_count": 243
  },
  {
   "metadata": {
    "ExecuteTime": {
     "end_time": "2024-05-14T11:16:02.224985Z",
     "start_time": "2024-05-14T11:16:02.122941Z"
    }
   },
   "cell_type": "code",
   "source": [
    "sns.boxplot(x='Target', data=df_eucalyptus)\n",
    "plt.show()"
   ],
   "id": "1cdfa7f4e25f5dbf",
   "outputs": [
    {
     "data": {
      "text/plain": [
       "<Figure size 640x480 with 1 Axes>"
      ],
      "image/png": "[encoded data removed]"
     },
     "metadata": {},
     "output_type": "display_data"
    }
   ],
   "execution_count": 244
  },
  {
   "metadata": {},
   "cell_type": "markdown",
   "source": "## df_iris",
   "id": "b7e1d9e0c30ebbc8"
  },
  {
   "metadata": {
    "ExecuteTime": {
     "end_time": "2024-05-14T11:16:04.250428Z",
     "start_time": "2024-05-14T11:16:04.244424Z"
    }
   },
   "cell_type": "code",
   "source": [
    "# Criação de um objeto LabelEncoder\n",
    "le = LabelEncoder()\n",
    "\n",
    "# Obter o nome da última coluna\n",
    "last_column = df_iris.columns[-1]\n",
    "\n",
    "# Aplicar LabelEncoder à última coluna\n",
    "df_iris[last_column] = le.fit_transform(df_iris[last_column])"
   ],
   "id": "c8330634e6831ccd",
   "outputs": [],
   "execution_count": 245
  },
  {
   "metadata": {
    "ExecuteTime": {
     "end_time": "2024-05-14T11:16:05.026301Z",
     "start_time": "2024-05-14T11:16:05.019338Z"
    }
   },
   "cell_type": "code",
   "source": "df_iris.head()",
   "id": "bdad522930730557",
   "outputs": [
    {
     "data": {
      "text/plain": [
       "   sepallength  sepalwidth  petallength  petalwidth  class\n",
       "0          5.1         3.5          1.4         0.2      0\n",
       "1          4.9         3.0          1.4         0.2      0\n",
       "2          4.7         3.2          1.3         0.2      0\n",
       "3          4.6         3.1          1.5         0.2      0\n",
       "4          5.0         3.6          1.4         0.2      0"
      ],
      "text/html": [
       "<div>\n",
       "<style scoped>\n",
       "    .dataframe tbody tr th:only-of-type {\n",
       "        vertical-align: middle;\n",
       "    }\n",
       "\n",
       "    .dataframe tbody tr th {\n",
       "        vertical-align: top;\n",
       "    }\n",
       "\n",
       "    .dataframe thead th {\n",
       "        text-align: right;\n",
       "    }\n",
       "</style>\n",
       "<table border=\"1\" class=\"dataframe\">\n",
       "  <thead>\n",
       "    <tr style=\"text-align: right;\">\n",
       "      <th></th>\n",
       "      <th>sepallength</th>\n",
       "      <th>sepalwidth</th>\n",
       "      <th>petallength</th>\n",
       "      <th>petalwidth</th>\n",
       "      <th>class</th>\n",
       "    </tr>\n",
       "  </thead>\n",
       "  <tbody>\n",
       "    <tr>\n",
       "      <th>0</th>\n",
       "      <td>5.1</td>\n",
       "      <td>3.5</td>\n",
       "      <td>1.4</td>\n",
       "      <td>0.2</td>\n",
       "      <td>0</td>\n",
       "    </tr>\n",
       "    <tr>\n",
       "      <th>1</th>\n",
       "      <td>4.9</td>\n",
       "      <td>3.0</td>\n",
       "      <td>1.4</td>\n",
       "      <td>0.2</td>\n",
       "      <td>0</td>\n",
       "    </tr>\n",
       "    <tr>\n",
       "      <th>2</th>\n",
       "      <td>4.7</td>\n",
       "      <td>3.2</td>\n",
       "      <td>1.3</td>\n",
       "      <td>0.2</td>\n",
       "      <td>0</td>\n",
       "    </tr>\n",
       "    <tr>\n",
       "      <th>3</th>\n",
       "      <td>4.6</td>\n",
       "      <td>3.1</td>\n",
       "      <td>1.5</td>\n",
       "      <td>0.2</td>\n",
       "      <td>0</td>\n",
       "    </tr>\n",
       "    <tr>\n",
       "      <th>4</th>\n",
       "      <td>5.0</td>\n",
       "      <td>3.6</td>\n",
       "      <td>1.4</td>\n",
       "      <td>0.2</td>\n",
       "      <td>0</td>\n",
       "    </tr>\n",
       "  </tbody>\n",
       "</table>\n",
       "</div>"
      ]
     },
     "execution_count": 246,
     "metadata": {},
     "output_type": "execute_result"
    }
   ],
   "execution_count": 246
  },
  {
   "metadata": {
    "ExecuteTime": {
     "end_time": "2024-05-14T11:16:05.747338Z",
     "start_time": "2024-05-14T11:16:05.744292Z"
    }
   },
   "cell_type": "code",
   "source": [
    "df_iris.rename(columns={\n",
    "    'class': 'Target',\n",
    "}, inplace=True)"
   ],
   "id": "862da84a3b8fe6c",
   "outputs": [],
   "execution_count": 247
  },
  {
   "metadata": {
    "ExecuteTime": {
     "end_time": "2024-05-14T11:16:06.435475Z",
     "start_time": "2024-05-14T11:16:06.429447Z"
    }
   },
   "cell_type": "code",
   "source": "df_iris.info()",
   "id": "fe91f28f4555d681",
   "outputs": [
    {
     "name": "stdout",
     "output_type": "stream",
     "text": [
      "<class 'pandas.core.frame.DataFrame'>\n",
      "RangeIndex: 150 entries, 0 to 149\n",
      "Data columns (total 5 columns):\n",
      " #   Column       Non-Null Count  Dtype  \n",
      "---  ------       --------------  -----  \n",
      " 0   sepallength  150 non-null    float64\n",
      " 1   sepalwidth   150 non-null    float64\n",
      " 2   petallength  150 non-null    float64\n",
      " 3   petalwidth   150 non-null    float64\n",
      " 4   Target       150 non-null    int64  \n",
      "dtypes: float64(4), int64(1)\n",
      "memory usage: 6.0 KB\n"
     ]
    }
   ],
   "execution_count": 248
  },
  {
   "metadata": {
    "ExecuteTime": {
     "end_time": "2024-05-14T11:16:07.199368Z",
     "start_time": "2024-05-14T11:16:07.165706Z"
    }
   },
   "cell_type": "code",
   "source": "df_iris.describe()",
   "id": "1068237805f2362f",
   "outputs": [
    {
     "data": {
      "text/plain": [
       "       sepallength  sepalwidth  petallength  petalwidth      Target\n",
       "count   150.000000  150.000000   150.000000  150.000000  150.000000\n",
       "mean      5.843333    3.054000     3.758667    1.198667    1.000000\n",
       "std       0.828066    0.433594     1.764420    0.763161    0.819232\n",
       "min       4.300000    2.000000     1.000000    0.100000    0.000000\n",
       "25%       5.100000    2.800000     1.600000    0.300000    0.000000\n",
       "50%       5.800000    3.000000     4.350000    1.300000    1.000000\n",
       "75%       6.400000    3.300000     5.100000    1.800000    2.000000\n",
       "max       7.900000    4.400000     6.900000    2.500000    2.000000"
      ],
      "text/html": [
       "<div>\n",
       "<style scoped>\n",
       "    .dataframe tbody tr th:only-of-type {\n",
       "        vertical-align: middle;\n",
       "    }\n",
       "\n",
       "    .dataframe tbody tr th {\n",
       "        vertical-align: top;\n",
       "    }\n",
       "\n",
       "    .dataframe thead th {\n",
       "        text-align: right;\n",
       "    }\n",
       "</style>\n",
       "<table border=\"1\" class=\"dataframe\">\n",
       "  <thead>\n",
       "    <tr style=\"text-align: right;\">\n",
       "      <th></th>\n",
       "      <th>sepallength</th>\n",
       "      <th>sepalwidth</th>\n",
       "      <th>petallength</th>\n",
       "      <th>petalwidth</th>\n",
       "      <th>Target</th>\n",
       "    </tr>\n",
       "  </thead>\n",
       "  <tbody>\n",
       "    <tr>\n",
       "      <th>count</th>\n",
       "      <td>150.000000</td>\n",
       "      <td>150.000000</td>\n",
       "      <td>150.000000</td>\n",
       "      <td>150.000000</td>\n",
       "      <td>150.000000</td>\n",
       "    </tr>\n",
       "    <tr>\n",
       "      <th>mean</th>\n",
       "      <td>5.843333</td>\n",
       "      <td>3.054000</td>\n",
       "      <td>3.758667</td>\n",
       "      <td>1.198667</td>\n",
       "      <td>1.000000</td>\n",
       "    </tr>\n",
       "    <tr>\n",
       "      <th>std</th>\n",
       "      <td>0.828066</td>\n",
       "      <td>0.433594</td>\n",
       "      <td>1.764420</td>\n",
       "      <td>0.763161</td>\n",
       "      <td>0.819232</td>\n",
       "    </tr>\n",
       "    <tr>\n",
       "      <th>min</th>\n",
       "      <td>4.300000</td>\n",
       "      <td>2.000000</td>\n",
       "      <td>1.000000</td>\n",
       "      <td>0.100000</td>\n",
       "      <td>0.000000</td>\n",
       "    </tr>\n",
       "    <tr>\n",
       "      <th>25%</th>\n",
       "      <td>5.100000</td>\n",
       "      <td>2.800000</td>\n",
       "      <td>1.600000</td>\n",
       "      <td>0.300000</td>\n",
       "      <td>0.000000</td>\n",
       "    </tr>\n",
       "    <tr>\n",
       "      <th>50%</th>\n",
       "      <td>5.800000</td>\n",
       "      <td>3.000000</td>\n",
       "      <td>4.350000</td>\n",
       "      <td>1.300000</td>\n",
       "      <td>1.000000</td>\n",
       "    </tr>\n",
       "    <tr>\n",
       "      <th>75%</th>\n",
       "      <td>6.400000</td>\n",
       "      <td>3.300000</td>\n",
       "      <td>5.100000</td>\n",
       "      <td>1.800000</td>\n",
       "      <td>2.000000</td>\n",
       "    </tr>\n",
       "    <tr>\n",
       "      <th>max</th>\n",
       "      <td>7.900000</td>\n",
       "      <td>4.400000</td>\n",
       "      <td>6.900000</td>\n",
       "      <td>2.500000</td>\n",
       "      <td>2.000000</td>\n",
       "    </tr>\n",
       "  </tbody>\n",
       "</table>\n",
       "</div>"
      ]
     },
     "execution_count": 249,
     "metadata": {},
     "output_type": "execute_result"
    }
   ],
   "execution_count": 249
  },
  {
   "metadata": {
    "ExecuteTime": {
     "end_time": "2024-05-14T11:16:07.968081Z",
     "start_time": "2024-05-14T11:16:07.962159Z"
    }
   },
   "cell_type": "code",
   "source": "df_iris[df_iris.columns[-1]].value_counts()",
   "id": "39f3b990ebcc19d1",
   "outputs": [
    {
     "data": {
      "text/plain": [
       "Target\n",
       "0    50\n",
       "1    50\n",
       "2    50\n",
       "Name: count, dtype: int64"
      ]
     },
     "execution_count": 250,
     "metadata": {},
     "output_type": "execute_result"
    }
   ],
   "execution_count": 250
  },
  {
   "metadata": {
    "ExecuteTime": {
     "end_time": "2024-05-14T11:16:09.214947Z",
     "start_time": "2024-05-14T11:16:08.705558Z"
    }
   },
   "cell_type": "code",
   "source": [
    "df_iris.hist(figsize=(10, 8))\n",
    "plt.show()"
   ],
   "id": "e36768137b6ef10d",
   "outputs": [
    {
     "data": {
      "text/plain": [
       "<Figure size 1000x800 with 6 Axes>"
      ],
      "image/png": "[encoded data removed]"
     },
     "metadata": {},
     "output_type": "display_data"
    }
   ],
   "execution_count": 251
  },
  {
   "metadata": {
    "ExecuteTime": {
     "end_time": "2024-05-14T11:16:10.023973Z",
     "start_time": "2024-05-14T11:16:09.927107Z"
    }
   },
   "cell_type": "code",
   "source": [
    "sns.countplot(x='Target', data=df_iris)\n",
    "plt.show()"
   ],
   "id": "adff4b3ae8b823c7",
   "outputs": [
    {
     "data": {
      "text/plain": [
       "<Figure size 640x480 with 1 Axes>"
      ],
      "image/png": "[encoded data removed]"
     },
     "metadata": {},
     "output_type": "display_data"
    }
   ],
   "execution_count": 252
  },
  {
   "metadata": {
    "ExecuteTime": {
     "end_time": "2024-05-14T11:16:10.790947Z",
     "start_time": "2024-05-14T11:16:10.662740Z"
    }
   },
   "cell_type": "code",
   "source": [
    "sns.boxplot(x='Target', data=df_iris)\n",
    "plt.show()"
   ],
   "id": "d873f6913cdceeb3",
   "outputs": [
    {
     "data": {
      "text/plain": [
       "<Figure size 640x480 with 1 Axes>"
      ],
      "image/png": "[encoded data removed]"
     },
     "metadata": {},
     "output_type": "display_data"
    }
   ],
   "execution_count": 253
  },
  {
   "metadata": {},
   "cell_type": "markdown",
   "source": "## df_phishing",
   "id": "ac139fb198565287"
  },
  {
   "metadata": {
    "ExecuteTime": {
     "end_time": "2024-05-14T11:16:12.457243Z",
     "start_time": "2024-05-14T11:16:12.448348Z"
    }
   },
   "cell_type": "code",
   "source": [
    "# Criação de um objeto LabelEncoder\n",
    "le = LabelEncoder()\n",
    "\n",
    "# Obter o nome da última coluna\n",
    "last_column = df_phishing.columns[-1]\n",
    "\n",
    "# Aplicar LabelEncoder à última coluna\n",
    "df_phishing[last_column] = le.fit_transform(df_phishing[last_column])"
   ],
   "id": "e3498cb2bce0e7ab",
   "outputs": [],
   "execution_count": 254
  },
  {
   "metadata": {
    "ExecuteTime": {
     "end_time": "2024-05-14T11:16:13.341592Z",
     "start_time": "2024-05-14T11:16:13.330638Z"
    }
   },
   "cell_type": "code",
   "source": "df_phishing.head()",
   "id": "e10eb717322562b7",
   "outputs": [
    {
     "data": {
      "text/plain": [
       "  having_IP_Address URL_Length Shortining_Service having_At_Symbol  \\\n",
       "0             b'-1'       b'1'               b'1'             b'1'   \n",
       "1              b'1'       b'1'               b'1'             b'1'   \n",
       "2              b'1'       b'0'               b'1'             b'1'   \n",
       "3              b'1'       b'0'               b'1'             b'1'   \n",
       "4              b'1'       b'0'              b'-1'             b'1'   \n",
       "\n",
       "  double_slash_redirecting Prefix_Suffix having_Sub_Domain SSLfinal_State  \\\n",
       "0                    b'-1'         b'-1'             b'-1'          b'-1'   \n",
       "1                     b'1'         b'-1'              b'0'           b'1'   \n",
       "2                     b'1'         b'-1'             b'-1'          b'-1'   \n",
       "3                     b'1'         b'-1'             b'-1'          b'-1'   \n",
       "4                     b'1'         b'-1'              b'1'           b'1'   \n",
       "\n",
       "  Domain_registeration_length Favicon  ... popUpWidnow Iframe age_of_domain  \\\n",
       "0                       b'-1'    b'1'  ...        b'1'   b'1'         b'-1'   \n",
       "1                       b'-1'    b'1'  ...        b'1'   b'1'         b'-1'   \n",
       "2                       b'-1'    b'1'  ...        b'1'   b'1'          b'1'   \n",
       "3                        b'1'    b'1'  ...        b'1'   b'1'         b'-1'   \n",
       "4                       b'-1'    b'1'  ...       b'-1'   b'1'         b'-1'   \n",
       "\n",
       "  DNSRecord web_traffic Page_Rank Google_Index Links_pointing_to_page  \\\n",
       "0     b'-1'       b'-1'     b'-1'         b'1'                   b'1'   \n",
       "1     b'-1'        b'0'     b'-1'         b'1'                   b'1'   \n",
       "2     b'-1'        b'1'     b'-1'         b'1'                   b'0'   \n",
       "3     b'-1'        b'1'     b'-1'         b'1'                  b'-1'   \n",
       "4     b'-1'        b'0'     b'-1'         b'1'                   b'1'   \n",
       "\n",
       "  Statistical_report Result  \n",
       "0              b'-1'      0  \n",
       "1               b'1'      0  \n",
       "2              b'-1'      0  \n",
       "3               b'1'      0  \n",
       "4               b'1'      1  \n",
       "\n",
       "[5 rows x 31 columns]"
      ],
      "text/html": [
       "<div>\n",
       "<style scoped>\n",
       "    .dataframe tbody tr th:only-of-type {\n",
       "        vertical-align: middle;\n",
       "    }\n",
       "\n",
       "    .dataframe tbody tr th {\n",
       "        vertical-align: top;\n",
       "    }\n",
       "\n",
       "    .dataframe thead th {\n",
       "        text-align: right;\n",
       "    }\n",
       "</style>\n",
       "<table border=\"1\" class=\"dataframe\">\n",
       "  <thead>\n",
       "    <tr style=\"text-align: right;\">\n",
       "      <th></th>\n",
       "      <th>having_IP_Address</th>\n",
       "      <th>URL_Length</th>\n",
       "      <th>Shortining_Service</th>\n",
       "      <th>having_At_Symbol</th>\n",
       "      <th>double_slash_redirecting</th>\n",
       "      <th>Prefix_Suffix</th>\n",
       "      <th>having_Sub_Domain</th>\n",
       "      <th>SSLfinal_State</th>\n",
       "      <th>Domain_registeration_length</th>\n",
       "      <th>Favicon</th>\n",
       "      <th>...</th>\n",
       "      <th>popUpWidnow</th>\n",
       "      <th>Iframe</th>\n",
       "      <th>age_of_domain</th>\n",
       "      <th>DNSRecord</th>\n",
       "      <th>web_traffic</th>\n",
       "      <th>Page_Rank</th>\n",
       "      <th>Google_Index</th>\n",
       "      <th>Links_pointing_to_page</th>\n",
       "      <th>Statistical_report</th>\n",
       "      <th>Result</th>\n",
       "    </tr>\n",
       "  </thead>\n",
       "  <tbody>\n",
       "    <tr>\n",
       "      <th>0</th>\n",
       "      <td>b'-1'</td>\n",
       "      <td>b'1'</td>\n",
       "      <td>b'1'</td>\n",
       "      <td>b'1'</td>\n",
       "      <td>b'-1'</td>\n",
       "      <td>b'-1'</td>\n",
       "      <td>b'-1'</td>\n",
       "      <td>b'-1'</td>\n",
       "      <td>b'-1'</td>\n",
       "      <td>b'1'</td>\n",
       "      <td>...</td>\n",
       "      <td>b'1'</td>\n",
       "      <td>b'1'</td>\n",
       "      <td>b'-1'</td>\n",
       "      <td>b'-1'</td>\n",
       "      <td>b'-1'</td>\n",
       "      <td>b'-1'</td>\n",
       "      <td>b'1'</td>\n",
       "      <td>b'1'</td>\n",
       "      <td>b'-1'</td>\n",
       "      <td>0</td>\n",
       "    </tr>\n",
       "    <tr>\n",
       "      <th>1</th>\n",
       "      <td>b'1'</td>\n",
       "      <td>b'1'</td>\n",
       "      <td>b'1'</td>\n",
       "      <td>b'1'</td>\n",
       "      <td>b'1'</td>\n",
       "      <td>b'-1'</td>\n",
       "      <td>b'0'</td>\n",
       "      <td>b'1'</td>\n",
       "      <td>b'-1'</td>\n",
       "      <td>b'1'</td>\n",
       "      <td>...</td>\n",
       "      <td>b'1'</td>\n",
       "      <td>b'1'</td>\n",
       "      <td>b'-1'</td>\n",
       "      <td>b'-1'</td>\n",
       "      <td>b'0'</td>\n",
       "      <td>b'-1'</td>\n",
       "      <td>b'1'</td>\n",
       "      <td>b'1'</td>\n",
       "      <td>b'1'</td>\n",
       "      <td>0</td>\n",
       "    </tr>\n",
       "    <tr>\n",
       "      <th>2</th>\n",
       "      <td>b'1'</td>\n",
       "      <td>b'0'</td>\n",
       "      <td>b'1'</td>\n",
       "      <td>b'1'</td>\n",
       "      <td>b'1'</td>\n",
       "      <td>b'-1'</td>\n",
       "      <td>b'-1'</td>\n",
       "      <td>b'-1'</td>\n",
       "      <td>b'-1'</td>\n",
       "      <td>b'1'</td>\n",
       "      <td>...</td>\n",
       "      <td>b'1'</td>\n",
       "      <td>b'1'</td>\n",
       "      <td>b'1'</td>\n",
       "      <td>b'-1'</td>\n",
       "      <td>b'1'</td>\n",
       "      <td>b'-1'</td>\n",
       "      <td>b'1'</td>\n",
       "      <td>b'0'</td>\n",
       "      <td>b'-1'</td>\n",
       "      <td>0</td>\n",
       "    </tr>\n",
       "    <tr>\n",
       "      <th>3</th>\n",
       "      <td>b'1'</td>\n",
       "      <td>b'0'</td>\n",
       "      <td>b'1'</td>\n",
       "      <td>b'1'</td>\n",
       "      <td>b'1'</td>\n",
       "      <td>b'-1'</td>\n",
       "      <td>b'-1'</td>\n",
       "      <td>b'-1'</td>\n",
       "      <td>b'1'</td>\n",
       "      <td>b'1'</td>\n",
       "      <td>...</td>\n",
       "      <td>b'1'</td>\n",
       "      <td>b'1'</td>\n",
       "      <td>b'-1'</td>\n",
       "      <td>b'-1'</td>\n",
       "      <td>b'1'</td>\n",
       "      <td>b'-1'</td>\n",
       "      <td>b'1'</td>\n",
       "      <td>b'-1'</td>\n",
       "      <td>b'1'</td>\n",
       "      <td>0</td>\n",
       "    </tr>\n",
       "    <tr>\n",
       "      <th>4</th>\n",
       "      <td>b'1'</td>\n",
       "      <td>b'0'</td>\n",
       "      <td>b'-1'</td>\n",
       "      <td>b'1'</td>\n",
       "      <td>b'1'</td>\n",
       "      <td>b'-1'</td>\n",
       "      <td>b'1'</td>\n",
       "      <td>b'1'</td>\n",
       "      <td>b'-1'</td>\n",
       "      <td>b'1'</td>\n",
       "      <td>...</td>\n",
       "      <td>b'-1'</td>\n",
       "      <td>b'1'</td>\n",
       "      <td>b'-1'</td>\n",
       "      <td>b'-1'</td>\n",
       "      <td>b'0'</td>\n",
       "      <td>b'-1'</td>\n",
       "      <td>b'1'</td>\n",
       "      <td>b'1'</td>\n",
       "      <td>b'1'</td>\n",
       "      <td>1</td>\n",
       "    </tr>\n",
       "  </tbody>\n",
       "</table>\n",
       "<p>5 rows × 31 columns</p>\n",
       "</div>"
      ]
     },
     "execution_count": 255,
     "metadata": {},
     "output_type": "execute_result"
    }
   ],
   "execution_count": 255
  },
  {
   "metadata": {
    "ExecuteTime": {
     "end_time": "2024-05-14T11:16:14.123745Z",
     "start_time": "2024-05-14T11:16:14.118511Z"
    }
   },
   "cell_type": "code",
   "source": [
    "df_phishing.rename(columns={\n",
    "    'Result': 'Target',\n",
    "}, inplace=True)"
   ],
   "id": "f9af62d2c6fcd7e5",
   "outputs": [],
   "execution_count": 256
  },
  {
   "metadata": {
    "ExecuteTime": {
     "end_time": "2024-05-14T11:16:14.998005Z",
     "start_time": "2024-05-14T11:16:14.978691Z"
    }
   },
   "cell_type": "code",
   "source": "df_phishing.info()",
   "id": "7e6ba42750a341d8",
   "outputs": [
    {
     "name": "stdout",
     "output_type": "stream",
     "text": [
      "<class 'pandas.core.frame.DataFrame'>\n",
      "RangeIndex: 11055 entries, 0 to 11054\n",
      "Data columns (total 31 columns):\n",
      " #   Column                       Non-Null Count  Dtype \n",
      "---  ------                       --------------  ----- \n",
      " 0   having_IP_Address            11055 non-null  object\n",
      " 1   URL_Length                   11055 non-null  object\n",
      " 2   Shortining_Service           11055 non-null  object\n",
      " 3   having_At_Symbol             11055 non-null  object\n",
      " 4   double_slash_redirecting     11055 non-null  object\n",
      " 5   Prefix_Suffix                11055 non-null  object\n",
      " 6   having_Sub_Domain            11055 non-null  object\n",
      " 7   SSLfinal_State               11055 non-null  object\n",
      " 8   Domain_registeration_length  11055 non-null  object\n",
      " 9   Favicon                      11055 non-null  object\n",
      " 10  port                         11055 non-null  object\n",
      " 11  HTTPS_token                  11055 non-null  object\n",
      " 12  Request_URL                  11055 non-null  object\n",
      " 13  URL_of_Anchor                11055 non-null  object\n",
      " 14  Links_in_tags                11055 non-null  object\n",
      " 15  SFH                          11055 non-null  object\n",
      " 16  Submitting_to_email          11055 non-null  object\n",
      " 17  Abnormal_URL                 11055 non-null  object\n",
      " 18  Redirect                     11055 non-null  object\n",
      " 19  on_mouseover                 11055 non-null  object\n",
      " 20  RightClick                   11055 non-null  object\n",
      " 21  popUpWidnow                  11055 non-null  object\n",
      " 22  Iframe                       11055 non-null  object\n",
      " 23  age_of_domain                11055 non-null  object\n",
      " 24  DNSRecord                    11055 non-null  object\n",
      " 25  web_traffic                  11055 non-null  object\n",
      " 26  Page_Rank                    11055 non-null  object\n",
      " 27  Google_Index                 11055 non-null  object\n",
      " 28  Links_pointing_to_page       11055 non-null  object\n",
      " 29  Statistical_report           11055 non-null  object\n",
      " 30  Target                       11055 non-null  int64 \n",
      "dtypes: int64(1), object(30)\n",
      "memory usage: 2.6+ MB\n"
     ]
    }
   ],
   "execution_count": 257
  },
  {
   "metadata": {
    "ExecuteTime": {
     "end_time": "2024-05-14T11:16:15.757363Z",
     "start_time": "2024-05-14T11:16:15.749638Z"
    }
   },
   "cell_type": "code",
   "source": "df_phishing.describe()",
   "id": "4b0b824b1f70788c",
   "outputs": [
    {
     "data": {
      "text/plain": [
       "             Target\n",
       "count  11055.000000\n",
       "mean       0.556943\n",
       "std        0.496769\n",
       "min        0.000000\n",
       "25%        0.000000\n",
       "50%        1.000000\n",
       "75%        1.000000\n",
       "max        1.000000"
      ],
      "text/html": [
       "<div>\n",
       "<style scoped>\n",
       "    .dataframe tbody tr th:only-of-type {\n",
       "        vertical-align: middle;\n",
       "    }\n",
       "\n",
       "    .dataframe tbody tr th {\n",
       "        vertical-align: top;\n",
       "    }\n",
       "\n",
       "    .dataframe thead th {\n",
       "        text-align: right;\n",
       "    }\n",
       "</style>\n",
       "<table border=\"1\" class=\"dataframe\">\n",
       "  <thead>\n",
       "    <tr style=\"text-align: right;\">\n",
       "      <th></th>\n",
       "      <th>Target</th>\n",
       "    </tr>\n",
       "  </thead>\n",
       "  <tbody>\n",
       "    <tr>\n",
       "      <th>count</th>\n",
       "      <td>11055.000000</td>\n",
       "    </tr>\n",
       "    <tr>\n",
       "      <th>mean</th>\n",
       "      <td>0.556943</td>\n",
       "    </tr>\n",
       "    <tr>\n",
       "      <th>std</th>\n",
       "      <td>0.496769</td>\n",
       "    </tr>\n",
       "    <tr>\n",
       "      <th>min</th>\n",
       "      <td>0.000000</td>\n",
       "    </tr>\n",
       "    <tr>\n",
       "      <th>25%</th>\n",
       "      <td>0.000000</td>\n",
       "    </tr>\n",
       "    <tr>\n",
       "      <th>50%</th>\n",
       "      <td>1.000000</td>\n",
       "    </tr>\n",
       "    <tr>\n",
       "      <th>75%</th>\n",
       "      <td>1.000000</td>\n",
       "    </tr>\n",
       "    <tr>\n",
       "      <th>max</th>\n",
       "      <td>1.000000</td>\n",
       "    </tr>\n",
       "  </tbody>\n",
       "</table>\n",
       "</div>"
      ]
     },
     "execution_count": 258,
     "metadata": {},
     "output_type": "execute_result"
    }
   ],
   "execution_count": 258
  },
  {
   "metadata": {
    "ExecuteTime": {
     "end_time": "2024-05-14T11:16:16.513616Z",
     "start_time": "2024-05-14T11:16:16.502116Z"
    }
   },
   "cell_type": "code",
   "source": "df_phishing[df_phishing.columns[-1]].value_counts()",
   "id": "5718975575a91d44",
   "outputs": [
    {
     "data": {
      "text/plain": [
       "Target\n",
       "1    6157\n",
       "0    4898\n",
       "Name: count, dtype: int64"
      ]
     },
     "execution_count": 259,
     "metadata": {},
     "output_type": "execute_result"
    }
   ],
   "execution_count": 259
  },
  {
   "metadata": {
    "ExecuteTime": {
     "end_time": "2024-05-14T11:16:17.361485Z",
     "start_time": "2024-05-14T11:16:17.230464Z"
    }
   },
   "cell_type": "code",
   "source": [
    "df_phishing.hist(figsize=(10, 8))\n",
    "plt.show()"
   ],
   "id": "1f36fc12f6a97ac2",
   "outputs": [
    {
     "data": {
      "text/plain": [
       "<Figure size 1000x800 with 1 Axes>"
      ],
      "image/png": "[encoded data removed]"
     },
     "metadata": {},
     "output_type": "display_data"
    }
   ],
   "execution_count": 260
  },
  {
   "metadata": {
    "ExecuteTime": {
     "end_time": "2024-05-14T11:16:18.182901Z",
     "start_time": "2024-05-14T11:16:18.103077Z"
    }
   },
   "cell_type": "code",
   "source": [
    "sns.countplot(x='Target', data=df_phishing)\n",
    "plt.show()"
   ],
   "id": "693145bee07d9f9a",
   "outputs": [
    {
     "data": {
      "text/plain": [
       "<Figure size 640x480 with 1 Axes>"
      ],
      "image/png": "[encoded data removed]"
     },
     "metadata": {},
     "output_type": "display_data"
    }
   ],
   "execution_count": 261
  },
  {
   "metadata": {
    "ExecuteTime": {
     "end_time": "2024-05-14T11:16:18.961197Z",
     "start_time": "2024-05-14T11:16:18.872765Z"
    }
   },
   "cell_type": "code",
   "source": [
    "sns.boxplot(x='Target', data=df_phishing)\n",
    "plt.show()"
   ],
   "id": "54c38e621a346f3c",
   "outputs": [
    {
     "data": {
      "text/plain": [
       "<Figure size 640x480 with 1 Axes>"
      ],
      "image/png": "[encoded data removed]"
     },
     "metadata": {},
     "output_type": "display_data"
    }
   ],
   "execution_count": 262
  },
  {
   "metadata": {},
   "cell_type": "markdown",
   "source": "## df_transplant",
   "id": "417596989c0dafd7"
  },
  {
   "metadata": {
    "ExecuteTime": {
     "end_time": "2024-05-14T11:16:20.308798Z",
     "start_time": "2024-05-14T11:16:20.302420Z"
    }
   },
   "cell_type": "code",
   "source": [
    "# Criação de um objeto LabelEncoder\n",
    "le = LabelEncoder()\n",
    "\n",
    "# Obter o nome da última coluna\n",
    "last_column = df_transplant.columns[-1]\n",
    "\n",
    "# Aplicar LabelEncoder à última coluna\n",
    "df_transplant[last_column] = le.fit_transform(df_transplant[last_column])"
   ],
   "id": "701ae00a6e2ccb79",
   "outputs": [],
   "execution_count": 263
  },
  {
   "metadata": {
    "ExecuteTime": {
     "end_time": "2024-05-14T11:16:21.061761Z",
     "start_time": "2024-05-14T11:16:21.053739Z"
    }
   },
   "cell_type": "code",
   "source": "df_transplant.head()",
   "id": "b3712986b9dfcd6b",
   "outputs": [
    {
     "data": {
      "text/plain": [
       "   obs      e    z  binaryClass\n",
       "0  1.0  0.057  0.0            1\n",
       "1  2.0  0.064  0.0            1\n",
       "2  3.0  0.064  0.0            1\n",
       "3  4.0  0.066  1.0            1\n",
       "4  5.0  0.462  0.0            1"
      ],
      "text/html": [
       "<div>\n",
       "<style scoped>\n",
       "    .dataframe tbody tr th:only-of-type {\n",
       "        vertical-align: middle;\n",
       "    }\n",
       "\n",
       "    .dataframe tbody tr th {\n",
       "        vertical-align: top;\n",
       "    }\n",
       "\n",
       "    .dataframe thead th {\n",
       "        text-align: right;\n",
       "    }\n",
       "</style>\n",
       "<table border=\"1\" class=\"dataframe\">\n",
       "  <thead>\n",
       "    <tr style=\"text-align: right;\">\n",
       "      <th></th>\n",
       "      <th>obs</th>\n",
       "      <th>e</th>\n",
       "      <th>z</th>\n",
       "      <th>binaryClass</th>\n",
       "    </tr>\n",
       "  </thead>\n",
       "  <tbody>\n",
       "    <tr>\n",
       "      <th>0</th>\n",
       "      <td>1.0</td>\n",
       "      <td>0.057</td>\n",
       "      <td>0.0</td>\n",
       "      <td>1</td>\n",
       "    </tr>\n",
       "    <tr>\n",
       "      <th>1</th>\n",
       "      <td>2.0</td>\n",
       "      <td>0.064</td>\n",
       "      <td>0.0</td>\n",
       "      <td>1</td>\n",
       "    </tr>\n",
       "    <tr>\n",
       "      <th>2</th>\n",
       "      <td>3.0</td>\n",
       "      <td>0.064</td>\n",
       "      <td>0.0</td>\n",
       "      <td>1</td>\n",
       "    </tr>\n",
       "    <tr>\n",
       "      <th>3</th>\n",
       "      <td>4.0</td>\n",
       "      <td>0.066</td>\n",
       "      <td>1.0</td>\n",
       "      <td>1</td>\n",
       "    </tr>\n",
       "    <tr>\n",
       "      <th>4</th>\n",
       "      <td>5.0</td>\n",
       "      <td>0.462</td>\n",
       "      <td>0.0</td>\n",
       "      <td>1</td>\n",
       "    </tr>\n",
       "  </tbody>\n",
       "</table>\n",
       "</div>"
      ]
     },
     "execution_count": 264,
     "metadata": {},
     "output_type": "execute_result"
    }
   ],
   "execution_count": 264
  },
  {
   "metadata": {
    "ExecuteTime": {
     "end_time": "2024-05-14T11:16:21.727364Z",
     "start_time": "2024-05-14T11:16:21.724256Z"
    }
   },
   "cell_type": "code",
   "source": [
    "df_transplant.rename(columns={\n",
    "    'obs': 'hospital',\n",
    "    'e': 'expected_number_deaths',\n",
    "    'z': 'number_deaths',\n",
    "    'binaryClass': 'Target',\n",
    "}, inplace=True)"
   ],
   "id": "d7772fc2129b2ef3",
   "outputs": [],
   "execution_count": 265
  },
  {
   "metadata": {
    "ExecuteTime": {
     "end_time": "2024-05-14T11:16:22.485120Z",
     "start_time": "2024-05-14T11:16:22.478176Z"
    }
   },
   "cell_type": "code",
   "source": "df_transplant.head()",
   "id": "c78457b6b4c16dd3",
   "outputs": [
    {
     "data": {
      "text/plain": [
       "   hospital  expected_number_deaths  number_deaths  Target\n",
       "0       1.0                   0.057            0.0       1\n",
       "1       2.0                   0.064            0.0       1\n",
       "2       3.0                   0.064            0.0       1\n",
       "3       4.0                   0.066            1.0       1\n",
       "4       5.0                   0.462            0.0       1"
      ],
      "text/html": [
       "<div>\n",
       "<style scoped>\n",
       "    .dataframe tbody tr th:only-of-type {\n",
       "        vertical-align: middle;\n",
       "    }\n",
       "\n",
       "    .dataframe tbody tr th {\n",
       "        vertical-align: top;\n",
       "    }\n",
       "\n",
       "    .dataframe thead th {\n",
       "        text-align: right;\n",
       "    }\n",
       "</style>\n",
       "<table border=\"1\" class=\"dataframe\">\n",
       "  <thead>\n",
       "    <tr style=\"text-align: right;\">\n",
       "      <th></th>\n",
       "      <th>hospital</th>\n",
       "      <th>expected_number_deaths</th>\n",
       "      <th>number_deaths</th>\n",
       "      <th>Target</th>\n",
       "    </tr>\n",
       "  </thead>\n",
       "  <tbody>\n",
       "    <tr>\n",
       "      <th>0</th>\n",
       "      <td>1.0</td>\n",
       "      <td>0.057</td>\n",
       "      <td>0.0</td>\n",
       "      <td>1</td>\n",
       "    </tr>\n",
       "    <tr>\n",
       "      <th>1</th>\n",
       "      <td>2.0</td>\n",
       "      <td>0.064</td>\n",
       "      <td>0.0</td>\n",
       "      <td>1</td>\n",
       "    </tr>\n",
       "    <tr>\n",
       "      <th>2</th>\n",
       "      <td>3.0</td>\n",
       "      <td>0.064</td>\n",
       "      <td>0.0</td>\n",
       "      <td>1</td>\n",
       "    </tr>\n",
       "    <tr>\n",
       "      <th>3</th>\n",
       "      <td>4.0</td>\n",
       "      <td>0.066</td>\n",
       "      <td>1.0</td>\n",
       "      <td>1</td>\n",
       "    </tr>\n",
       "    <tr>\n",
       "      <th>4</th>\n",
       "      <td>5.0</td>\n",
       "      <td>0.462</td>\n",
       "      <td>0.0</td>\n",
       "      <td>1</td>\n",
       "    </tr>\n",
       "  </tbody>\n",
       "</table>\n",
       "</div>"
      ]
     },
     "execution_count": 266,
     "metadata": {},
     "output_type": "execute_result"
    }
   ],
   "execution_count": 266
  },
  {
   "metadata": {
    "ExecuteTime": {
     "end_time": "2024-05-14T11:16:23.210835Z",
     "start_time": "2024-05-14T11:16:23.203182Z"
    }
   },
   "cell_type": "code",
   "source": "df_transplant.info()",
   "id": "5c99183ad268f556",
   "outputs": [
    {
     "name": "stdout",
     "output_type": "stream",
     "text": [
      "<class 'pandas.core.frame.DataFrame'>\n",
      "RangeIndex: 131 entries, 0 to 130\n",
      "Data columns (total 4 columns):\n",
      " #   Column                  Non-Null Count  Dtype  \n",
      "---  ------                  --------------  -----  \n",
      " 0   hospital                131 non-null    float64\n",
      " 1   expected_number_deaths  131 non-null    float64\n",
      " 2   number_deaths           131 non-null    float64\n",
      " 3   Target                  131 non-null    int64  \n",
      "dtypes: float64(3), int64(1)\n",
      "memory usage: 4.2 KB\n"
     ]
    }
   ],
   "execution_count": 267
  },
  {
   "metadata": {
    "ExecuteTime": {
     "end_time": "2024-05-14T11:16:23.951476Z",
     "start_time": "2024-05-14T11:16:23.939938Z"
    }
   },
   "cell_type": "code",
   "source": "df_transplant.describe()",
   "id": "d1bc4156ee1601f0",
   "outputs": [
    {
     "data": {
      "text/plain": [
       "         hospital  expected_number_deaths  number_deaths      Target\n",
       "count  131.000000              131.000000     131.000000  131.000000\n",
       "mean    66.000000                2.379099       2.381679    0.633588\n",
       "std     37.960506                2.387936       2.810579    0.483674\n",
       "min      1.000000                0.057000       0.000000    0.000000\n",
       "25%     33.500000                0.722000       0.500000    0.000000\n",
       "50%     66.000000                1.654000       2.000000    1.000000\n",
       "75%     98.500000                3.402000       3.000000    1.000000\n",
       "max    131.000000               12.131000      18.000000    1.000000"
      ],
      "text/html": [
       "<div>\n",
       "<style scoped>\n",
       "    .dataframe tbody tr th:only-of-type {\n",
       "        vertical-align: middle;\n",
       "    }\n",
       "\n",
       "    .dataframe tbody tr th {\n",
       "        vertical-align: top;\n",
       "    }\n",
       "\n",
       "    .dataframe thead th {\n",
       "        text-align: right;\n",
       "    }\n",
       "</style>\n",
       "<table border=\"1\" class=\"dataframe\">\n",
       "  <thead>\n",
       "    <tr style=\"text-align: right;\">\n",
       "      <th></th>\n",
       "      <th>hospital</th>\n",
       "      <th>expected_number_deaths</th>\n",
       "      <th>number_deaths</th>\n",
       "      <th>Target</th>\n",
       "    </tr>\n",
       "  </thead>\n",
       "  <tbody>\n",
       "    <tr>\n",
       "      <th>count</th>\n",
       "      <td>131.000000</td>\n",
       "      <td>131.000000</td>\n",
       "      <td>131.000000</td>\n",
       "      <td>131.000000</td>\n",
       "    </tr>\n",
       "    <tr>\n",
       "      <th>mean</th>\n",
       "      <td>66.000000</td>\n",
       "      <td>2.379099</td>\n",
       "      <td>2.381679</td>\n",
       "      <td>0.633588</td>\n",
       "    </tr>\n",
       "    <tr>\n",
       "      <th>std</th>\n",
       "      <td>37.960506</td>\n",
       "      <td>2.387936</td>\n",
       "      <td>2.810579</td>\n",
       "      <td>0.483674</td>\n",
       "    </tr>\n",
       "    <tr>\n",
       "      <th>min</th>\n",
       "      <td>1.000000</td>\n",
       "      <td>0.057000</td>\n",
       "      <td>0.000000</td>\n",
       "      <td>0.000000</td>\n",
       "    </tr>\n",
       "    <tr>\n",
       "      <th>25%</th>\n",
       "      <td>33.500000</td>\n",
       "      <td>0.722000</td>\n",
       "      <td>0.500000</td>\n",
       "      <td>0.000000</td>\n",
       "    </tr>\n",
       "    <tr>\n",
       "      <th>50%</th>\n",
       "      <td>66.000000</td>\n",
       "      <td>1.654000</td>\n",
       "      <td>2.000000</td>\n",
       "      <td>1.000000</td>\n",
       "    </tr>\n",
       "    <tr>\n",
       "      <th>75%</th>\n",
       "      <td>98.500000</td>\n",
       "      <td>3.402000</td>\n",
       "      <td>3.000000</td>\n",
       "      <td>1.000000</td>\n",
       "    </tr>\n",
       "    <tr>\n",
       "      <th>max</th>\n",
       "      <td>131.000000</td>\n",
       "      <td>12.131000</td>\n",
       "      <td>18.000000</td>\n",
       "      <td>1.000000</td>\n",
       "    </tr>\n",
       "  </tbody>\n",
       "</table>\n",
       "</div>"
      ]
     },
     "execution_count": 268,
     "metadata": {},
     "output_type": "execute_result"
    }
   ],
   "execution_count": 268
  },
  {
   "metadata": {
    "ExecuteTime": {
     "end_time": "2024-05-14T11:16:24.737208Z",
     "start_time": "2024-05-14T11:16:24.726832Z"
    }
   },
   "cell_type": "code",
   "source": "df_transplant[df_transplant.columns[-1]].value_counts()",
   "id": "651794303caabba7",
   "outputs": [
    {
     "data": {
      "text/plain": [
       "Target\n",
       "1    83\n",
       "0    48\n",
       "Name: count, dtype: int64"
      ]
     },
     "execution_count": 269,
     "metadata": {},
     "output_type": "execute_result"
    }
   ],
   "execution_count": 269
  },
  {
   "metadata": {
    "ExecuteTime": {
     "end_time": "2024-05-14T11:16:26.071610Z",
     "start_time": "2024-05-14T11:16:25.469297Z"
    }
   },
   "cell_type": "code",
   "source": [
    "df_transplant.hist(figsize=(10, 8))\n",
    "plt.show()"
   ],
   "id": "c9497a086c9ae175",
   "outputs": [
    {
     "data": {
      "text/plain": [
       "<Figure size 1000x800 with 4 Axes>"
      ],
      "image/png": "[encoded data removed]"
     },
     "metadata": {},
     "output_type": "display_data"
    }
   ],
   "execution_count": 270
  },
  {
   "metadata": {
    "ExecuteTime": {
     "end_time": "2024-05-14T11:16:26.718083Z",
     "start_time": "2024-05-14T11:16:26.648113Z"
    }
   },
   "cell_type": "code",
   "source": [
    "sns.countplot(x='Target', data=df_transplant)\n",
    "plt.show()"
   ],
   "id": "1fc49497e34a958d",
   "outputs": [
    {
     "data": {
      "text/plain": [
       "<Figure size 640x480 with 1 Axes>"
      ],
      "image/png": "[encoded data removed]"
     },
     "metadata": {},
     "output_type": "display_data"
    }
   ],
   "execution_count": 271
  },
  {
   "metadata": {
    "ExecuteTime": {
     "end_time": "2024-05-14T11:16:27.563841Z",
     "start_time": "2024-05-14T11:16:27.485662Z"
    }
   },
   "cell_type": "code",
   "source": [
    "sns.boxplot(x='Target', data=df_transplant)\n",
    "plt.show()"
   ],
   "id": "4feead1e05b7db45",
   "outputs": [
    {
     "data": {
      "text/plain": [
       "<Figure size 640x480 with 1 Axes>"
      ],
      "image/png": "[encoded data removed]"
     },
     "metadata": {},
     "output_type": "display_data"
    }
   ],
   "execution_count": 272
  }
 ],
 "metadata": {
  "kernelspec": {
   "display_name": "Python 3",
   "language": "python",
   "name": "python3"
  },
  "language_info": {
   "codemirror_mode": {
    "name": "ipython",
    "version": 2
   },
   "file_extension": ".py",
   "mimetype": "text/x-python",
   "name": "python",
   "nbconvert_exporter": "python",
   "pygments_lexer": "ipython2",
   "version": "2.7.6"
  }
 },
 "nbformat": 4,
 "nbformat_minor": 5
}
