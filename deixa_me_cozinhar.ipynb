{
 "cells": [
  {
   "cell_type": "code",
   "execution_count": 93,
   "id": "initial_id",
   "metadata": {
    "collapsed": true,
    "ExecuteTime": {
     "end_time": "2024-05-16T16:01:06.832721Z",
     "start_time": "2024-05-16T16:01:06.681326Z"
    }
   },
   "outputs": [],
   "source": [
    "from sklearn.preprocessing import LabelEncoder\n",
    "import pandas as pd\n",
    "import openml\n",
    "import seaborn as sn"
   ]
  },
  {
   "cell_type": "code",
   "outputs": [],
   "source": [
    "def get_dataset(id):\n",
    "\n",
    "    suite = openml.study.get_suite(99)\n",
    "    \n",
    "    task = openml.tasks.get_task(id)\n",
    "    dataset = openml.datasets.get_dataset(dataset_id,)\n",
    "    \n",
    "    X, y, categorical_indicator, attribute_names = dataset.get_data(\n",
    "        dataset_format=\"array\", target=dataset.default_target_attribute\n",
    "    )\n",
    "    \n",
    "    df = pd.DataFrame(X, columns=attribute_names)\n",
    "    # converter:\n",
    "    #   0 -> -1\n",
    "    #   1 -> 1\n",
    "    df['target'] = 2*y-1\n",
    "    # erase rows with NaN values\n",
    "    df = df.dropna(how='any', axis=0)\n",
    "    \n",
    "    \n",
    "    '''plt.matshow(df.corr())\n",
    "    plt.show()\n",
    "    corr = df.corr()\n",
    "    corr.style.background_gradient(cmap='Purples')\n",
    "    # 'RdBu_r', 'BrBG_r', & PuOr_r are other good diverging colormaps\n",
    "    '''\n",
    "    heatMap = df.corr()\n",
    "    sn.heatmap(heatMap, cmap=sn.cubehelix_palette(rot=.2))\n",
    "    \n",
    "    return df"
   ],
   "metadata": {
    "collapsed": false,
    "ExecuteTime": {
     "end_time": "2024-05-16T17:03:25.685649Z",
     "start_time": "2024-05-16T17:03:25.672092Z"
    }
   },
   "id": "c010b3edacf30e6",
   "execution_count": 129
  },
  {
   "cell_type": "code",
   "outputs": [
    {
     "name": "stderr",
     "output_type": "stream",
     "text": [
      "C:\\Users\\ricar\\AppData\\Local\\Temp\\ipykernel_24424\\3528415745.py:5: FutureWarning: Starting from Version 0.15.0 `download_splits` will default to ``False`` instead of ``True`` and be independent from `download_data`. To disable this message until version 0.15 explicitly set `download_splits` to a bool.\n",
      "  df = get_dataset(dataset_id)\n"
     ]
    },
    {
     "ename": "OpenMLServerException",
     "evalue": "https://www.openml.org/api/v1/xml/task/1464 returned code 151: Unknown task - None",
     "output_type": "error",
     "traceback": [
      "\u001B[1;31m---------------------------------------------------------------------------\u001B[0m",
      "\u001B[1;31mFileNotFoundError\u001B[0m                         Traceback (most recent call last)",
      "File \u001B[1;32m~\\anaconda3_\\envs\\AC1_Project\\lib\\site-packages\\openml\\tasks\\functions.py:66\u001B[0m, in \u001B[0;36m_get_cached_task\u001B[1;34m(tid)\u001B[0m\n\u001B[0;32m     65\u001B[0m \u001B[38;5;28;01mtry\u001B[39;00m:\n\u001B[1;32m---> 66\u001B[0m     \u001B[38;5;28;01mwith\u001B[39;00m \u001B[43mtask_xml_path\u001B[49m\u001B[38;5;241;43m.\u001B[39;49m\u001B[43mopen\u001B[49m\u001B[43m(\u001B[49m\u001B[43mencoding\u001B[49m\u001B[38;5;241;43m=\u001B[39;49m\u001B[38;5;124;43m\"\u001B[39;49m\u001B[38;5;124;43mutf8\u001B[39;49m\u001B[38;5;124;43m\"\u001B[39;49m\u001B[43m)\u001B[49m \u001B[38;5;28;01mas\u001B[39;00m fh:\n\u001B[0;32m     67\u001B[0m         \u001B[38;5;28;01mreturn\u001B[39;00m _create_task_from_xml(fh\u001B[38;5;241m.\u001B[39mread())\n",
      "File \u001B[1;32m~\\anaconda3_\\envs\\AC1_Project\\lib\\pathlib.py:1252\u001B[0m, in \u001B[0;36mPath.open\u001B[1;34m(self, mode, buffering, encoding, errors, newline)\u001B[0m\n\u001B[0;32m   1248\u001B[0m \u001B[38;5;124;03m\"\"\"\u001B[39;00m\n\u001B[0;32m   1249\u001B[0m \u001B[38;5;124;03mOpen the file pointed by this path and return a file object, as\u001B[39;00m\n\u001B[0;32m   1250\u001B[0m \u001B[38;5;124;03mthe built-in open() function does.\u001B[39;00m\n\u001B[0;32m   1251\u001B[0m \u001B[38;5;124;03m\"\"\"\u001B[39;00m\n\u001B[1;32m-> 1252\u001B[0m \u001B[38;5;28;01mreturn\u001B[39;00m \u001B[43mio\u001B[49m\u001B[38;5;241;43m.\u001B[39;49m\u001B[43mopen\u001B[49m\u001B[43m(\u001B[49m\u001B[38;5;28;43mself\u001B[39;49m\u001B[43m,\u001B[49m\u001B[43m \u001B[49m\u001B[43mmode\u001B[49m\u001B[43m,\u001B[49m\u001B[43m \u001B[49m\u001B[43mbuffering\u001B[49m\u001B[43m,\u001B[49m\u001B[43m \u001B[49m\u001B[43mencoding\u001B[49m\u001B[43m,\u001B[49m\u001B[43m \u001B[49m\u001B[43merrors\u001B[49m\u001B[43m,\u001B[49m\u001B[43m \u001B[49m\u001B[43mnewline\u001B[49m\u001B[43m,\u001B[49m\n\u001B[0;32m   1253\u001B[0m \u001B[43m               \u001B[49m\u001B[43mopener\u001B[49m\u001B[38;5;241;43m=\u001B[39;49m\u001B[38;5;28;43mself\u001B[39;49m\u001B[38;5;241;43m.\u001B[39;49m\u001B[43m_opener\u001B[49m\u001B[43m)\u001B[49m\n",
      "File \u001B[1;32m~\\anaconda3_\\envs\\AC1_Project\\lib\\pathlib.py:1120\u001B[0m, in \u001B[0;36mPath._opener\u001B[1;34m(self, name, flags, mode)\u001B[0m\n\u001B[0;32m   1118\u001B[0m \u001B[38;5;28;01mdef\u001B[39;00m \u001B[38;5;21m_opener\u001B[39m(\u001B[38;5;28mself\u001B[39m, name, flags, mode\u001B[38;5;241m=\u001B[39m\u001B[38;5;241m0o666\u001B[39m):\n\u001B[0;32m   1119\u001B[0m     \u001B[38;5;66;03m# A stub for the opener argument to built-in open()\u001B[39;00m\n\u001B[1;32m-> 1120\u001B[0m     \u001B[38;5;28;01mreturn\u001B[39;00m \u001B[38;5;28;43mself\u001B[39;49m\u001B[38;5;241;43m.\u001B[39;49m\u001B[43m_accessor\u001B[49m\u001B[38;5;241;43m.\u001B[39;49m\u001B[43mopen\u001B[49m\u001B[43m(\u001B[49m\u001B[38;5;28;43mself\u001B[39;49m\u001B[43m,\u001B[49m\u001B[43m \u001B[49m\u001B[43mflags\u001B[49m\u001B[43m,\u001B[49m\u001B[43m \u001B[49m\u001B[43mmode\u001B[49m\u001B[43m)\u001B[49m\n",
      "\u001B[1;31mFileNotFoundError\u001B[0m: [Errno 2] No such file or directory: 'C:\\\\Users\\\\ricar\\\\.openml\\\\org\\\\openml\\\\www\\\\tasks\\\\1464\\\\task.xml'",
      "\nThe above exception was the direct cause of the following exception:\n",
      "\u001B[1;31mOpenMLCacheException\u001B[0m                      Traceback (most recent call last)",
      "File \u001B[1;32m~\\anaconda3_\\envs\\AC1_Project\\lib\\site-packages\\openml\\tasks\\functions.py:461\u001B[0m, in \u001B[0;36m_get_task_description\u001B[1;34m(task_id)\u001B[0m\n\u001B[0;32m    460\u001B[0m \u001B[38;5;28;01mtry\u001B[39;00m:\n\u001B[1;32m--> 461\u001B[0m     \u001B[38;5;28;01mreturn\u001B[39;00m \u001B[43m_get_cached_task\u001B[49m\u001B[43m(\u001B[49m\u001B[43mtask_id\u001B[49m\u001B[43m)\u001B[49m\n\u001B[0;32m    462\u001B[0m \u001B[38;5;28;01mexcept\u001B[39;00m OpenMLCacheException:\n",
      "File \u001B[1;32m~\\anaconda3_\\envs\\AC1_Project\\lib\\site-packages\\openml\\tasks\\functions.py:70\u001B[0m, in \u001B[0;36m_get_cached_task\u001B[1;34m(tid)\u001B[0m\n\u001B[0;32m     69\u001B[0m openml\u001B[38;5;241m.\u001B[39mutils\u001B[38;5;241m.\u001B[39m_remove_cache_dir_for_id(TASKS_CACHE_DIR_NAME, tid_cache_dir)\n\u001B[1;32m---> 70\u001B[0m \u001B[38;5;28;01mraise\u001B[39;00m OpenMLCacheException(\u001B[38;5;124mf\u001B[39m\u001B[38;5;124m\"\u001B[39m\u001B[38;5;124mTask file for tid \u001B[39m\u001B[38;5;132;01m{\u001B[39;00mtid\u001B[38;5;132;01m}\u001B[39;00m\u001B[38;5;124m not cached\u001B[39m\u001B[38;5;124m\"\u001B[39m) \u001B[38;5;28;01mfrom\u001B[39;00m \u001B[38;5;21;01me\u001B[39;00m\n",
      "\u001B[1;31mOpenMLCacheException\u001B[0m: Task file for tid 1464 not cached",
      "\nDuring handling of the above exception, another exception occurred:\n",
      "\u001B[1;31mOpenMLServerException\u001B[0m                     Traceback (most recent call last)",
      "Input \u001B[1;32mIn [132]\u001B[0m, in \u001B[0;36m<cell line: 4>\u001B[1;34m()\u001B[0m\n\u001B[0;32m      3\u001B[0m dataframes \u001B[38;5;241m=\u001B[39m {}\n\u001B[0;32m      4\u001B[0m \u001B[38;5;28;01mfor\u001B[39;00m dataset_id \u001B[38;5;129;01min\u001B[39;00m list_num_dataset_id:\n\u001B[1;32m----> 5\u001B[0m     df \u001B[38;5;241m=\u001B[39m \u001B[43mget_dataset\u001B[49m\u001B[43m(\u001B[49m\u001B[43mdataset_id\u001B[49m\u001B[43m)\u001B[49m\n\u001B[0;32m      6\u001B[0m     dataframes[dataset_id] \u001B[38;5;241m=\u001B[39m df\n",
      "Input \u001B[1;32mIn [129]\u001B[0m, in \u001B[0;36mget_dataset\u001B[1;34m(id)\u001B[0m\n\u001B[0;32m      1\u001B[0m \u001B[38;5;28;01mdef\u001B[39;00m \u001B[38;5;21mget_dataset\u001B[39m(\u001B[38;5;28mid\u001B[39m):\n\u001B[0;32m      3\u001B[0m     suite \u001B[38;5;241m=\u001B[39m openml\u001B[38;5;241m.\u001B[39mstudy\u001B[38;5;241m.\u001B[39mget_suite(\u001B[38;5;241m99\u001B[39m)\n\u001B[1;32m----> 5\u001B[0m     task \u001B[38;5;241m=\u001B[39m \u001B[43mopenml\u001B[49m\u001B[38;5;241;43m.\u001B[39;49m\u001B[43mtasks\u001B[49m\u001B[38;5;241;43m.\u001B[39;49m\u001B[43mget_task\u001B[49m\u001B[43m(\u001B[49m\u001B[38;5;28;43mid\u001B[39;49m\u001B[43m)\u001B[49m\n\u001B[0;32m      6\u001B[0m     dataset \u001B[38;5;241m=\u001B[39m openml\u001B[38;5;241m.\u001B[39mdatasets\u001B[38;5;241m.\u001B[39mget_dataset(dataset_id,)\n\u001B[0;32m      8\u001B[0m     X, y, categorical_indicator, attribute_names \u001B[38;5;241m=\u001B[39m dataset\u001B[38;5;241m.\u001B[39mget_data(\n\u001B[0;32m      9\u001B[0m         dataset_format\u001B[38;5;241m=\u001B[39m\u001B[38;5;124m\"\u001B[39m\u001B[38;5;124marray\u001B[39m\u001B[38;5;124m\"\u001B[39m, target\u001B[38;5;241m=\u001B[39mdataset\u001B[38;5;241m.\u001B[39mdefault_target_attribute\n\u001B[0;32m     10\u001B[0m     )\n",
      "File \u001B[1;32m~\\anaconda3_\\envs\\AC1_Project\\lib\\site-packages\\openml\\tasks\\functions.py:454\u001B[0m, in \u001B[0;36mget_task\u001B[1;34m(task_id, download_splits, *dataset_args, **get_dataset_kwargs)\u001B[0m\n\u001B[0;32m    452\u001B[0m \u001B[38;5;28;01mexcept\u001B[39;00m \u001B[38;5;167;01mException\u001B[39;00m \u001B[38;5;28;01mas\u001B[39;00m e:\n\u001B[0;32m    453\u001B[0m     openml\u001B[38;5;241m.\u001B[39mutils\u001B[38;5;241m.\u001B[39m_remove_cache_dir_for_id(TASKS_CACHE_DIR_NAME, tid_cache_dir)\n\u001B[1;32m--> 454\u001B[0m     \u001B[38;5;28;01mraise\u001B[39;00m e\n\u001B[0;32m    456\u001B[0m \u001B[38;5;28;01mreturn\u001B[39;00m task\n",
      "File \u001B[1;32m~\\anaconda3_\\envs\\AC1_Project\\lib\\site-packages\\openml\\tasks\\functions.py:441\u001B[0m, in \u001B[0;36mget_task\u001B[1;34m(task_id, download_splits, *dataset_args, **get_dataset_kwargs)\u001B[0m\n\u001B[0;32m    438\u001B[0m tid_cache_dir \u001B[38;5;241m=\u001B[39m openml\u001B[38;5;241m.\u001B[39mutils\u001B[38;5;241m.\u001B[39m_create_cache_directory_for_id(TASKS_CACHE_DIR_NAME, task_id)\n\u001B[0;32m    440\u001B[0m \u001B[38;5;28;01mtry\u001B[39;00m:\n\u001B[1;32m--> 441\u001B[0m     task \u001B[38;5;241m=\u001B[39m \u001B[43m_get_task_description\u001B[49m\u001B[43m(\u001B[49m\u001B[43mtask_id\u001B[49m\u001B[43m)\u001B[49m\n\u001B[0;32m    442\u001B[0m     dataset \u001B[38;5;241m=\u001B[39m get_dataset(task\u001B[38;5;241m.\u001B[39mdataset_id, \u001B[38;5;241m*\u001B[39mdataset_args, \u001B[38;5;241m*\u001B[39m\u001B[38;5;241m*\u001B[39mget_dataset_kwargs)\n\u001B[0;32m    443\u001B[0m     \u001B[38;5;66;03m# List of class labels available in dataset description\u001B[39;00m\n\u001B[0;32m    444\u001B[0m     \u001B[38;5;66;03m# Including class labels as part of task meta data handles\u001B[39;00m\n\u001B[0;32m    445\u001B[0m     \u001B[38;5;66;03m#   the case where data download was initially disabled\u001B[39;00m\n",
      "File \u001B[1;32m~\\anaconda3_\\envs\\AC1_Project\\lib\\site-packages\\openml\\tasks\\functions.py:465\u001B[0m, in \u001B[0;36m_get_task_description\u001B[1;34m(task_id)\u001B[0m\n\u001B[0;32m    463\u001B[0m _cache_dir \u001B[38;5;241m=\u001B[39m openml\u001B[38;5;241m.\u001B[39mutils\u001B[38;5;241m.\u001B[39m_create_cache_directory_for_id(TASKS_CACHE_DIR_NAME, task_id)\n\u001B[0;32m    464\u001B[0m xml_file \u001B[38;5;241m=\u001B[39m _cache_dir \u001B[38;5;241m/\u001B[39m \u001B[38;5;124m\"\u001B[39m\u001B[38;5;124mtask.xml\u001B[39m\u001B[38;5;124m\"\u001B[39m\n\u001B[1;32m--> 465\u001B[0m task_xml \u001B[38;5;241m=\u001B[39m \u001B[43mopenml\u001B[49m\u001B[38;5;241;43m.\u001B[39;49m\u001B[43m_api_calls\u001B[49m\u001B[38;5;241;43m.\u001B[39;49m\u001B[43m_perform_api_call\u001B[49m\u001B[43m(\u001B[49m\u001B[38;5;124;43m\"\u001B[39;49m\u001B[38;5;124;43mtask/\u001B[39;49m\u001B[38;5;132;43;01m%d\u001B[39;49;00m\u001B[38;5;124;43m\"\u001B[39;49m\u001B[43m \u001B[49m\u001B[38;5;241;43m%\u001B[39;49m\u001B[43m \u001B[49m\u001B[43mtask_id\u001B[49m\u001B[43m,\u001B[49m\u001B[43m \u001B[49m\u001B[38;5;124;43m\"\u001B[39;49m\u001B[38;5;124;43mget\u001B[39;49m\u001B[38;5;124;43m\"\u001B[39;49m\u001B[43m)\u001B[49m\n\u001B[0;32m    467\u001B[0m \u001B[38;5;28;01mwith\u001B[39;00m xml_file\u001B[38;5;241m.\u001B[39mopen(\u001B[38;5;124m\"\u001B[39m\u001B[38;5;124mw\u001B[39m\u001B[38;5;124m\"\u001B[39m, encoding\u001B[38;5;241m=\u001B[39m\u001B[38;5;124m\"\u001B[39m\u001B[38;5;124mutf8\u001B[39m\u001B[38;5;124m\"\u001B[39m) \u001B[38;5;28;01mas\u001B[39;00m fh:\n\u001B[0;32m    468\u001B[0m     fh\u001B[38;5;241m.\u001B[39mwrite(task_xml)\n",
      "File \u001B[1;32m~\\anaconda3_\\envs\\AC1_Project\\lib\\site-packages\\openml\\_api_calls.py:111\u001B[0m, in \u001B[0;36m_perform_api_call\u001B[1;34m(call, request_method, data, file_elements)\u001B[0m\n\u001B[0;32m    109\u001B[0m     response \u001B[38;5;241m=\u001B[39m _read_url_files(url, data\u001B[38;5;241m=\u001B[39mdata, file_elements\u001B[38;5;241m=\u001B[39mfile_elements)\n\u001B[0;32m    110\u001B[0m \u001B[38;5;28;01melse\u001B[39;00m:\n\u001B[1;32m--> 111\u001B[0m     response \u001B[38;5;241m=\u001B[39m \u001B[43m__read_url\u001B[49m\u001B[43m(\u001B[49m\u001B[43murl\u001B[49m\u001B[43m,\u001B[49m\u001B[43m \u001B[49m\u001B[43mrequest_method\u001B[49m\u001B[43m,\u001B[49m\u001B[43m \u001B[49m\u001B[43mdata\u001B[49m\u001B[43m)\u001B[49m\n\u001B[0;32m    113\u001B[0m __check_response(response, url, file_elements)\n\u001B[0;32m    115\u001B[0m logging\u001B[38;5;241m.\u001B[39minfo(\n\u001B[0;32m    116\u001B[0m     \u001B[38;5;124m\"\u001B[39m\u001B[38;5;132;01m%.7f\u001B[39;00m\u001B[38;5;124ms taken for [\u001B[39m\u001B[38;5;132;01m%s\u001B[39;00m\u001B[38;5;124m] request for the URL \u001B[39m\u001B[38;5;132;01m%s\u001B[39;00m\u001B[38;5;124m\"\u001B[39m,\n\u001B[0;32m    117\u001B[0m     time\u001B[38;5;241m.\u001B[39mtime() \u001B[38;5;241m-\u001B[39m start,\n\u001B[0;32m    118\u001B[0m     request_method,\n\u001B[0;32m    119\u001B[0m     url,\n\u001B[0;32m    120\u001B[0m )\n",
      "File \u001B[1;32m~\\anaconda3_\\envs\\AC1_Project\\lib\\site-packages\\openml\\_api_calls.py:316\u001B[0m, in \u001B[0;36m__read_url\u001B[1;34m(url, request_method, data, md5_checksum)\u001B[0m\n\u001B[0;32m    314\u001B[0m \u001B[38;5;28;01mif\u001B[39;00m config\u001B[38;5;241m.\u001B[39mapikey:\n\u001B[0;32m    315\u001B[0m     data[\u001B[38;5;124m\"\u001B[39m\u001B[38;5;124mapi_key\u001B[39m\u001B[38;5;124m\"\u001B[39m] \u001B[38;5;241m=\u001B[39m config\u001B[38;5;241m.\u001B[39mapikey\n\u001B[1;32m--> 316\u001B[0m \u001B[38;5;28;01mreturn\u001B[39;00m \u001B[43m_send_request\u001B[49m\u001B[43m(\u001B[49m\n\u001B[0;32m    317\u001B[0m \u001B[43m    \u001B[49m\u001B[43mrequest_method\u001B[49m\u001B[38;5;241;43m=\u001B[39;49m\u001B[43mrequest_method\u001B[49m\u001B[43m,\u001B[49m\n\u001B[0;32m    318\u001B[0m \u001B[43m    \u001B[49m\u001B[43murl\u001B[49m\u001B[38;5;241;43m=\u001B[39;49m\u001B[43murl\u001B[49m\u001B[43m,\u001B[49m\n\u001B[0;32m    319\u001B[0m \u001B[43m    \u001B[49m\u001B[43mdata\u001B[49m\u001B[38;5;241;43m=\u001B[39;49m\u001B[43mdata\u001B[49m\u001B[43m,\u001B[49m\n\u001B[0;32m    320\u001B[0m \u001B[43m    \u001B[49m\u001B[43mmd5_checksum\u001B[49m\u001B[38;5;241;43m=\u001B[39;49m\u001B[43mmd5_checksum\u001B[49m\u001B[43m,\u001B[49m\n\u001B[0;32m    321\u001B[0m \u001B[43m\u001B[49m\u001B[43m)\u001B[49m\n",
      "File \u001B[1;32m~\\anaconda3_\\envs\\AC1_Project\\lib\\site-packages\\openml\\_api_calls.py:390\u001B[0m, in \u001B[0;36m_send_request\u001B[1;34m(request_method, url, data, files, md5_checksum)\u001B[0m\n\u001B[0;32m    384\u001B[0m \u001B[38;5;28;01mexcept\u001B[39;00m OpenMLServerException \u001B[38;5;28;01mas\u001B[39;00m e:\n\u001B[0;32m    385\u001B[0m     \u001B[38;5;66;03m# Propagate all server errors to the calling functions, except\u001B[39;00m\n\u001B[0;32m    386\u001B[0m     \u001B[38;5;66;03m# for 107 which represents a database connection error.\u001B[39;00m\n\u001B[0;32m    387\u001B[0m     \u001B[38;5;66;03m# These are typically caused by high server load,\u001B[39;00m\n\u001B[0;32m    388\u001B[0m     \u001B[38;5;66;03m# which means trying again might resolve the issue.\u001B[39;00m\n\u001B[0;32m    389\u001B[0m     \u001B[38;5;28;01mif\u001B[39;00m e\u001B[38;5;241m.\u001B[39mcode \u001B[38;5;241m!=\u001B[39m DATABASE_CONNECTION_ERRCODE:\n\u001B[1;32m--> 390\u001B[0m         \u001B[38;5;28;01mraise\u001B[39;00m e\n\u001B[0;32m    391\u001B[0m     retry_raise_e \u001B[38;5;241m=\u001B[39m e\n\u001B[0;32m    392\u001B[0m \u001B[38;5;28;01mexcept\u001B[39;00m xml\u001B[38;5;241m.\u001B[39mparsers\u001B[38;5;241m.\u001B[39mexpat\u001B[38;5;241m.\u001B[39mExpatError \u001B[38;5;28;01mas\u001B[39;00m e:\n",
      "File \u001B[1;32m~\\anaconda3_\\envs\\AC1_Project\\lib\\site-packages\\openml\\_api_calls.py:361\u001B[0m, in \u001B[0;36m_send_request\u001B[1;34m(request_method, url, data, files, md5_checksum)\u001B[0m\n\u001B[0;32m    358\u001B[0m \u001B[38;5;28;01melse\u001B[39;00m:\n\u001B[0;32m    359\u001B[0m     \u001B[38;5;28;01mraise\u001B[39;00m \u001B[38;5;167;01mNotImplementedError\u001B[39;00m()\n\u001B[1;32m--> 361\u001B[0m \u001B[43m__check_response\u001B[49m\u001B[43m(\u001B[49m\u001B[43mresponse\u001B[49m\u001B[38;5;241;43m=\u001B[39;49m\u001B[43mresponse\u001B[49m\u001B[43m,\u001B[49m\u001B[43m \u001B[49m\u001B[43murl\u001B[49m\u001B[38;5;241;43m=\u001B[39;49m\u001B[43murl\u001B[49m\u001B[43m,\u001B[49m\u001B[43m \u001B[49m\u001B[43mfile_elements\u001B[49m\u001B[38;5;241;43m=\u001B[39;49m\u001B[43mfiles\u001B[49m\u001B[43m)\u001B[49m\n\u001B[0;32m    363\u001B[0m \u001B[38;5;28;01mif\u001B[39;00m request_method \u001B[38;5;241m==\u001B[39m \u001B[38;5;124m\"\u001B[39m\u001B[38;5;124mget\u001B[39m\u001B[38;5;124m\"\u001B[39m \u001B[38;5;129;01mand\u001B[39;00m \u001B[38;5;129;01mnot\u001B[39;00m __is_checksum_equal(\n\u001B[0;32m    364\u001B[0m     response\u001B[38;5;241m.\u001B[39mtext\u001B[38;5;241m.\u001B[39mencode(\u001B[38;5;124m\"\u001B[39m\u001B[38;5;124mutf-8\u001B[39m\u001B[38;5;124m\"\u001B[39m), md5_checksum\n\u001B[0;32m    365\u001B[0m ):\n\u001B[0;32m    366\u001B[0m     \u001B[38;5;66;03m# -- Check if encoding is not UTF-8 perhaps\u001B[39;00m\n\u001B[0;32m    367\u001B[0m     \u001B[38;5;28;01mif\u001B[39;00m __is_checksum_equal(response\u001B[38;5;241m.\u001B[39mcontent, md5_checksum):\n",
      "File \u001B[1;32m~\\anaconda3_\\envs\\AC1_Project\\lib\\site-packages\\openml\\_api_calls.py:429\u001B[0m, in \u001B[0;36m__check_response\u001B[1;34m(response, url, file_elements)\u001B[0m\n\u001B[0;32m    423\u001B[0m \u001B[38;5;28;01mdef\u001B[39;00m \u001B[38;5;21m__check_response\u001B[39m(\n\u001B[0;32m    424\u001B[0m     response: requests\u001B[38;5;241m.\u001B[39mResponse,\n\u001B[0;32m    425\u001B[0m     url: \u001B[38;5;28mstr\u001B[39m,\n\u001B[0;32m    426\u001B[0m     file_elements: FILE_ELEMENTS_TYPE \u001B[38;5;241m|\u001B[39m \u001B[38;5;28;01mNone\u001B[39;00m,\n\u001B[0;32m    427\u001B[0m ) \u001B[38;5;241m-\u001B[39m\u001B[38;5;241m>\u001B[39m \u001B[38;5;28;01mNone\u001B[39;00m:\n\u001B[0;32m    428\u001B[0m     \u001B[38;5;28;01mif\u001B[39;00m response\u001B[38;5;241m.\u001B[39mstatus_code \u001B[38;5;241m!=\u001B[39m \u001B[38;5;241m200\u001B[39m:\n\u001B[1;32m--> 429\u001B[0m         \u001B[38;5;28;01mraise\u001B[39;00m __parse_server_exception(response, url, file_elements\u001B[38;5;241m=\u001B[39mfile_elements)\n\u001B[0;32m    430\u001B[0m     \u001B[38;5;28;01mif\u001B[39;00m \u001B[38;5;124m\"\u001B[39m\u001B[38;5;124mContent-Encoding\u001B[39m\u001B[38;5;124m\"\u001B[39m \u001B[38;5;129;01mnot\u001B[39;00m \u001B[38;5;129;01min\u001B[39;00m response\u001B[38;5;241m.\u001B[39mheaders \u001B[38;5;129;01mor\u001B[39;00m response\u001B[38;5;241m.\u001B[39mheaders[\u001B[38;5;124m\"\u001B[39m\u001B[38;5;124mContent-Encoding\u001B[39m\u001B[38;5;124m\"\u001B[39m] \u001B[38;5;241m!=\u001B[39m \u001B[38;5;124m\"\u001B[39m\u001B[38;5;124mgzip\u001B[39m\u001B[38;5;124m\"\u001B[39m:\n\u001B[0;32m    431\u001B[0m         logging\u001B[38;5;241m.\u001B[39mwarning(\u001B[38;5;124mf\u001B[39m\u001B[38;5;124m\"\u001B[39m\u001B[38;5;124mReceived uncompressed content from OpenML for \u001B[39m\u001B[38;5;132;01m{\u001B[39;00murl\u001B[38;5;132;01m}\u001B[39;00m\u001B[38;5;124m.\u001B[39m\u001B[38;5;124m\"\u001B[39m)\n",
      "\u001B[1;31mOpenMLServerException\u001B[0m: https://www.openml.org/api/v1/xml/task/1464 returned code 151: Unknown task - None"
     ]
    }
   ],
   "source": [
    "list = [37, 1461, 61, 13, 31, 1464, 4534, 4134, 885, 40994]\n",
    "list_num_dataset_id = [1464, 1067, 1467, 1504,1494, 1068]\n",
    "dataframes = {}\n",
    "for dataset_id in list_num_dataset_id:\n",
    "    df = get_dataset(dataset_id)\n",
    "    dataframes[dataset_id] = df"
   ],
   "metadata": {
    "collapsed": false,
    "ExecuteTime": {
     "end_time": "2024-05-16T17:09:05.695550Z",
     "start_time": "2024-05-16T17:08:51.824848Z"
    }
   },
   "id": "33ffbbecf9588bd3",
   "execution_count": 132
  },
  {
   "cell_type": "code",
   "outputs": [
    {
     "data": {
      "text/plain": "dict_keys([])"
     },
     "execution_count": 133,
     "metadata": {},
     "output_type": "execute_result"
    }
   ],
   "source": [
    "dataframes.keys()"
   ],
   "metadata": {
    "collapsed": false,
    "ExecuteTime": {
     "end_time": "2024-05-16T17:09:34.302671Z",
     "start_time": "2024-05-16T17:09:34.280420Z"
    }
   },
   "id": "b10a2a1caee7048a",
   "execution_count": 133
  },
  {
   "cell_type": "code",
   "outputs": [],
   "source": [],
   "metadata": {
    "collapsed": false
   },
   "id": "81b8c08e6c4f157f"
  },
  {
   "cell_type": "code",
   "outputs": [],
   "source": [
    "import openml\n",
    "import pandas as pd\n",
    "\n",
    "# Definindo os IDs dos conjuntos de dados\n",
    "dataset_ids = [13, 31, 1461]\n",
    "\n",
    "# Criando um dicionário para armazenar os dataframes\n",
    "dataframes = {}\n",
    "\n",
    "# Loop para baixar os datasets e converter em dataframes\n",
    "for dataset_id in dataset_ids:\n",
    "    dataset = openml.datasets.get_dataset(dataset_id, download_data=True, download_qualities=True, download_features_meta_data=True)\n",
    "    df, *_ = dataset.get_data(target=dataset.default_target_attribute)\n",
    "    dataframes[dataset_id] = df\n",
    "\n",
    "le = LabelEncoder()\n",
    "for id in dataset_ids:\n",
    "    dataframes[id].rename(columns={dataframes[id].columns[-1]: 'target'}, inplace=True)\n",
    "\n",
    "    dataframes[id]['target'] = le.fit_transform(dataframes[id]['target'])\n",
    "    dataframes[id]['target'] = dataframes[id]['target'].apply(lambda x: 1 if x == 1 else -1)\n",
    "\n",
    "    dataframes[id]  = dataframes[id].dropna()\n",
    "# Salvando os dataframes como arquivos CSV\n",
    "for dataset_id, df in dataframes.items():\n",
    "    df.to_csv(f'dataset_{dataset_id}.csv', index=False)\n"
   ],
   "metadata": {
    "collapsed": false,
    "ExecuteTime": {
     "end_time": "2024-05-16T16:25:10.341299Z",
     "start_time": "2024-05-16T16:25:09.538507Z"
    }
   },
   "id": "a4290cff71d6b334",
   "execution_count": 114
  },
  {
   "cell_type": "code",
   "outputs": [
    {
     "data": {
      "text/plain": "dict_keys([13, 31])"
     },
     "execution_count": 113,
     "metadata": {},
     "output_type": "execute_result"
    }
   ],
   "source": [
    "dataframes[31]"
   ],
   "metadata": {
    "collapsed": false,
    "ExecuteTime": {
     "end_time": "2024-05-16T16:24:23.677942Z",
     "start_time": "2024-05-16T16:24:23.659309Z"
    }
   },
   "id": "86f587477492511f",
   "execution_count": 113
  },
  {
   "cell_type": "code",
   "outputs": [],
   "source": [
    "import pandas as pd\n",
    "import numpy as np\n",
    "from sklearn.model_selection import KFold\n",
    "\n",
    "\n",
    "\n",
    "def run_cv(X,y,algs,nfolds=10, means_only=False):\n",
    "    results = {}\n",
    "    kf = KFold(n_splits=nfolds, shuffle=True, random_state=1111)\n",
    "    for algo_name, algo in algs:\n",
    "        results[algo_name] = []\n",
    "        for fold, (train_idx, test_idx) in enumerate(kf.split(X)):\n",
    "            X_train, X_test = X.iloc[train_idx], X.iloc[test_idx]\n",
    "            y_train, y_test = y.iloc[train_idx], y.iloc[test_idx]\n",
    "            algo.fit(X_train, y_train, M=40)\n",
    "            y_pred = algo.predict(X_test)\n",
    "            results[algo_name].append(accuracy_score(y_test, y_pred))\n",
    "    results_df = pd.DataFrame.from_dict(results)\n",
    "    if not means_only:\n",
    "        return results_df\n",
    "    else:\n",
    "        results_means = {}\n",
    "        for algo_name, algo in algs:\n",
    "            results_means[algo_name] = [np.mean(results[algo_name])]\n",
    "        return pd.DataFrame.from_dict(results_means)"
   ],
   "metadata": {
    "collapsed": false,
    "ExecuteTime": {
     "end_time": "2024-05-16T15:30:32.978131Z",
     "start_time": "2024-05-16T15:30:32.964103Z"
    }
   },
   "id": "6f48374ce47063ed",
   "execution_count": 84
  },
  {
   "cell_type": "code",
   "outputs": [],
   "source": [
    "import matplotlib.pyplot as plt\n",
    "\n",
    "def plot_cv(results_cv,metric='Accuracy', title=\"Cross-validation results for multiple algorithms in a single task\"):\n",
    "    fig, ax = plt.subplots()\n",
    "    ax.boxplot(results_cv)\n",
    "    ax.set_xticklabels(results_cv.columns)\n",
    "    ax.set_ylabel(metric)\n",
    "    ax.set_title(title)\n",
    "    plt.show()"
   ],
   "metadata": {
    "collapsed": false,
    "ExecuteTime": {
     "end_time": "2024-05-16T15:30:33.240433Z",
     "start_time": "2024-05-16T15:30:33.228578Z"
    }
   },
   "id": "60e8068657b158cc",
   "execution_count": 85
  },
  {
   "cell_type": "code",
   "outputs": [
    {
     "ename": "ValueError",
     "evalue": "could not convert string to float: '60-69'",
     "output_type": "error",
     "traceback": [
      "\u001B[1;31m---------------------------------------------------------------------------\u001B[0m",
      "\u001B[1;31mValueError\u001B[0m                                Traceback (most recent call last)",
      "Input \u001B[1;32mIn [89]\u001B[0m, in \u001B[0;36m<cell line: 10>\u001B[1;34m()\u001B[0m\n\u001B[0;32m     16\u001B[0m \u001B[38;5;66;03m# Criando e treinando o modelo AdaBoost\u001B[39;00m\n\u001B[0;32m     17\u001B[0m model \u001B[38;5;241m=\u001B[39m AdaBoost()\n\u001B[1;32m---> 18\u001B[0m \u001B[43mmodel\u001B[49m\u001B[38;5;241;43m.\u001B[39;49m\u001B[43mfit\u001B[49m\u001B[43m(\u001B[49m\u001B[43mX_train\u001B[49m\u001B[43m,\u001B[49m\u001B[43m \u001B[49m\u001B[43my_train\u001B[49m\u001B[43m)\u001B[49m\n\u001B[0;32m     20\u001B[0m \u001B[38;5;66;03m# Testando o modelo\u001B[39;00m\n\u001B[0;32m     21\u001B[0m y_pred \u001B[38;5;241m=\u001B[39m model\u001B[38;5;241m.\u001B[39mpredict(X_test)\n",
      "File \u001B[1;32m~\\OneDrive\\Ambiente de Trabalho\\AC\\AdaBoost_Project\\algorithms\\adaboost.py:78\u001B[0m, in \u001B[0;36mAdaBoost.fit\u001B[1;34m(self, X, y, M)\u001B[0m\n\u001B[0;32m     74\u001B[0m \u001B[38;5;66;03m# print(w_i)\u001B[39;00m\n\u001B[0;32m     75\u001B[0m \n\u001B[0;32m     76\u001B[0m \u001B[38;5;66;03m# (a) Fit weak classifier and predict labels\u001B[39;00m\n\u001B[0;32m     77\u001B[0m G_m \u001B[38;5;241m=\u001B[39m DecisionTreeClassifier(max_depth \u001B[38;5;241m=\u001B[39m \u001B[38;5;241m1\u001B[39m)     \u001B[38;5;66;03m# Stump: Two terminal-node classification tree\u001B[39;00m\n\u001B[1;32m---> 78\u001B[0m \u001B[43mG_m\u001B[49m\u001B[38;5;241;43m.\u001B[39;49m\u001B[43mfit\u001B[49m\u001B[43m(\u001B[49m\u001B[43mX\u001B[49m\u001B[43m,\u001B[49m\u001B[43m \u001B[49m\u001B[43my\u001B[49m\u001B[43m,\u001B[49m\u001B[43m \u001B[49m\u001B[43msample_weight\u001B[49m\u001B[43m \u001B[49m\u001B[38;5;241;43m=\u001B[39;49m\u001B[43m \u001B[49m\u001B[43mw_i\u001B[49m\u001B[43m)\u001B[49m\n\u001B[0;32m     79\u001B[0m y_pred \u001B[38;5;241m=\u001B[39m G_m\u001B[38;5;241m.\u001B[39mpredict(X)\n\u001B[0;32m     81\u001B[0m \u001B[38;5;28mself\u001B[39m\u001B[38;5;241m.\u001B[39mG_M\u001B[38;5;241m.\u001B[39mappend(G_m) \u001B[38;5;66;03m# Save to list of weak classifiers\u001B[39;00m\n",
      "File \u001B[1;32m~\\anaconda3_\\envs\\AC1_Project\\lib\\site-packages\\sklearn\\base.py:1474\u001B[0m, in \u001B[0;36m_fit_context.<locals>.decorator.<locals>.wrapper\u001B[1;34m(estimator, *args, **kwargs)\u001B[0m\n\u001B[0;32m   1467\u001B[0m     estimator\u001B[38;5;241m.\u001B[39m_validate_params()\n\u001B[0;32m   1469\u001B[0m \u001B[38;5;28;01mwith\u001B[39;00m config_context(\n\u001B[0;32m   1470\u001B[0m     skip_parameter_validation\u001B[38;5;241m=\u001B[39m(\n\u001B[0;32m   1471\u001B[0m         prefer_skip_nested_validation \u001B[38;5;129;01mor\u001B[39;00m global_skip_validation\n\u001B[0;32m   1472\u001B[0m     )\n\u001B[0;32m   1473\u001B[0m ):\n\u001B[1;32m-> 1474\u001B[0m     \u001B[38;5;28;01mreturn\u001B[39;00m fit_method(estimator, \u001B[38;5;241m*\u001B[39margs, \u001B[38;5;241m*\u001B[39m\u001B[38;5;241m*\u001B[39mkwargs)\n",
      "File \u001B[1;32m~\\anaconda3_\\envs\\AC1_Project\\lib\\site-packages\\sklearn\\tree\\_classes.py:1009\u001B[0m, in \u001B[0;36mDecisionTreeClassifier.fit\u001B[1;34m(self, X, y, sample_weight, check_input)\u001B[0m\n\u001B[0;32m    978\u001B[0m \u001B[38;5;129m@_fit_context\u001B[39m(prefer_skip_nested_validation\u001B[38;5;241m=\u001B[39m\u001B[38;5;28;01mTrue\u001B[39;00m)\n\u001B[0;32m    979\u001B[0m \u001B[38;5;28;01mdef\u001B[39;00m \u001B[38;5;21mfit\u001B[39m(\u001B[38;5;28mself\u001B[39m, X, y, sample_weight\u001B[38;5;241m=\u001B[39m\u001B[38;5;28;01mNone\u001B[39;00m, check_input\u001B[38;5;241m=\u001B[39m\u001B[38;5;28;01mTrue\u001B[39;00m):\n\u001B[0;32m    980\u001B[0m     \u001B[38;5;124;03m\"\"\"Build a decision tree classifier from the training set (X, y).\u001B[39;00m\n\u001B[0;32m    981\u001B[0m \n\u001B[0;32m    982\u001B[0m \u001B[38;5;124;03m    Parameters\u001B[39;00m\n\u001B[1;32m   (...)\u001B[0m\n\u001B[0;32m   1006\u001B[0m \u001B[38;5;124;03m        Fitted estimator.\u001B[39;00m\n\u001B[0;32m   1007\u001B[0m \u001B[38;5;124;03m    \"\"\"\u001B[39;00m\n\u001B[1;32m-> 1009\u001B[0m     \u001B[38;5;28;43msuper\u001B[39;49m\u001B[43m(\u001B[49m\u001B[43m)\u001B[49m\u001B[38;5;241;43m.\u001B[39;49m\u001B[43m_fit\u001B[49m\u001B[43m(\u001B[49m\n\u001B[0;32m   1010\u001B[0m \u001B[43m        \u001B[49m\u001B[43mX\u001B[49m\u001B[43m,\u001B[49m\n\u001B[0;32m   1011\u001B[0m \u001B[43m        \u001B[49m\u001B[43my\u001B[49m\u001B[43m,\u001B[49m\n\u001B[0;32m   1012\u001B[0m \u001B[43m        \u001B[49m\u001B[43msample_weight\u001B[49m\u001B[38;5;241;43m=\u001B[39;49m\u001B[43msample_weight\u001B[49m\u001B[43m,\u001B[49m\n\u001B[0;32m   1013\u001B[0m \u001B[43m        \u001B[49m\u001B[43mcheck_input\u001B[49m\u001B[38;5;241;43m=\u001B[39;49m\u001B[43mcheck_input\u001B[49m\u001B[43m,\u001B[49m\n\u001B[0;32m   1014\u001B[0m \u001B[43m    \u001B[49m\u001B[43m)\u001B[49m\n\u001B[0;32m   1015\u001B[0m     \u001B[38;5;28;01mreturn\u001B[39;00m \u001B[38;5;28mself\u001B[39m\n",
      "File \u001B[1;32m~\\anaconda3_\\envs\\AC1_Project\\lib\\site-packages\\sklearn\\tree\\_classes.py:252\u001B[0m, in \u001B[0;36mBaseDecisionTree._fit\u001B[1;34m(self, X, y, sample_weight, check_input, missing_values_in_feature_mask)\u001B[0m\n\u001B[0;32m    248\u001B[0m check_X_params \u001B[38;5;241m=\u001B[39m \u001B[38;5;28mdict\u001B[39m(\n\u001B[0;32m    249\u001B[0m     dtype\u001B[38;5;241m=\u001B[39mDTYPE, accept_sparse\u001B[38;5;241m=\u001B[39m\u001B[38;5;124m\"\u001B[39m\u001B[38;5;124mcsc\u001B[39m\u001B[38;5;124m\"\u001B[39m, force_all_finite\u001B[38;5;241m=\u001B[39m\u001B[38;5;28;01mFalse\u001B[39;00m\n\u001B[0;32m    250\u001B[0m )\n\u001B[0;32m    251\u001B[0m check_y_params \u001B[38;5;241m=\u001B[39m \u001B[38;5;28mdict\u001B[39m(ensure_2d\u001B[38;5;241m=\u001B[39m\u001B[38;5;28;01mFalse\u001B[39;00m, dtype\u001B[38;5;241m=\u001B[39m\u001B[38;5;28;01mNone\u001B[39;00m)\n\u001B[1;32m--> 252\u001B[0m X, y \u001B[38;5;241m=\u001B[39m \u001B[38;5;28;43mself\u001B[39;49m\u001B[38;5;241;43m.\u001B[39;49m\u001B[43m_validate_data\u001B[49m\u001B[43m(\u001B[49m\n\u001B[0;32m    253\u001B[0m \u001B[43m    \u001B[49m\u001B[43mX\u001B[49m\u001B[43m,\u001B[49m\u001B[43m \u001B[49m\u001B[43my\u001B[49m\u001B[43m,\u001B[49m\u001B[43m \u001B[49m\u001B[43mvalidate_separately\u001B[49m\u001B[38;5;241;43m=\u001B[39;49m\u001B[43m(\u001B[49m\u001B[43mcheck_X_params\u001B[49m\u001B[43m,\u001B[49m\u001B[43m \u001B[49m\u001B[43mcheck_y_params\u001B[49m\u001B[43m)\u001B[49m\n\u001B[0;32m    254\u001B[0m \u001B[43m\u001B[49m\u001B[43m)\u001B[49m\n\u001B[0;32m    256\u001B[0m missing_values_in_feature_mask \u001B[38;5;241m=\u001B[39m (\n\u001B[0;32m    257\u001B[0m     \u001B[38;5;28mself\u001B[39m\u001B[38;5;241m.\u001B[39m_compute_missing_values_in_feature_mask(X)\n\u001B[0;32m    258\u001B[0m )\n\u001B[0;32m    259\u001B[0m \u001B[38;5;28;01mif\u001B[39;00m issparse(X):\n",
      "File \u001B[1;32m~\\anaconda3_\\envs\\AC1_Project\\lib\\site-packages\\sklearn\\base.py:645\u001B[0m, in \u001B[0;36mBaseEstimator._validate_data\u001B[1;34m(self, X, y, reset, validate_separately, cast_to_ndarray, **check_params)\u001B[0m\n\u001B[0;32m    643\u001B[0m \u001B[38;5;28;01mif\u001B[39;00m \u001B[38;5;124m\"\u001B[39m\u001B[38;5;124mestimator\u001B[39m\u001B[38;5;124m\"\u001B[39m \u001B[38;5;129;01mnot\u001B[39;00m \u001B[38;5;129;01min\u001B[39;00m check_X_params:\n\u001B[0;32m    644\u001B[0m     check_X_params \u001B[38;5;241m=\u001B[39m {\u001B[38;5;241m*\u001B[39m\u001B[38;5;241m*\u001B[39mdefault_check_params, \u001B[38;5;241m*\u001B[39m\u001B[38;5;241m*\u001B[39mcheck_X_params}\n\u001B[1;32m--> 645\u001B[0m X \u001B[38;5;241m=\u001B[39m check_array(X, input_name\u001B[38;5;241m=\u001B[39m\u001B[38;5;124m\"\u001B[39m\u001B[38;5;124mX\u001B[39m\u001B[38;5;124m\"\u001B[39m, \u001B[38;5;241m*\u001B[39m\u001B[38;5;241m*\u001B[39mcheck_X_params)\n\u001B[0;32m    646\u001B[0m \u001B[38;5;28;01mif\u001B[39;00m \u001B[38;5;124m\"\u001B[39m\u001B[38;5;124mestimator\u001B[39m\u001B[38;5;124m\"\u001B[39m \u001B[38;5;129;01mnot\u001B[39;00m \u001B[38;5;129;01min\u001B[39;00m check_y_params:\n\u001B[0;32m    647\u001B[0m     check_y_params \u001B[38;5;241m=\u001B[39m {\u001B[38;5;241m*\u001B[39m\u001B[38;5;241m*\u001B[39mdefault_check_params, \u001B[38;5;241m*\u001B[39m\u001B[38;5;241m*\u001B[39mcheck_y_params}\n",
      "File \u001B[1;32m~\\anaconda3_\\envs\\AC1_Project\\lib\\site-packages\\sklearn\\utils\\validation.py:997\u001B[0m, in \u001B[0;36mcheck_array\u001B[1;34m(array, accept_sparse, accept_large_sparse, dtype, order, copy, force_all_finite, ensure_2d, allow_nd, ensure_min_samples, ensure_min_features, estimator, input_name)\u001B[0m\n\u001B[0;32m    995\u001B[0m         array \u001B[38;5;241m=\u001B[39m xp\u001B[38;5;241m.\u001B[39mastype(array, dtype, copy\u001B[38;5;241m=\u001B[39m\u001B[38;5;28;01mFalse\u001B[39;00m)\n\u001B[0;32m    996\u001B[0m     \u001B[38;5;28;01melse\u001B[39;00m:\n\u001B[1;32m--> 997\u001B[0m         array \u001B[38;5;241m=\u001B[39m \u001B[43m_asarray_with_order\u001B[49m\u001B[43m(\u001B[49m\u001B[43marray\u001B[49m\u001B[43m,\u001B[49m\u001B[43m \u001B[49m\u001B[43morder\u001B[49m\u001B[38;5;241;43m=\u001B[39;49m\u001B[43morder\u001B[49m\u001B[43m,\u001B[49m\u001B[43m \u001B[49m\u001B[43mdtype\u001B[49m\u001B[38;5;241;43m=\u001B[39;49m\u001B[43mdtype\u001B[49m\u001B[43m,\u001B[49m\u001B[43m \u001B[49m\u001B[43mxp\u001B[49m\u001B[38;5;241;43m=\u001B[39;49m\u001B[43mxp\u001B[49m\u001B[43m)\u001B[49m\n\u001B[0;32m    998\u001B[0m \u001B[38;5;28;01mexcept\u001B[39;00m ComplexWarning \u001B[38;5;28;01mas\u001B[39;00m complex_warning:\n\u001B[0;32m    999\u001B[0m     \u001B[38;5;28;01mraise\u001B[39;00m \u001B[38;5;167;01mValueError\u001B[39;00m(\n\u001B[0;32m   1000\u001B[0m         \u001B[38;5;124m\"\u001B[39m\u001B[38;5;124mComplex data not supported\u001B[39m\u001B[38;5;130;01m\\n\u001B[39;00m\u001B[38;5;132;01m{}\u001B[39;00m\u001B[38;5;130;01m\\n\u001B[39;00m\u001B[38;5;124m\"\u001B[39m\u001B[38;5;241m.\u001B[39mformat(array)\n\u001B[0;32m   1001\u001B[0m     ) \u001B[38;5;28;01mfrom\u001B[39;00m \u001B[38;5;21;01mcomplex_warning\u001B[39;00m\n",
      "File \u001B[1;32m~\\anaconda3_\\envs\\AC1_Project\\lib\\site-packages\\sklearn\\utils\\_array_api.py:521\u001B[0m, in \u001B[0;36m_asarray_with_order\u001B[1;34m(array, dtype, order, copy, xp)\u001B[0m\n\u001B[0;32m    519\u001B[0m     array \u001B[38;5;241m=\u001B[39m numpy\u001B[38;5;241m.\u001B[39marray(array, order\u001B[38;5;241m=\u001B[39morder, dtype\u001B[38;5;241m=\u001B[39mdtype)\n\u001B[0;32m    520\u001B[0m \u001B[38;5;28;01melse\u001B[39;00m:\n\u001B[1;32m--> 521\u001B[0m     array \u001B[38;5;241m=\u001B[39m \u001B[43mnumpy\u001B[49m\u001B[38;5;241;43m.\u001B[39;49m\u001B[43masarray\u001B[49m\u001B[43m(\u001B[49m\u001B[43marray\u001B[49m\u001B[43m,\u001B[49m\u001B[43m \u001B[49m\u001B[43morder\u001B[49m\u001B[38;5;241;43m=\u001B[39;49m\u001B[43morder\u001B[49m\u001B[43m,\u001B[49m\u001B[43m \u001B[49m\u001B[43mdtype\u001B[49m\u001B[38;5;241;43m=\u001B[39;49m\u001B[43mdtype\u001B[49m\u001B[43m)\u001B[49m\n\u001B[0;32m    523\u001B[0m \u001B[38;5;66;03m# At this point array is a NumPy ndarray. We convert it to an array\u001B[39;00m\n\u001B[0;32m    524\u001B[0m \u001B[38;5;66;03m# container that is consistent with the input's namespace.\u001B[39;00m\n\u001B[0;32m    525\u001B[0m \u001B[38;5;28;01mreturn\u001B[39;00m xp\u001B[38;5;241m.\u001B[39masarray(array)\n",
      "File \u001B[1;32m~\\anaconda3_\\envs\\AC1_Project\\lib\\site-packages\\pandas\\core\\generic.py:2153\u001B[0m, in \u001B[0;36mNDFrame.__array__\u001B[1;34m(self, dtype, copy)\u001B[0m\n\u001B[0;32m   2149\u001B[0m \u001B[38;5;28;01mdef\u001B[39;00m \u001B[38;5;21m__array__\u001B[39m(\n\u001B[0;32m   2150\u001B[0m     \u001B[38;5;28mself\u001B[39m, dtype: npt\u001B[38;5;241m.\u001B[39mDTypeLike \u001B[38;5;241m|\u001B[39m \u001B[38;5;28;01mNone\u001B[39;00m \u001B[38;5;241m=\u001B[39m \u001B[38;5;28;01mNone\u001B[39;00m, copy: bool_t \u001B[38;5;241m|\u001B[39m \u001B[38;5;28;01mNone\u001B[39;00m \u001B[38;5;241m=\u001B[39m \u001B[38;5;28;01mNone\u001B[39;00m\n\u001B[0;32m   2151\u001B[0m ) \u001B[38;5;241m-\u001B[39m\u001B[38;5;241m>\u001B[39m np\u001B[38;5;241m.\u001B[39mndarray:\n\u001B[0;32m   2152\u001B[0m     values \u001B[38;5;241m=\u001B[39m \u001B[38;5;28mself\u001B[39m\u001B[38;5;241m.\u001B[39m_values\n\u001B[1;32m-> 2153\u001B[0m     arr \u001B[38;5;241m=\u001B[39m \u001B[43mnp\u001B[49m\u001B[38;5;241;43m.\u001B[39;49m\u001B[43masarray\u001B[49m\u001B[43m(\u001B[49m\u001B[43mvalues\u001B[49m\u001B[43m,\u001B[49m\u001B[43m \u001B[49m\u001B[43mdtype\u001B[49m\u001B[38;5;241;43m=\u001B[39;49m\u001B[43mdtype\u001B[49m\u001B[43m)\u001B[49m\n\u001B[0;32m   2154\u001B[0m     \u001B[38;5;28;01mif\u001B[39;00m (\n\u001B[0;32m   2155\u001B[0m         astype_is_view(values\u001B[38;5;241m.\u001B[39mdtype, arr\u001B[38;5;241m.\u001B[39mdtype)\n\u001B[0;32m   2156\u001B[0m         \u001B[38;5;129;01mand\u001B[39;00m using_copy_on_write()\n\u001B[0;32m   2157\u001B[0m         \u001B[38;5;129;01mand\u001B[39;00m \u001B[38;5;28mself\u001B[39m\u001B[38;5;241m.\u001B[39m_mgr\u001B[38;5;241m.\u001B[39mis_single_block\n\u001B[0;32m   2158\u001B[0m     ):\n\u001B[0;32m   2159\u001B[0m         \u001B[38;5;66;03m# Check if both conversions can be done without a copy\u001B[39;00m\n\u001B[0;32m   2160\u001B[0m         \u001B[38;5;28;01mif\u001B[39;00m astype_is_view(\u001B[38;5;28mself\u001B[39m\u001B[38;5;241m.\u001B[39mdtypes\u001B[38;5;241m.\u001B[39miloc[\u001B[38;5;241m0\u001B[39m], values\u001B[38;5;241m.\u001B[39mdtype) \u001B[38;5;129;01mand\u001B[39;00m astype_is_view(\n\u001B[0;32m   2161\u001B[0m             values\u001B[38;5;241m.\u001B[39mdtype, arr\u001B[38;5;241m.\u001B[39mdtype\n\u001B[0;32m   2162\u001B[0m         ):\n",
      "\u001B[1;31mValueError\u001B[0m: could not convert string to float: '60-69'"
     ]
    }
   ],
   "source": [
    "from algorithms.adaboost import AdaBoost\n",
    "from sklearn.model_selection import train_test_split\n",
    "\n",
    "from sklearn.metrics import accuracy_score\n",
    "models = [\n",
    "    (\"AdaBoost Default\", AdaBoost()),\n",
    "    #(\"AdaBoost KNN\", AdaBoost(knn=True))\n",
    "]\n",
    "\n",
    "for dataset_id in dataset_ids:\n",
    "    X = dataframes[dataset_id].drop(columns=['target'], axis=1)\n",
    "    y = dataframes[dataset_id]['target']\n",
    "    # Dividindo os dados em conjuntos de treino e teste\n",
    "    X_train, X_test, y_train, y_test = train_test_split(X, y, test_size=0.2, random_state=42)\n",
    "\n",
    "    # Criando e treinando o modelo AdaBoost\n",
    "    model = AdaBoost()\n",
    "    model.fit(X_train, y_train)\n",
    "\n",
    "    # Testando o modelo\n",
    "    y_pred = model.predict(X_test)\n",
    "\n",
    "    # Calculando a acurácia\n",
    "    accuracy = accuracy_score(y_test, y_pred)\n",
    "    print(f\"Acurácia do modelo para dataset {dataset_id}: {accuracy}\")"
   ],
   "metadata": {
    "collapsed": false,
    "ExecuteTime": {
     "end_time": "2024-05-16T15:39:03.391325Z",
     "start_time": "2024-05-16T15:39:01.725973Z"
    }
   },
   "id": "fdae891a2ecddd2e",
   "execution_count": 89
  },
  {
   "cell_type": "code",
   "outputs": [
    {
     "ename": "TypeError",
     "evalue": "'OpenMLDataset' object is not subscriptable",
     "output_type": "error",
     "traceback": [
      "\u001B[1;31m---------------------------------------------------------------------------\u001B[0m",
      "\u001B[1;31mTypeError\u001B[0m                                 Traceback (most recent call last)",
      "Input \u001B[1;32mIn [91]\u001B[0m, in \u001B[0;36m<cell line: 1>\u001B[1;34m()\u001B[0m\n\u001B[1;32m----> 1\u001B[0m \u001B[43mdataset\u001B[49m\u001B[43m[\u001B[49m\u001B[38;5;241;43m0\u001B[39;49m\u001B[43m]\u001B[49m\n",
      "\u001B[1;31mTypeError\u001B[0m: 'OpenMLDataset' object is not subscriptable"
     ]
    }
   ],
   "source": [
    "dataset[0]"
   ],
   "metadata": {
    "collapsed": false,
    "ExecuteTime": {
     "end_time": "2024-05-16T15:39:32.919817Z",
     "start_time": "2024-05-16T15:39:32.893550Z"
    }
   },
   "id": "2f5c99e2c7a33634",
   "execution_count": 91
  },
  {
   "cell_type": "code",
   "outputs": [],
   "source": [],
   "metadata": {
    "collapsed": false
   },
   "id": "4418404212ac16c0"
  }
 ],
 "metadata": {
  "kernelspec": {
   "display_name": "Python 3",
   "language": "python",
   "name": "python3"
  },
  "language_info": {
   "codemirror_mode": {
    "name": "ipython",
    "version": 2
   },
   "file_extension": ".py",
   "mimetype": "text/x-python",
   "name": "python",
   "nbconvert_exporter": "python",
   "pygments_lexer": "ipython2",
   "version": "2.7.6"
  }
 },
 "nbformat": 4,
 "nbformat_minor": 5
}
