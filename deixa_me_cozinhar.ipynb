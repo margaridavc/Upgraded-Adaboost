{
 "cells": [
  {
   "cell_type": "code",
   "execution_count": 12,
   "id": "initial_id",
   "metadata": {
    "collapsed": true,
    "ExecuteTime": {
     "end_time": "2024-05-16T13:51:43.865215Z",
     "start_time": "2024-05-16T13:51:43.853083Z"
    }
   },
   "outputs": [],
   "source": [
    "from sklearn.preprocessing import LabelEncoder\n",
    "import pandas as pd"
   ]
  },
  {
   "cell_type": "code",
   "outputs": [],
   "source": [
    "df_bank = pd.read_csv('datasets/bank-marketing.csv')\n",
    "df_bio = pd.read_csv('datasets/bio-response.csv')\n",
    "df_blood = pd.read_csv('datasets/blood-transfusion-service-center.csv')\n",
    "df_breast_cancer = pd.read_csv('datasets/breast-cancer.csv')\n",
    "df_climate = pd.read_csv('datasets/climate-model-simulation-crashes.csv')\n",
    "df_credit = pd.read_csv('datasets/credit-g.csv')\n",
    "df_diabetes = pd.read_csv('datasets/diabetes.csv')\n",
    "df_eucalyptus = pd.read_csv('datasets/eucalyptus.csv')\n",
    "df_iris = pd.read_csv('datasets/iris.csv')\n",
    "df_phishing = pd.read_csv('datasets/phishing-websites.csv')\n",
    "df_transplant = pd.read_csv('datasets/transplant.csv')\n",
    "\n",
    "datasets = [df_bank, df_bio, df_blood, df_breast_cancer, df_climate,df_credit, df_diabetes, df_eucalyptus,df_phishing, df_transplant]"
   ],
   "metadata": {
    "collapsed": false,
    "ExecuteTime": {
     "end_time": "2024-05-16T13:51:44.794414Z",
     "start_time": "2024-05-16T13:51:44.196297Z"
    }
   },
   "id": "31559c6f677022cf",
   "execution_count": 13
  },
  {
   "cell_type": "code",
   "outputs": [],
   "source": [
    "import openml\n",
    "import pandas as pd\n",
    "\n",
    "# Definindo os IDs dos conjuntos de dados\n",
    "dataset_ids = [13, 31, 1461]\n",
    "\n",
    "# Criando um dicionário para armazenar os dataframes\n",
    "dataframes = {}\n",
    "\n",
    "# Loop para baixar os datasets e converter em dataframes\n",
    "for dataset_id in dataset_ids:\n",
    "    dataset = openml.datasets.get_dataset(dataset_id, download_data=True, download_qualities=True, download_features_meta_data=True)\n",
    "    df, *_ = dataset.get_data(target=dataset.default_target_attribute)\n",
    "    dataframes[dataset_id] = df\n",
    "\n",
    "le = LabelEncoder()\n",
    "for id in dataset_ids:\n",
    "    dataframes[id].rename(columns={dataframes[id].columns[-1]: 'target'}, inplace=True)\n",
    "\n",
    "    dataframes[id]['target'] = le.fit_transform(dataframes[id]['target'])\n",
    "    dataframes[id]['target'] = dataframes[id]['target'].apply(lambda x: 1 if x == 1 else -1)\n",
    "\n",
    "    dataframes[id]  = dataframes[id].dropna()\n",
    "# Salvando os dataframes como arquivos CSV\n",
    "for dataset_id, df in dataframes.items():\n",
    "    df.to_csv(f'dataset_{dataset_id}.csv', index=False)\n"
   ],
   "metadata": {
    "collapsed": false,
    "ExecuteTime": {
     "end_time": "2024-05-16T14:52:31.267552Z",
     "start_time": "2024-05-16T14:52:30.670679Z"
    }
   },
   "id": "a4290cff71d6b334",
   "execution_count": 77
  },
  {
   "cell_type": "code",
   "outputs": [
    {
     "data": {
      "text/plain": "    checking_status  duration                  credit_history  \\\n0                <0         6  critical/other existing credit   \n1          0<=X<200        48                   existing paid   \n2       no checking        12  critical/other existing credit   \n3                <0        42                   existing paid   \n4                <0        24              delayed previously   \n..              ...       ...                             ...   \n995     no checking        12                   existing paid   \n996              <0        30                   existing paid   \n997     no checking        12                   existing paid   \n998              <0        45                   existing paid   \n999        0<=X<200        45  critical/other existing credit   \n\n                 purpose  credit_amount    savings_status  employment  \\\n0               radio/tv         1169.0  no known savings         >=7   \n1               radio/tv         5951.0              <100      1<=X<4   \n2              education         2096.0              <100      4<=X<7   \n3    furniture/equipment         7882.0              <100      4<=X<7   \n4                new car         4870.0              <100      1<=X<4   \n..                   ...            ...               ...         ...   \n995  furniture/equipment         1736.0              <100      4<=X<7   \n996             used car         3857.0              <100      1<=X<4   \n997             radio/tv          804.0              <100         >=7   \n998             radio/tv         1845.0              <100      1<=X<4   \n999             used car         4576.0        100<=X<500  unemployed   \n\n     installment_commitment     personal_status other_parties  \\\n0                         4         male single          none   \n1                         2  female div/dep/mar          none   \n2                         2         male single          none   \n3                         2         male single     guarantor   \n4                         3         male single          none   \n..                      ...                 ...           ...   \n995                       3  female div/dep/mar          none   \n996                       4        male div/sep          none   \n997                       4         male single          none   \n998                       4         male single          none   \n999                       3         male single          none   \n\n     residence_since property_magnitude  age other_payment_plans   housing  \\\n0                  4        real estate   67                none       own   \n1                  2        real estate   22                none       own   \n2                  3        real estate   49                none       own   \n3                  4     life insurance   45                none  for free   \n4                  4  no known property   53                none  for free   \n..               ...                ...  ...                 ...       ...   \n995                4        real estate   31                none       own   \n996                4     life insurance   40                none       own   \n997                4                car   38                none       own   \n998                4  no known property   23                none  for free   \n999                4                car   27                none       own   \n\n     existing_credits                        job  num_dependents  \\\n0                   2                    skilled               1   \n1                   1                    skilled               1   \n2                   1         unskilled resident               2   \n3                   1                    skilled               2   \n4                   2                    skilled               2   \n..                ...                        ...             ...   \n995                 1         unskilled resident               1   \n996                 1  high qualif/self emp/mgmt               1   \n997                 1                    skilled               1   \n998                 1                    skilled               1   \n999                 1                    skilled               1   \n\n    own_telephone  target  \n0             yes       1  \n1            none       1  \n2            none       1  \n3            none       1  \n4            none       1  \n..            ...     ...  \n995          none       1  \n996           yes       1  \n997          none       1  \n998           yes       1  \n999          none       1  \n\n[1000 rows x 20 columns]",
      "text/html": "<div>\n<style scoped>\n    .dataframe tbody tr th:only-of-type {\n        vertical-align: middle;\n    }\n\n    .dataframe tbody tr th {\n        vertical-align: top;\n    }\n\n    .dataframe thead th {\n        text-align: right;\n    }\n</style>\n<table border=\"1\" class=\"dataframe\">\n  <thead>\n    <tr style=\"text-align: right;\">\n      <th></th>\n      <th>checking_status</th>\n      <th>duration</th>\n      <th>credit_history</th>\n      <th>purpose</th>\n      <th>credit_amount</th>\n      <th>savings_status</th>\n      <th>employment</th>\n      <th>installment_commitment</th>\n      <th>personal_status</th>\n      <th>other_parties</th>\n      <th>residence_since</th>\n      <th>property_magnitude</th>\n      <th>age</th>\n      <th>other_payment_plans</th>\n      <th>housing</th>\n      <th>existing_credits</th>\n      <th>job</th>\n      <th>num_dependents</th>\n      <th>own_telephone</th>\n      <th>target</th>\n    </tr>\n  </thead>\n  <tbody>\n    <tr>\n      <th>0</th>\n      <td>&lt;0</td>\n      <td>6</td>\n      <td>critical/other existing credit</td>\n      <td>radio/tv</td>\n      <td>1169.0</td>\n      <td>no known savings</td>\n      <td>&gt;=7</td>\n      <td>4</td>\n      <td>male single</td>\n      <td>none</td>\n      <td>4</td>\n      <td>real estate</td>\n      <td>67</td>\n      <td>none</td>\n      <td>own</td>\n      <td>2</td>\n      <td>skilled</td>\n      <td>1</td>\n      <td>yes</td>\n      <td>1</td>\n    </tr>\n    <tr>\n      <th>1</th>\n      <td>0&lt;=X&lt;200</td>\n      <td>48</td>\n      <td>existing paid</td>\n      <td>radio/tv</td>\n      <td>5951.0</td>\n      <td>&lt;100</td>\n      <td>1&lt;=X&lt;4</td>\n      <td>2</td>\n      <td>female div/dep/mar</td>\n      <td>none</td>\n      <td>2</td>\n      <td>real estate</td>\n      <td>22</td>\n      <td>none</td>\n      <td>own</td>\n      <td>1</td>\n      <td>skilled</td>\n      <td>1</td>\n      <td>none</td>\n      <td>1</td>\n    </tr>\n    <tr>\n      <th>2</th>\n      <td>no checking</td>\n      <td>12</td>\n      <td>critical/other existing credit</td>\n      <td>education</td>\n      <td>2096.0</td>\n      <td>&lt;100</td>\n      <td>4&lt;=X&lt;7</td>\n      <td>2</td>\n      <td>male single</td>\n      <td>none</td>\n      <td>3</td>\n      <td>real estate</td>\n      <td>49</td>\n      <td>none</td>\n      <td>own</td>\n      <td>1</td>\n      <td>unskilled resident</td>\n      <td>2</td>\n      <td>none</td>\n      <td>1</td>\n    </tr>\n    <tr>\n      <th>3</th>\n      <td>&lt;0</td>\n      <td>42</td>\n      <td>existing paid</td>\n      <td>furniture/equipment</td>\n      <td>7882.0</td>\n      <td>&lt;100</td>\n      <td>4&lt;=X&lt;7</td>\n      <td>2</td>\n      <td>male single</td>\n      <td>guarantor</td>\n      <td>4</td>\n      <td>life insurance</td>\n      <td>45</td>\n      <td>none</td>\n      <td>for free</td>\n      <td>1</td>\n      <td>skilled</td>\n      <td>2</td>\n      <td>none</td>\n      <td>1</td>\n    </tr>\n    <tr>\n      <th>4</th>\n      <td>&lt;0</td>\n      <td>24</td>\n      <td>delayed previously</td>\n      <td>new car</td>\n      <td>4870.0</td>\n      <td>&lt;100</td>\n      <td>1&lt;=X&lt;4</td>\n      <td>3</td>\n      <td>male single</td>\n      <td>none</td>\n      <td>4</td>\n      <td>no known property</td>\n      <td>53</td>\n      <td>none</td>\n      <td>for free</td>\n      <td>2</td>\n      <td>skilled</td>\n      <td>2</td>\n      <td>none</td>\n      <td>1</td>\n    </tr>\n    <tr>\n      <th>...</th>\n      <td>...</td>\n      <td>...</td>\n      <td>...</td>\n      <td>...</td>\n      <td>...</td>\n      <td>...</td>\n      <td>...</td>\n      <td>...</td>\n      <td>...</td>\n      <td>...</td>\n      <td>...</td>\n      <td>...</td>\n      <td>...</td>\n      <td>...</td>\n      <td>...</td>\n      <td>...</td>\n      <td>...</td>\n      <td>...</td>\n      <td>...</td>\n      <td>...</td>\n    </tr>\n    <tr>\n      <th>995</th>\n      <td>no checking</td>\n      <td>12</td>\n      <td>existing paid</td>\n      <td>furniture/equipment</td>\n      <td>1736.0</td>\n      <td>&lt;100</td>\n      <td>4&lt;=X&lt;7</td>\n      <td>3</td>\n      <td>female div/dep/mar</td>\n      <td>none</td>\n      <td>4</td>\n      <td>real estate</td>\n      <td>31</td>\n      <td>none</td>\n      <td>own</td>\n      <td>1</td>\n      <td>unskilled resident</td>\n      <td>1</td>\n      <td>none</td>\n      <td>1</td>\n    </tr>\n    <tr>\n      <th>996</th>\n      <td>&lt;0</td>\n      <td>30</td>\n      <td>existing paid</td>\n      <td>used car</td>\n      <td>3857.0</td>\n      <td>&lt;100</td>\n      <td>1&lt;=X&lt;4</td>\n      <td>4</td>\n      <td>male div/sep</td>\n      <td>none</td>\n      <td>4</td>\n      <td>life insurance</td>\n      <td>40</td>\n      <td>none</td>\n      <td>own</td>\n      <td>1</td>\n      <td>high qualif/self emp/mgmt</td>\n      <td>1</td>\n      <td>yes</td>\n      <td>1</td>\n    </tr>\n    <tr>\n      <th>997</th>\n      <td>no checking</td>\n      <td>12</td>\n      <td>existing paid</td>\n      <td>radio/tv</td>\n      <td>804.0</td>\n      <td>&lt;100</td>\n      <td>&gt;=7</td>\n      <td>4</td>\n      <td>male single</td>\n      <td>none</td>\n      <td>4</td>\n      <td>car</td>\n      <td>38</td>\n      <td>none</td>\n      <td>own</td>\n      <td>1</td>\n      <td>skilled</td>\n      <td>1</td>\n      <td>none</td>\n      <td>1</td>\n    </tr>\n    <tr>\n      <th>998</th>\n      <td>&lt;0</td>\n      <td>45</td>\n      <td>existing paid</td>\n      <td>radio/tv</td>\n      <td>1845.0</td>\n      <td>&lt;100</td>\n      <td>1&lt;=X&lt;4</td>\n      <td>4</td>\n      <td>male single</td>\n      <td>none</td>\n      <td>4</td>\n      <td>no known property</td>\n      <td>23</td>\n      <td>none</td>\n      <td>for free</td>\n      <td>1</td>\n      <td>skilled</td>\n      <td>1</td>\n      <td>yes</td>\n      <td>1</td>\n    </tr>\n    <tr>\n      <th>999</th>\n      <td>0&lt;=X&lt;200</td>\n      <td>45</td>\n      <td>critical/other existing credit</td>\n      <td>used car</td>\n      <td>4576.0</td>\n      <td>100&lt;=X&lt;500</td>\n      <td>unemployed</td>\n      <td>3</td>\n      <td>male single</td>\n      <td>none</td>\n      <td>4</td>\n      <td>car</td>\n      <td>27</td>\n      <td>none</td>\n      <td>own</td>\n      <td>1</td>\n      <td>skilled</td>\n      <td>1</td>\n      <td>none</td>\n      <td>1</td>\n    </tr>\n  </tbody>\n</table>\n<p>1000 rows × 20 columns</p>\n</div>"
     },
     "execution_count": 79,
     "metadata": {},
     "output_type": "execute_result"
    }
   ],
   "source": [
    "dataframes[31]"
   ],
   "metadata": {
    "collapsed": false,
    "ExecuteTime": {
     "end_time": "2024-05-16T14:53:05.607589Z",
     "start_time": "2024-05-16T14:53:05.558448Z"
    }
   },
   "id": "86f587477492511f",
   "execution_count": 79
  },
  {
   "cell_type": "code",
   "outputs": [],
   "source": [
    "import pandas as pd\n",
    "import numpy as np\n",
    "from sklearn.model_selection import KFold\n",
    "from sklearn.metrics import accuracy_score\n",
    "\n",
    "\n",
    "def run_cv(X,y,algs,nfolds=10, means_only=False):\n",
    "    results = {}\n",
    "    kf = KFold(n_splits=nfolds, shuffle=True, random_state=1111)\n",
    "    for algo_name, algo in algs:\n",
    "        results[algo_name] = []\n",
    "        for fold, (train_idx, test_idx) in enumerate(kf.split(X)):\n",
    "            X_train, X_test = X.iloc[train_idx], X.iloc[test_idx]\n",
    "            y_train, y_test = y.iloc[train_idx], y.iloc[test_idx]\n",
    "            algo.fit(X_train, y_train, M=40)\n",
    "            y_pred = algo.predict(X_test)\n",
    "            results[algo_name].append(accuracy_score(y_test, y_pred))\n",
    "    results_df = pd.DataFrame.from_dict(results)\n",
    "    if not means_only:\n",
    "        return results_df\n",
    "    else:\n",
    "        results_means = {}\n",
    "        for algo_name, algo in algs:\n",
    "            results_means[algo_name] = [np.mean(results[algo_name])]\n",
    "        return pd.DataFrame.from_dict(results_means)"
   ],
   "metadata": {
    "collapsed": false,
    "ExecuteTime": {
     "end_time": "2024-05-16T15:30:32.978131Z",
     "start_time": "2024-05-16T15:30:32.964103Z"
    }
   },
   "id": "6f48374ce47063ed",
   "execution_count": 84
  },
  {
   "cell_type": "code",
   "outputs": [],
   "source": [
    "import matplotlib.pyplot as plt\n",
    "\n",
    "def plot_cv(results_cv,metric='Accuracy', title=\"Cross-validation results for multiple algorithms in a single task\"):\n",
    "    fig, ax = plt.subplots()\n",
    "    ax.boxplot(results_cv)\n",
    "    ax.set_xticklabels(results_cv.columns)\n",
    "    ax.set_ylabel(metric)\n",
    "    ax.set_title(title)\n",
    "    plt.show()"
   ],
   "metadata": {
    "collapsed": false,
    "ExecuteTime": {
     "end_time": "2024-05-16T15:30:33.240433Z",
     "start_time": "2024-05-16T15:30:33.228578Z"
    }
   },
   "id": "60e8068657b158cc",
   "execution_count": 85
  },
  {
   "cell_type": "code",
   "outputs": [
    {
     "ename": "AssertionError",
     "evalue": "",
     "output_type": "error",
     "traceback": [
      "\u001B[1;31m---------------------------------------------------------------------------\u001B[0m",
      "\u001B[1;31mAssertionError\u001B[0m                            Traceback (most recent call last)",
      "Input \u001B[1;32mIn [87]\u001B[0m, in \u001B[0;36m<cell line: 8>\u001B[1;34m()\u001B[0m\n\u001B[0;32m      9\u001B[0m X \u001B[38;5;241m=\u001B[39m ds\u001B[38;5;241m.\u001B[39mdrop(columns\u001B[38;5;241m=\u001B[39m[\u001B[38;5;124m'\u001B[39m\u001B[38;5;124mtarget\u001B[39m\u001B[38;5;124m'\u001B[39m], axis\u001B[38;5;241m=\u001B[39m\u001B[38;5;241m1\u001B[39m)\n\u001B[0;32m     10\u001B[0m y \u001B[38;5;241m=\u001B[39m ds[\u001B[38;5;124m'\u001B[39m\u001B[38;5;124mtarget\u001B[39m\u001B[38;5;124m'\u001B[39m]\n\u001B[1;32m---> 11\u001B[0m results \u001B[38;5;241m=\u001B[39m \u001B[43mrun_cv\u001B[49m\u001B[43m(\u001B[49m\u001B[43mX\u001B[49m\u001B[43m,\u001B[49m\u001B[43m \u001B[49m\u001B[43my\u001B[49m\u001B[43m,\u001B[49m\u001B[43m \u001B[49m\u001B[43mmodels\u001B[49m\u001B[43m)\u001B[49m\n",
      "Input \u001B[1;32mIn [84]\u001B[0m, in \u001B[0;36mrun_cv\u001B[1;34m(X, y, algs, nfolds, means_only)\u001B[0m\n\u001B[0;32m     13\u001B[0m X_train, X_test \u001B[38;5;241m=\u001B[39m X\u001B[38;5;241m.\u001B[39miloc[train_idx], X\u001B[38;5;241m.\u001B[39miloc[test_idx]\n\u001B[0;32m     14\u001B[0m y_train, y_test \u001B[38;5;241m=\u001B[39m y\u001B[38;5;241m.\u001B[39miloc[train_idx], y\u001B[38;5;241m.\u001B[39miloc[test_idx]\n\u001B[1;32m---> 15\u001B[0m \u001B[43malgo\u001B[49m\u001B[38;5;241;43m.\u001B[39;49m\u001B[43mfit\u001B[49m\u001B[43m(\u001B[49m\u001B[43mX_train\u001B[49m\u001B[43m,\u001B[49m\u001B[43m \u001B[49m\u001B[43my_train\u001B[49m\u001B[43m,\u001B[49m\u001B[43m \u001B[49m\u001B[43mM\u001B[49m\u001B[38;5;241;43m=\u001B[39;49m\u001B[38;5;241;43m40\u001B[39;49m\u001B[43m)\u001B[49m\n\u001B[0;32m     16\u001B[0m y_pred \u001B[38;5;241m=\u001B[39m algo\u001B[38;5;241m.\u001B[39mpredict(X_test)\n\u001B[0;32m     17\u001B[0m results[algo_name]\u001B[38;5;241m.\u001B[39mappend(accuracy_score(y_test, y_pred))\n",
      "File \u001B[1;32m~\\OneDrive\\Ambiente de Trabalho\\AC\\AdaBoost_Project\\algorithms\\adaboost.py:93\u001B[0m, in \u001B[0;36mAdaBoost.fit\u001B[1;34m(self, X, y, M)\u001B[0m\n\u001B[0;32m     90\u001B[0m     \u001B[38;5;28mself\u001B[39m\u001B[38;5;241m.\u001B[39malphas\u001B[38;5;241m.\u001B[39mappend(alpha_m)\n\u001B[0;32m     91\u001B[0m     \u001B[38;5;66;03m# print(alpha_m)\u001B[39;00m\n\u001B[1;32m---> 93\u001B[0m \u001B[38;5;28;01massert\u001B[39;00m \u001B[38;5;28mlen\u001B[39m(\u001B[38;5;28mself\u001B[39m\u001B[38;5;241m.\u001B[39mG_M) \u001B[38;5;241m==\u001B[39m \u001B[38;5;28mlen\u001B[39m(\u001B[38;5;28mself\u001B[39m\u001B[38;5;241m.\u001B[39malphas)\n",
      "\u001B[1;31mAssertionError\u001B[0m: "
     ]
    }
   ],
   "source": [
    "from algorithms.adaboost import AdaBoost\n",
    "\n",
    "models = [\n",
    "    (\"AdaBoost Default\", AdaBoost()),\n",
    "    #(\"AdaBoost KNN\", AdaBoost(knn=True))\n",
    "]\n",
    "\n",
    "for ds_id, ds in datasets:\n",
    "    X = ds.drop(columns=['target'], axis=1)\n",
    "    y = ds['target']\n",
    "    results = run_cv(X, y, models)\n",
    "    #plot_cv(results, title=f\"Cross-validation for the algorithms in the dataset with {ds_id}\")"
   ],
   "metadata": {
    "collapsed": false,
    "ExecuteTime": {
     "end_time": "2024-05-16T15:34:13.360600Z",
     "start_time": "2024-05-16T15:34:11.414290Z"
    }
   },
   "id": "fdae891a2ecddd2e",
   "execution_count": 87
  },
  {
   "cell_type": "code",
   "outputs": [],
   "source": [],
   "metadata": {
    "collapsed": false
   },
   "id": "2f5c99e2c7a33634"
  }
 ],
 "metadata": {
  "kernelspec": {
   "display_name": "Python 3",
   "language": "python",
   "name": "python3"
  },
  "language_info": {
   "codemirror_mode": {
    "name": "ipython",
    "version": 2
   },
   "file_extension": ".py",
   "mimetype": "text/x-python",
   "name": "python",
   "nbconvert_exporter": "python",
   "pygments_lexer": "ipython2",
   "version": "2.7.6"
  }
 },
 "nbformat": 4,
 "nbformat_minor": 5
}
