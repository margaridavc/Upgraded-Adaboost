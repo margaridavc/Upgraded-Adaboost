{
 "cells": [
  {
   "cell_type": "code",
   "execution_count": 1,
   "id": "initial_id",
   "metadata": {
    "collapsed": true,
    "ExecuteTime": {
     "end_time": "2024-05-17T18:33:15.376701Z",
     "start_time": "2024-05-17T18:33:14.008484Z"
    }
   },
   "outputs": [],
   "source": [
    "from sklearn.preprocessing import LabelEncoder\n",
    "import pandas as pd\n",
    "import openml\n",
    "import seaborn as sn"
   ]
  },
  {
   "cell_type": "code",
   "outputs": [],
   "source": [
    "def obter_dataset(id):\n",
    "\n",
    "\n",
    "    dataset = openml.datasets.get_dataset(id, download_data=True, download_qualities=True, download_features_meta_data=True)\n",
    "    \n",
    "    X, y, _, attrs = dataset.get_data(dataset_format=\"array\", target=dataset.default_target_attribute)\n",
    "    \n",
    "    df = pd.DataFrame(X, columns=attrs)\n",
    "    df['target'] = y\n",
    "    # converter:\n",
    "    #   0 -> -1\n",
    "    #   1 -> 1\n",
    "    df['target'] = 2*y-1\n",
    "    # erase rows with NaN values\n",
    "    df = df.dropna(how='any', axis=0)\n",
    "\n",
    "    csv_path = f'{id}.csv'\n",
    "    df.to_csv(csv_path, index= False)\n",
    "    \n",
    "    return df"
   ],
   "metadata": {
    "collapsed": false,
    "ExecuteTime": {
     "end_time": "2024-05-17T18:33:19.278901Z",
     "start_time": "2024-05-17T18:33:19.260526Z"
    }
   },
   "id": "c010b3edacf30e6",
   "execution_count": 2
  },
  {
   "cell_type": "code",
   "outputs": [
    {
     "name": "stderr",
     "output_type": "stream",
     "text": [
      "C:\\Users\\ricar\\AppData\\Local\\Temp\\ipykernel_19956\\912023531.py:6: FutureWarning: Support for `dataset_format='array'` will be removed in 0.15,start using `dataset_format='dataframe' to ensure your code will continue to work. You can use the dataframe's `to_numpy` function to continue using numpy arrays.\n",
      "  X, y, _, attrs = dataset.get_data(dataset_format=\"array\", target=dataset.default_target_attribute)\n",
      "C:\\Users\\ricar\\AppData\\Local\\Temp\\ipykernel_19956\\912023531.py:6: FutureWarning: Support for `dataset_format='array'` will be removed in 0.15,start using `dataset_format='dataframe' to ensure your code will continue to work. You can use the dataframe's `to_numpy` function to continue using numpy arrays.\n",
      "  X, y, _, attrs = dataset.get_data(dataset_format=\"array\", target=dataset.default_target_attribute)\n",
      "C:\\Users\\ricar\\AppData\\Local\\Temp\\ipykernel_19956\\912023531.py:6: FutureWarning: Support for `dataset_format='array'` will be removed in 0.15,start using `dataset_format='dataframe' to ensure your code will continue to work. You can use the dataframe's `to_numpy` function to continue using numpy arrays.\n",
      "  X, y, _, attrs = dataset.get_data(dataset_format=\"array\", target=dataset.default_target_attribute)\n",
      "C:\\Users\\ricar\\AppData\\Local\\Temp\\ipykernel_19956\\912023531.py:6: FutureWarning: Support for `dataset_format='array'` will be removed in 0.15,start using `dataset_format='dataframe' to ensure your code will continue to work. You can use the dataframe's `to_numpy` function to continue using numpy arrays.\n",
      "  X, y, _, attrs = dataset.get_data(dataset_format=\"array\", target=dataset.default_target_attribute)\n",
      "C:\\Users\\ricar\\AppData\\Local\\Temp\\ipykernel_19956\\912023531.py:6: FutureWarning: Support for `dataset_format='array'` will be removed in 0.15,start using `dataset_format='dataframe' to ensure your code will continue to work. You can use the dataframe's `to_numpy` function to continue using numpy arrays.\n",
      "  X, y, _, attrs = dataset.get_data(dataset_format=\"array\", target=dataset.default_target_attribute)\n",
      "C:\\Users\\ricar\\AppData\\Local\\Temp\\ipykernel_19956\\912023531.py:6: FutureWarning: Support for `dataset_format='array'` will be removed in 0.15,start using `dataset_format='dataframe' to ensure your code will continue to work. You can use the dataframe's `to_numpy` function to continue using numpy arrays.\n",
      "  X, y, _, attrs = dataset.get_data(dataset_format=\"array\", target=dataset.default_target_attribute)\n"
     ]
    }
   ],
   "source": [
    "list_num_dataset_id = [1464, 1067, 1467, 1504,1494, 1068]\n",
    "dataframes = {}\n",
    "for dataset_id in list_num_dataset_id:\n",
    "    df = obter_dataset(dataset_id)\n",
    "    dataframes[dataset_id] = df"
   ],
   "metadata": {
    "collapsed": false,
    "ExecuteTime": {
     "end_time": "2024-05-17T18:33:20.873806Z",
     "start_time": "2024-05-17T18:33:20.449924Z"
    }
   },
   "id": "33ffbbecf9588bd3",
   "execution_count": 3
  },
  {
   "cell_type": "code",
   "outputs": [],
   "source": [
    "import numpy as np\n",
    "from sklearn.model_selection import KFold\n",
    "\n",
    "\n",
    "\n",
    "def run_cv(X,y,algs,nfolds=10, means_only=False):\n",
    "    results = {}\n",
    "    kf = KFold(n_splits=nfolds, shuffle=True, random_state=1111)\n",
    "    for algo_name, algo in algs:\n",
    "        results[algo_name] = []\n",
    "        for fold, (train_idx, test_idx) in enumerate(kf.split(X)):\n",
    "            X_train, X_test = X.iloc[train_idx], X.iloc[test_idx]\n",
    "            y_train, y_test = y.iloc[train_idx], y.iloc[test_idx]\n",
    "            algo.fit(X_train, y_train)\n",
    "            y_pred = algo.predict(X_test)\n",
    "            results[algo_name].append(accuracy_score(y_test, y_pred))\n",
    "            print(f\"Fold {fold} for {algo_name}: {results[algo_name][-1]}\")\n",
    "    results_df = pd.DataFrame.from_dict(results)\n",
    "    if not means_only:\n",
    "        return results_df\n",
    "    else:\n",
    "        results_means = {}\n",
    "        for algo_name, algo in algs:\n",
    "            results_means[algo_name] = [np.mean(results[algo_name])]\n",
    "        return pd.DataFrame.from_dict(results_means)"
   ],
   "metadata": {
    "collapsed": false,
    "ExecuteTime": {
     "end_time": "2024-05-17T20:40:29.363046Z",
     "start_time": "2024-05-17T20:40:29.343361Z"
    }
   },
   "id": "6f48374ce47063ed",
   "execution_count": 18
  },
  {
   "cell_type": "code",
   "outputs": [],
   "source": [
    "import matplotlib.pyplot as plt\n",
    "\n",
    "def plot_cv(results_cv,metric='Accuracy', title=\"Cross-validation results for multiple algorithms in a single task\"):\n",
    "    fig, ax = plt.subplots()\n",
    "    ax.boxplot(results_cv)\n",
    "    ax.set_xticklabels(results_cv.columns)\n",
    "    ax.set_ylabel(metric)\n",
    "    ax.set_title(title)\n",
    "    plt.show()"
   ],
   "metadata": {
    "collapsed": false,
    "ExecuteTime": {
     "end_time": "2024-05-17T20:40:30.434463Z",
     "start_time": "2024-05-17T20:40:30.410096Z"
    }
   },
   "id": "60e8068657b158cc",
   "execution_count": 19
  },
  {
   "cell_type": "code",
   "outputs": [
    {
     "name": "stdout",
     "output_type": "stream",
     "text": [
      "Dataset 1464:\n"
     ]
    },
    {
     "ename": "NameError",
     "evalue": "name 'model_name' is not defined",
     "output_type": "error",
     "traceback": [
      "\u001B[1;31m---------------------------------------------------------------------------\u001B[0m",
      "\u001B[1;31mNameError\u001B[0m                                 Traceback (most recent call last)",
      "Input \u001B[1;32mIn [20]\u001B[0m, in \u001B[0;36m<cell line: 12>\u001B[1;34m()\u001B[0m\n\u001B[0;32m     25\u001B[0m \u001B[38;5;66;03m# Calculando a acurácia\u001B[39;00m\n\u001B[0;32m     26\u001B[0m accuracy \u001B[38;5;241m=\u001B[39m accuracy_score(y_test, y_pred)\n\u001B[1;32m---> 27\u001B[0m \u001B[38;5;28mprint\u001B[39m(\u001B[38;5;124mf\u001B[39m\u001B[38;5;124m\"\u001B[39m\u001B[38;5;124mAcurácia do modelo para dataset \u001B[39m\u001B[38;5;132;01m{\u001B[39;00mmodel_name\u001B[38;5;132;01m}\u001B[39;00m\u001B[38;5;124m: \u001B[39m\u001B[38;5;132;01m{\u001B[39;00maccuracy\u001B[38;5;132;01m}\u001B[39;00m\u001B[38;5;124m\"\u001B[39m)\n\u001B[0;32m     29\u001B[0m \u001B[38;5;28mprint\u001B[39m(\u001B[38;5;124m\"\u001B[39m\u001B[38;5;130;01m\\n\u001B[39;00m\u001B[38;5;124m\"\u001B[39m)\n",
      "\u001B[1;31mNameError\u001B[0m: name 'model_name' is not defined"
     ]
    }
   ],
   "source": [
    "# Isto é um teste e tem erros , provavelmente irei tirar ou adaptar \n",
    "\n",
    "from algorithms.adaboost import AdaBoost\n",
    "from sklearn.model_selection import train_test_split\n",
    "\n",
    "from sklearn.metrics import accuracy_score\n",
    "models = [\n",
    "    (\"AdaBoost Default\", AdaBoost()),\n",
    "    #(\"AdaBoost KNN\", AdaBoost(knn=True))\n",
    "]\n",
    "\n",
    "for id in list_num_dataset_id:\n",
    "    print(f\"Dataset {id}:\")\n",
    "    X = dataframes[id].drop(columns=['target'], axis=1)\n",
    "    y = dataframes[id]['target']\n",
    "    \n",
    "    # Dividindo os dados em conjuntos de treino e teste\n",
    "    X_train, X_test, y_train, y_test = train_test_split(X, y, test_size=0.3, random_state=42)\n",
    "    \n",
    "    model = AdaBoost()\n",
    "    model.fit(X_train, y_train)\n",
    "    # Testando o modelo\n",
    "    y_pred = model.predict(X_test)\n",
    "\n",
    "    # Calculando a acurácia\n",
    "    accuracy = accuracy_score(y_test, y_pred)\n",
    "    print(f\"Acurácia do modelo para dataset {model_name}: {accuracy}\")\n",
    "    \n",
    "    print(\"\\n\")"
   ],
   "metadata": {
    "collapsed": false,
    "ExecuteTime": {
     "end_time": "2024-05-17T20:40:31.930176Z",
     "start_time": "2024-05-17T20:40:30.959029Z"
    }
   },
   "id": "fdae891a2ecddd2e",
   "execution_count": 20
  },
  {
   "cell_type": "code",
   "outputs": [
    {
     "name": "stdout",
     "output_type": "stream",
     "text": [
      "Dataset 1464:\n",
      "Fold 0 for AdaBoost ficheiro: 0.64\n",
      "Fold 1 for AdaBoost ficheiro: 0.7333333333333333\n",
      "Fold 2 for AdaBoost ficheiro: 0.8\n",
      "Fold 3 for AdaBoost ficheiro: 0.76\n",
      "Fold 4 for AdaBoost ficheiro: 0.84\n",
      "Fold 5 for AdaBoost ficheiro: 0.8133333333333334\n",
      "Fold 6 for AdaBoost ficheiro: 0.7333333333333333\n",
      "Fold 7 for AdaBoost ficheiro: 0.8133333333333334\n",
      "Fold 8 for AdaBoost ficheiro: 0.7162162162162162\n",
      "Fold 9 for AdaBoost ficheiro: 0.7702702702702703\n",
      "Fold 0 for AdaBoost biblioteca: 0.7333333333333333\n"
     ]
    },
    {
     "name": "stderr",
     "output_type": "stream",
     "text": [
      "C:\\Users\\ricar\\anaconda3_\\envs\\AC1_Project\\lib\\site-packages\\sklearn\\ensemble\\_weight_boosting.py:519: FutureWarning: The SAMME.R algorithm (the default) is deprecated and will be removed in 1.6. Use the SAMME algorithm to circumvent this warning.\n",
      "  warnings.warn(\n",
      "C:\\Users\\ricar\\anaconda3_\\envs\\AC1_Project\\lib\\site-packages\\sklearn\\ensemble\\_weight_boosting.py:519: FutureWarning: The SAMME.R algorithm (the default) is deprecated and will be removed in 1.6. Use the SAMME algorithm to circumvent this warning.\n",
      "  warnings.warn(\n"
     ]
    },
    {
     "name": "stdout",
     "output_type": "stream",
     "text": [
      "Fold 1 for AdaBoost biblioteca: 0.68\n",
      "Fold 2 for AdaBoost biblioteca: 0.8266666666666667\n"
     ]
    },
    {
     "name": "stderr",
     "output_type": "stream",
     "text": [
      "C:\\Users\\ricar\\anaconda3_\\envs\\AC1_Project\\lib\\site-packages\\sklearn\\ensemble\\_weight_boosting.py:519: FutureWarning: The SAMME.R algorithm (the default) is deprecated and will be removed in 1.6. Use the SAMME algorithm to circumvent this warning.\n",
      "  warnings.warn(\n",
      "C:\\Users\\ricar\\anaconda3_\\envs\\AC1_Project\\lib\\site-packages\\sklearn\\ensemble\\_weight_boosting.py:519: FutureWarning: The SAMME.R algorithm (the default) is deprecated and will be removed in 1.6. Use the SAMME algorithm to circumvent this warning.\n",
      "  warnings.warn(\n"
     ]
    },
    {
     "name": "stdout",
     "output_type": "stream",
     "text": [
      "Fold 3 for AdaBoost biblioteca: 0.8\n",
      "Fold 4 for AdaBoost biblioteca: 0.8133333333333334\n"
     ]
    },
    {
     "name": "stderr",
     "output_type": "stream",
     "text": [
      "C:\\Users\\ricar\\anaconda3_\\envs\\AC1_Project\\lib\\site-packages\\sklearn\\ensemble\\_weight_boosting.py:519: FutureWarning: The SAMME.R algorithm (the default) is deprecated and will be removed in 1.6. Use the SAMME algorithm to circumvent this warning.\n",
      "  warnings.warn(\n",
      "C:\\Users\\ricar\\anaconda3_\\envs\\AC1_Project\\lib\\site-packages\\sklearn\\ensemble\\_weight_boosting.py:519: FutureWarning: The SAMME.R algorithm (the default) is deprecated and will be removed in 1.6. Use the SAMME algorithm to circumvent this warning.\n",
      "  warnings.warn(\n"
     ]
    },
    {
     "name": "stdout",
     "output_type": "stream",
     "text": [
      "Fold 5 for AdaBoost biblioteca: 0.8\n",
      "Fold 6 for AdaBoost biblioteca: 0.8\n"
     ]
    },
    {
     "name": "stderr",
     "output_type": "stream",
     "text": [
      "C:\\Users\\ricar\\anaconda3_\\envs\\AC1_Project\\lib\\site-packages\\sklearn\\ensemble\\_weight_boosting.py:519: FutureWarning: The SAMME.R algorithm (the default) is deprecated and will be removed in 1.6. Use the SAMME algorithm to circumvent this warning.\n",
      "  warnings.warn(\n",
      "C:\\Users\\ricar\\anaconda3_\\envs\\AC1_Project\\lib\\site-packages\\sklearn\\ensemble\\_weight_boosting.py:519: FutureWarning: The SAMME.R algorithm (the default) is deprecated and will be removed in 1.6. Use the SAMME algorithm to circumvent this warning.\n",
      "  warnings.warn(\n"
     ]
    },
    {
     "name": "stdout",
     "output_type": "stream",
     "text": [
      "Fold 7 for AdaBoost biblioteca: 0.8133333333333334\n",
      "Fold 8 for AdaBoost biblioteca: 0.7567567567567568\n"
     ]
    },
    {
     "name": "stderr",
     "output_type": "stream",
     "text": [
      "C:\\Users\\ricar\\anaconda3_\\envs\\AC1_Project\\lib\\site-packages\\sklearn\\ensemble\\_weight_boosting.py:519: FutureWarning: The SAMME.R algorithm (the default) is deprecated and will be removed in 1.6. Use the SAMME algorithm to circumvent this warning.\n",
      "  warnings.warn(\n",
      "C:\\Users\\ricar\\anaconda3_\\envs\\AC1_Project\\lib\\site-packages\\sklearn\\ensemble\\_weight_boosting.py:519: FutureWarning: The SAMME.R algorithm (the default) is deprecated and will be removed in 1.6. Use the SAMME algorithm to circumvent this warning.\n",
      "  warnings.warn(\n"
     ]
    },
    {
     "name": "stdout",
     "output_type": "stream",
     "text": [
      "Fold 9 for AdaBoost biblioteca: 0.8108108108108109\n",
      "Dataset 1067:\n",
      "Fold 0 for AdaBoost ficheiro: 0.8530805687203792\n",
      "Fold 1 for AdaBoost ficheiro: 0.8815165876777251\n",
      "Fold 2 for AdaBoost ficheiro: 0.8530805687203792\n",
      "Fold 3 for AdaBoost ficheiro: 0.8720379146919431\n",
      "Fold 4 for AdaBoost ficheiro: 0.8720379146919431\n",
      "Fold 5 for AdaBoost ficheiro: 0.7914691943127962\n",
      "Fold 6 for AdaBoost ficheiro: 0.8341232227488151\n",
      "Fold 7 for AdaBoost ficheiro: 0.8341232227488151\n",
      "Fold 8 for AdaBoost ficheiro: 0.8341232227488151\n",
      "Fold 9 for AdaBoost ficheiro: 0.8523809523809524\n"
     ]
    },
    {
     "name": "stderr",
     "output_type": "stream",
     "text": [
      "C:\\Users\\ricar\\anaconda3_\\envs\\AC1_Project\\lib\\site-packages\\sklearn\\ensemble\\_weight_boosting.py:519: FutureWarning: The SAMME.R algorithm (the default) is deprecated and will be removed in 1.6. Use the SAMME algorithm to circumvent this warning.\n",
      "  warnings.warn(\n"
     ]
    },
    {
     "name": "stdout",
     "output_type": "stream",
     "text": [
      "Fold 0 for AdaBoost biblioteca: 0.8720379146919431\n"
     ]
    },
    {
     "name": "stderr",
     "output_type": "stream",
     "text": [
      "C:\\Users\\ricar\\anaconda3_\\envs\\AC1_Project\\lib\\site-packages\\sklearn\\ensemble\\_weight_boosting.py:519: FutureWarning: The SAMME.R algorithm (the default) is deprecated and will be removed in 1.6. Use the SAMME algorithm to circumvent this warning.\n",
      "  warnings.warn(\n"
     ]
    },
    {
     "name": "stdout",
     "output_type": "stream",
     "text": [
      "Fold 1 for AdaBoost biblioteca: 0.8862559241706162\n"
     ]
    },
    {
     "name": "stderr",
     "output_type": "stream",
     "text": [
      "C:\\Users\\ricar\\anaconda3_\\envs\\AC1_Project\\lib\\site-packages\\sklearn\\ensemble\\_weight_boosting.py:519: FutureWarning: The SAMME.R algorithm (the default) is deprecated and will be removed in 1.6. Use the SAMME algorithm to circumvent this warning.\n",
      "  warnings.warn(\n"
     ]
    },
    {
     "name": "stdout",
     "output_type": "stream",
     "text": [
      "Fold 2 for AdaBoost biblioteca: 0.8767772511848341\n"
     ]
    },
    {
     "name": "stderr",
     "output_type": "stream",
     "text": [
      "C:\\Users\\ricar\\anaconda3_\\envs\\AC1_Project\\lib\\site-packages\\sklearn\\ensemble\\_weight_boosting.py:519: FutureWarning: The SAMME.R algorithm (the default) is deprecated and will be removed in 1.6. Use the SAMME algorithm to circumvent this warning.\n",
      "  warnings.warn(\n"
     ]
    },
    {
     "name": "stdout",
     "output_type": "stream",
     "text": [
      "Fold 3 for AdaBoost biblioteca: 0.8625592417061612\n"
     ]
    },
    {
     "name": "stderr",
     "output_type": "stream",
     "text": [
      "C:\\Users\\ricar\\anaconda3_\\envs\\AC1_Project\\lib\\site-packages\\sklearn\\ensemble\\_weight_boosting.py:519: FutureWarning: The SAMME.R algorithm (the default) is deprecated and will be removed in 1.6. Use the SAMME algorithm to circumvent this warning.\n",
      "  warnings.warn(\n"
     ]
    },
    {
     "name": "stdout",
     "output_type": "stream",
     "text": [
      "Fold 4 for AdaBoost biblioteca: 0.8909952606635071\n"
     ]
    },
    {
     "name": "stderr",
     "output_type": "stream",
     "text": [
      "C:\\Users\\ricar\\anaconda3_\\envs\\AC1_Project\\lib\\site-packages\\sklearn\\ensemble\\_weight_boosting.py:519: FutureWarning: The SAMME.R algorithm (the default) is deprecated and will be removed in 1.6. Use the SAMME algorithm to circumvent this warning.\n",
      "  warnings.warn(\n"
     ]
    },
    {
     "name": "stdout",
     "output_type": "stream",
     "text": [
      "Fold 5 for AdaBoost biblioteca: 0.8199052132701422\n"
     ]
    },
    {
     "name": "stderr",
     "output_type": "stream",
     "text": [
      "C:\\Users\\ricar\\anaconda3_\\envs\\AC1_Project\\lib\\site-packages\\sklearn\\ensemble\\_weight_boosting.py:519: FutureWarning: The SAMME.R algorithm (the default) is deprecated and will be removed in 1.6. Use the SAMME algorithm to circumvent this warning.\n",
      "  warnings.warn(\n"
     ]
    },
    {
     "name": "stdout",
     "output_type": "stream",
     "text": [
      "Fold 6 for AdaBoost biblioteca: 0.8341232227488151\n"
     ]
    },
    {
     "name": "stderr",
     "output_type": "stream",
     "text": [
      "C:\\Users\\ricar\\anaconda3_\\envs\\AC1_Project\\lib\\site-packages\\sklearn\\ensemble\\_weight_boosting.py:519: FutureWarning: The SAMME.R algorithm (the default) is deprecated and will be removed in 1.6. Use the SAMME algorithm to circumvent this warning.\n",
      "  warnings.warn(\n"
     ]
    },
    {
     "name": "stdout",
     "output_type": "stream",
     "text": [
      "Fold 7 for AdaBoost biblioteca: 0.8530805687203792\n"
     ]
    },
    {
     "name": "stderr",
     "output_type": "stream",
     "text": [
      "C:\\Users\\ricar\\anaconda3_\\envs\\AC1_Project\\lib\\site-packages\\sklearn\\ensemble\\_weight_boosting.py:519: FutureWarning: The SAMME.R algorithm (the default) is deprecated and will be removed in 1.6. Use the SAMME algorithm to circumvent this warning.\n",
      "  warnings.warn(\n"
     ]
    },
    {
     "name": "stdout",
     "output_type": "stream",
     "text": [
      "Fold 8 for AdaBoost biblioteca: 0.8341232227488151\n"
     ]
    },
    {
     "name": "stderr",
     "output_type": "stream",
     "text": [
      "C:\\Users\\ricar\\anaconda3_\\envs\\AC1_Project\\lib\\site-packages\\sklearn\\ensemble\\_weight_boosting.py:519: FutureWarning: The SAMME.R algorithm (the default) is deprecated and will be removed in 1.6. Use the SAMME algorithm to circumvent this warning.\n",
      "  warnings.warn(\n"
     ]
    },
    {
     "name": "stdout",
     "output_type": "stream",
     "text": [
      "Fold 9 for AdaBoost biblioteca: 0.8428571428571429\n",
      "Dataset 1467:\n",
      "Fold 0 for AdaBoost ficheiro: 0.8518518518518519\n",
      "Fold 1 for AdaBoost ficheiro: 0.9444444444444444\n",
      "Fold 2 for AdaBoost ficheiro: 0.9629629629629629\n",
      "Fold 3 for AdaBoost ficheiro: 0.8148148148148148\n",
      "Fold 4 for AdaBoost ficheiro: 0.9259259259259259\n",
      "Fold 5 for AdaBoost ficheiro: 0.8703703703703703\n",
      "Fold 6 for AdaBoost ficheiro: 0.9629629629629629\n",
      "Fold 7 for AdaBoost ficheiro: 0.9074074074074074\n",
      "Fold 8 for AdaBoost ficheiro: 0.9444444444444444\n",
      "Fold 9 for AdaBoost ficheiro: 0.9814814814814815\n"
     ]
    },
    {
     "name": "stderr",
     "output_type": "stream",
     "text": [
      "C:\\Users\\ricar\\anaconda3_\\envs\\AC1_Project\\lib\\site-packages\\sklearn\\ensemble\\_weight_boosting.py:519: FutureWarning: The SAMME.R algorithm (the default) is deprecated and will be removed in 1.6. Use the SAMME algorithm to circumvent this warning.\n",
      "  warnings.warn(\n"
     ]
    },
    {
     "name": "stdout",
     "output_type": "stream",
     "text": [
      "Fold 0 for AdaBoost biblioteca: 0.7962962962962963\n"
     ]
    },
    {
     "name": "stderr",
     "output_type": "stream",
     "text": [
      "C:\\Users\\ricar\\anaconda3_\\envs\\AC1_Project\\lib\\site-packages\\sklearn\\ensemble\\_weight_boosting.py:519: FutureWarning: The SAMME.R algorithm (the default) is deprecated and will be removed in 1.6. Use the SAMME algorithm to circumvent this warning.\n",
      "  warnings.warn(\n"
     ]
    },
    {
     "name": "stdout",
     "output_type": "stream",
     "text": [
      "Fold 1 for AdaBoost biblioteca: 0.9259259259259259\n"
     ]
    },
    {
     "name": "stderr",
     "output_type": "stream",
     "text": [
      "C:\\Users\\ricar\\anaconda3_\\envs\\AC1_Project\\lib\\site-packages\\sklearn\\ensemble\\_weight_boosting.py:519: FutureWarning: The SAMME.R algorithm (the default) is deprecated and will be removed in 1.6. Use the SAMME algorithm to circumvent this warning.\n",
      "  warnings.warn(\n"
     ]
    },
    {
     "name": "stdout",
     "output_type": "stream",
     "text": [
      "Fold 2 for AdaBoost biblioteca: 0.8703703703703703\n"
     ]
    },
    {
     "name": "stderr",
     "output_type": "stream",
     "text": [
      "C:\\Users\\ricar\\anaconda3_\\envs\\AC1_Project\\lib\\site-packages\\sklearn\\ensemble\\_weight_boosting.py:519: FutureWarning: The SAMME.R algorithm (the default) is deprecated and will be removed in 1.6. Use the SAMME algorithm to circumvent this warning.\n",
      "  warnings.warn(\n"
     ]
    },
    {
     "name": "stdout",
     "output_type": "stream",
     "text": [
      "Fold 3 for AdaBoost biblioteca: 0.8148148148148148\n"
     ]
    },
    {
     "name": "stderr",
     "output_type": "stream",
     "text": [
      "C:\\Users\\ricar\\anaconda3_\\envs\\AC1_Project\\lib\\site-packages\\sklearn\\ensemble\\_weight_boosting.py:519: FutureWarning: The SAMME.R algorithm (the default) is deprecated and will be removed in 1.6. Use the SAMME algorithm to circumvent this warning.\n",
      "  warnings.warn(\n"
     ]
    },
    {
     "name": "stdout",
     "output_type": "stream",
     "text": [
      "Fold 4 for AdaBoost biblioteca: 0.9074074074074074\n"
     ]
    },
    {
     "name": "stderr",
     "output_type": "stream",
     "text": [
      "C:\\Users\\ricar\\anaconda3_\\envs\\AC1_Project\\lib\\site-packages\\sklearn\\ensemble\\_weight_boosting.py:519: FutureWarning: The SAMME.R algorithm (the default) is deprecated and will be removed in 1.6. Use the SAMME algorithm to circumvent this warning.\n",
      "  warnings.warn(\n"
     ]
    },
    {
     "name": "stdout",
     "output_type": "stream",
     "text": [
      "Fold 5 for AdaBoost biblioteca: 0.8518518518518519\n"
     ]
    },
    {
     "name": "stderr",
     "output_type": "stream",
     "text": [
      "C:\\Users\\ricar\\anaconda3_\\envs\\AC1_Project\\lib\\site-packages\\sklearn\\ensemble\\_weight_boosting.py:519: FutureWarning: The SAMME.R algorithm (the default) is deprecated and will be removed in 1.6. Use the SAMME algorithm to circumvent this warning.\n",
      "  warnings.warn(\n"
     ]
    },
    {
     "name": "stdout",
     "output_type": "stream",
     "text": [
      "Fold 6 for AdaBoost biblioteca: 0.9259259259259259\n"
     ]
    },
    {
     "name": "stderr",
     "output_type": "stream",
     "text": [
      "C:\\Users\\ricar\\anaconda3_\\envs\\AC1_Project\\lib\\site-packages\\sklearn\\ensemble\\_weight_boosting.py:519: FutureWarning: The SAMME.R algorithm (the default) is deprecated and will be removed in 1.6. Use the SAMME algorithm to circumvent this warning.\n",
      "  warnings.warn(\n"
     ]
    },
    {
     "name": "stdout",
     "output_type": "stream",
     "text": [
      "Fold 7 for AdaBoost biblioteca: 0.8888888888888888\n"
     ]
    },
    {
     "name": "stderr",
     "output_type": "stream",
     "text": [
      "C:\\Users\\ricar\\anaconda3_\\envs\\AC1_Project\\lib\\site-packages\\sklearn\\ensemble\\_weight_boosting.py:519: FutureWarning: The SAMME.R algorithm (the default) is deprecated and will be removed in 1.6. Use the SAMME algorithm to circumvent this warning.\n",
      "  warnings.warn(\n"
     ]
    },
    {
     "name": "stdout",
     "output_type": "stream",
     "text": [
      "Fold 8 for AdaBoost biblioteca: 0.9259259259259259\n"
     ]
    },
    {
     "name": "stderr",
     "output_type": "stream",
     "text": [
      "C:\\Users\\ricar\\anaconda3_\\envs\\AC1_Project\\lib\\site-packages\\sklearn\\ensemble\\_weight_boosting.py:519: FutureWarning: The SAMME.R algorithm (the default) is deprecated and will be removed in 1.6. Use the SAMME algorithm to circumvent this warning.\n",
      "  warnings.warn(\n"
     ]
    },
    {
     "name": "stdout",
     "output_type": "stream",
     "text": [
      "Fold 9 for AdaBoost biblioteca: 0.9629629629629629\n",
      "Dataset 1504:\n",
      "Fold 0 for AdaBoost ficheiro: 0.7743589743589744\n",
      "Fold 1 for AdaBoost ficheiro: 0.7680412371134021\n",
      "Fold 2 for AdaBoost ficheiro: 0.7371134020618557\n",
      "Fold 3 for AdaBoost ficheiro: 0.8144329896907216\n",
      "Fold 4 for AdaBoost ficheiro: 0.7989690721649485\n",
      "Fold 5 for AdaBoost ficheiro: 0.711340206185567\n",
      "Fold 6 for AdaBoost ficheiro: 0.7577319587628866\n",
      "Fold 7 for AdaBoost ficheiro: 0.8556701030927835\n",
      "Fold 8 for AdaBoost ficheiro: 0.7268041237113402\n",
      "Fold 9 for AdaBoost ficheiro: 0.7783505154639175\n"
     ]
    },
    {
     "name": "stderr",
     "output_type": "stream",
     "text": [
      "C:\\Users\\ricar\\anaconda3_\\envs\\AC1_Project\\lib\\site-packages\\sklearn\\ensemble\\_weight_boosting.py:519: FutureWarning: The SAMME.R algorithm (the default) is deprecated and will be removed in 1.6. Use the SAMME algorithm to circumvent this warning.\n",
      "  warnings.warn(\n"
     ]
    },
    {
     "name": "stdout",
     "output_type": "stream",
     "text": [
      "Fold 0 for AdaBoost biblioteca: 1.0\n"
     ]
    },
    {
     "name": "stderr",
     "output_type": "stream",
     "text": [
      "C:\\Users\\ricar\\anaconda3_\\envs\\AC1_Project\\lib\\site-packages\\sklearn\\ensemble\\_weight_boosting.py:519: FutureWarning: The SAMME.R algorithm (the default) is deprecated and will be removed in 1.6. Use the SAMME algorithm to circumvent this warning.\n",
      "  warnings.warn(\n"
     ]
    },
    {
     "name": "stdout",
     "output_type": "stream",
     "text": [
      "Fold 1 for AdaBoost biblioteca: 1.0\n"
     ]
    },
    {
     "name": "stderr",
     "output_type": "stream",
     "text": [
      "C:\\Users\\ricar\\anaconda3_\\envs\\AC1_Project\\lib\\site-packages\\sklearn\\ensemble\\_weight_boosting.py:519: FutureWarning: The SAMME.R algorithm (the default) is deprecated and will be removed in 1.6. Use the SAMME algorithm to circumvent this warning.\n",
      "  warnings.warn(\n"
     ]
    },
    {
     "name": "stdout",
     "output_type": "stream",
     "text": [
      "Fold 2 for AdaBoost biblioteca: 1.0\n"
     ]
    },
    {
     "name": "stderr",
     "output_type": "stream",
     "text": [
      "C:\\Users\\ricar\\anaconda3_\\envs\\AC1_Project\\lib\\site-packages\\sklearn\\ensemble\\_weight_boosting.py:519: FutureWarning: The SAMME.R algorithm (the default) is deprecated and will be removed in 1.6. Use the SAMME algorithm to circumvent this warning.\n",
      "  warnings.warn(\n"
     ]
    },
    {
     "name": "stdout",
     "output_type": "stream",
     "text": [
      "Fold 3 for AdaBoost biblioteca: 1.0\n"
     ]
    },
    {
     "name": "stderr",
     "output_type": "stream",
     "text": [
      "C:\\Users\\ricar\\anaconda3_\\envs\\AC1_Project\\lib\\site-packages\\sklearn\\ensemble\\_weight_boosting.py:519: FutureWarning: The SAMME.R algorithm (the default) is deprecated and will be removed in 1.6. Use the SAMME algorithm to circumvent this warning.\n",
      "  warnings.warn(\n"
     ]
    },
    {
     "name": "stdout",
     "output_type": "stream",
     "text": [
      "Fold 4 for AdaBoost biblioteca: 1.0\n"
     ]
    },
    {
     "name": "stderr",
     "output_type": "stream",
     "text": [
      "C:\\Users\\ricar\\anaconda3_\\envs\\AC1_Project\\lib\\site-packages\\sklearn\\ensemble\\_weight_boosting.py:519: FutureWarning: The SAMME.R algorithm (the default) is deprecated and will be removed in 1.6. Use the SAMME algorithm to circumvent this warning.\n",
      "  warnings.warn(\n"
     ]
    },
    {
     "name": "stdout",
     "output_type": "stream",
     "text": [
      "Fold 5 for AdaBoost biblioteca: 1.0\n"
     ]
    },
    {
     "name": "stderr",
     "output_type": "stream",
     "text": [
      "C:\\Users\\ricar\\anaconda3_\\envs\\AC1_Project\\lib\\site-packages\\sklearn\\ensemble\\_weight_boosting.py:519: FutureWarning: The SAMME.R algorithm (the default) is deprecated and will be removed in 1.6. Use the SAMME algorithm to circumvent this warning.\n",
      "  warnings.warn(\n"
     ]
    },
    {
     "name": "stdout",
     "output_type": "stream",
     "text": [
      "Fold 6 for AdaBoost biblioteca: 1.0\n"
     ]
    },
    {
     "name": "stderr",
     "output_type": "stream",
     "text": [
      "C:\\Users\\ricar\\anaconda3_\\envs\\AC1_Project\\lib\\site-packages\\sklearn\\ensemble\\_weight_boosting.py:519: FutureWarning: The SAMME.R algorithm (the default) is deprecated and will be removed in 1.6. Use the SAMME algorithm to circumvent this warning.\n",
      "  warnings.warn(\n"
     ]
    },
    {
     "name": "stdout",
     "output_type": "stream",
     "text": [
      "Fold 7 for AdaBoost biblioteca: 1.0\n"
     ]
    },
    {
     "name": "stderr",
     "output_type": "stream",
     "text": [
      "C:\\Users\\ricar\\anaconda3_\\envs\\AC1_Project\\lib\\site-packages\\sklearn\\ensemble\\_weight_boosting.py:519: FutureWarning: The SAMME.R algorithm (the default) is deprecated and will be removed in 1.6. Use the SAMME algorithm to circumvent this warning.\n",
      "  warnings.warn(\n"
     ]
    },
    {
     "name": "stdout",
     "output_type": "stream",
     "text": [
      "Fold 8 for AdaBoost biblioteca: 1.0\n"
     ]
    },
    {
     "name": "stderr",
     "output_type": "stream",
     "text": [
      "C:\\Users\\ricar\\anaconda3_\\envs\\AC1_Project\\lib\\site-packages\\sklearn\\ensemble\\_weight_boosting.py:519: FutureWarning: The SAMME.R algorithm (the default) is deprecated and will be removed in 1.6. Use the SAMME algorithm to circumvent this warning.\n",
      "  warnings.warn(\n"
     ]
    },
    {
     "name": "stdout",
     "output_type": "stream",
     "text": [
      "Fold 9 for AdaBoost biblioteca: 1.0\n",
      "Dataset 1494:\n",
      "Fold 0 for AdaBoost ficheiro: 0.7830188679245284\n",
      "Fold 1 for AdaBoost ficheiro: 0.8207547169811321\n",
      "Fold 2 for AdaBoost ficheiro: 0.8490566037735849\n",
      "Fold 3 for AdaBoost ficheiro: 0.8113207547169812\n",
      "Fold 4 for AdaBoost ficheiro: 0.8018867924528302\n",
      "Fold 5 for AdaBoost ficheiro: 0.8476190476190476\n",
      "Fold 6 for AdaBoost ficheiro: 0.8380952380952381\n",
      "Fold 7 for AdaBoost ficheiro: 0.7142857142857143\n",
      "Fold 8 for AdaBoost ficheiro: 0.8285714285714286\n",
      "Fold 9 for AdaBoost ficheiro: 0.819047619047619\n"
     ]
    },
    {
     "name": "stderr",
     "output_type": "stream",
     "text": [
      "C:\\Users\\ricar\\anaconda3_\\envs\\AC1_Project\\lib\\site-packages\\sklearn\\ensemble\\_weight_boosting.py:519: FutureWarning: The SAMME.R algorithm (the default) is deprecated and will be removed in 1.6. Use the SAMME algorithm to circumvent this warning.\n",
      "  warnings.warn(\n"
     ]
    },
    {
     "name": "stdout",
     "output_type": "stream",
     "text": [
      "Fold 0 for AdaBoost biblioteca: 0.8679245283018868\n"
     ]
    },
    {
     "name": "stderr",
     "output_type": "stream",
     "text": [
      "C:\\Users\\ricar\\anaconda3_\\envs\\AC1_Project\\lib\\site-packages\\sklearn\\ensemble\\_weight_boosting.py:519: FutureWarning: The SAMME.R algorithm (the default) is deprecated and will be removed in 1.6. Use the SAMME algorithm to circumvent this warning.\n",
      "  warnings.warn(\n"
     ]
    },
    {
     "name": "stdout",
     "output_type": "stream",
     "text": [
      "Fold 1 for AdaBoost biblioteca: 0.8679245283018868\n"
     ]
    },
    {
     "name": "stderr",
     "output_type": "stream",
     "text": [
      "C:\\Users\\ricar\\anaconda3_\\envs\\AC1_Project\\lib\\site-packages\\sklearn\\ensemble\\_weight_boosting.py:519: FutureWarning: The SAMME.R algorithm (the default) is deprecated and will be removed in 1.6. Use the SAMME algorithm to circumvent this warning.\n",
      "  warnings.warn(\n"
     ]
    },
    {
     "name": "stdout",
     "output_type": "stream",
     "text": [
      "Fold 2 for AdaBoost biblioteca: 0.8962264150943396\n"
     ]
    },
    {
     "name": "stderr",
     "output_type": "stream",
     "text": [
      "C:\\Users\\ricar\\anaconda3_\\envs\\AC1_Project\\lib\\site-packages\\sklearn\\ensemble\\_weight_boosting.py:519: FutureWarning: The SAMME.R algorithm (the default) is deprecated and will be removed in 1.6. Use the SAMME algorithm to circumvent this warning.\n",
      "  warnings.warn(\n"
     ]
    },
    {
     "name": "stdout",
     "output_type": "stream",
     "text": [
      "Fold 3 for AdaBoost biblioteca: 0.8018867924528302\n"
     ]
    },
    {
     "name": "stderr",
     "output_type": "stream",
     "text": [
      "C:\\Users\\ricar\\anaconda3_\\envs\\AC1_Project\\lib\\site-packages\\sklearn\\ensemble\\_weight_boosting.py:519: FutureWarning: The SAMME.R algorithm (the default) is deprecated and will be removed in 1.6. Use the SAMME algorithm to circumvent this warning.\n",
      "  warnings.warn(\n"
     ]
    },
    {
     "name": "stdout",
     "output_type": "stream",
     "text": [
      "Fold 4 for AdaBoost biblioteca: 0.8207547169811321\n"
     ]
    },
    {
     "name": "stderr",
     "output_type": "stream",
     "text": [
      "C:\\Users\\ricar\\anaconda3_\\envs\\AC1_Project\\lib\\site-packages\\sklearn\\ensemble\\_weight_boosting.py:519: FutureWarning: The SAMME.R algorithm (the default) is deprecated and will be removed in 1.6. Use the SAMME algorithm to circumvent this warning.\n",
      "  warnings.warn(\n"
     ]
    },
    {
     "name": "stdout",
     "output_type": "stream",
     "text": [
      "Fold 5 for AdaBoost biblioteca: 0.8761904761904762\n"
     ]
    },
    {
     "name": "stderr",
     "output_type": "stream",
     "text": [
      "C:\\Users\\ricar\\anaconda3_\\envs\\AC1_Project\\lib\\site-packages\\sklearn\\ensemble\\_weight_boosting.py:519: FutureWarning: The SAMME.R algorithm (the default) is deprecated and will be removed in 1.6. Use the SAMME algorithm to circumvent this warning.\n",
      "  warnings.warn(\n"
     ]
    },
    {
     "name": "stdout",
     "output_type": "stream",
     "text": [
      "Fold 6 for AdaBoost biblioteca: 0.9238095238095239\n"
     ]
    },
    {
     "name": "stderr",
     "output_type": "stream",
     "text": [
      "C:\\Users\\ricar\\anaconda3_\\envs\\AC1_Project\\lib\\site-packages\\sklearn\\ensemble\\_weight_boosting.py:519: FutureWarning: The SAMME.R algorithm (the default) is deprecated and will be removed in 1.6. Use the SAMME algorithm to circumvent this warning.\n",
      "  warnings.warn(\n"
     ]
    },
    {
     "name": "stdout",
     "output_type": "stream",
     "text": [
      "Fold 7 for AdaBoost biblioteca: 0.8476190476190476\n"
     ]
    },
    {
     "name": "stderr",
     "output_type": "stream",
     "text": [
      "C:\\Users\\ricar\\anaconda3_\\envs\\AC1_Project\\lib\\site-packages\\sklearn\\ensemble\\_weight_boosting.py:519: FutureWarning: The SAMME.R algorithm (the default) is deprecated and will be removed in 1.6. Use the SAMME algorithm to circumvent this warning.\n",
      "  warnings.warn(\n"
     ]
    },
    {
     "name": "stdout",
     "output_type": "stream",
     "text": [
      "Fold 8 for AdaBoost biblioteca: 0.8571428571428571\n"
     ]
    },
    {
     "name": "stderr",
     "output_type": "stream",
     "text": [
      "C:\\Users\\ricar\\anaconda3_\\envs\\AC1_Project\\lib\\site-packages\\sklearn\\ensemble\\_weight_boosting.py:519: FutureWarning: The SAMME.R algorithm (the default) is deprecated and will be removed in 1.6. Use the SAMME algorithm to circumvent this warning.\n",
      "  warnings.warn(\n"
     ]
    },
    {
     "name": "stdout",
     "output_type": "stream",
     "text": [
      "Fold 9 for AdaBoost biblioteca: 0.8476190476190476\n",
      "Dataset 1068:\n",
      "Fold 0 for AdaBoost ficheiro: 0.9819819819819819\n",
      "Fold 1 for AdaBoost ficheiro: 0.9279279279279279\n",
      "Fold 2 for AdaBoost ficheiro: 0.9279279279279279\n",
      "Fold 3 for AdaBoost ficheiro: 0.9279279279279279\n",
      "Fold 4 for AdaBoost ficheiro: 0.9369369369369369\n",
      "Fold 5 for AdaBoost ficheiro: 0.9819819819819819\n",
      "Fold 6 for AdaBoost ficheiro: 0.9009009009009009\n",
      "Fold 7 for AdaBoost ficheiro: 0.8918918918918919\n",
      "Fold 8 for AdaBoost ficheiro: 0.9369369369369369\n",
      "Fold 9 for AdaBoost ficheiro: 0.9\n"
     ]
    },
    {
     "name": "stderr",
     "output_type": "stream",
     "text": [
      "C:\\Users\\ricar\\anaconda3_\\envs\\AC1_Project\\lib\\site-packages\\sklearn\\ensemble\\_weight_boosting.py:519: FutureWarning: The SAMME.R algorithm (the default) is deprecated and will be removed in 1.6. Use the SAMME algorithm to circumvent this warning.\n",
      "  warnings.warn(\n"
     ]
    },
    {
     "name": "stdout",
     "output_type": "stream",
     "text": [
      "Fold 0 for AdaBoost biblioteca: 0.9819819819819819\n"
     ]
    },
    {
     "name": "stderr",
     "output_type": "stream",
     "text": [
      "C:\\Users\\ricar\\anaconda3_\\envs\\AC1_Project\\lib\\site-packages\\sklearn\\ensemble\\_weight_boosting.py:519: FutureWarning: The SAMME.R algorithm (the default) is deprecated and will be removed in 1.6. Use the SAMME algorithm to circumvent this warning.\n",
      "  warnings.warn(\n"
     ]
    },
    {
     "name": "stdout",
     "output_type": "stream",
     "text": [
      "Fold 1 for AdaBoost biblioteca: 0.9459459459459459\n"
     ]
    },
    {
     "name": "stderr",
     "output_type": "stream",
     "text": [
      "C:\\Users\\ricar\\anaconda3_\\envs\\AC1_Project\\lib\\site-packages\\sklearn\\ensemble\\_weight_boosting.py:519: FutureWarning: The SAMME.R algorithm (the default) is deprecated and will be removed in 1.6. Use the SAMME algorithm to circumvent this warning.\n",
      "  warnings.warn(\n"
     ]
    },
    {
     "name": "stdout",
     "output_type": "stream",
     "text": [
      "Fold 2 for AdaBoost biblioteca: 0.9099099099099099\n"
     ]
    },
    {
     "name": "stderr",
     "output_type": "stream",
     "text": [
      "C:\\Users\\ricar\\anaconda3_\\envs\\AC1_Project\\lib\\site-packages\\sklearn\\ensemble\\_weight_boosting.py:519: FutureWarning: The SAMME.R algorithm (the default) is deprecated and will be removed in 1.6. Use the SAMME algorithm to circumvent this warning.\n",
      "  warnings.warn(\n"
     ]
    },
    {
     "name": "stdout",
     "output_type": "stream",
     "text": [
      "Fold 3 for AdaBoost biblioteca: 0.918918918918919\n"
     ]
    },
    {
     "name": "stderr",
     "output_type": "stream",
     "text": [
      "C:\\Users\\ricar\\anaconda3_\\envs\\AC1_Project\\lib\\site-packages\\sklearn\\ensemble\\_weight_boosting.py:519: FutureWarning: The SAMME.R algorithm (the default) is deprecated and will be removed in 1.6. Use the SAMME algorithm to circumvent this warning.\n",
      "  warnings.warn(\n"
     ]
    },
    {
     "name": "stdout",
     "output_type": "stream",
     "text": [
      "Fold 4 for AdaBoost biblioteca: 0.9279279279279279\n"
     ]
    },
    {
     "name": "stderr",
     "output_type": "stream",
     "text": [
      "C:\\Users\\ricar\\anaconda3_\\envs\\AC1_Project\\lib\\site-packages\\sklearn\\ensemble\\_weight_boosting.py:519: FutureWarning: The SAMME.R algorithm (the default) is deprecated and will be removed in 1.6. Use the SAMME algorithm to circumvent this warning.\n",
      "  warnings.warn(\n"
     ]
    },
    {
     "name": "stdout",
     "output_type": "stream",
     "text": [
      "Fold 5 for AdaBoost biblioteca: 0.990990990990991\n"
     ]
    },
    {
     "name": "stderr",
     "output_type": "stream",
     "text": [
      "C:\\Users\\ricar\\anaconda3_\\envs\\AC1_Project\\lib\\site-packages\\sklearn\\ensemble\\_weight_boosting.py:519: FutureWarning: The SAMME.R algorithm (the default) is deprecated and will be removed in 1.6. Use the SAMME algorithm to circumvent this warning.\n",
      "  warnings.warn(\n"
     ]
    },
    {
     "name": "stdout",
     "output_type": "stream",
     "text": [
      "Fold 6 for AdaBoost biblioteca: 0.8918918918918919\n"
     ]
    },
    {
     "name": "stderr",
     "output_type": "stream",
     "text": [
      "C:\\Users\\ricar\\anaconda3_\\envs\\AC1_Project\\lib\\site-packages\\sklearn\\ensemble\\_weight_boosting.py:519: FutureWarning: The SAMME.R algorithm (the default) is deprecated and will be removed in 1.6. Use the SAMME algorithm to circumvent this warning.\n",
      "  warnings.warn(\n"
     ]
    },
    {
     "name": "stdout",
     "output_type": "stream",
     "text": [
      "Fold 7 for AdaBoost biblioteca: 0.9099099099099099\n"
     ]
    },
    {
     "name": "stderr",
     "output_type": "stream",
     "text": [
      "C:\\Users\\ricar\\anaconda3_\\envs\\AC1_Project\\lib\\site-packages\\sklearn\\ensemble\\_weight_boosting.py:519: FutureWarning: The SAMME.R algorithm (the default) is deprecated and will be removed in 1.6. Use the SAMME algorithm to circumvent this warning.\n",
      "  warnings.warn(\n"
     ]
    },
    {
     "name": "stdout",
     "output_type": "stream",
     "text": [
      "Fold 8 for AdaBoost biblioteca: 0.9099099099099099\n"
     ]
    },
    {
     "name": "stderr",
     "output_type": "stream",
     "text": [
      "C:\\Users\\ricar\\anaconda3_\\envs\\AC1_Project\\lib\\site-packages\\sklearn\\ensemble\\_weight_boosting.py:519: FutureWarning: The SAMME.R algorithm (the default) is deprecated and will be removed in 1.6. Use the SAMME algorithm to circumvent this warning.\n",
      "  warnings.warn(\n"
     ]
    },
    {
     "name": "stdout",
     "output_type": "stream",
     "text": [
      "Fold 9 for AdaBoost biblioteca: 0.8909090909090909\n"
     ]
    }
   ],
   "source": [
    "from sklearn.ensemble import AdaBoostClassifier\n",
    "from AdaBoostClassifier import AdaBoost\n",
    "from sklearn.model_selection import train_test_split\n",
    "from sklearn.metrics import accuracy_score\n",
    "\n",
    "models = [\n",
    "    (\"AdaBoost ficheiro\", AdaBoost()),\n",
    "    #(\"AdaBoost biblioteca\", AdaBoostClassifier(algorithm='SAMME'))\n",
    "    (\"AdaBoost biblioteca\", AdaBoostClassifier())\n",
    "]\n",
    "\n",
    "for id in list_num_dataset_id:\n",
    "    print(f\"Dataset {id}:\")\n",
    "    X = dataframes[id].drop(columns=['target'], axis=1)\n",
    "    y = dataframes[id]['target']\n",
    "\n",
    "    results = run_cv(X, y, models, means_only=True)"
   ],
   "metadata": {
    "collapsed": false,
    "ExecuteTime": {
     "end_time": "2024-05-17T20:41:12.787249Z",
     "start_time": "2024-05-17T20:40:33.224216Z"
    }
   },
   "id": "523ad17008a45643",
   "execution_count": 21
  },
  {
   "cell_type": "code",
   "outputs": [],
   "source": [],
   "metadata": {
    "collapsed": false
   },
   "id": "694e882b16f85fd0"
  }
 ],
 "metadata": {
  "kernelspec": {
   "display_name": "Python 3",
   "language": "python",
   "name": "python3"
  },
  "language_info": {
   "codemirror_mode": {
    "name": "ipython",
    "version": 2
   },
   "file_extension": ".py",
   "mimetype": "text/x-python",
   "name": "python",
   "nbconvert_exporter": "python",
   "pygments_lexer": "ipython2",
   "version": "2.7.6"
  }
 },
 "nbformat": 4,
 "nbformat_minor": 5
}
