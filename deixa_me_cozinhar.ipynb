{
 "cells": [
  {
   "cell_type": "code",
   "execution_count": 12,
   "id": "initial_id",
   "metadata": {
    "collapsed": true,
    "ExecuteTime": {
     "end_time": "2024-05-16T13:51:43.865215Z",
     "start_time": "2024-05-16T13:51:43.853083Z"
    }
   },
   "source": [
    "from sklearn.preprocessing import LabelEncoder\n",
    "import pandas as pd"
   ],
   "outputs": []
  },
  {
   "cell_type": "code",
   "source": [
    "df_bank = pd.read_csv('datasets/bank-marketing.csv')\n",
    "df_bio = pd.read_csv('datasets/bio-response.csv')\n",
    "df_blood = pd.read_csv('datasets/blood-transfusion-service-center.csv')\n",
    "df_breast_cancer = pd.read_csv('datasets/breast-cancer.csv')\n",
    "df_climate = pd.read_csv('datasets/climate-model-simulation-crashes.csv')\n",
    "df_credit = pd.read_csv('datasets/credit-g.csv')\n",
    "df_diabetes = pd.read_csv('datasets/diabetes.csv')\n",
    "df_eucalyptus = pd.read_csv('datasets/eucalyptus.csv')\n",
    "df_iris = pd.read_csv('datasets/iris.csv')\n",
    "df_phishing = pd.read_csv('datasets/phishing-websites.csv')\n",
    "df_transplant = pd.read_csv('datasets/transplant.csv')\n",
    "\n",
    "datasets = [df_bank, df_bio, df_blood, df_breast_cancer, df_climate,df_credit, df_diabetes, df_eucalyptus,df_phishing, df_transplant]"
   ],
   "metadata": {
    "collapsed": false,
    "ExecuteTime": {
     "end_time": "2024-05-16T13:51:44.794414Z",
     "start_time": "2024-05-16T13:51:44.196297Z"
    }
   },
   "id": "31559c6f677022cf",
   "execution_count": 13,
   "outputs": []
  },
  {
   "cell_type": "code",
   "source": [
    "import openml\n",
    "import pandas as pd\n",
    "\n",
    "# Definindo os IDs dos conjuntos de dados\n",
    "dataset_ids = [13, 31, 1461]\n",
    "\n",
    "# Criando um dicionário para armazenar os dataframes\n",
    "dataframes = {}\n",
    "\n",
    "# Loop para baixar os datasets e converter em dataframes\n",
    "for dataset_id in dataset_ids:\n",
    "    dataset = openml.datasets.get_dataset(dataset_id, download_data=True, download_qualities=True, download_features_meta_data=True)\n",
    "    df, *_ = dataset.get_data(target=dataset.default_target_attribute)\n",
    "    dataframes[dataset_id] = df\n",
    "\n",
    "le = LabelEncoder()\n",
    "for id in dataset_ids:\n",
    "    dataframes[id].rename(columns={dataframes[id].columns[-1]: 'target'}, inplace=True)\n",
    "\n",
    "    dataframes[id]['target'] = le.fit_transform(dataframes[id]['target'])\n",
    "    dataframes[id]['target'] = dataframes[id]['target'].apply(lambda x: 1 if x == 1 else -1)\n",
    "\n",
    "    dataframes[id]  = dataframes[id].dropna()\n",
    "# Salvando os dataframes como arquivos CSV\n",
    "for dataset_id, df in dataframes.items():\n",
    "    df.to_csv(f'dataset_{dataset_id}.csv', index=False)\n"
   ],
   "metadata": {
    "collapsed": false,
    "ExecuteTime": {
     "end_time": "2024-05-16T14:52:31.267552Z",
     "start_time": "2024-05-16T14:52:30.670679Z"
    }
   },
   "id": "a4290cff71d6b334",
   "execution_count": 77,
   "outputs": []
  },
  {
   "cell_type": "code",
   "source": [
    "dataframes[31]"
   ],
   "metadata": {
    "collapsed": false,
    "ExecuteTime": {
     "end_time": "2024-05-16T14:53:05.607589Z",
     "start_time": "2024-05-16T14:53:05.558448Z"
    }
   },
   "id": "86f587477492511f",
   "execution_count": 79,
   "outputs": []
  },
  {
   "cell_type": "code",
   "source": [
    "import pandas as pd\n",
    "import numpy as np\n",
    "from sklearn.model_selection import KFold\n",
    "from sklearn.metrics import accuracy_score\n",
    "\n",
    "\n",
    "def run_cv(X,y,algs,nfolds=10, means_only=False):\n",
    "    results = {}\n",
    "    kf = KFold(n_splits=nfolds, shuffle=True, random_state=1111)\n",
    "    for algo_name, algo in algs:\n",
    "        results[algo_name] = []\n",
    "        for fold, (train_idx, test_idx) in enumerate(kf.split(X)):\n",
    "            X_train, X_test = X.iloc[train_idx], X.iloc[test_idx]\n",
    "            y_train, y_test = y.iloc[train_idx], y.iloc[test_idx]\n",
    "            algo.fit(X_train, y_train, M=40)\n",
    "            y_pred = algo.predict(X_test)\n",
    "            results[algo_name].append(accuracy_score(y_test, y_pred))\n",
    "    results_df = pd.DataFrame.from_dict(results)\n",
    "    if not means_only:\n",
    "        return results_df\n",
    "    else:\n",
    "        results_means = {}\n",
    "        for algo_name, algo in algs:\n",
    "            results_means[algo_name] = [np.mean(results[algo_name])]\n",
    "        return pd.DataFrame.from_dict(results_means)"
   ],
   "metadata": {
    "collapsed": false,
    "ExecuteTime": {
     "end_time": "2024-05-16T15:30:32.978131Z",
     "start_time": "2024-05-16T15:30:32.964103Z"
    }
   },
   "id": "6f48374ce47063ed",
   "execution_count": 84,
   "outputs": []
  },
  {
   "cell_type": "code",
   "source": [
    "import matplotlib.pyplot as plt\n",
    "\n",
    "def plot_cv(results_cv,metric='Accuracy', title=\"Cross-validation results for multiple algorithms in a single task\"):\n",
    "    fig, ax = plt.subplots()\n",
    "    ax.boxplot(results_cv)\n",
    "    ax.set_xticklabels(results_cv.columns)\n",
    "    ax.set_ylabel(metric)\n",
    "    ax.set_title(title)\n",
    "    plt.show()"
   ],
   "metadata": {
    "collapsed": false,
    "ExecuteTime": {
     "end_time": "2024-05-16T15:30:33.240433Z",
     "start_time": "2024-05-16T15:30:33.228578Z"
    }
   },
   "id": "60e8068657b158cc",
   "execution_count": 85,
   "outputs": []
  },
  {
   "cell_type": "code",
   "source": [
    "from algorithms.adaboost import AdaBoost\n",
    "\n",
    "models = [\n",
    "    (\"AdaBoost Default\", AdaBoost()),\n",
    "    #(\"AdaBoost KNN\", AdaBoost(knn=True))\n",
    "]\n",
    "\n",
    "for ds_id, ds in datasets:\n",
    "    X = ds.drop(columns=['target'], axis=1)\n",
    "    y = ds['target']\n",
    "    results = run_cv(X, y, models)\n",
    "    #plot_cv(results, title=f\"Cross-validation for the algorithms in the dataset with {ds_id}\")"
   ],
   "metadata": {
    "collapsed": false,
    "ExecuteTime": {
     "end_time": "2024-05-16T15:34:13.360600Z",
     "start_time": "2024-05-16T15:34:11.414290Z"
    }
   },
   "id": "fdae891a2ecddd2e",
   "execution_count": 87,
   "outputs": []
  },
  {
   "cell_type": "code",
   "source": [],
   "metadata": {
    "collapsed": false
   },
   "id": "2f5c99e2c7a33634",
   "execution_count": null,
   "outputs": []
  }
 ],
 "metadata": {
  "kernelspec": {
   "display_name": "Python 3",
   "language": "python",
   "name": "python3"
  },
  "language_info": {
   "codemirror_mode": {
    "name": "ipython",
    "version": 2
   },
   "file_extension": ".py",
   "mimetype": "text/x-python",
   "name": "python",
   "nbconvert_exporter": "python",
   "pygments_lexer": "ipython2",
   "version": "2.7.6"
  }
 },
 "nbformat": 4,
 "nbformat_minor": 5
}
