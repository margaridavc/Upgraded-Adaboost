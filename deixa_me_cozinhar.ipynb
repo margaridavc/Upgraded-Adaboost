{
 "cells": [
  {
   "cell_type": "code",
   "execution_count": 7,
   "id": "initial_id",
   "metadata": {
    "collapsed": true,
    "ExecuteTime": {
     "end_time": "2024-05-18T00:58:34.813816Z",
     "start_time": "2024-05-18T00:58:34.806499Z"
    }
   },
   "outputs": [],
   "source": [
    "from sklearn.preprocessing import LabelEncoder\n",
    "import pandas as pd\n",
    "import openml\n",
    "import seaborn as sn"
   ]
  },
  {
   "cell_type": "code",
   "outputs": [],
   "source": [
    "def obter_dataset(id):\n",
    "\n",
    "\n",
    "    dataset = openml.datasets.get_dataset(id, download_data=True, download_qualities=True, download_features_meta_data=True)\n",
    "    \n",
    "    X, y, _, attrs = dataset.get_data(dataset_format=\"array\", target=dataset.default_target_attribute)\n",
    "    \n",
    "    df = pd.DataFrame(X, columns=attrs)\n",
    "    df['target'] = y\n",
    "    # converter:\n",
    "    #   0 -> -1\n",
    "    #   1 -> 1\n",
    "    df['target'] = 2*y-1\n",
    "    # erase rows with NaN values\n",
    "    df = df.dropna(how='any', axis=0)\n",
    "\n",
    "    csv_path = f'{id}.csv'\n",
    "    df.to_csv(csv_path, index= False)\n",
    "    \n",
    "    return df"
   ],
   "metadata": {
    "collapsed": false,
    "ExecuteTime": {
     "end_time": "2024-05-18T00:58:34.829873Z",
     "start_time": "2024-05-18T00:58:34.815335Z"
    }
   },
   "id": "c010b3edacf30e6",
   "execution_count": 8
  },
  {
   "cell_type": "code",
   "outputs": [
    {
     "name": "stderr",
     "output_type": "stream",
     "text": [
      "C:\\Users\\ricar\\AppData\\Local\\Temp\\ipykernel_8112\\912023531.py:6: FutureWarning: Support for `dataset_format='array'` will be removed in 0.15,start using `dataset_format='dataframe' to ensure your code will continue to work. You can use the dataframe's `to_numpy` function to continue using numpy arrays.\n",
      "  X, y, _, attrs = dataset.get_data(dataset_format=\"array\", target=dataset.default_target_attribute)\n",
      "C:\\Users\\ricar\\AppData\\Local\\Temp\\ipykernel_8112\\912023531.py:6: FutureWarning: Support for `dataset_format='array'` will be removed in 0.15,start using `dataset_format='dataframe' to ensure your code will continue to work. You can use the dataframe's `to_numpy` function to continue using numpy arrays.\n",
      "  X, y, _, attrs = dataset.get_data(dataset_format=\"array\", target=dataset.default_target_attribute)\n",
      "C:\\Users\\ricar\\AppData\\Local\\Temp\\ipykernel_8112\\912023531.py:6: FutureWarning: Support for `dataset_format='array'` will be removed in 0.15,start using `dataset_format='dataframe' to ensure your code will continue to work. You can use the dataframe's `to_numpy` function to continue using numpy arrays.\n",
      "  X, y, _, attrs = dataset.get_data(dataset_format=\"array\", target=dataset.default_target_attribute)\n",
      "C:\\Users\\ricar\\AppData\\Local\\Temp\\ipykernel_8112\\912023531.py:6: FutureWarning: Support for `dataset_format='array'` will be removed in 0.15,start using `dataset_format='dataframe' to ensure your code will continue to work. You can use the dataframe's `to_numpy` function to continue using numpy arrays.\n",
      "  X, y, _, attrs = dataset.get_data(dataset_format=\"array\", target=dataset.default_target_attribute)\n",
      "C:\\Users\\ricar\\AppData\\Local\\Temp\\ipykernel_8112\\912023531.py:6: FutureWarning: Support for `dataset_format='array'` will be removed in 0.15,start using `dataset_format='dataframe' to ensure your code will continue to work. You can use the dataframe's `to_numpy` function to continue using numpy arrays.\n",
      "  X, y, _, attrs = dataset.get_data(dataset_format=\"array\", target=dataset.default_target_attribute)\n",
      "C:\\Users\\ricar\\AppData\\Local\\Temp\\ipykernel_8112\\912023531.py:6: FutureWarning: Support for `dataset_format='array'` will be removed in 0.15,start using `dataset_format='dataframe' to ensure your code will continue to work. You can use the dataframe's `to_numpy` function to continue using numpy arrays.\n",
      "  X, y, _, attrs = dataset.get_data(dataset_format=\"array\", target=dataset.default_target_attribute)\n"
     ]
    }
   ],
   "source": [
    "list_num_dataset_id = [1464, 1067, 1467, 1504,1494, 1068]\n",
    "dataframes = {}\n",
    "for dataset_id in list_num_dataset_id:\n",
    "    df = obter_dataset(dataset_id)\n",
    "    dataframes[dataset_id] = df"
   ],
   "metadata": {
    "collapsed": false,
    "ExecuteTime": {
     "end_time": "2024-05-18T00:58:35.002288Z",
     "start_time": "2024-05-18T00:58:34.830882Z"
    }
   },
   "id": "33ffbbecf9588bd3",
   "execution_count": 9
  },
  {
   "cell_type": "code",
   "outputs": [],
   "source": [
    "import numpy as np\n",
    "from sklearn.model_selection import KFold\n",
    "\n",
    "\n",
    "\n",
    "def run_cv(X,y,algs,nfolds=10, means_only=False):\n",
    "    results = {}\n",
    "    kf = KFold(n_splits=nfolds, shuffle=True, random_state=1111)\n",
    "    for algo_name, algo in algs:\n",
    "        results[algo_name] = []\n",
    "        sum_fold = 0 \n",
    "        print(\"\\n\")\n",
    "        for fold, (train_idx, test_idx) in enumerate(kf.split(X)):\n",
    "            X_train, X_test = X.iloc[train_idx], X.iloc[test_idx]\n",
    "            y_train, y_test = y.iloc[train_idx], y.iloc[test_idx]\n",
    "            algo.fit(X_train, y_train)\n",
    "            y_pred = algo.predict(X_test)\n",
    "            results[algo_name].append(accuracy_score(y_test, y_pred))\n",
    "            sum_fold += results[algo_name][-1]\n",
    "            #print(f\"Fold {fold} for {algo_name}: {results[algo_name][-1]}\")\n",
    "        print(f\"Mean for {algo_name}: {sum_fold/nfolds}\")\n",
    "    results_df = pd.DataFrame.from_dict(results)\n",
    "    if not means_only:\n",
    "        return results_df\n",
    "    else:\n",
    "        results_means = {}\n",
    "        for algo_name, algo in algs:\n",
    "            results_means[algo_name] = [np.mean(results[algo_name])]\n",
    "        return pd.DataFrame.from_dict(results_means)"
   ],
   "metadata": {
    "collapsed": false,
    "ExecuteTime": {
     "end_time": "2024-05-18T00:58:35.017685Z",
     "start_time": "2024-05-18T00:58:35.004286Z"
    }
   },
   "id": "6f48374ce47063ed",
   "execution_count": 10
  },
  {
   "cell_type": "code",
   "outputs": [],
   "source": [
    "import matplotlib.pyplot as plt\n",
    "\n",
    "def plot_cv(results_cv,metric='Accuracy', title=\"Cross-validation results for multiple algorithms in a single task\"):\n",
    "    fig, ax = plt.subplots()\n",
    "    ax.boxplot(results_cv)\n",
    "    ax.set_xticklabels(results_cv.columns)\n",
    "    ax.set_ylabel(metric)\n",
    "    ax.set_title(title)\n",
    "    plt.show()"
   ],
   "metadata": {
    "collapsed": false,
    "ExecuteTime": {
     "end_time": "2024-05-18T00:58:35.033414Z",
     "start_time": "2024-05-18T00:58:35.018775Z"
    }
   },
   "id": "60e8068657b158cc",
   "execution_count": 11
  },
  {
   "cell_type": "markdown",
   "source": [],
   "metadata": {
    "collapsed": false
   },
   "id": "a95275b9af4db00e"
  },
  {
   "cell_type": "code",
   "outputs": [
    {
     "name": "stdout",
     "output_type": "stream",
     "text": [
      "\n",
      "Dataset 1464:\n",
      "Mean for AdaBoost ficheiro: 0.7700180180180181\n",
      "Mean for AdaBoost Check Outliers 3: 0.770018018018018\n",
      "\n",
      "Mean for AdaBoost biblioteca: 0.7833513513513515\n",
      "\n",
      "Dataset 1067:\n",
      "\n",
      "Mean for AdaBoost ficheiro: 0.8501715188445047\n",
      "\n",
      "Mean for AdaBoost Check Outliers 3: 0.8416361995034981\n",
      "\n",
      "Mean for AdaBoost biblioteca: 0.8473166328142631\n",
      "\n",
      "Dataset 1467:\n",
      "\n",
      "Mean for AdaBoost ficheiro: 0.9055555555555557\n",
      "\n",
      "Mean for AdaBoost Check Outliers 3: 0.9092592592592592\n",
      "\n",
      "Mean for AdaBoost biblioteca: 0.8981481481481483\n",
      "\n",
      "Dataset 1504:\n",
      "\n",
      "Mean for AdaBoost ficheiro: 0.8650092519164685\n",
      "\n",
      "Mean for AdaBoost Check Outliers 3: 0.828437747819191\n",
      "\n",
      "Mean for AdaBoost biblioteca: 0.9546576790906689\n",
      "\n",
      "Dataset 1494:\n",
      "\n",
      "Mean for AdaBoost ficheiro: 0.8341509433962264\n",
      "\n",
      "Mean for AdaBoost Check Outliers 3: 0.8341060197663971\n",
      "\n",
      "Mean for AdaBoost biblioteca: 0.8313117699910151\n",
      "\n",
      "Dataset 1068:\n",
      "\n",
      "Mean for AdaBoost ficheiro: 0.9278378378378379\n",
      "\n",
      "Mean for AdaBoost Check Outliers 3: 0.9233415233415233\n",
      "\n",
      "Mean for AdaBoost biblioteca: 0.9305241605241605\n"
     ]
    }
   ],
   "source": [
    "from sklearn.ensemble import AdaBoostClassifier\n",
    "from algorithms.adaboost import AdaBoost\n",
    "from sklearn.metrics import accuracy_score\n",
    "\n",
    "models = [\n",
    "    (\"AdaBoost ficheiro\", AdaBoost()),\n",
    "    (\"AdaBoost Check Outliers 3\", AdaBoost(check_outliers=True)),\n",
    "    (\"AdaBoost biblioteca\", AdaBoostClassifier(algorithm='SAMME'))\n",
    "]\n",
    "\n",
    "for id in list_num_dataset_id:\n",
    "    print(f\"\\nDataset {id}:\")\n",
    "    X = dataframes[id].drop(columns=['target'], axis=1)\n",
    "    y = dataframes[id]['target']\n",
    "\n",
    "    results = run_cv(X, y, models, means_only=True)"
   ],
   "metadata": {
    "collapsed": false,
    "ExecuteTime": {
     "end_time": "2024-05-18T01:23:06.499016Z",
     "start_time": "2024-05-18T01:22:21.656879Z"
    }
   },
   "id": "523ad17008a45643",
   "execution_count": 18
  },
  {
   "cell_type": "code",
   "outputs": [
    {
     "data": {
      "text/plain": "   AdaBoost ficheiro  AdaBoost Check Outliers 3  AdaBoost biblioteca\n0           0.927838                   0.923342             0.930524",
      "text/html": "<div>\n<style scoped>\n    .dataframe tbody tr th:only-of-type {\n        vertical-align: middle;\n    }\n\n    .dataframe tbody tr th {\n        vertical-align: top;\n    }\n\n    .dataframe thead th {\n        text-align: right;\n    }\n</style>\n<table border=\"1\" class=\"dataframe\">\n  <thead>\n    <tr style=\"text-align: right;\">\n      <th></th>\n      <th>AdaBoost ficheiro</th>\n      <th>AdaBoost Check Outliers 3</th>\n      <th>AdaBoost biblioteca</th>\n    </tr>\n  </thead>\n  <tbody>\n    <tr>\n      <th>0</th>\n      <td>0.927838</td>\n      <td>0.923342</td>\n      <td>0.930524</td>\n    </tr>\n  </tbody>\n</table>\n</div>"
     },
     "execution_count": 19,
     "metadata": {},
     "output_type": "execute_result"
    }
   ],
   "source": [
    "results"
   ],
   "metadata": {
    "collapsed": false,
    "ExecuteTime": {
     "end_time": "2024-05-18T01:23:08.120613Z",
     "start_time": "2024-05-18T01:23:08.108443Z"
    }
   },
   "id": "9bc5f0151c7958d2",
   "execution_count": 19
  },
  {
   "cell_type": "code",
   "outputs": [
    {
     "name": "stdout",
     "output_type": "stream",
     "text": [
      "Outliers em V1:\n"
     ]
    },
    {
     "data": {
      "text/plain": "<Figure size 864x432 with 2 Axes>",
      "image/png": "[encoded data removed]"
     },
     "metadata": {
      "needs_background": "light"
     },
     "output_type": "display_data"
    },
    {
     "name": "stdout",
     "output_type": "stream",
     "text": [
      "Outliers em V2:\n"
     ]
    },
    {
     "data": {
      "text/plain": "<Figure size 864x432 with 2 Axes>",
      "image/png": "[encoded data removed]"
     },
     "metadata": {
      "needs_background": "light"
     },
     "output_type": "display_data"
    },
    {
     "name": "stdout",
     "output_type": "stream",
     "text": [
      "Outliers em V3:\n"
     ]
    },
    {
     "data": {
      "text/plain": "<Figure size 864x432 with 2 Axes>",
      "image/png": "[encoded data removed]"
     },
     "metadata": {
      "needs_background": "light"
     },
     "output_type": "display_data"
    },
    {
     "name": "stdout",
     "output_type": "stream",
     "text": [
      "Outliers em V4:\n"
     ]
    },
    {
     "data": {
      "text/plain": "<Figure size 864x432 with 2 Axes>",
      "image/png": "[encoded data removed]"
     },
     "metadata": {
      "needs_background": "light"
     },
     "output_type": "display_data"
    },
    {
     "name": "stdout",
     "output_type": "stream",
     "text": [
      "Total de outliers: 38\n"
     ]
    },
    {
     "data": {
      "text/plain": "'\\nQuando estamos a analisar os outliers fará sentido separar as classes (ver o boxplot para cada classe separadamente) ou é melhor analisar todas as classes juntas?\\nA análise de outliers deve ser feita para cada classe separadamente. Se você analisar todas as classes juntas,\\n você pode acabar considerando valores que são normais para uma classe como outliers, simplesmente porque eles são incomuns em relação a outra classe.\\n'"
     },
     "execution_count": 13,
     "metadata": {},
     "output_type": "execute_result"
    }
   ],
   "source": [
    "# Análise dos outliers de cada dataset \n",
    "'''\n",
    "O valor que você deve colocar no limite depende do que você considera um outlier. No código que você forneceu, você está usando a regra do escore z para detectar outliers. Especificamente, você está considerando qualquer valor que seja mais de 3 desvios padrão da média como um outlier.  \n",
    "\n",
    "O valor de 3 é comumente usado na regra do escore z porque corresponde a um nível de confiança de cerca de 99,7% em uma distribuição normal. Isso significa que, em uma distribuição normal, esperamos que cerca de 99,7% dos valores estejam dentro de 3 desvios padrão da média.\n",
    "\n",
    "'''\n",
    "df_1 = dataframes[1464][dataframes[1464]['target'] == 1]\n",
    "df_1 = df_1.drop(columns=['target'], axis=1)\n",
    "df_not_1 = dataframes[1464][dataframes[1464]['target'] == -1]\n",
    "df_not_1 = df_not_1.drop(columns=['target'], axis=1)\n",
    "\n",
    "n_outliers = 0\n",
    "limite = 3\n",
    "\n",
    "for coluna in df_1.columns:\n",
    "    data_plot_1 = df_1[coluna]\n",
    "    data_plot_not_1 = df_not_1[coluna]\n",
    "\n",
    "    print(f'Outliers em {coluna}:')\n",
    "    fig, axs = plt.subplots(nrows=1, ncols=2, figsize=(12, 6))\n",
    "    \n",
    "    # Plot para a classe 1\n",
    "    axs[0].boxplot(df_1[f'{coluna}'], vert=False)\n",
    "    axs[0].set_title('Boxplot para df_1')\n",
    "    \n",
    "    # Plot para a classe -1\n",
    "    axs[1].boxplot(df_not_1[f'{coluna}'], vert=False)\n",
    "    axs[1].set_title('Boxplot para df_not_1')\n",
    "    \n",
    "    plt.show()\n",
    "    \n",
    "    z_scores_1 = np.abs((data_plot_1 - data_plot_1.mean()) / data_plot_1.std())\n",
    "    outliers_1 = z_scores_1 > limite\n",
    "    n_outliers += outliers_1.sum()\n",
    "\n",
    "    z_scores_not_1 = np.abs((data_plot_not_1 - data_plot_not_1.mean()) / data_plot_not_1.std())\n",
    "    outliers_not_1 = z_scores_not_1 > limite\n",
    "    n_outliers += outliers_not_1.sum()\n",
    "        \n",
    "    \n",
    "\n",
    "print(f'Total de outliers: {n_outliers}')  \n",
    "\n",
    "\n",
    "'''\n",
    "Quando estamos a analisar os outliers fará sentido separar as classes (ver o boxplot para cada classe separadamente) ou é melhor analisar todas as classes juntas?\n",
    "A análise de outliers deve ser feita para cada classe separadamente. Se você analisar todas as classes juntas,\n",
    " você pode acabar considerando valores que são normais para uma classe como outliers, simplesmente porque eles são incomuns em relação a outra classe.\n",
    "'''"
   ],
   "metadata": {
    "collapsed": false,
    "ExecuteTime": {
     "end_time": "2024-05-18T00:59:57.069983Z",
     "start_time": "2024-05-18T00:59:56.212999Z"
    }
   },
   "id": "694e882b16f85fd0",
   "execution_count": 13
  },
  {
   "cell_type": "code",
   "outputs": [],
   "source": [],
   "metadata": {
    "collapsed": false,
    "ExecuteTime": {
     "end_time": "2024-05-18T00:59:57.085088Z",
     "start_time": "2024-05-18T00:59:57.071751Z"
    }
   },
   "id": "f6ca06326ad95c5a",
   "execution_count": 13
  }
 ],
 "metadata": {
  "kernelspec": {
   "display_name": "Python 3",
   "language": "python",
   "name": "python3"
  },
  "language_info": {
   "codemirror_mode": {
    "name": "ipython",
    "version": 2
   },
   "file_extension": ".py",
   "mimetype": "text/x-python",
   "name": "python",
   "nbconvert_exporter": "python",
   "pygments_lexer": "ipython2",
   "version": "2.7.6"
  }
 },
 "nbformat": 4,
 "nbformat_minor": 5
}
